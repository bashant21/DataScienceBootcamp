{
  "nbformat": 4,
  "nbformat_minor": 0,
  "metadata": {
    "colab": {
      "provenance": [],
      "authorship_tag": "ABX9TyPxgZU2AXawcS904dhBBmwf",
      "include_colab_link": true
    },
    "kernelspec": {
      "name": "python3",
      "display_name": "Python 3"
    },
    "language_info": {
      "name": "python"
    }
  },
  "cells": [
    {
      "cell_type": "markdown",
      "metadata": {
        "id": "view-in-github",
        "colab_type": "text"
      },
      "source": [
        "<a href=\"https://colab.research.google.com/github/bashant21/DataScienceBootcamp/blob/main/Documents%20%26%20Notes/Comprehension_In_Python.ipynb\" target=\"_parent\"><img src=\"https://colab.research.google.com/assets/colab-badge.svg\" alt=\"Open In Colab\"/></a>"
      ]
    },
    {
      "cell_type": "markdown",
      "source": [
        "Python supports the following 4 types of comprehension:\n",
        "\n",
        "    List Comprehensions\n",
        "    Dictionary Comprehensions\n",
        "    Set Comprehensions\n",
        "    Generator Comprehensions"
      ],
      "metadata": {
        "id": "obbcUdkSY5jW"
      }
    },
    {
      "cell_type": "markdown",
      "source": [
        "   \n",
        "   **List Comprehensions**\n",
        "   \n",
        "    Syntax: output_list = [output_exp for var in input_list if (var satisfies this condition)]"
      ],
      "metadata": {
        "id": "paOX-sK8ZHZ7"
      }
    },
    {
      "cell_type": "code",
      "source": [
        "#Even number using list comprehension\n",
        "lst=[]\n",
        "\n",
        "for i in range(1, 21):\n",
        "  lst.append(i)\n",
        "\n",
        "flst = [i for i in lst if i %2==0]\n",
        "print('Even NUmbers using list comprehension :\\n', flst)"
      ],
      "metadata": {
        "colab": {
          "base_uri": "https://localhost:8080/"
        },
        "id": "xGi0O0eoZMOB",
        "outputId": "79ea6733-1b8a-464a-9d23-e62b3ad49a26"
      },
      "execution_count": null,
      "outputs": [
        {
          "output_type": "stream",
          "name": "stdout",
          "text": [
            "Even NUmbers using list comprehension :\n",
            " [2, 4, 6, 8, 10, 12, 14, 16, 18, 20]\n"
          ]
        }
      ]
    },
    {
      "cell_type": "code",
      "source": [
        "flst = [i for i in range(1,21) if i %2==0]\n",
        "print('Even NUmbers using list comprehension :\\n', flst)"
      ],
      "metadata": {
        "colab": {
          "base_uri": "https://localhost:8080/"
        },
        "id": "hTNVKgdLY6ng",
        "outputId": "f1b8ea6a-5f96-4b68-c400-49d63744b66e"
      },
      "execution_count": null,
      "outputs": [
        {
          "output_type": "stream",
          "name": "stdout",
          "text": [
            "Even NUmbers using list comprehension :\n",
            " [2, 4, 6, 8, 10, 12, 14, 16, 18, 20]\n"
          ]
        }
      ]
    },
    {
      "cell_type": "code",
      "source": [
        "# Squaring Number using List comprehensions\n",
        "cal = [i**2 for i in range(1,10)]\n",
        "print('The square of number using list comprehension:\\n', cal)"
      ],
      "metadata": {
        "colab": {
          "base_uri": "https://localhost:8080/"
        },
        "id": "YY-4iqMvZ1c_",
        "outputId": "aa5295a9-88fb-4ee7-9c5c-8ee42a278bcc"
      },
      "execution_count": null,
      "outputs": [
        {
          "output_type": "stream",
          "name": "stdout",
          "text": [
            "The square of number using list comprehension:\n",
            " [1, 4, 9, 16, 25, 36, 49, 64, 81]\n"
          ]
        }
      ]
    },
    {
      "cell_type": "code",
      "source": [
        "# Find all of the numbers from 1–1000 that are divisible by 8\n",
        "fnum = [i for i in range(1,1000) if i%8==0]\n",
        "print('Numbers divisible by 8 :\\n', fnum)"
      ],
      "metadata": {
        "colab": {
          "base_uri": "https://localhost:8080/"
        },
        "id": "vLFeyFIRaON4",
        "outputId": "08e833fe-5603-452d-9b63-628c541240c1"
      },
      "execution_count": null,
      "outputs": [
        {
          "output_type": "stream",
          "name": "stdout",
          "text": [
            "Numbers divisible by 8 :\n",
            " [8, 16, 24, 32, 40, 48, 56, 64, 72, 80, 88, 96, 104, 112, 120, 128, 136, 144, 152, 160, 168, 176, 184, 192, 200, 208, 216, 224, 232, 240, 248, 256, 264, 272, 280, 288, 296, 304, 312, 320, 328, 336, 344, 352, 360, 368, 376, 384, 392, 400, 408, 416, 424, 432, 440, 448, 456, 464, 472, 480, 488, 496, 504, 512, 520, 528, 536, 544, 552, 560, 568, 576, 584, 592, 600, 608, 616, 624, 632, 640, 648, 656, 664, 672, 680, 688, 696, 704, 712, 720, 728, 736, 744, 752, 760, 768, 776, 784, 792, 800, 808, 816, 824, 832, 840, 848, 856, 864, 872, 880, 888, 896, 904, 912, 920, 928, 936, 944, 952, 960, 968, 976, 984, 992]\n"
          ]
        }
      ]
    },
    {
      "cell_type": "code",
      "source": [
        "# Find all of the numbers from 1–100 that have a 6 in them\n",
        "num = [n for n in range(1,100) if '6' in str(n)]\n",
        "print('Number with 6 :\\n', num)"
      ],
      "metadata": {
        "colab": {
          "base_uri": "https://localhost:8080/"
        },
        "id": "Xs18pEmQaska",
        "outputId": "79ca87cb-4663-4ebc-a9fe-e31663c7a373"
      },
      "execution_count": null,
      "outputs": [
        {
          "output_type": "stream",
          "name": "stdout",
          "text": [
            "Number with 6 :\n",
            " [6, 16, 26, 36, 46, 56, 60, 61, 62, 63, 64, 65, 66, 67, 68, 69, 76, 86, 96]\n"
          ]
        }
      ]
    },
    {
      "cell_type": "code",
      "source": [
        "# Count the number of spaces in a string\n",
        "name = 'My name is Bashant Jung'\n",
        "str1 = len([i for i in name if i==' '])\n",
        "print('Total space in string :\\n',str1)"
      ],
      "metadata": {
        "colab": {
          "base_uri": "https://localhost:8080/"
        },
        "id": "BIWSoNjrbQpr",
        "outputId": "b3174927-e33d-41bd-90e7-c59f429cbcbc"
      },
      "execution_count": null,
      "outputs": [
        {
          "output_type": "stream",
          "name": "stdout",
          "text": [
            "Total space in string :\n",
            " 4\n"
          ]
        }
      ]
    },
    {
      "cell_type": "code",
      "source": [
        "# Remove all of the vowels in a string\n",
        "name = 'My name is Bashant Jung'\n",
        "vowel ='aeiou'\n",
        "rmv = ''.join([n for n in name if n.lower() not in vowel])\n",
        "print(rmv)"
      ],
      "metadata": {
        "colab": {
          "base_uri": "https://localhost:8080/"
        },
        "id": "_dVtXhX4cB38",
        "outputId": "b42081d8-9cd4-4e38-f0c7-06b8e4a75607"
      },
      "execution_count": null,
      "outputs": [
        {
          "output_type": "stream",
          "name": "stdout",
          "text": [
            "My nm s Bshnt Jng\n"
          ]
        }
      ]
    },
    {
      "cell_type": "code",
      "source": [
        "#Find words in string that are less than 5 letter\n",
        "name = 'My name is Bashant Jung'\n",
        "word=name.split()\n",
        "fnam = [i for i in word if len(i) < 5 ]\n",
        "print(fnam)\n"
      ],
      "metadata": {
        "colab": {
          "base_uri": "https://localhost:8080/"
        },
        "id": "CLku2y9Cc9bx",
        "outputId": "33cb9cc2-0bf1-4aa1-9994-56f4f28427bb"
      },
      "execution_count": null,
      "outputs": [
        {
          "output_type": "stream",
          "name": "stdout",
          "text": [
            "['My', 'name', 'is', 'Jung']\n"
          ]
        }
      ]
    },
    {
      "cell_type": "code",
      "source": [
        "#common number in two list\n",
        "lst1 =[1, 2, 3 , 4, 5, 6, 7]\n",
        "lst2 =[3, 5, 7, 8, 9, 11]\n",
        "comon = [i for i in lst1 if i in lst2]\n",
        "print('Common numbers in two list : \\n', comon)"
      ],
      "metadata": {
        "colab": {
          "base_uri": "https://localhost:8080/"
        },
        "id": "6FDmIUO9N8XC",
        "outputId": "27f2c521-fff3-49b8-c499-7a56a51f53d1"
      },
      "execution_count": 2,
      "outputs": [
        {
          "output_type": "stream",
          "name": "stdout",
          "text": [
            "Common numbers in two list : \n",
            " [3, 5, 7]\n"
          ]
        }
      ]
    },
    {
      "cell_type": "code",
      "source": [
        "# Get only the numbers in a sentence like ‘In 1984 there were 13 instances of a protest with over 1000 people attending\n",
        "str1='In 1984 there were 13 instances of a protest with over 1000 people attending'\n",
        "word = str1.split()\n",
        "num = [a for a in word if not a.isalpha()]\n",
        "print('Numbers in String :\\n', num)"
      ],
      "metadata": {
        "colab": {
          "base_uri": "https://localhost:8080/"
        },
        "id": "4Fi58yhDOgnA",
        "outputId": "1650d2ca-035a-42c2-f114-b166a2d6f0b3"
      },
      "execution_count": 8,
      "outputs": [
        {
          "output_type": "stream",
          "name": "stdout",
          "text": [
            "Numbers in String :\n",
            " ['1984', '13', '1000']\n"
          ]
        }
      ]
    },
    {
      "cell_type": "code",
      "source": [
        "# Given numbers = range(20), produce a list containing the word ‘even’ if a number in the numbers is even,\n",
        "# and the word ‘odd’ if the number is odd. Result would look like ‘odd’,’odd’, ‘even’\n",
        "\n",
        "choice = ['Even' if a%2==0 else 'Odd' for a in range(20)]\n",
        "print(choice)"
      ],
      "metadata": {
        "colab": {
          "base_uri": "https://localhost:8080/"
        },
        "id": "z9GPVZTJP0GV",
        "outputId": "52094ce3-222e-45d7-a345-af8683d01dc7"
      },
      "execution_count": 11,
      "outputs": [
        {
          "output_type": "stream",
          "name": "stdout",
          "text": [
            "['Even', 'Odd', 'Even', 'Odd', 'Even', 'Odd', 'Even', 'Odd', 'Even', 'Odd', 'Even', 'Odd', 'Even', 'Odd', 'Even', 'Odd', 'Even', 'Odd', 'Even', 'Odd']\n"
          ]
        }
      ]
    },
    {
      "cell_type": "code",
      "source": [
        "# Use a nested list comprehension to find all of the numbers from 1-100 that are divisible by any single digit besides 1 (2-9)\n",
        "\n",
        "num = [i for i in range(1,100) if True in [True for j in range(2,10) if i % j==0]]\n",
        "print(num)"
      ],
      "metadata": {
        "colab": {
          "base_uri": "https://localhost:8080/"
        },
        "id": "AeCiCpPlQ6Ty",
        "outputId": "6257b78e-f907-49cc-bfa6-637abf89f7b8"
      },
      "execution_count": 15,
      "outputs": [
        {
          "output_type": "stream",
          "name": "stdout",
          "text": [
            "[2, 3, 4, 5, 6, 7, 8, 9, 10, 12, 14, 15, 16, 18, 20, 21, 22, 24, 25, 26, 27, 28, 30, 32, 33, 34, 35, 36, 38, 39, 40, 42, 44, 45, 46, 48, 49, 50, 51, 52, 54, 55, 56, 57, 58, 60, 62, 63, 64, 65, 66, 68, 69, 70, 72, 74, 75, 76, 77, 78, 80, 81, 82, 84, 85, 86, 87, 88, 90, 91, 92, 93, 94, 95, 96, 98, 99]\n"
          ]
        }
      ]
    },
    {
      "cell_type": "markdown",
      "source": [
        "**Dictionary Comprehensions**\n",
        "\n",
        "\n",
        "    output_dict = {key:value for (key, value) in iterable if (key, value satisfy this condition)}"
      ],
      "metadata": {
        "id": "BQNQ_C7zRwx3"
      }
    },
    {
      "cell_type": "code",
      "source": [
        "# create a new dictionary where each value will be squared\n",
        "dict = {\n",
        "  'a':1,\n",
        "  'b':2,\n",
        "  'c':3\n",
        "}\n",
        "print('Before square :', dict)\n",
        "x= {k:v**2 for k,v in dict.items()}\n",
        "print('After value square :',x)"
      ],
      "metadata": {
        "colab": {
          "base_uri": "https://localhost:8080/"
        },
        "id": "SUrpWhoNR8jT",
        "outputId": "30c7bf1d-b2c1-4a4d-aac0-7c3b8e0dbbb1"
      },
      "execution_count": 24,
      "outputs": [
        {
          "output_type": "stream",
          "name": "stdout",
          "text": [
            "Before square : {'a': 1, 'b': 2, 'c': 3}\n",
            "After value square : {'a': 1, 'b': 4, 'c': 9}\n"
          ]
        }
      ]
    },
    {
      "cell_type": "code",
      "source": [
        "# create a new dictionary where each value will be squared, return only even numbers\n",
        "dict = {'a': 3, 'b': 4, 'c': 5, 'd': 6}\n",
        "x={k:v for k,v in dict.items() if v%2==0 }\n",
        "print('Even Values :', x)"
      ],
      "metadata": {
        "colab": {
          "base_uri": "https://localhost:8080/"
        },
        "id": "TZOsE9k2dmu-",
        "outputId": "d5ba7a8b-81db-4a5e-de61-03f566f67f83"
      },
      "execution_count": 28,
      "outputs": [
        {
          "output_type": "stream",
          "name": "stdout",
          "text": [
            "Even Values : {'b': 4, 'd': 6}\n"
          ]
        }
      ]
    },
    {
      "cell_type": "code",
      "source": [
        "# Add one year to each age in the dictionary\n",
        "dict1 = {'Alice': 25, 'Bob': 30, 'Charlie': 35}\n",
        "x = {k:v+1 for k,v in dict1.items()}\n",
        "print(x)"
      ],
      "metadata": {
        "colab": {
          "base_uri": "https://localhost:8080/"
        },
        "id": "o6tiRiBJeTev",
        "outputId": "19fc8365-1e3a-4966-f0e7-6289af9f2868"
      },
      "execution_count": 30,
      "outputs": [
        {
          "output_type": "stream",
          "name": "stdout",
          "text": [
            "{'Alice': 26, 'Bob': 31, 'Charlie': 36}\n"
          ]
        }
      ]
    },
    {
      "cell_type": "code",
      "source": [
        "#  \"Pass\" if the score is greater than or equal to 60 and \"Fail\" if the score is less than 60\n",
        "grades = {\"Alice\": 75, \"Bob\": 58, \"Charlie\": 92, \"David\": 42}\n",
        "result = {key:'Pass' if value >60 else 'Fail' for key, value in grades.items()}\n",
        "print(\"Student Result :\\n\",result)"
      ],
      "metadata": {
        "colab": {
          "base_uri": "https://localhost:8080/"
        },
        "id": "rikguBK68ulp",
        "outputId": "e4f61f23-aaaf-415a-a30b-bf2e86393953"
      },
      "execution_count": 3,
      "outputs": [
        {
          "output_type": "stream",
          "name": "stdout",
          "text": [
            "Student Result :\n",
            " {'Alice': 'Pass', 'Bob': 'Fail', 'Charlie': 'Pass', 'David': 'Fail'}\n"
          ]
        }
      ]
    },
    {
      "cell_type": "code",
      "source": [
        "# words with a frequency greater than 3\n",
        "wrd = {\"apple\": 2, \"banana\": 5, \"cherry\": 1, \"date\": 4, \"fig\": 2}\n",
        "res = {key:value for key, value in wrd.items() if value >3}\n",
        "print('Words with a frequency greater than 3 :\\n',res)"
      ],
      "metadata": {
        "colab": {
          "base_uri": "https://localhost:8080/"
        },
        "id": "KXS3xyrw9mds",
        "outputId": "e8789192-c902-4695-9d0e-84102b633f66"
      },
      "execution_count": 6,
      "outputs": [
        {
          "output_type": "stream",
          "name": "stdout",
          "text": [
            "Words with a frequency greater than 3 :\n",
            " {'banana': 5, 'date': 4}\n"
          ]
        }
      ]
    },
    {
      "cell_type": "code",
      "source": [
        "# list keys and values, with equal lengths. Create a dictionary where the elements from keys are the keys,\n",
        "# and the elements from values are the values using a dictionary comprehension.\n",
        "keys = [\"a\", \"b\", \"c\", \"d\"]\n",
        "values = [1, 2, 3, 4]\n",
        "result = {key:value for key,value in zip(keys,values)}\n",
        "print(result)"
      ],
      "metadata": {
        "colab": {
          "base_uri": "https://localhost:8080/"
        },
        "id": "97KCnPSl-fog",
        "outputId": "0d071ae9-6edd-45df-cb0f-9e561ffb8867"
      },
      "execution_count": 8,
      "outputs": [
        {
          "output_type": "stream",
          "name": "stdout",
          "text": [
            "{'a': 1, 'b': 2, 'c': 3, 'd': 4}\n"
          ]
        }
      ]
    },
    {
      "cell_type": "markdown",
      "source": [
        "**Set Comprehension**\n",
        "\n",
        "\n",
        "newSet= { expression for element in  iterable }"
      ],
      "metadata": {
        "id": "_R8lSdqN_V5A"
      }
    },
    {
      "cell_type": "code",
      "source": [
        "# Generate a set of squares of numbers from 1 to 10\n",
        "res ={i**2 for i in range(1,10)}\n",
        "print(res)"
      ],
      "metadata": {
        "colab": {
          "base_uri": "https://localhost:8080/"
        },
        "id": "W1YV6fM7_gfU",
        "outputId": "abd7bfd4-578b-4f14-abe6-d7e3e35a76c7"
      },
      "execution_count": 10,
      "outputs": [
        {
          "output_type": "stream",
          "name": "stdout",
          "text": [
            "{64, 1, 4, 36, 9, 16, 49, 81, 25}\n"
          ]
        }
      ]
    },
    {
      "cell_type": "code",
      "source": [
        "# Create a set of even numbers from 1 to 20\n",
        "re ={i for i in range(1,20) if i%2==0}\n",
        "print(re)"
      ],
      "metadata": {
        "colab": {
          "base_uri": "https://localhost:8080/"
        },
        "id": "tupeNLqnAcn1",
        "outputId": "2425901b-8764-4d52-a447-e206873e7f6e"
      },
      "execution_count": 12,
      "outputs": [
        {
          "output_type": "stream",
          "name": "stdout",
          "text": [
            "{2, 4, 6, 8, 10, 12, 14, 16, 18}\n"
          ]
        }
      ]
    },
    {
      "cell_type": "code",
      "source": [
        "# Generate a set of characters from a string\n",
        "str1 = 'Hello World !!'\n",
        "res1 = {i for i in str1 if i.isalpha()}\n",
        "print(res1)"
      ],
      "metadata": {
        "colab": {
          "base_uri": "https://localhost:8080/"
        },
        "id": "IwC3Qt7NAyIP",
        "outputId": "a72d6bf7-be4c-4a2c-9b5f-c38533ac75ae"
      },
      "execution_count": 16,
      "outputs": [
        {
          "output_type": "stream",
          "name": "stdout",
          "text": [
            "{'o', 'r', 'H', 'e', 'l', 'W', 'd'}\n"
          ]
        }
      ]
    },
    {
      "cell_type": "code",
      "source": [
        "# Create a set of lengths of words in a sentence\n",
        "str2 = 'This is a sample sentence.'\n",
        "word =str2.split()\n",
        "res2 ={len(i) for i in word }\n",
        "print(res2)"
      ],
      "metadata": {
        "colab": {
          "base_uri": "https://localhost:8080/"
        },
        "id": "WOei-FwlBWam",
        "outputId": "5f289b7e-62a6-4e36-d537-5edc99ef8710"
      },
      "execution_count": 18,
      "outputs": [
        {
          "output_type": "stream",
          "name": "stdout",
          "text": [
            "{1, 2, 4, 6, 9}\n"
          ]
        }
      ]
    },
    {
      "cell_type": "code",
      "source": [
        "# Generate a set of prime numbers from 1 to 50\n",
        "result ={i for i in range(2,51) if all(i%j !=0 for j in range(2, i//2 +1))}\n",
        "print(result)"
      ],
      "metadata": {
        "colab": {
          "base_uri": "https://localhost:8080/"
        },
        "id": "PG9zcIDVCASU",
        "outputId": "960a5d50-318f-43ab-dbe4-5120f7d215c6"
      },
      "execution_count": 28,
      "outputs": [
        {
          "output_type": "stream",
          "name": "stdout",
          "text": [
            "{2, 3, 5, 37, 7, 41, 11, 43, 13, 47, 17, 19, 23, 29, 31}\n"
          ]
        }
      ]
    },
    {
      "cell_type": "code",
      "source": [
        "# Generate a set of common multiples of 3 and 5 up to 100\n",
        "cal = {i for i in range(1,100)if i%3==0 if i%5==0}\n",
        "print(cal)"
      ],
      "metadata": {
        "colab": {
          "base_uri": "https://localhost:8080/"
        },
        "id": "mk8Ahw-pDQfv",
        "outputId": "3a247dc1-6828-46d0-88a3-036b438019b2"
      },
      "execution_count": 31,
      "outputs": [
        {
          "output_type": "stream",
          "name": "stdout",
          "text": [
            "{75, 45, 15, 90, 60, 30}\n"
          ]
        }
      ]
    },
    {
      "cell_type": "code",
      "source": [
        "# Create a set of words with their characters sorted in descending order\n",
        "words = [\"apple\", \"banana\", \"cherry\"]\n",
        "x ={''.join(sorted(word, reverse=True)) for word in words}\n",
        "print(x)"
      ],
      "metadata": {
        "colab": {
          "base_uri": "https://localhost:8080/"
        },
        "id": "pIx9XUplFgbC",
        "outputId": "163af6eb-633b-4c2e-cfb4-74a2d50107a5"
      },
      "execution_count": 34,
      "outputs": [
        {
          "output_type": "stream",
          "name": "stdout",
          "text": [
            "{'nnbaaa', 'yrrhec', 'pplea'}\n"
          ]
        }
      ]
    },
    {
      "cell_type": "markdown",
      "source": [
        "\n",
        "**Generator comprehensions**\n",
        "\n",
        "generator_expression = (expression for element in iterable if condition)\n"
      ],
      "metadata": {
        "id": "OQiyCmjdGsTA"
      }
    },
    {
      "cell_type": "code",
      "source": [
        "#  Generating squares of numbers from 1 to 5 as a generator:\n",
        "res = (i**2 for i in range(1,6))\n",
        "print(res)\n",
        "for i in res:\n",
        "  print(i)"
      ],
      "metadata": {
        "colab": {
          "base_uri": "https://localhost:8080/"
        },
        "id": "5oi7QbD6GzQv",
        "outputId": "8c82d714-9f3e-496d-d609-55bc40ad4bfa"
      },
      "execution_count": 36,
      "outputs": [
        {
          "output_type": "stream",
          "name": "stdout",
          "text": [
            "<generator object <genexpr> at 0x79aeefe64f90>\n",
            "1\n",
            "4\n",
            "9\n",
            "16\n",
            "25\n"
          ]
        }
      ]
    },
    {
      "cell_type": "code",
      "source": [
        "# Generating even numbers from a list of integers:\n",
        "num = [1, 2, 3, 4, 5, 6, 7, 8, 9, 10]\n",
        "even_num = (i for i in num if i%2==0)\n",
        "print(even_num)\n",
        "for i in even_num:\n",
        "  print(i)"
      ],
      "metadata": {
        "colab": {
          "base_uri": "https://localhost:8080/"
        },
        "id": "kpTJhiFXHgF6",
        "outputId": "46c4dee9-d9b2-4d4c-b066-e97db18c9057"
      },
      "execution_count": 38,
      "outputs": [
        {
          "output_type": "stream",
          "name": "stdout",
          "text": [
            "<generator object <genexpr> at 0x79aeefe65e70>\n",
            "2\n",
            "4\n",
            "6\n",
            "8\n",
            "10\n"
          ]
        }
      ]
    },
    {
      "cell_type": "code",
      "source": [
        "# Generating prime numbers from 2 to 20:\n",
        "cal = (i for i in range(2,21) if all(i%j !=0 for j in range(2, i//2 +1)))\n",
        "print(cal)\n",
        "\n",
        "for i in cal:\n",
        "  print(i)"
      ],
      "metadata": {
        "colab": {
          "base_uri": "https://localhost:8080/"
        },
        "id": "N9IZffmLH0wG",
        "outputId": "26ca9984-2db3-488f-d59e-fc9b41312d5a"
      },
      "execution_count": 47,
      "outputs": [
        {
          "output_type": "stream",
          "name": "stdout",
          "text": [
            "<generator object <genexpr> at 0x79aeefe64eb0>\n",
            "2\n",
            "3\n",
            "5\n",
            "7\n",
            "11\n",
            "13\n",
            "17\n",
            "19\n"
          ]
        }
      ]
    },
    {
      "cell_type": "code",
      "source": [
        "food = ((\"apple\" if i < 3 else \"pie\") for i in range(6))\n",
        "\n",
        "for i in food:\n",
        "  print(i)"
      ],
      "metadata": {
        "colab": {
          "base_uri": "https://localhost:8080/"
        },
        "id": "DCDTp5rPU1YV",
        "outputId": "3ed4160b-9300-4f37-97ee-c5bf4f7a791a"
      },
      "execution_count": 50,
      "outputs": [
        {
          "output_type": "stream",
          "name": "stdout",
          "text": [
            "apple\n",
            "apple\n",
            "apple\n",
            "pie\n",
            "pie\n",
            "pie\n"
          ]
        }
      ]
    }
  ]
}