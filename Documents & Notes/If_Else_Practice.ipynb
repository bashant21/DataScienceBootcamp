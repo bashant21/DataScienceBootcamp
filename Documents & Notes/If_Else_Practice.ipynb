{
  "nbformat": 4,
  "nbformat_minor": 0,
  "metadata": {
    "colab": {
      "provenance": [],
      "authorship_tag": "ABX9TyOtpC3anGwfKQKuYPrCiJfj",
      "include_colab_link": true
    },
    "kernelspec": {
      "name": "python3",
      "display_name": "Python 3"
    },
    "language_info": {
      "name": "python"
    }
  },
  "cells": [
    {
      "cell_type": "markdown",
      "metadata": {
        "id": "view-in-github",
        "colab_type": "text"
      },
      "source": [
        "<a href=\"https://colab.research.google.com/github/bashant21/DataScienceBootcamp/blob/main/Documents%20%26%20Notes/If_Else_Practice.ipynb\" target=\"_parent\"><img src=\"https://colab.research.google.com/assets/colab-badge.svg\" alt=\"Open In Colab\"/></a>"
      ]
    },
    {
      "cell_type": "code",
      "execution_count": 1,
      "metadata": {
        "colab": {
          "base_uri": "https://localhost:8080/"
        },
        "id": "80_wBuPj6Nfi",
        "outputId": "142bb87f-a77a-4602-ef9f-faf5421fd886"
      },
      "outputs": [
        {
          "output_type": "stream",
          "name": "stdout",
          "text": [
            "Enter your age :18\n",
            "You are eligible for voting !!\n"
          ]
        }
      ],
      "source": [
        "# 1 Write a python program to check whether you are eligible to vote or not?\n",
        "# Your program should get the age of the voter from the user and if their age is 18 and above, let them vote otherwise deny them from voting.\n",
        "\n",
        "age = int(input('Enter your age :'))\n",
        "\n",
        "if age >= 18:\n",
        "  print('You are eligible for voting !!')\n",
        "\n",
        "else:\n",
        "  print('You are not eligible for voting !!')\n"
      ]
    },
    {
      "cell_type": "code",
      "source": [
        "#2 Write a python program that will check for the following conditions:\n",
        "\n",
        "    # If the light is green – Car is allowed to go\n",
        "    # If the light is yellow – Car has to wait\n",
        "    # If the light is red – Car has to stop\n",
        "    # Other signal – unrecognized signal. Example black, blue, etc…\n",
        "\n",
        "color = input(\"Enter the traffic signal :\").title()\n",
        "\n",
        "if color == 'Green':\n",
        "  print('Car is allowed to go !!')\n",
        "\n",
        "elif color == 'Yellow':\n",
        "  print('Car has to wait !!')\n",
        "\n",
        "elif color == 'Red':\n",
        "  print('Car has to Stop !!')\n",
        "\n",
        "else:\n",
        "  print('Unrecognized signal !!')\n",
        "\n"
      ],
      "metadata": {
        "colab": {
          "base_uri": "https://localhost:8080/"
        },
        "id": "Ksy5W02Z7qGi",
        "outputId": "32736b53-3632-470d-9322-a5e8b6532644"
      },
      "execution_count": 6,
      "outputs": [
        {
          "output_type": "stream",
          "name": "stdout",
          "text": [
            "Enter the traffic signal :red\n",
            "Car has to Stop !!\n"
          ]
        }
      ]
    },
    {
      "cell_type": "code",
      "source": [
        "#3 Write a program to check students’ grades.  Your program should fulfill the following conditions:\n",
        "\n",
        "#     Grade A – Outstanding\n",
        "#     Grade B – Excellent\n",
        "#     Grade C – Very Good\n",
        "#     Grade D – Good\n",
        "#     Grade E – Satisfactory\n",
        "#     others – Unrecognized\n",
        "\n",
        "# A program should also ask to enter the student’s name, class, and section. The expected output is attached below.\n",
        "\n",
        "name = input('Enter your name : ').title()\n",
        "clas = input('Enter the class :')\n",
        "section = input('Enter your section : ').upper()\n",
        "grade = input('Enter your grade : ').upper()\n",
        "print('-----------------------------')\n",
        "print('Name    :', name)\n",
        "print('Class   :', clas)\n",
        "print('Section :', section)\n",
        "\n",
        "print('------------------------------')\n",
        "\n",
        "if grade == 'A':\n",
        "  print('Grade : Outstanding !!')\n",
        "\n",
        "elif grade == 'B':\n",
        "  print('Grade : Excellent')\n",
        "\n",
        "elif grade == 'C':\n",
        "  print('Grade : Very Good')\n",
        "\n",
        "elif grade == 'D':\n",
        "  print('Grade : Good')\n",
        "\n",
        "elif grade =='E':\n",
        "  print('Grade : Satisfactory')\n",
        "\n",
        "else:\n",
        "  print('Grade : Unrecognized')\n"
      ],
      "metadata": {
        "colab": {
          "base_uri": "https://localhost:8080/"
        },
        "id": "qW0imlea9qx6",
        "outputId": "5682cc1d-5290-49c3-8bc4-801c27dcef64"
      },
      "execution_count": 13,
      "outputs": [
        {
          "output_type": "stream",
          "name": "stdout",
          "text": [
            "Enter your name : bashant\n",
            "Enter the class :12\n",
            "Enter your section : a\n",
            "Enter your grade : a\n",
            "-----------------------------\n",
            "Name    : Bashant\n",
            "Class   : 12\n",
            "Section : A\n",
            "------------------------------\n",
            "Grade : Outstanding !!\n"
          ]
        }
      ]
    },
    {
      "cell_type": "code",
      "source": [
        "#4 Modify the earlier program students’ grades in such a way that they should take in five subject marks. Find the total mark and their percentage.\n",
        "# Your program should check for the following conditions:\n",
        "\n",
        "#     If the percentage falls below 45, they are considered fail.\n",
        "#     If the percentage is between 45 and 60, grade them as pass.\n",
        "#     If the percentage is between 60 and 75, grade them as good.\n",
        "#     If the percentage is between 75 and 85, grade them as very good.\n",
        "#     If the percentage is between 85 and 100, grade them excellent.\n",
        "#     If the percentage is below zero or above 100, it’s an error.\n",
        "\n",
        "\n",
        "name = input('Enter your name : ').title()\n",
        "clas = input('Enter your class : ')\n",
        "section = input('Enter your section : ').upper()\n",
        "\n",
        "math = int(input('Enter your marks in Mathematics : '))\n",
        "science = int(input('Enter your marks in Science : '))\n",
        "social = int(input('Enter your marks in Social : '))\n",
        "english = int(input('Enter your marks in English : '))\n",
        "history = int(input('Enter your marks in History : '))\n",
        "\n",
        "\n",
        "print('-----------------------------')\n",
        "print('Name    :', name)\n",
        "print('Class   :', clas)\n",
        "print('Section :', section)\n",
        "\n",
        "print('------------------------------')\n",
        "\n",
        "\n",
        "percent = int(((math + science + social + english + social)/500)*100)\n",
        "\n",
        "print('Percentage :', percent)\n",
        "\n",
        "if percent < 45 :\n",
        "  print('Grade : Fail')\n",
        "\n",
        "elif percent >= 45 and percent < 60:\n",
        "  print('Grade : Pass')\n",
        "\n",
        "elif percent >=60 and percent < 75:\n",
        "  print('Grade : Good')\n",
        "\n",
        "elif percent >=75 and percent < 85:\n",
        "  print('Grade : Very Good')\n",
        "\n",
        "elif percent >= 85 and percent <=100:\n",
        "  print('Grade : Excellent')\n",
        "\n",
        "elif percent <=0 or percent > 100:\n",
        "  print('Error')\n",
        "\n",
        "else:\n",
        "  print('Invalid Input')\n"
      ],
      "metadata": {
        "colab": {
          "base_uri": "https://localhost:8080/"
        },
        "id": "mLZk7QxhBKQh",
        "outputId": "7f7475cf-9a53-49e5-9e99-103f5fb6b0ab"
      },
      "execution_count": 18,
      "outputs": [
        {
          "output_type": "stream",
          "name": "stdout",
          "text": [
            "Enter your name : bashant\n",
            "Enter your class : 12\n",
            "Enter your section : a\n",
            "Enter your marks in Mathematics : 45\n",
            "Enter your marks in Science : 90\n",
            "Enter your marks in Social : 89\n",
            "Enter your marks in English : 87\n",
            "Enter your marks in History : 78\n",
            "-----------------------------\n",
            "Name    : Bashant\n",
            "Class   : 12\n",
            "Section : A\n",
            "------------------------------\n",
            "Percentage : 80\n",
            "Grade : Very Good\n"
          ]
        }
      ]
    },
    {
      "cell_type": "code",
      "source": [
        "#  5 Find the given number is odd or even.\n",
        "\n",
        "num = int(input('Enter the number :'))\n",
        "\n",
        "if num % 2 == 0:\n",
        "  print(f'{num} is even.')\n",
        "\n",
        "else:\n",
        "  print(f'{num} is odd.')"
      ],
      "metadata": {
        "colab": {
          "base_uri": "https://localhost:8080/"
        },
        "id": "nTFJnkgsFisq",
        "outputId": "fba5af6d-df97-4877-e082-fe44bf870648"
      },
      "execution_count": 20,
      "outputs": [
        {
          "output_type": "stream",
          "name": "stdout",
          "text": [
            "Enter the number :5\n",
            "5 is odd.\n"
          ]
        }
      ]
    },
    {
      "cell_type": "code",
      "source": [
        "#6 Find the given number is positive or negative or zero.\n",
        "\n",
        "num = int(input('Enter number : '))\n",
        "\n",
        "if num == 0:\n",
        "  print('Number is : 0')\n",
        "\n",
        "elif num > 0:\n",
        "  print('Number is Positive')\n",
        "\n",
        "elif num < 0:\n",
        "  print('Number is Negative')"
      ],
      "metadata": {
        "colab": {
          "base_uri": "https://localhost:8080/"
        },
        "id": "r4nN6M5UMX2W",
        "outputId": "f74738b6-bdc6-44b6-9994-752e2d379304"
      },
      "execution_count": 25,
      "outputs": [
        {
          "output_type": "stream",
          "name": "stdout",
          "text": [
            "Enter number : -1\n",
            "Number is Negative\n"
          ]
        }
      ]
    },
    {
      "cell_type": "code",
      "source": [
        "#7 Find the given number is of one digited or two digited or three digited or more than three digited.\n",
        "\n",
        "num = int(input('Enter number : '))\n",
        "if num >=0 and num < 10:\n",
        "  print('Number is one digit !!')\n",
        "\n",
        "elif num >=10 and num <100:\n",
        "  print('Number is two digit !!')\n",
        "\n",
        "elif num >=100 and num <1000:\n",
        "  print('Number is three digit !!')\n",
        "\n",
        "else:\n",
        "  print('Number is more than three digit')"
      ],
      "metadata": {
        "colab": {
          "base_uri": "https://localhost:8080/"
        },
        "id": "0lbA3tyDNMN3",
        "outputId": "16d0d911-c07f-42a8-af0f-b39636eb2b83"
      },
      "execution_count": 28,
      "outputs": [
        {
          "output_type": "stream",
          "name": "stdout",
          "text": [
            "Enter number : 1023\n",
            "Number is more than three digit\n"
          ]
        }
      ]
    },
    {
      "cell_type": "code",
      "source": [
        "#8 Find the given character is an uppercase letter or lowercase letter or a digit or a special character.\n",
        "\n",
        "ch = input('Enter character : ')\n",
        "\n",
        "if ord('A') >= 65 and ord('Z') <= 90:\n",
        "  print('Given character is Uppercase :', ch)\n",
        "\n",
        "elif ord('a') >=97 and ord('z') <=122:\n",
        "  print('Given character is lowercase :', ch)\n",
        "\n",
        "else:\n",
        "  print('Given character is special character', ch)\n"
      ],
      "metadata": {
        "colab": {
          "base_uri": "https://localhost:8080/"
        },
        "id": "fHOsEO8IOizM",
        "outputId": "36ec8817-80ec-41c1-cc3a-2856473840e9"
      },
      "execution_count": 48,
      "outputs": [
        {
          "output_type": "stream",
          "name": "stdout",
          "text": [
            "Enter character : &\n",
            "Given character is Uppercase : &\n"
          ]
        }
      ]
    },
    {
      "cell_type": "code",
      "source": [
        "#9 Find the given year is a leap year or not.\n",
        "\n",
        "x = int(input('Enter Year : '))\n",
        "\n",
        "if (x % 4==0 and x % 100 !=0) or (x % 400 ==0):\n",
        "  print('Leap Year')\n",
        "\n",
        "else:\n",
        "  print('NOt a Leap Year')\n",
        "\n"
      ],
      "metadata": {
        "colab": {
          "base_uri": "https://localhost:8080/"
        },
        "id": "OY2Jm4vkO7Ku",
        "outputId": "7f1fb972-d982-4da6-b671-2100566e51fc"
      },
      "execution_count": 50,
      "outputs": [
        {
          "output_type": "stream",
          "name": "stdout",
          "text": [
            "Enter Year : 2020\n",
            "Leap Year\n"
          ]
        }
      ]
    },
    {
      "cell_type": "code",
      "source": [
        "#10  Find maximum number out of given three numbers.\n",
        "\n",
        "num1 = int(input('Enter 1st Number : '))\n",
        "num2 = int(input('Enter 2nd Number : '))\n",
        "num3 = int(input('Enter 3rd Number : '))\n",
        "\n",
        "max = max(num1, num2, num3)\n",
        "min = min(num1, num2, num3)\n",
        "\n",
        "print('The maximum number is', max)\n",
        "print('The minimum number is', min)"
      ],
      "metadata": {
        "colab": {
          "base_uri": "https://localhost:8080/"
        },
        "id": "EpKzVf7tTULf",
        "outputId": "55dd8021-b56c-4273-ce20-914e4bff8524"
      },
      "execution_count": 51,
      "outputs": [
        {
          "output_type": "stream",
          "name": "stdout",
          "text": [
            "Enter 1st Number : 34\n",
            "Enter 2nd Number : 55\n",
            "Enter 3rd Number : 22\n",
            "The maximum number is 55\n",
            "The minimum number is 22\n"
          ]
        }
      ]
    },
    {
      "cell_type": "code",
      "source": [
        "#11 Write a program to do the following operations :\n",
        "\n",
        "# Read any two positive integer numbers (say n1 & n2) and one character type operator (say opr). Note that opr is any mathematical operator.\n",
        "# Depending upon the operator, do the appropriate operation.\n",
        "# e. g. if opr is ‘+’ then the display the value obtained by evaluating the expression (n1 + n2).\n",
        "\n",
        "a = int(input('Enter 1st number : '))\n",
        "b = int(input('Enter 2nd number : '))\n",
        "\n",
        "opr = input('Enter the operation you want to perform \\n *, %, /, + , - : ')\n",
        "\n",
        "if opr == '+':\n",
        "  z= a+b\n",
        "\n",
        "elif opr == '-':\n",
        "  z = a-b\n",
        "\n",
        "elif opr == '*':\n",
        "  z = a * b\n",
        "\n",
        "elif opr == '%':\n",
        "  z = a % b\n",
        "\n",
        "elif opr == '/':\n",
        "  z = a / b\n",
        "\n",
        "else:\n",
        "  print('Invalid Operation !!')\n",
        "\n",
        "print('The result is : ', z)"
      ],
      "metadata": {
        "colab": {
          "base_uri": "https://localhost:8080/"
        },
        "id": "NiC_S6FGUgeJ",
        "outputId": "330f9bf1-d580-4925-b6e8-5ceda7c51468"
      },
      "execution_count": 62,
      "outputs": [
        {
          "output_type": "stream",
          "name": "stdout",
          "text": [
            "Enter 1st number : 6\n",
            "Enter 2nd number : 2\n",
            "Enter the operation you want to perform \n",
            " *, %, /, + , - : +\n",
            "The result is :  8\n"
          ]
        }
      ]
    },
    {
      "cell_type": "markdown",
      "source": [
        " The Paschim Gujarat Vij Company Ltd. computes the electricity bill based on the following matrix:\n",
        "\n",
        "**Units Consumed\tCharges**\n",
        "\n",
        "![Screenshot from 2023-08-19 10-18-18.png](data:image/png;base64,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)\n",
        "\n",
        "\n",
        "\n",
        "\n",
        "    Ask user to enter the Past meter reading and current meter reading.\n",
        "    Find the units consumed.\n",
        "    Compute the bill according to given matrix."
      ],
      "metadata": {
        "id": "8X8zdDylW7di"
      }
    },
    {
      "cell_type": "code",
      "source": [
        "past = int(input('Enter past meter reading : '))\n",
        "current = int(input('Enter Current meter reading : '))\n",
        "unit = current - past\n",
        "print('Total unit consumed is', unit)\n",
        "\n",
        "if unit <=100:\n",
        "  price = 0.5 * unit\n",
        "\n",
        "elif unit <= 200:\n",
        "  price = 50 + (200-unit)\n",
        "\n",
        "elif unit <= 300:\n",
        "  price = 150 + 1.5 * (300-unit)\n",
        "\n",
        "elif unit > 300:\n",
        "  price = 300 + 2 * (unit - 300)\n",
        "\n",
        "else:\n",
        "  print('Invalid Input !!')\n",
        "\n",
        "print('Total payable amount : $', price)\n",
        "\n"
      ],
      "metadata": {
        "colab": {
          "base_uri": "https://localhost:8080/"
        },
        "id": "XizCZ55bXGD2",
        "outputId": "b8e9f4c7-6d9d-4f62-b356-f3f5ddb7da50"
      },
      "execution_count": 67,
      "outputs": [
        {
          "output_type": "stream",
          "name": "stdout",
          "text": [
            "Enter past meter reading : 2000\n",
            "Enter Current meter reading : 2700\n",
            "Total unit consumed is 700\n",
            "Total payable amount : $ 1100\n"
          ]
        }
      ]
    },
    {
      "cell_type": "code",
      "source": [
        "# 13 Vowel or Consonant\n",
        "\n",
        "x = input('Enter a letter :').lower()\n",
        "\n",
        "if (x=='a') or (x=='e') or (x == 'i') or (x == 'o') or (x== 'u'):\n",
        "  print('It is a vowel')\n",
        "\n",
        "else:\n",
        "  print('It is consonant')\n"
      ],
      "metadata": {
        "colab": {
          "base_uri": "https://localhost:8080/"
        },
        "id": "EdArvAb3erdd",
        "outputId": "f7930198-e8be-42d7-e825-8af5dbaf8068"
      },
      "execution_count": 70,
      "outputs": [
        {
          "output_type": "stream",
          "name": "stdout",
          "text": [
            "Enter a letter :A\n",
            "It is a vowel\n"
          ]
        }
      ]
    }
  ]
}