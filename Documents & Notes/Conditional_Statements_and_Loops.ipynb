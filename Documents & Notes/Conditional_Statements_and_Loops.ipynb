{
  "nbformat": 4,
  "nbformat_minor": 0,
  "metadata": {
    "colab": {
      "provenance": [],
      "authorship_tag": "ABX9TyMadD9Wpypd4gU4FF1FZZSX",
      "include_colab_link": true
    },
    "kernelspec": {
      "name": "python3",
      "display_name": "Python 3"
    },
    "language_info": {
      "name": "python"
    }
  },
  "cells": [
    {
      "cell_type": "markdown",
      "metadata": {
        "id": "view-in-github",
        "colab_type": "text"
      },
      "source": [
        "<a href=\"https://colab.research.google.com/github/bashant21/DataScienceBootcamp/blob/main/Documents%20%26%20Notes/Conditional_Statements_and_Loops.ipynb\" target=\"_parent\"><img src=\"https://colab.research.google.com/assets/colab-badge.svg\" alt=\"Open In Colab\"/></a>"
      ]
    },
    {
      "cell_type": "code",
      "execution_count": null,
      "metadata": {
        "colab": {
          "base_uri": "https://localhost:8080/"
        },
        "id": "ajh1YxFscTl2",
        "outputId": "c5049871-e10a-4e92-c1b8-8e38ff7d4249"
      },
      "outputs": [
        {
          "output_type": "stream",
          "name": "stdout",
          "text": [
            "The numbers divisible by 5 and 7 :  [1505, 1540, 1575, 1610, 1645, 1680, 1715, 1750, 1785, 1820, 1855, 1890, 1925, 1960, 1995, 2030, 2065, 2100, 2135, 2170, 2205, 2240, 2275, 2310, 2345, 2380, 2415, 2450, 2485, 2520, 2555, 2590, 2625, 2660, 2695]\n"
          ]
        }
      ],
      "source": [
        "# 1. Write a Python program to find those numbers which are divisible by 7 and multiples of 5, between 1500 and 2700 (both included).\n",
        "a = []\n",
        "for i in range(1500, 2701):\n",
        "  if i % 7 == 0 and i % 5 == 0:\n",
        "    a.append(i)\n",
        "print('The numbers divisible by 5 and 7 : ', a)\n"
      ]
    },
    {
      "cell_type": "code",
      "source": [
        "# 2. Write a Python program to convert temperatures to and from Celsius and Fahrenheit.\n",
        "# [ Formula : c/5 = f-32/9 [ where c = temperature in celsius and f = temperature in fahrenheit ]\n",
        "# Expected Output :\n",
        "# 60°C is 140 in Fahrenheit\n",
        "# 45°F is 7 in Celsius\n",
        "\n",
        "temp = input('Enter Temperature you want to convert \\n e.g. 45F, 60c : ')\n",
        "a = int(temp[:-1])\n",
        "b = temp[-1]\n",
        "\n",
        "if  b.upper() == 'C':\n",
        "  f = (a * (9/5)) + 32\n",
        "  print('The temperature in Fahrenheit is : ', int(f))\n",
        "\n",
        "if b.upper() == 'F':\n",
        "  c = (a - 32) * (5/9)\n",
        "  print('The temperature in Celsius is : ', int(c))\n",
        "\n",
        "\n",
        "\n"
      ],
      "metadata": {
        "colab": {
          "base_uri": "https://localhost:8080/"
        },
        "id": "BTaKdGAqdVmR",
        "outputId": "aca8e1da-674f-4f79-84be-ce2b0ba224be"
      },
      "execution_count": null,
      "outputs": [
        {
          "output_type": "stream",
          "name": "stdout",
          "text": [
            "Enter Temperature you want to convert \n",
            " e.g. 45F, 60c : 45f\n",
            "The temperature in Celsius is :  7\n"
          ]
        }
      ]
    },
    {
      "cell_type": "code",
      "source": [
        "# 3. Write a Python program to guess a number between 1 and 9. Note : User is prompted to enter a guess. If the user\n",
        "# guesses wrong then the prompt appears again until the guess is correct, on successful guess, user will get a\n",
        "# \"Well guessed!\" message, and the program will exit.\n",
        "\n",
        "import random\n",
        "\n",
        "guess = int(input('Enter number between 1 and 9 :'))\n",
        "x = random.randint(1,9)\n",
        "\n",
        "while x != guess:\n",
        "  guess = int(input('Enter number between 1 and 9 :'))\n",
        "\n",
        "print('Well guessed !! ')\n",
        "\n"
      ],
      "metadata": {
        "colab": {
          "base_uri": "https://localhost:8080/"
        },
        "id": "wEqjCVjyhUY6",
        "outputId": "e2fd6096-63c7-45d2-d2c3-f8a580567924"
      },
      "execution_count": null,
      "outputs": [
        {
          "output_type": "stream",
          "name": "stdout",
          "text": [
            "Enter number between 1 and 9 :5\n",
            "Enter number between 1 and 9 :6\n",
            "Well guessed !! \n"
          ]
        }
      ]
    },
    {
      "cell_type": "markdown",
      "source": [
        "4. Write a Python program to construct the following pattern, using a nested for loop.\n",
        "\n",
        "![Screenshot from 2023-08-19 15-44-49.png](data:image/png;base64,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)\n"
      ],
      "metadata": {
        "id": "Zz-O8zvvis3O"
      }
    },
    {
      "cell_type": "code",
      "source": [
        "for i in range(5):\n",
        "  for j in range(i+1):\n",
        "    print('*', end = ' ')\n",
        "\n",
        "  print('\\r')\n",
        "\n",
        "for i in range(4):\n",
        "  for j in range(4-i):\n",
        "    print('*', end = ' ')\n",
        "\n",
        "  print('\\r')"
      ],
      "metadata": {
        "colab": {
          "base_uri": "https://localhost:8080/"
        },
        "id": "1BeRZZCIi2jL",
        "outputId": "a5b20c43-7c40-4777-f958-96ddd796e546"
      },
      "execution_count": null,
      "outputs": [
        {
          "output_type": "stream",
          "name": "stdout",
          "text": [
            "* \r\n",
            "* * \r\n",
            "* * * \r\n",
            "* * * * \r\n",
            "* * * * * \r\n",
            "* * * * \r\n",
            "* * * \r\n",
            "* * \r\n",
            "* \r\n"
          ]
        }
      ]
    },
    {
      "cell_type": "code",
      "source": [
        "# 5. Write a Python program that accepts a word from the user and reverses it.\n",
        "word = input('Enter a word : ')\n",
        "\n",
        "rev = word[::-1]\n",
        "\n",
        "print(rev)\n"
      ],
      "metadata": {
        "colab": {
          "base_uri": "https://localhost:8080/"
        },
        "id": "wIu0ttdgjn6k",
        "outputId": "b7fc4d7a-7a81-4ed7-f370-11222dfc1e97"
      },
      "execution_count": null,
      "outputs": [
        {
          "output_type": "stream",
          "name": "stdout",
          "text": [
            "Enter a word : word\n",
            "drow\n"
          ]
        }
      ]
    },
    {
      "cell_type": "code",
      "source": [
        "# 6. Write a Python program to count the number of even and odd numbers in a series of numbers\n",
        "# Sample numbers : numbers = (1, 2, 3, 4, 5, 6, 7, 8, 9)\n",
        "\n",
        "numbers = (1, 2, 3, 4, 5, 6, 7, 8, 9)\n",
        "odd =0\n",
        "even = 0\n",
        "\n",
        "for i in numbers:\n",
        "  if i % 2 ==0:\n",
        "    even+=1\n",
        "  else:\n",
        "    odd+=1\n",
        "\n",
        "print('Total odd :', odd)\n",
        "print('Total even :', even)"
      ],
      "metadata": {
        "colab": {
          "base_uri": "https://localhost:8080/"
        },
        "id": "zqDsBHCKkrWu",
        "outputId": "de423aa3-f9c3-402c-9cfc-2c569411a8d1"
      },
      "execution_count": null,
      "outputs": [
        {
          "output_type": "stream",
          "name": "stdout",
          "text": [
            "Total odd : 5\n",
            "Total even : 4\n"
          ]
        }
      ]
    },
    {
      "cell_type": "code",
      "source": [
        "# 8. Write a Python program that prints all the numbers from 0 to 6 except 3 and 6.\n",
        "# Note : Use 'continue' statement.\n",
        "# Expected Output : 0 1 2 4 5\n",
        "\n",
        "i= 0\n",
        "a = []\n",
        "while i < 6 :\n",
        "  i+=1\n",
        "  if i == 3 or i==6:\n",
        "    continue\n",
        "\n",
        "  else:\n",
        "    a.append(i)\n",
        "\n",
        "print('Output :', a)\n"
      ],
      "metadata": {
        "colab": {
          "base_uri": "https://localhost:8080/"
        },
        "id": "oxImdBjSlXpG",
        "outputId": "29d4cbb3-807c-49d9-ecb2-26859b190478"
      },
      "execution_count": null,
      "outputs": [
        {
          "output_type": "stream",
          "name": "stdout",
          "text": [
            "Output : [1, 2, 4, 5]\n"
          ]
        }
      ]
    },
    {
      "cell_type": "code",
      "source": [
        "# 9. Write a Python program to get the Fibonacci series between 0 and 50.\n",
        "# Note : The Fibonacci Sequence is the series of numbers :\n",
        "# 0, 1, 1, 2, 3, 5, 8, 13, 21, ....\n",
        "z = []\n",
        "a = 0\n",
        "b = 1\n",
        "\n",
        "while a < 50:\n",
        "  z.append(a)\n",
        "  a = b\n",
        "  b = a+b\n",
        "\n",
        "print('Fibonacci series between 0 and 50 :', z)\n",
        "\n",
        "\n",
        "\n"
      ],
      "metadata": {
        "colab": {
          "base_uri": "https://localhost:8080/"
        },
        "id": "pQbNG5ltmaSR",
        "outputId": "e854a883-106d-4694-ce1d-8052ca06f549"
      },
      "execution_count": null,
      "outputs": [
        {
          "output_type": "stream",
          "name": "stdout",
          "text": [
            "Fibonacci series between 0 and 50 : [0, 1, 2, 4, 8, 16, 32]\n"
          ]
        }
      ]
    },
    {
      "cell_type": "code",
      "source": [
        "# 10. Write a Python program that iterates the integers from 1 to 50. For multiples of three print \"Fizz\" instead of the\n",
        "# number and for multiples of five print \"Buzz\". For numbers that are multiples of three and five, print \"FizzBuzz\".\n",
        "# Sample Output :\n",
        "# fizzbuzz\n",
        "# 1\n",
        "# 2\n",
        "# fizz\n",
        "# 4\n",
        "# buzz\n",
        "\n",
        "i = 1\n",
        "\n",
        "while i <=50:\n",
        "  if i % 3 ==0:\n",
        "    if i % 3 == 0 and i% 5 ==0:\n",
        "      print('FizzBuzz')\n",
        "    else:\n",
        "      print('Fizz')\n",
        "\n",
        "  elif i % 5 == 0:\n",
        "    if i % 3 == 0 and i% 5 ==0:\n",
        "      print('FizzBuzz')\n",
        "    else:\n",
        "     print('FizzBuzz')\n",
        "\n",
        "  else:\n",
        "    print(i)\n",
        "\n",
        "  i+=1\n"
      ],
      "metadata": {
        "colab": {
          "base_uri": "https://localhost:8080/"
        },
        "id": "ubjw3uuFsKvM",
        "outputId": "aa56c5e9-10ff-4107-e84a-7a3af9a8a746"
      },
      "execution_count": null,
      "outputs": [
        {
          "output_type": "stream",
          "name": "stdout",
          "text": [
            "1\n",
            "2\n",
            "Fizz\n",
            "4\n",
            "FizzBuzz\n",
            "Fizz\n",
            "7\n",
            "8\n",
            "Fizz\n",
            "FizzBuzz\n",
            "11\n",
            "Fizz\n",
            "13\n",
            "14\n",
            "FizzBuzz\n",
            "16\n",
            "17\n",
            "Fizz\n",
            "19\n",
            "FizzBuzz\n",
            "Fizz\n",
            "22\n",
            "23\n",
            "Fizz\n",
            "FizzBuzz\n",
            "26\n",
            "Fizz\n",
            "28\n",
            "29\n",
            "FizzBuzz\n",
            "31\n",
            "32\n",
            "Fizz\n",
            "34\n",
            "FizzBuzz\n",
            "Fizz\n",
            "37\n",
            "38\n",
            "Fizz\n",
            "FizzBuzz\n",
            "41\n",
            "Fizz\n",
            "43\n",
            "44\n",
            "FizzBuzz\n",
            "46\n",
            "47\n",
            "Fizz\n",
            "49\n",
            "FizzBuzz\n"
          ]
        }
      ]
    },
    {
      "cell_type": "code",
      "source": [
        "# 11. Write a Python program to print the alphabet pattern 'D'.\n",
        "\n",
        "for i in range(7):\n",
        "    for j in range(7):\n",
        "        if j==0 or i==0 or i==6:\n",
        "          print('*', end ='')\n",
        "\n",
        "        elif j==6:\n",
        "          print('*', end =' ')\n",
        "\n",
        "        else:\n",
        "          print(' ', end= '')\n",
        "\n",
        "\n",
        "    print('\\r')\n"
      ],
      "metadata": {
        "colab": {
          "base_uri": "https://localhost:8080/"
        },
        "id": "OAxgzCub7bN_",
        "outputId": "846cf480-ebe5-4c11-893d-d182ee000c14"
      },
      "execution_count": 17,
      "outputs": [
        {
          "output_type": "stream",
          "name": "stdout",
          "text": [
            "*******\r\n",
            "*     * \r\n",
            "*     * \r\n",
            "*     * \r\n",
            "*     * \r\n",
            "*     * \r\n",
            "*******\r\n"
          ]
        }
      ]
    },
    {
      "cell_type": "code",
      "source": [
        "# 12. Write a Python program to print the alphabet pattern 'E'.\n",
        "for i in range(10):\n",
        "  for j in range(10):\n",
        "    if i==0 or j==0 or i==9 or i==4:\n",
        "      print('*', end ='')\n",
        "\n",
        "  print('\\r')"
      ],
      "metadata": {
        "colab": {
          "base_uri": "https://localhost:8080/"
        },
        "id": "CcNgge-6ALlt",
        "outputId": "03f4bae3-37ea-48ae-9ae9-e4c96d1eff1d"
      },
      "execution_count": 23,
      "outputs": [
        {
          "output_type": "stream",
          "name": "stdout",
          "text": [
            "**********\r\n",
            "*\r\n",
            "*\r\n",
            "*\r\n",
            "**********\r\n",
            "*\r\n",
            "*\r\n",
            "*\r\n",
            "*\r\n",
            "**********\r\n"
          ]
        }
      ]
    },
    {
      "cell_type": "code",
      "source": [
        "# 13 Write a Python program to print the alphabet pattern 'L'.\n",
        "\n",
        "for x in range(10):\n",
        "  for j in range(10):\n",
        "    if j == 0 or x==9:\n",
        "      print('*', end=' ')\n",
        "\n",
        "  print('\\r')"
      ],
      "metadata": {
        "colab": {
          "base_uri": "https://localhost:8080/"
        },
        "id": "BT88YhhQA_RB",
        "outputId": "2debea76-e029-4f9e-eb33-b6c43d39978e"
      },
      "execution_count": 31,
      "outputs": [
        {
          "output_type": "stream",
          "name": "stdout",
          "text": [
            "* \r\n",
            "* \r\n",
            "* \r\n",
            "* \r\n",
            "* \r\n",
            "* \r\n",
            "* \r\n",
            "* \r\n",
            "* \r\n",
            "* * * * * * * * * * \r\n"
          ]
        }
      ]
    },
    {
      "cell_type": "code",
      "source": [
        "# 14. Write a search Python program to print the alphabet pattern 'O'.\n",
        "\n",
        "for i in range(10):\n",
        "  for j in range(10):\n",
        "    if j==0 or i==0 or i==9 or j ==9:\n",
        "      print('*', end='')\n",
        "\n",
        "    else:\n",
        "      print(' ', end='')\n",
        "\n",
        "  print('\\r')\n",
        "\n",
        ""
      ],
      "metadata": {
        "colab": {
          "base_uri": "https://localhost:8080/"
        },
        "id": "L7GlqMSABsR2",
        "outputId": "87263111-2623-4c05-ca4b-0c71dec0dad4"
      },
      "execution_count": 36,
      "outputs": [
        {
          "output_type": "stream",
          "name": "stdout",
          "text": [
            "**********\r\n",
            "*        *\r\n",
            "*        *\r\n",
            "*        *\r\n",
            "*        *\r\n",
            "*        *\r\n",
            "*        *\r\n",
            "*        *\r\n",
            "*        *\r\n",
            "**********\r\n"
          ]
        }
      ]
    },
    {
      "cell_type": "code",
      "source": [
        "# 15. Write a Python program to print the alphabet pattern 'P'.\n",
        "\n",
        "for i in range(8):\n",
        "  for j in range(8):\n",
        "    if j==0 or i==0 or i==3:\n",
        "      print('*', end=' ')\n",
        "\n",
        "    elif (j == 7) and i <=3:\n",
        "       print('*', end=' ')\n",
        "\n",
        "    else:\n",
        "      print(' ', end=' ')\n",
        "\n",
        "  print('\\r')\n"
      ],
      "metadata": {
        "colab": {
          "base_uri": "https://localhost:8080/"
        },
        "id": "x2hfcgWACVaB",
        "outputId": "a13aa2ac-0d1a-44cc-c9dd-a61545d3f472"
      },
      "execution_count": 47,
      "outputs": [
        {
          "output_type": "stream",
          "name": "stdout",
          "text": [
            "* * * * * * * * \r\n",
            "*             * \r\n",
            "*             * \r\n",
            "* * * * * * * * \r\n",
            "*               \r\n",
            "*               \r\n",
            "*               \r\n",
            "*               \r\n"
          ]
        }
      ]
    },
    {
      "cell_type": "code",
      "source": [
        "# Exercise 16: Print First 10 natural numbers using while loop\n",
        "\n",
        "i=1\n",
        "\n",
        "while i <=10:\n",
        "  print(i)\n",
        "  i+=1"
      ],
      "metadata": {
        "colab": {
          "base_uri": "https://localhost:8080/"
        },
        "id": "JFWcLQNuD2_P",
        "outputId": "8f6adab8-a256-42ae-e15d-6c2c3eda8f61"
      },
      "execution_count": 48,
      "outputs": [
        {
          "output_type": "stream",
          "name": "stdout",
          "text": [
            "1\n",
            "2\n",
            "3\n",
            "4\n",
            "5\n",
            "6\n",
            "7\n",
            "8\n",
            "9\n",
            "10\n"
          ]
        }
      ]
    },
    {
      "cell_type": "code",
      "source": [
        "# 17 Write a program to print the following number pattern using a loop.\n",
        "\n",
        "# 1\n",
        "# 1 2\n",
        "# 1 2 3\n",
        "# 1 2 3 4\n",
        "# 1 2 3 4 5\n",
        "\n",
        "for i in range(1,6):\n",
        "  for j in range(1, i+1):\n",
        "    print(j, end=' ')\n",
        "\n",
        "  print('\\r')\n"
      ],
      "metadata": {
        "colab": {
          "base_uri": "https://localhost:8080/"
        },
        "id": "y6xvxyTJE0sX",
        "outputId": "0a01e588-51f9-488b-8ff5-7bfc5d44c2d1"
      },
      "execution_count": 53,
      "outputs": [
        {
          "output_type": "stream",
          "name": "stdout",
          "text": [
            "1 \r\n",
            "1 2 \r\n",
            "1 2 3 \r\n",
            "1 2 3 4 \r\n",
            "1 2 3 4 5 \r\n"
          ]
        }
      ]
    },
    {
      "cell_type": "code",
      "source": [
        "# Exercise 18: Calculate the sum of all numbers from 1 to a given number.\n",
        "\n",
        "x=int(input(\"Enter a number :\"))\n",
        "sum = 0\n",
        "\n",
        "for i in range(1, x+1):\n",
        "  sum = sum+i\n",
        "\n",
        "print('Sum is :', sum)"
      ],
      "metadata": {
        "colab": {
          "base_uri": "https://localhost:8080/"
        },
        "id": "MiKu58xeFa4l",
        "outputId": "44757447-33f4-4e8e-8b17-cd84791c7ca8"
      },
      "execution_count": 58,
      "outputs": [
        {
          "output_type": "stream",
          "name": "stdout",
          "text": [
            "Enter a number :10\n",
            "Sum is : 55\n"
          ]
        }
      ]
    },
    {
      "cell_type": "code",
      "source": [
        "# 19 Write a program to display only those numbers from a list that satisfy the following conditions\n",
        "\n",
        "#     The number must be divisible by five\n",
        "#     If the number is greater than 150, then skip it and move to the next number\n",
        "#     If the number is greater than 500, then stop the loop\n",
        "\n",
        "num = [12, 75, 150, 180, 145, 525, 50]\n",
        "n = []\n",
        "m =[]\n",
        "\n",
        "for i in range(len(num)):\n",
        "  if num[i] % 5==0:\n",
        "    n.append(num[i])\n",
        "\n",
        "for i in range(len(num)):\n",
        "    if n[i] > 150 and n[i] <= 500:\n",
        "      continue\n",
        "\n",
        "    elif n[i] > 500:\n",
        "      break\n",
        "\n",
        "    else:\n",
        "      m.append(n[i])\n",
        "\n",
        "print('Numbers : ', m)\n",
        "\n",
        "\n"
      ],
      "metadata": {
        "colab": {
          "base_uri": "https://localhost:8080/"
        },
        "id": "XgrcY7KJGNqp",
        "outputId": "653d3f30-888e-4f1a-f0be-1e508a4455db"
      },
      "execution_count": 62,
      "outputs": [
        {
          "output_type": "stream",
          "name": "stdout",
          "text": [
            "Numbers :  [75, 150, 145]\n"
          ]
        }
      ]
    },
    {
      "cell_type": "code",
      "source": [
        "# 20 Write a program to count the total number of digits in a number using a while loop.\n",
        "\n",
        "num = int(input('Enter number :'))\n",
        "count = 0\n",
        "\n",
        "while num !=0:\n",
        "   num = num //10\n",
        "   count=count+1\n",
        "\n",
        "print(\"Total digit :\", count)"
      ],
      "metadata": {
        "colab": {
          "base_uri": "https://localhost:8080/"
        },
        "id": "ObglkIizIUoZ",
        "outputId": "daa85ff5-e707-4b18-ff40-39ff8ed148ee"
      },
      "execution_count": 64,
      "outputs": [
        {
          "output_type": "stream",
          "name": "stdout",
          "text": [
            "Enter number :78987\n",
            "Total digit : 5\n"
          ]
        }
      ]
    },
    {
      "cell_type": "code",
      "source": [
        "# 21 Write a program to use for loop to print the following reverse number pattern\n",
        "\n",
        "# 5 4 3 2 1\n",
        "# 4 3 2 1\n",
        "# 3 2 1\n",
        "# 2 1\n",
        "# 1\n",
        "\n",
        "for i in range(1, 6):\n",
        "  for j in range(6-i, 0, -1):\n",
        "    print(j, end=' ')\n",
        "\n",
        "  print('\\r')"
      ],
      "metadata": {
        "colab": {
          "base_uri": "https://localhost:8080/"
        },
        "id": "iV2khL5IJVKW",
        "outputId": "14391740-5b8d-4c01-9256-086cb52358ef"
      },
      "execution_count": 70,
      "outputs": [
        {
          "output_type": "stream",
          "name": "stdout",
          "text": [
            "5 4 3 2 1 \r\n",
            "4 3 2 1 \r\n",
            "3 2 1 \r\n",
            "2 1 \r\n",
            "1 \r\n"
          ]
        }
      ]
    },
    {
      "cell_type": "code",
      "source": [
        "# 22 Print list in reverse order using a loop\n",
        "list1 = [10, 20, 30, 40, 50]\n",
        "print(list1[::-1])"
      ],
      "metadata": {
        "colab": {
          "base_uri": "https://localhost:8080/"
        },
        "id": "HqvcTYvbKoKG",
        "outputId": "e1619891-95a2-4065-afaa-a42e662a2e3d"
      },
      "execution_count": 72,
      "outputs": [
        {
          "output_type": "stream",
          "name": "stdout",
          "text": [
            "[50, 40, 30, 20, 10]\n"
          ]
        }
      ]
    },
    {
      "cell_type": "code",
      "source": [
        "# Exercise 23: Display numbers from -10 to -1 using for loop\n",
        "\n",
        "for x in range(-10, 0):\n",
        "  print(x)"
      ],
      "metadata": {
        "colab": {
          "base_uri": "https://localhost:8080/"
        },
        "id": "_ra9pvByLCHg",
        "outputId": "27472d89-bbc3-4954-ea7e-ff1ee629c7e9"
      },
      "execution_count": 75,
      "outputs": [
        {
          "output_type": "stream",
          "name": "stdout",
          "text": [
            "-10\n",
            "-9\n",
            "-8\n",
            "-7\n",
            "-6\n",
            "-5\n",
            "-4\n",
            "-3\n",
            "-2\n",
            "-1\n"
          ]
        }
      ]
    },
    {
      "cell_type": "code",
      "source": [
        "# Exercise 24: Use else block to display a message “Done” after successful execution of for loop\n",
        "\n",
        "for i in range(3):\n",
        "  print(i)\n",
        "\n",
        "else:\n",
        "  print('DOne')"
      ],
      "metadata": {
        "colab": {
          "base_uri": "https://localhost:8080/"
        },
        "id": "flQYLrL7LaUG",
        "outputId": "a718bca1-acab-4ed7-9383-0bcbc02a22f8"
      },
      "execution_count": 80,
      "outputs": [
        {
          "output_type": "stream",
          "name": "stdout",
          "text": [
            "0\n",
            "1\n",
            "2\n",
            "DOne\n"
          ]
        }
      ]
    },
    {
      "cell_type": "code",
      "source": [
        "# Exercise 25: Write a program to display all prime numbers within a range.\n",
        "\n",
        "for m in range(2, 100):\n",
        "  for n in range(2, m):\n",
        "    if m%n ==0:\n",
        "      break;\n",
        "\n",
        "  else:\n",
        "    print(m)\n",
        "\n",
        "\n"
      ],
      "metadata": {
        "colab": {
          "base_uri": "https://localhost:8080/"
        },
        "id": "GvG3XQMyMOOE",
        "outputId": "6e2479d9-3125-4580-999d-5393793c7fe4"
      },
      "execution_count": 89,
      "outputs": [
        {
          "output_type": "stream",
          "name": "stdout",
          "text": [
            "2\n",
            "3\n",
            "5\n",
            "7\n",
            "11\n",
            "13\n",
            "17\n",
            "19\n",
            "23\n",
            "29\n",
            "31\n",
            "37\n",
            "41\n",
            "43\n",
            "47\n",
            "53\n",
            "59\n",
            "61\n",
            "67\n",
            "71\n",
            "73\n",
            "79\n",
            "83\n",
            "89\n",
            "97\n"
          ]
        }
      ]
    },
    {
      "cell_type": "code",
      "source": [
        "# 26 Find the factorial of a given number\n",
        "\n",
        "num = int(input('Enter a number : '))\n",
        "i=1\n",
        "fact =1\n",
        "while i <=num:\n",
        "  fact = fact * i\n",
        "  i=i+1\n",
        "\n",
        "print('Factorial :', fact)\n"
      ],
      "metadata": {
        "colab": {
          "base_uri": "https://localhost:8080/"
        },
        "id": "pd57embXNwMd",
        "outputId": "08099444-5ea8-4652-c448-d7e03ef0423f"
      },
      "execution_count": 91,
      "outputs": [
        {
          "output_type": "stream",
          "name": "stdout",
          "text": [
            "Enter a number : 5\n",
            "Factorial : 120\n"
          ]
        }
      ]
    }
  ]
}