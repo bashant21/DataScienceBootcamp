{
  "nbformat": 4,
  "nbformat_minor": 0,
  "metadata": {
    "colab": {
      "provenance": [],
      "authorship_tag": "ABX9TyPQy+Uj9SPxFWzTXmc8QPVp",
      "include_colab_link": true
    },
    "kernelspec": {
      "name": "python3",
      "display_name": "Python 3"
    },
    "language_info": {
      "name": "python"
    }
  },
  "cells": [
    {
      "cell_type": "markdown",
      "metadata": {
        "id": "view-in-github",
        "colab_type": "text"
      },
      "source": [
        "<a href=\"https://colab.research.google.com/github/bashant21/DataScienceBootcamp/blob/main/Documents%20%26%20Notes/LambdaFunction.ipynb\" target=\"_parent\"><img src=\"https://colab.research.google.com/assets/colab-badge.svg\" alt=\"Open In Colab\"/></a>"
      ]
    },
    {
      "cell_type": "code",
      "execution_count": null,
      "metadata": {
        "colab": {
          "base_uri": "https://localhost:8080/"
        },
        "id": "IeEQgky85cj6",
        "outputId": "89a357cd-5444-4b9e-f161-71467a9000a9"
      },
      "outputs": [
        {
          "output_type": "stream",
          "name": "stdout",
          "text": [
            "7\n"
          ]
        }
      ],
      "source": [
        "x = lambda a: a+5\n",
        "print(x(2))"
      ]
    },
    {
      "cell_type": "code",
      "source": [
        "x = lambda a,b: a*b+10\n",
        "print(x(2,2))"
      ],
      "metadata": {
        "colab": {
          "base_uri": "https://localhost:8080/"
        },
        "id": "tIkR_Zm25yml",
        "outputId": "8fbbe3bd-ab9f-46a5-fbd4-81783bb6feea"
      },
      "execution_count": null,
      "outputs": [
        {
          "output_type": "stream",
          "name": "stdout",
          "text": [
            "14\n"
          ]
        }
      ]
    },
    {
      "cell_type": "code",
      "source": [
        "max = lambda a,b: a if a>b else b\n",
        "print(max(2,5))"
      ],
      "metadata": {
        "colab": {
          "base_uri": "https://localhost:8080/"
        },
        "id": "HYF5n1dy5920",
        "outputId": "e71d64ce-b0a8-41ac-df6e-8786c35221fc"
      },
      "execution_count": null,
      "outputs": [
        {
          "output_type": "stream",
          "name": "stdout",
          "text": [
            "5\n"
          ]
        }
      ]
    },
    {
      "cell_type": "code",
      "source": [
        "min = lambda a, b: f'{a} is greater than {b}' if a >b else \\\n",
        "                  (f'{b} is greater than {a}' if b >a else \\\n",
        "                  (f'{a} and {b} are equal !!'))\n",
        "\n",
        "print(min(5,5))\n",
        "print(min(6,5))\n",
        "print(min(2,3))"
      ],
      "metadata": {
        "colab": {
          "base_uri": "https://localhost:8080/"
        },
        "id": "ozpDGmuF6MAJ",
        "outputId": "4e017a40-e857-417c-dc60-154a3f3a22ae"
      },
      "execution_count": null,
      "outputs": [
        {
          "output_type": "stream",
          "name": "stdout",
          "text": [
            "5 and 5 are equal !!\n",
            "6 is greater than 5\n",
            "3 is greater than 2\n"
          ]
        }
      ]
    },
    {
      "cell_type": "code",
      "source": [
        "marks = lambda a: f'Percentage : {a}, Pass with first class distinction' if a >=78 else \\\n",
        "                 (f'Percentage : {a}, Pass with first class' if a >=60 else \\\n",
        "                 (f'Percentage : {a}, Pass with second class' if a >=40 else \\\n",
        "                 (f'Percentage : {a}, pass with third class' if a >=33 else \\\n",
        "                 (f'Better Luck Next Time !!') )))\n",
        "marks(65)"
      ],
      "metadata": {
        "colab": {
          "base_uri": "https://localhost:8080/",
          "height": 36
        },
        "id": "HN9-lXCb9P_y",
        "outputId": "53275f6e-26cc-44c9-d8e3-5000ad6eddd7"
      },
      "execution_count": null,
      "outputs": [
        {
          "output_type": "execute_result",
          "data": {
            "text/plain": [
              "'Percentage : 65, Pass with first class'"
            ],
            "application/vnd.google.colaboratory.intrinsic+json": {
              "type": "string"
            }
          },
          "metadata": {},
          "execution_count": 8
        }
      ]
    },
    {
      "cell_type": "code",
      "source": [
        "#convert string to upper\n",
        "name = 'Bashant'\n",
        "upper = lambda x: x.upper()\n",
        "print(upper(name))"
      ],
      "metadata": {
        "colab": {
          "base_uri": "https://localhost:8080/"
        },
        "id": "BUf9BsGI-9iM",
        "outputId": "aa38ab1a-98cd-4dcd-bbb8-363a83d7829c"
      },
      "execution_count": 1,
      "outputs": [
        {
          "output_type": "stream",
          "name": "stdout",
          "text": [
            "BASHANT\n"
          ]
        }
      ]
    },
    {
      "cell_type": "code",
      "source": [
        "case = [lambda arg=x: arg *10 for x in range(1,10)]\n",
        "for item in case:\n",
        "  print(item())"
      ],
      "metadata": {
        "colab": {
          "base_uri": "https://localhost:8080/"
        },
        "id": "uuJY0etk_MDS",
        "outputId": "66384c45-7d4c-4125-a01b-0ae3ca5a2a72"
      },
      "execution_count": 4,
      "outputs": [
        {
          "output_type": "stream",
          "name": "stdout",
          "text": [
            "10\n",
            "20\n",
            "30\n",
            "40\n",
            "50\n",
            "60\n",
            "70\n",
            "80\n",
            "90\n"
          ]
        }
      ]
    },
    {
      "cell_type": "code",
      "source": [
        "# Filter out all odd numbers using filter() and lambda function\n",
        "li = [5, 7, 22, 97, 54, 62, 77, 23, 73, 61]\n",
        "\n",
        "final = list(filter(lambda x: (x%2 !=0), li))\n",
        "print(final)"
      ],
      "metadata": {
        "colab": {
          "base_uri": "https://localhost:8080/"
        },
        "id": "WrPrUmHGAOKp",
        "outputId": "cd16d7ba-4c60-47bb-b7cb-2decf3950459"
      },
      "execution_count": 7,
      "outputs": [
        {
          "output_type": "stream",
          "name": "stdout",
          "text": [
            "[5, 7, 97, 77, 23, 73, 61]\n"
          ]
        }
      ]
    },
    {
      "cell_type": "code",
      "source": [
        "# Filter all people having age more than 18, using lambda and filter() function\n",
        "# Filter all people having age more than 18\n",
        "\n",
        "ages = [13, 90, 17, 59, 21, 60, 5]\n",
        "fage = list(filter(lambda x: x>18, li))\n",
        "print(fage)"
      ],
      "metadata": {
        "colab": {
          "base_uri": "https://localhost:8080/"
        },
        "id": "fhRQiuMkBXi7",
        "outputId": "16f8579b-1446-4d20-862b-c95ae1511fc9"
      },
      "execution_count": 11,
      "outputs": [
        {
          "output_type": "stream",
          "name": "stdout",
          "text": [
            "[22, 97, 54, 62, 77, 23, 73, 61]\n"
          ]
        }
      ]
    },
    {
      "cell_type": "code",
      "source": [
        "# Multiply all elements of a list by 2 using lambda and map() function\n",
        "li = [5, 7, 22, 97, 54, 62, 77, 23, 73, 61]\n",
        "fli = list(map(lambda x: x*2, li))\n",
        "print(fli)"
      ],
      "metadata": {
        "colab": {
          "base_uri": "https://localhost:8080/"
        },
        "id": "Y9nw0HvoDbc6",
        "outputId": "061daa45-5911-46ad-c820-93bc0d98a632"
      },
      "execution_count": 19,
      "outputs": [
        {
          "output_type": "stream",
          "name": "stdout",
          "text": [
            "[10, 14, 44, 194, 108, 124, 154, 46, 146, 122]\n"
          ]
        }
      ]
    },
    {
      "cell_type": "code",
      "source": [
        "# Transform all elements of a list to upper case using lambda and map() function\n",
        "animals = ['dog', 'cat', 'parrot', 'rabbit']\n",
        "fupper = list(map(lambda x: x.upper(), animals))\n",
        "print(fupper)"
      ],
      "metadata": {
        "colab": {
          "base_uri": "https://localhost:8080/"
        },
        "id": "weNcSOdPDpXs",
        "outputId": "bf8a1d63-f67d-4584-f717-af3c45e4bb6d"
      },
      "execution_count": 21,
      "outputs": [
        {
          "output_type": "stream",
          "name": "stdout",
          "text": [
            "['DOG', 'CAT', 'PARROT', 'RABBIT']\n"
          ]
        }
      ]
    },
    {
      "cell_type": "code",
      "source": [
        "# 1. Write a python program to generate a function to double a specified number.\n",
        "\n",
        "cald=lambda x: x*2\n",
        "print(f'The double of number 27.2 is :',cald(27.2))"
      ],
      "metadata": {
        "colab": {
          "base_uri": "https://localhost:8080/"
        },
        "id": "FQtBXgIqF65v",
        "outputId": "e195c7a6-43ed-45e2-e220-5aa44a194ec7"
      },
      "execution_count": 29,
      "outputs": [
        {
          "output_type": "stream",
          "name": "stdout",
          "text": [
            "The double of number 27.2 is : 54.4\n"
          ]
        }
      ]
    },
    {
      "cell_type": "code",
      "source": [
        "small= lambda a, b:f'{a} is greater than {b}' if a>b else \\\n",
        "                  (f'{b} is greater than {a}' if b>a else\\\n",
        "                  (f'{a} and {b} are equal'))\n",
        "\n",
        "print(small(5, 6))"
      ],
      "metadata": {
        "colab": {
          "base_uri": "https://localhost:8080/"
        },
        "id": "kr7PNQ8SG4Ql",
        "outputId": "adca7022-e38f-472c-fb8e-2cfe1b2c8a48"
      },
      "execution_count": 33,
      "outputs": [
        {
          "output_type": "stream",
          "name": "stdout",
          "text": [
            "6 is greater than 5\n"
          ]
        }
      ]
    }
  ]
}