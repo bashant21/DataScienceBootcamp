{
  "nbformat": 4,
  "nbformat_minor": 0,
  "metadata": {
    "colab": {
      "provenance": [],
      "authorship_tag": "ABX9TyMtEupvl21/MLIEs7Yl3T0I",
      "include_colab_link": true
    },
    "kernelspec": {
      "name": "python3",
      "display_name": "Python 3"
    },
    "language_info": {
      "name": "python"
    }
  },
  "cells": [
    {
      "cell_type": "markdown",
      "metadata": {
        "id": "view-in-github",
        "colab_type": "text"
      },
      "source": [
        "<a href=\"https://colab.research.google.com/github/bashant21/DataScienceBootcamp/blob/main/%20DataScienceBootcamp%20%20/Assignments/Task1.ipynb\" target=\"_parent\"><img src=\"https://colab.research.google.com/assets/colab-badge.svg\" alt=\"Open In Colab\"/></a>"
      ]
    },
    {
      "cell_type": "code",
      "execution_count": 7,
      "metadata": {
        "colab": {
          "base_uri": "https://localhost:8080/"
        },
        "id": "qnp7neCpN8G3",
        "outputId": "f2be9e88-009a-4d0a-fc84-6aaebd2feccb"
      },
      "outputs": [
        {
          "output_type": "stream",
          "name": "stdout",
          "text": [
            "[3, 4, 5, 11, 6, 8]\n"
          ]
        }
      ],
      "source": [
        "#Question 1) Remove all repeated elements from the list Given below using for loop.\n",
        "\n",
        "a = [1, 2, 3, 4, 5, 11, 1, 2, 6, 1, 8]\n",
        "b= []\n",
        "for i in a:\n",
        "  if a.count(i)==1:\n",
        "    b.append(i)\n",
        "\n",
        "print(b)"
      ]
    },
    {
      "cell_type": "code",
      "source": [
        "#Question 2) Print all prime numbers below 100\n",
        "l1 = []\n",
        "for i in range(2, 101):\n",
        "  for j in range(2, i):\n",
        "    if i%j==0:\n",
        "      break\n",
        "  else:\n",
        "    l1.append(i)\n",
        "\n",
        "print('Prime Numbers below 100 are :' ,l1)\n",
        ""
      ],
      "metadata": {
        "colab": {
          "base_uri": "https://localhost:8080/"
        },
        "id": "6Usq4RMCPT7f",
        "outputId": "737ea405-0777-4455-c86c-a8b782b43728"
      },
      "execution_count": 24,
      "outputs": [
        {
          "output_type": "stream",
          "name": "stdout",
          "text": [
            "Prime Numbers below 100 are : [2, 3, 5, 7, 11, 13, 17, 19, 23, 29, 31, 37, 41, 43, 47, 53, 59, 61, 67, 71, 73, 79, 83, 89, 97]\n"
          ]
        }
      ]
    },
    {
      "cell_type": "code",
      "source": [
        "#Question 3) print list in reverse order using for loop\n",
        "a = [1, 2, 3, 4, 5, 11, 1, 2, 6, 1, 8]\n",
        "a.reverse()\n",
        "print(a)\n"
      ],
      "metadata": {
        "colab": {
          "base_uri": "https://localhost:8080/"
        },
        "id": "ZKX9bJFUhEQz",
        "outputId": "c82e2d06-8268-40da-c101-71a32e38d33e"
      },
      "execution_count": 25,
      "outputs": [
        {
          "output_type": "stream",
          "name": "stdout",
          "text": [
            "[8, 1, 6, 2, 1, 11, 5, 4, 3, 2, 1]\n"
          ]
        }
      ]
    },
    {
      "cell_type": "code",
      "source": [
        "#Question 4)  print multiplication table of 13 using for loop\n",
        "for i in range(1,11):\n",
        "  print('13', ' ', '*',  i, '=', 13*i)"
      ],
      "metadata": {
        "colab": {
          "base_uri": "https://localhost:8080/"
        },
        "id": "uXf4CosvhevP",
        "outputId": "c1d499d6-f446-4342-f3c8-ce8e18e771e8"
      },
      "execution_count": 26,
      "outputs": [
        {
          "output_type": "stream",
          "name": "stdout",
          "text": [
            "13   * 1 = 13\n",
            "13   * 2 = 26\n",
            "13   * 3 = 39\n",
            "13   * 4 = 52\n",
            "13   * 5 = 65\n",
            "13   * 6 = 78\n",
            "13   * 7 = 91\n",
            "13   * 8 = 104\n",
            "13   * 9 = 117\n",
            "13   * 10 = 130\n"
          ]
        }
      ]
    }
  ]
}