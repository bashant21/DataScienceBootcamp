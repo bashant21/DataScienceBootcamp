{
  "nbformat": 4,
  "nbformat_minor": 0,
  "metadata": {
    "colab": {
      "provenance": [],
      "authorship_tag": "ABX9TyPwDJX6Jw9/2KyeFq3XaLhK",
      "include_colab_link": true
    },
    "kernelspec": {
      "name": "python3",
      "display_name": "Python 3"
    },
    "language_info": {
      "name": "python"
    }
  },
  "cells": [
    {
      "cell_type": "markdown",
      "metadata": {
        "id": "view-in-github",
        "colab_type": "text"
      },
      "source": [
        "<a href=\"https://colab.research.google.com/github/bashant21/DataScienceBootcamp/blob/main/Projects/GameReplaceWith_X.ipynb\" target=\"_parent\"><img src=\"https://colab.research.google.com/assets/colab-badge.svg\" alt=\"Open In Colab\"/></a>"
      ]
    },
    {
      "cell_type": "markdown",
      "source": [
        "**Create this Matrix and User should be able to replace any number with X**\n",
        "\n",
        "<img src=\"data:image/png;base64,iVBORw0KGgoAAAANSUhEUgAAAKwAAACdCAYAAAApF5PQAAAAAXNSR0IArs4c6QAAAARnQU1BAACxjwv8YQUAAAAJcEhZcwAAEnQAABJ0Ad5mH3gAAARISURBVHhe7d0BbpwwFEXRtEvJ/teUrbR1E0sWxTApNrwL90io6XQEH/vNlxvh5MevP94kiJ9ff0oIBlYoBlYoBlYoBlYoBlYoBlYoBlYoBlYoBlYojwzs+/v734OKXv8RdlihGFihGFihRDxe+Op67OPj4+urY+r1Rp2v6t3HrOuMPm+xvIcZ1zjCDjvI1odu699SlBrX6uy9fhXEA9x1wFI77N750usveuecca0j4jts2oDd0dYY19fqe67mkmCglEm9s+jAUrprW18b2vI15R4o7LCDLEPbBpcS1rbmau21K8UG1s50nrUPWz3S2GEHaSe3BGAZgnS9xpDWMCK/rVUneNZgjT7/3vnOvt5oZ19vix1Wm5LCWsQFNm2AvqPW3lp7jSKx9qglQTtAMwM740OxN7kzrnVW/UnNI3JJkDRAr9qqmXg/Rak7rfZH/jC4GR3qTPT6j/A/XUIxsEIxsEJ55BpWXHZYoRhYoRhYoRhYoRhYoRhYoRhYoRhYoRhYoRhYoRhYoRhYoRhYoRhYoRhYoUx9Hra3E7O3F8n3f7rr+0ewwwrFHQdCscMKxcAKxcAKxcAKxcAKxcAKxcAKxcAKxcAKxcAKxcAKxcAKxcAK5ZGBLc9x9p7lJKDXf4QdVigGVigGViixOw7aNdroPUL13CPPu7emnHGtWXun1u5l5j6t74jssHuTrznKuKePfWSHXQ4aqcOe0Ylm1l+kdNM1cR32zInXv9LHPSqwhvUapHGPCaxhzVDmYXkk8dtag6VP+JZerUn3EBHYOiB37a6k0JY5aI8q5R4uD+xdwrqc6HpUhNC29VZrr10pag27PKrl30nSJpzONaxQon8YXO2qo7vUrPOumXGtM8955li9wg47SJnYtYMmvX4DO1npTCndaUuvzrT6H/nzYWvnIARpDb3+I+ywQjGwQjGwQvF3HAjFDisUAysUAysUAysUAysUAysUAysUAysUAysUAysUAysUAysUAysUAysUAyuUqc/D9nZd9vYi+f5Pd33/CHZYobjjQCh2WKEYWKEYWKEYWKEYWKEYWKEYWKEYWKEYWKEYWKEYWKEYWKEYWKEYWKE8MrDlwePew8cE9PqPsMMKxcAKxcAKJW6LTLs2m7WZrV5jxvmXa8uZ1xh97rV18cwNhf8jpsOWwVobMIpe/ZR76tWZVn9EYNtBSftEv6rWXf6sR0UJbVt7av0Rga2D0w4S0bJ+0v2s1ZpYf8ySgB5WncPvEqirLgWSmomBnShxwveUmutRpNVuYLWpDW8CAztJaofaU+ptjyoltAZ2AmpY16Tdg4Ed7E5hTWRgB7pjWFOWAlXEswSvDMrIEMwI1pn3cEX9KR9CO6w2laCmhLV45A80ntGhzkSv/wg7rFAMrFAMrFD8pRxCscMKxcAKxcAKxcAKxcAKxcAKxcAKxcAKxcAKxcAKxcAKxcAKxcAKxcAK5O3tN337KoPGYrI8AAAAAElFTkSuQmCC\">"
      ],
      "metadata": {
        "id": "e6RT_034oe4l"
      }
    },
    {
      "cell_type": "code",
      "source": [
        "print(' 7 |  8 | 9' )\n",
        "print('------------')\n",
        "print(' 4 |  5 | 6' )\n",
        "print('------------')\n",
        "print(' 1 |  2 | 3' )\n",
        "\n",
        "a = [1, 2, 3, 4, 5, 6, 7, 8, 9]\n",
        "print('********************************')\n",
        "print('\\n')\n",
        "\n",
        "x = int(input('Enter a number to replace by \"X\": '))\n",
        "a[x - 1] = 'X'\n",
        "\n",
        "for i in range(0, 9, 3):\n",
        "    print(a[i], '|', a[i + 1], '|', a[i + 2])\n",
        "    if i < 6:\n",
        "        print('-' * 9)\n",
        "\n",
        "\n",
        "\n",
        "\n",
        "\n",
        "\n"
      ],
      "metadata": {
        "colab": {
          "base_uri": "https://localhost:8080/"
        },
        "id": "KKlXsxJ8r8SP",
        "outputId": "2a1dfbba-83f8-4b74-e49f-37c8dd4f9d64"
      },
      "execution_count": 19,
      "outputs": [
        {
          "output_type": "stream",
          "name": "stdout",
          "text": [
            " 7 |  8 | 9\n",
            "------------\n",
            " 4 |  5 | 6\n",
            "------------\n",
            " 1 |  2 | 3\n",
            "********************************\n",
            "\n",
            "\n",
            "Enter a number to replace by \"X\": 3\n",
            "1 | 2 | X\n",
            "---------\n",
            "4 | 5 | 6\n",
            "---------\n",
            "7 | 8 | 9\n"
          ]
        }
      ]
    },
    {
      "cell_type": "code",
      "source": [
        "class Game:\n",
        "    def print_game(self, board):\n",
        "        for i in range(0, 9, 3):\n",
        "            print(board[i], '|', board[i + 1], '|', board[i + 2])\n",
        "            if i < 6:\n",
        "                print('-' * 9)\n",
        "\n",
        "    def enter(self, board, num):\n",
        "        board[num - 1] = 'X'\n",
        "        self.print_game(board)\n",
        "\n",
        "\n",
        "a = [1, 2, 3, 4, 5, 6, 7, 8, 9]\n",
        "\n",
        "obj1 = Game()\n",
        "obj1.print_game(a)\n",
        "print('\\n')\n",
        "num1 = int(input('Enter a number to replace by \"X\": '))\n",
        "obj1.enter(a, num1)"
      ],
      "metadata": {
        "colab": {
          "base_uri": "https://localhost:8080/"
        },
        "id": "JQvhPhf8x-83",
        "outputId": "adc4cfda-51b9-4cf0-9fe5-72a636c6f327"
      },
      "execution_count": 38,
      "outputs": [
        {
          "output_type": "stream",
          "name": "stdout",
          "text": [
            "1 | 2 | 3\n",
            "---------\n",
            "4 | 5 | 6\n",
            "---------\n",
            "7 | 8 | 9\n",
            "\n",
            "\n",
            "Enter a number to replace by \"X\": 2\n",
            "1 | X | 3\n",
            "---------\n",
            "4 | 5 | 6\n",
            "---------\n",
            "7 | 8 | 9\n"
          ]
        }
      ]
    }
  ]
}