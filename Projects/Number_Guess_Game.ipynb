{
  "nbformat": 4,
  "nbformat_minor": 0,
  "metadata": {
    "colab": {
      "provenance": [],
      "authorship_tag": "ABX9TyO9plxlKDkF56Qg+P2Dl9jx",
      "include_colab_link": true
    },
    "kernelspec": {
      "name": "python3",
      "display_name": "Python 3"
    },
    "language_info": {
      "name": "python"
    }
  },
  "cells": [
    {
      "cell_type": "markdown",
      "metadata": {
        "id": "view-in-github",
        "colab_type": "text"
      },
      "source": [
        "<a href=\"https://colab.research.google.com/github/bashant21/DataScienceBootcamp/blob/main/Projects/Number_Guess_Game.ipynb\" target=\"_parent\"><img src=\"https://colab.research.google.com/assets/colab-badge.svg\" alt=\"Open In Colab\"/></a>"
      ]
    },
    {
      "cell_type": "code",
      "execution_count": 43,
      "metadata": {
        "id": "OTD6aAFJV7zN"
      },
      "outputs": [],
      "source": [
        "import random"
      ]
    },
    {
      "cell_type": "code",
      "source": [
        "lower = int(input('Enter lower bound :'))\n",
        "upper = int(input('Enter upper bound :'))"
      ],
      "metadata": {
        "colab": {
          "base_uri": "https://localhost:8080/"
        },
        "id": "K5lovzv3WJg6",
        "outputId": "1ad151e2-eebf-4052-e66d-aaad30f4a346"
      },
      "execution_count": 44,
      "outputs": [
        {
          "name": "stdout",
          "output_type": "stream",
          "text": [
            "Enter lower bound :5\n",
            "Enter upper bound :9\n"
          ]
        }
      ]
    },
    {
      "cell_type": "code",
      "source": [
        "x = random.randint(lower, upper)"
      ],
      "metadata": {
        "id": "inBD7ZmCWisz"
      },
      "execution_count": 45,
      "outputs": []
    },
    {
      "cell_type": "code",
      "source": [
        "count = 0\n",
        "chance = upper - lower +1\n",
        "print(f'You will get {chance} total chances !!')\n",
        "while count < chance:\n",
        " guess = int(input('Enter your guess : '))\n",
        " if guess == x:\n",
        "      print('Correct Guess !!')\n",
        "      break\n",
        "\n",
        " elif guess > x:\n",
        "      print('Your guess too high !!')\n",
        "      count = count + 1\n",
        "      print(f'You will get {chance-count} total chances !!\\n')\n",
        "\n",
        " elif guess < x:\n",
        "      print('Your guess too small !!')\n",
        "      count = count + 1\n",
        "      print(f'You will get {chance-count} total chances !!\\n')\n",
        "\n",
        " elif guess !=x:\n",
        "      print('Invalid Input !!')\n",
        "      count = count + 1\n",
        "      print(f'You will get {chance-count} total chances !!\\n')\n",
        "else:\n",
        "      print('The number is :', x)\n",
        "\n",
        "\n"
      ],
      "metadata": {
        "colab": {
          "base_uri": "https://localhost:8080/"
        },
        "id": "-dQOHCMWXTH1",
        "outputId": "0454d492-b03c-40e3-d25d-18a53b6009e5"
      },
      "execution_count": 50,
      "outputs": [
        {
          "output_type": "stream",
          "name": "stdout",
          "text": [
            "You will get 5 total chances !!\n",
            "Enter your guess : 1\n",
            "Your guess too small !!\n",
            "You will get 4 total chances !!\n",
            "\n",
            "Enter your guess : 2\n",
            "Your guess too small !!\n",
            "You will get 3 total chances !!\n",
            "\n",
            "Enter your guess : 3\n",
            "Your guess too small !!\n",
            "You will get 2 total chances !!\n",
            "\n",
            "Enter your guess : 4\n",
            "Your guess too small !!\n",
            "You will get 1 total chances !!\n",
            "\n",
            "Enter your guess : 5\n",
            "Your guess too small !!\n",
            "You will get 0 total chances !!\n",
            "\n",
            "The number is : 9\n"
          ]
        }
      ]
    },
    {
      "cell_type": "code",
      "source": [],
      "metadata": {
        "id": "FzkyEnGGXYvv"
      },
      "execution_count": null,
      "outputs": []
    }
  ]
}