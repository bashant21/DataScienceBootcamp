{
  "nbformat": 4,
  "nbformat_minor": 0,
  "metadata": {
    "colab": {
      "provenance": [],
      "include_colab_link": true
    },
    "kernelspec": {
      "name": "python3",
      "display_name": "Python 3"
    },
    "language_info": {
      "name": "python"
    }
  },
  "cells": [
    {
      "cell_type": "markdown",
      "metadata": {
        "id": "view-in-github",
        "colab_type": "text"
      },
      "source": [
        "<a href=\"https://colab.research.google.com/github/bashant21/DataScienceBootcamp/blob/main/Class%20Notes/Lecture_Note_DataTypes.ipynb\" target=\"_parent\"><img src=\"https://colab.research.google.com/assets/colab-badge.svg\" alt=\"Open In Colab\"/></a>"
      ]
    },
    {
      "cell_type": "code",
      "execution_count": null,
      "metadata": {
        "colab": {
          "base_uri": "https://localhost:8080/",
          "height": 141
        },
        "id": "hs3WAtIAAY9T",
        "outputId": "ac64c281-b523-47ef-b427-287c132aa013"
      },
      "outputs": [
        {
          "output_type": "error",
          "ename": "SyntaxError",
          "evalue": "ignored",
          "traceback": [
            "\u001b[0;36m  File \u001b[0;32m\"<ipython-input-7-b0c38a3753ca>\"\u001b[0;36m, line \u001b[0;32m9\u001b[0m\n\u001b[0;31m    last@name = 'Peter'\u001b[0m\n\u001b[0m    ^\u001b[0m\n\u001b[0;31mSyntaxError\u001b[0m\u001b[0;31m:\u001b[0m cannot assign to expression here. Maybe you meant '==' instead of '='?\n"
          ]
        }
      ],
      "source": [
        "# valid variables and invalid variables\n",
        "\n",
        "name = 'Anuurag'\n",
        "# 12gender = 'M'\n",
        "# @address = '123 Park Street'\n",
        "_fname = 'Umesh'\n",
        "gen12der = 'M'\n",
        "print(name, _fname, gen12der)\n",
        "last@name = 'Peter'"
      ]
    },
    {
      "cell_type": "markdown",
      "source": [
        "#**Wednesday August 09, 2023**"
      ],
      "metadata": {
        "id": "J3Qzl1juv_0a"
      }
    },
    {
      "cell_type": "markdown",
      "source": [
        "#**Python Data Type**\n",
        "\n",
        "      1. Standard Data Type\n",
        "        1. Numbers\n",
        "          1. Integer\n",
        "          2. Float\n",
        "          3. Complex\n",
        "        2. Boolean\n",
        "        3. String\n",
        "      2. Data Structure Data Type\n",
        "        1. List\n",
        "        2. Tuple\n",
        "        3. Set\n",
        "        4. Dictionary"
      ],
      "metadata": {
        "id": "aE5H8rQIwQW7"
      }
    },
    {
      "cell_type": "code",
      "source": [
        "# Integer : Any whole number (+ve or -ve) is called as integer\n",
        "\n",
        "int1 = 1947\n",
        "print(int1)\n",
        "print(type(int1))\n",
        "\n",
        "int1 = -1947\n",
        "print(int1)\n",
        "print(type(int1))"
      ],
      "metadata": {
        "colab": {
          "base_uri": "https://localhost:8080/"
        },
        "id": "059l3Yw1v_md",
        "outputId": "7b6c00ec-7078-4a59-fe6a-87756ed8f8c2"
      },
      "execution_count": null,
      "outputs": [
        {
          "output_type": "stream",
          "name": "stdout",
          "text": [
            "1947\n",
            "<class 'int'>\n",
            "-1947\n",
            "<class 'int'>\n"
          ]
        }
      ]
    },
    {
      "cell_type": "code",
      "source": [
        "# Float : Any combination of whole number and fractional number (+ve or -ve) is called as float.\n",
        "\n",
        "flt1 = 3.1415\n",
        "print(flt1)\n",
        "print(type(flt1))\n",
        "\n",
        "flt1 = -3.1415\n",
        "print(flt1)\n",
        "print(type(flt1))"
      ],
      "metadata": {
        "colab": {
          "base_uri": "https://localhost:8080/"
        },
        "id": "lD9PlrMSxM6e",
        "outputId": "7a0e819b-199a-47c5-a797-adce5badcf5a"
      },
      "execution_count": null,
      "outputs": [
        {
          "output_type": "stream",
          "name": "stdout",
          "text": [
            "3.1415\n",
            "<class 'float'>\n",
            "-3.1415\n",
            "<class 'float'>\n"
          ]
        }
      ]
    },
    {
      "cell_type": "code",
      "source": [
        "# Complex : Combination of integer or float and imagenary number (+ve or -ve) integer or float is called as compex\n",
        "\n",
        "cmplx1 = 2 + 3j\n",
        "print(cmplx1)\n",
        "print(type(cmplx1))\n",
        "\n",
        "cmplx1 = -2 - 3j\n",
        "print(cmplx1)\n",
        "print(type(cmplx1))\n"
      ],
      "metadata": {
        "colab": {
          "base_uri": "https://localhost:8080/"
        },
        "id": "EjYPiq69xzPr",
        "outputId": "ddd8b565-4e75-4d57-c370-5a338e47b67d"
      },
      "execution_count": null,
      "outputs": [
        {
          "output_type": "stream",
          "name": "stdout",
          "text": [
            "(2+3j)\n",
            "<class 'complex'>\n",
            "(-2-3j)\n",
            "<class 'complex'>\n"
          ]
        }
      ]
    },
    {
      "cell_type": "code",
      "source": [
        "# Boolean : True and False\n",
        "\n",
        "bool1 = True\n",
        "print(bool1)\n",
        "print(type(bool1))\n",
        "\n",
        "bool1 = False\n",
        "print(bool1)\n",
        "print(type(bool1))"
      ],
      "metadata": {
        "colab": {
          "base_uri": "https://localhost:8080/"
        },
        "id": "KnlSzq0gymiz",
        "outputId": "4034c1eb-8f51-4204-a241-0805b2a8f43b"
      },
      "execution_count": null,
      "outputs": [
        {
          "output_type": "stream",
          "name": "stdout",
          "text": [
            "True\n",
            "<class 'bool'>\n",
            "False\n",
            "<class 'bool'>\n"
          ]
        }
      ]
    },
    {
      "cell_type": "code",
      "source": [
        "# String\n",
        "# any combination inside single quotes\n",
        "# any combination inside double quotes\n",
        "# any combination inside triple single quotes\n",
        "# any combination inside triple doublr quotes\n",
        "\n",
        "\n",
        "str1 = 'Python Programming'\n",
        "print(str1)\n",
        "print(type(str1))\n",
        "\n",
        "str1 = \"Python Programming\"\n",
        "print(str1)\n",
        "print(type(str1))\n",
        "\n",
        "str1 = '''Python Programming'''\n",
        "print(str1)\n",
        "print(type(str1))\n",
        "\n",
        "str1 = \"\"\"Python Programming\"\"\"\n",
        "print(str1)\n",
        "print(type(str1))"
      ],
      "metadata": {
        "colab": {
          "base_uri": "https://localhost:8080/"
        },
        "id": "BMITIHOVzIaz",
        "outputId": "abba8283-167b-47b5-e1b9-ca3f0a3d8f14"
      },
      "execution_count": null,
      "outputs": [
        {
          "output_type": "stream",
          "name": "stdout",
          "text": [
            "Python Programming\n",
            "<class 'str'>\n",
            "Python Programming\n",
            "<class 'str'>\n",
            "Python Programming\n",
            "<class 'str'>\n",
            "Python Programming\n",
            "<class 'str'>\n"
          ]
        }
      ]
    },
    {
      "cell_type": "code",
      "source": [
        "\n",
        "str1 = '!@#$%^&*()'\n",
        "print(str1)\n",
        "print(type(str1))\n",
        "\n",
        "str1 = \"QW#%$&*(*))_+YIINK:\"\n",
        "print(str1)\n",
        "print(type(str1))\n",
        "\n",
        "str1 = '''Lion Tiger'''\n",
        "print(str1)\n",
        "print(type(str1))\n",
        "\n",
        "str1 = \"\"\"Python Programming\"\"\"\n",
        "print(str1)\n",
        "print(type(str1))"
      ],
      "metadata": {
        "colab": {
          "base_uri": "https://localhost:8080/"
        },
        "id": "Ki6K3b9O0J3E",
        "outputId": "9eeab75d-061d-43dd-82f8-c374353e0bda"
      },
      "execution_count": null,
      "outputs": [
        {
          "output_type": "stream",
          "name": "stdout",
          "text": [
            "!@#$%^&*()\n",
            "<class 'str'>\n",
            "QW#%$&*(*))_+YIINK:\n",
            "<class 'str'>\n",
            "Lion Tiger\n",
            "<class 'str'>\n",
            "Python Programming\n",
            "<class 'str'>\n"
          ]
        }
      ]
    },
    {
      "cell_type": "code",
      "source": [
        "str1 = \"\"\"My name is \"Anuurag A Edlabadkar\". I live in 'Pune'.\"\"\"\n",
        "print(str1)\n",
        "print(type(str1))\n",
        "\n",
        "str1 = '''My name is \"Anuurag A Edlabadkar\". I live in 'Pune'.'''\n",
        "print(str1)\n",
        "print(type(str1))"
      ],
      "metadata": {
        "colab": {
          "base_uri": "https://localhost:8080/"
        },
        "id": "QVN95s-u1klE",
        "outputId": "efaf47ae-a1d8-416d-c9ef-50c191f96838"
      },
      "execution_count": null,
      "outputs": [
        {
          "output_type": "stream",
          "name": "stdout",
          "text": [
            "My name is \"Anuurag A Edlabadkar\". I live in 'Pune'.\n",
            "<class 'str'>\n",
            "My name is \"Anuurag A Edlabadkar\". I live in 'Pune'.\n",
            "<class 'str'>\n"
          ]
        }
      ]
    },
    {
      "cell_type": "code",
      "source": [
        "# List\n",
        "# 1. List is represented by square bracket []\n",
        "# 2. List is mutable\n",
        "\n",
        "\n",
        "\n",
        "lst1 = [12,23,34,45,56,67,78,89,90]\n",
        "print(lst1)\n",
        "print(type(lst1))"
      ],
      "metadata": {
        "colab": {
          "base_uri": "https://localhost:8080/"
        },
        "id": "_AvgFoPO4aBE",
        "outputId": "6abd3db4-b921-4786-b887-52e8bf6c0d9c"
      },
      "execution_count": null,
      "outputs": [
        {
          "output_type": "stream",
          "name": "stdout",
          "text": [
            "[12, 23, 34, 45, 56, 67, 78, 89, 90]\n",
            "<class 'list'>\n"
          ]
        }
      ]
    },
    {
      "cell_type": "code",
      "source": [
        "# Tuple\n",
        "# 1. Tuple is represented by circular bracket ()\n",
        "# 2. Tuple is immutable\n",
        "\n",
        "\n",
        "\n",
        "tup1 = (1,2,3,4,5,6,7,8,9)\n",
        "print(tup1)\n",
        "print(type(tup1))"
      ],
      "metadata": {
        "colab": {
          "base_uri": "https://localhost:8080/"
        },
        "id": "2P07Pu2F5SU9",
        "outputId": "83719888-6bbd-4de1-e458-39f71cb0b52f"
      },
      "execution_count": null,
      "outputs": [
        {
          "output_type": "stream",
          "name": "stdout",
          "text": [
            "(1, 2, 3, 4, 5, 6, 7, 8, 9)\n",
            "<class 'tuple'>\n"
          ]
        }
      ]
    },
    {
      "cell_type": "code",
      "source": [
        "# Set\n",
        "# 1. Set is combination of unique values\n",
        "# 2. Set is collection of unordered element\n",
        "# 3. Set is represented by curly brackets\n",
        "# 4. Set is mutable\n",
        "\n",
        "set1 = {'a','b','c','D','E','F',1,2,3,'!','@','#','a','b','c','D','E','F',1,2,3,'!','@','#',}\n",
        "print(set1)\n",
        "print(type(set1))"
      ],
      "metadata": {
        "colab": {
          "base_uri": "https://localhost:8080/"
        },
        "id": "HszQRd1P55qG",
        "outputId": "c3f2b0e1-ee8c-4e79-b9bc-92403cb375c2"
      },
      "execution_count": null,
      "outputs": [
        {
          "output_type": "stream",
          "name": "stdout",
          "text": [
            "{1, 2, '#', 3, 'b', 'c', 'a', 'F', '!', '@', 'E', 'D'}\n",
            "<class 'set'>\n"
          ]
        }
      ]
    },
    {
      "cell_type": "code",
      "source": [
        "set1 = {True, False, 'a','b','c','D','E','F',0,1,2,3,'!','@','#', 'True','False'}\n",
        "print(set1)\n",
        "print(type(set1))"
      ],
      "metadata": {
        "colab": {
          "base_uri": "https://localhost:8080/"
        },
        "id": "QJS2VCpm-ePf",
        "outputId": "46d1041e-020a-4e93-841c-a48e0c587611"
      },
      "execution_count": null,
      "outputs": [
        {
          "output_type": "stream",
          "name": "stdout",
          "text": [
            "{False, True, 2, 3, '#', 'b', 'c', 'a', 'F', '!', 'True', '@', 'E', 'D', 'False'}\n",
            "<class 'set'>\n"
          ]
        }
      ]
    },
    {
      "cell_type": "code",
      "source": [
        "dict1 = {'a':'apple',\n",
        "         'b':'banana',\n",
        "         'c':'cherries'}"
      ],
      "metadata": {
        "id": "fgNXrCKa_YmF"
      },
      "execution_count": null,
      "outputs": []
    },
    {
      "cell_type": "code",
      "source": [
        "print(dict1)\n",
        "print(type(dict1))"
      ],
      "metadata": {
        "colab": {
          "base_uri": "https://localhost:8080/"
        },
        "id": "cKfpqL2F_lcs",
        "outputId": "f3758da4-343b-49c0-ad4a-3835809f8b44"
      },
      "execution_count": null,
      "outputs": [
        {
          "output_type": "stream",
          "name": "stdout",
          "text": [
            "{'a': 'apple', 'b': 'banana', 'c': 'cherries'}\n",
            "<class 'dict'>\n"
          ]
        }
      ]
    },
    {
      "cell_type": "markdown",
      "source": [
        "![image.png](data:image/png;base64,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)"
      ],
      "metadata": {
        "id": "NCGArC4lBjna"
      }
    },
    {
      "cell_type": "code",
      "source": [
        "str1[0:28:1]"
      ],
      "metadata": {
        "colab": {
          "base_uri": "https://localhost:8080/",
          "height": 35
        },
        "id": "4sBwbDiYFce4",
        "outputId": "5af7f8fe-9537-4f16-af47-c1fec57245a9"
      },
      "execution_count": null,
      "outputs": [
        {
          "output_type": "execute_result",
          "data": {
            "text/plain": [
              "'Venkatanarasimharajuvaripeta'"
            ],
            "application/vnd.google.colaboratory.intrinsic+json": {
              "type": "string"
            }
          },
          "metadata": {},
          "execution_count": 38
        }
      ]
    },
    {
      "cell_type": "code",
      "source": [
        "str1[0:28:2]"
      ],
      "metadata": {
        "colab": {
          "base_uri": "https://localhost:8080/",
          "height": 35
        },
        "id": "l14pBzj1FiLO",
        "outputId": "b196890d-2ebc-47d9-ad55-c597dab59d8d"
      },
      "execution_count": null,
      "outputs": [
        {
          "output_type": "execute_result",
          "data": {
            "text/plain": [
              "'Vnaaaaihrjvrpt'"
            ],
            "application/vnd.google.colaboratory.intrinsic+json": {
              "type": "string"
            }
          },
          "metadata": {},
          "execution_count": 39
        }
      ]
    },
    {
      "cell_type": "code",
      "source": [
        "str1[0:28:3]"
      ],
      "metadata": {
        "colab": {
          "base_uri": "https://localhost:8080/",
          "height": 35
        },
        "id": "pNsy65JVFnTF",
        "outputId": "e55c00e8-220a-4bdc-de2e-6bdb7e26ac32"
      },
      "execution_count": null,
      "outputs": [
        {
          "output_type": "execute_result",
          "data": {
            "text/plain": [
              "'Vkariajapa'"
            ],
            "application/vnd.google.colaboratory.intrinsic+json": {
              "type": "string"
            }
          },
          "metadata": {},
          "execution_count": 40
        }
      ]
    },
    {
      "cell_type": "code",
      "source": [
        "str1[0:28:4]"
      ],
      "metadata": {
        "colab": {
          "base_uri": "https://localhost:8080/",
          "height": 35
        },
        "id": "h_XpxCsgFpx9",
        "outputId": "3b5b1e75-7b5c-48c9-b444-13c523d693a1"
      },
      "execution_count": null,
      "outputs": [
        {
          "output_type": "execute_result",
          "data": {
            "text/plain": [
              "'Vaairvp'"
            ],
            "application/vnd.google.colaboratory.intrinsic+json": {
              "type": "string"
            }
          },
          "metadata": {},
          "execution_count": 41
        }
      ]
    },
    {
      "cell_type": "code",
      "source": [
        "str1[0:28:5]"
      ],
      "metadata": {
        "colab": {
          "base_uri": "https://localhost:8080/",
          "height": 35
        },
        "id": "LV854kIsFr_p",
        "outputId": "2ab9705d-fa16-4c8a-fd49-72d0804849de"
      },
      "execution_count": null,
      "outputs": [
        {
          "output_type": "execute_result",
          "data": {
            "text/plain": [
              "'Vtaave'"
            ],
            "application/vnd.google.colaboratory.intrinsic+json": {
              "type": "string"
            }
          },
          "metadata": {},
          "execution_count": 43
        }
      ]
    },
    {
      "cell_type": "code",
      "source": [
        "str1[0:7:1], str1[7:16:1], str1[16:28:1]"
      ],
      "metadata": {
        "colab": {
          "base_uri": "https://localhost:8080/"
        },
        "id": "KH6l--pIE9ry",
        "outputId": "f84d4d0b-90e2-4c3a-e40d-56c0abfc5930"
      },
      "execution_count": null,
      "outputs": [
        {
          "output_type": "execute_result",
          "data": {
            "text/plain": [
              "('Venkata', 'narasimha', 'rajuvaripeta')"
            ]
          },
          "metadata": {},
          "execution_count": 37
        }
      ]
    },
    {
      "cell_type": "code",
      "source": [
        "str1 = 'Venkatanarasimharajuvaripeta'\n",
        "print(str1)\n",
        "print(type(str1))\n",
        "print(len(str1))"
      ],
      "metadata": {
        "colab": {
          "base_uri": "https://localhost:8080/"
        },
        "id": "HFtD9lmVBZ0P",
        "outputId": "7c5be31c-fe92-45f9-e707-6581bc6aa47a"
      },
      "execution_count": null,
      "outputs": [
        {
          "output_type": "stream",
          "name": "stdout",
          "text": [
            "Venkatanarasimharajuvaripeta\n",
            "<class 'str'>\n",
            "28\n"
          ]
        }
      ]
    },
    {
      "cell_type": "code",
      "source": [
        "print(str1[0])\n",
        "print(str1[1])\n",
        "print(str1[2])\n",
        "print(str1[3])\n",
        "print(str1[4])\n",
        "print(str1[5])\n",
        "print(str1[6])\n",
        "print(str1[7])\n",
        "print(str1[8])\n",
        "print(str1[9])\n",
        "print(str1[10])"
      ],
      "metadata": {
        "colab": {
          "base_uri": "https://localhost:8080/"
        },
        "id": "NsUZWrNmCPRC",
        "outputId": "0ae3d912-4ca1-400a-cb5c-dc8a63501fb2"
      },
      "execution_count": null,
      "outputs": [
        {
          "output_type": "stream",
          "name": "stdout",
          "text": [
            "V\n",
            "e\n",
            "n\n",
            "k\n",
            "a\n",
            "t\n",
            "a\n",
            "n\n",
            "a\n",
            "r\n",
            "a\n"
          ]
        }
      ]
    },
    {
      "cell_type": "code",
      "source": [
        "str1[0:7:1], str1[7:16:1], str1[16:28:1]"
      ],
      "metadata": {
        "colab": {
          "base_uri": "https://localhost:8080/"
        },
        "id": "IG3KmH1oD_d-",
        "outputId": "7d074638-c0d6-43c1-b1cb-94384d498f93"
      },
      "execution_count": null,
      "outputs": [
        {
          "output_type": "execute_result",
          "data": {
            "text/plain": [
              "('Venkata', 'narasimha', 'rajuvaripeta')"
            ]
          },
          "metadata": {},
          "execution_count": 36
        }
      ]
    },
    {
      "cell_type": "markdown",
      "source": [
        "![image.png](data:image/png;base64,iVBORw0KGgoAAAANSUhEUgAABvkAAABlCAYAAABnXo/rAAAgAElEQVR4Ae2dv64kt/G2534MCBAEnWCvwZESBUp8ko2cOXTiSFhnUu5EgRPjAMo2cfJBseCTbOTNfAM/YG+gP1TPVLHIZnM4c5rFGvINBj3T3TPNl/XUnya7e06fPn1a8EIfgAEwAAbAABgAA2AADIABMAAGwAAYAANgAAyAATAABsAAGAADYAAMgIHHYeBExlr+32na1+k0r3ayO/TD/vD/eRmA/89re8R/5D/4P/wf+X9eBuD/89oe+R/5H/4P/0f+n5cB+P+8tkf+R/6f3f9Hz31kX0zyYZJv2gleJDkkudmTHPSjyB+90CnpA//gv8TH6NvAP/gfnfGSPvAP/kt8jL4N/IP/0Rkv6QP/4L/Ex+jbwD/4H53xmfWRf2OSD5N8mOTDnazTMoAiB0XO7EUA9M/rA4h/89qe/B72h/0R/+dlAP4/r+0R/5H/4P/wf+T/eRmA/89re+T/8W1P/o1JPkzyTTvBgyCHkxwUOeMnutJJDOwP+5f4GH0b+Af/ozNe0gf+wX+Jj9G3gX/wPzrjJX3gH/yX+Bh9G/gH/6MzXtIH/ufmv8TGCNuIb0zyYZIPk3y4k29aBpDk507ysD/sP0Ixd68G8A/+72VnhO+Bf/A/Asf3agD/4P9edkb4HvgH/yNwfK8G8A/+72VnhO+B/7n5H4HhkgbiG5N8mOSbdoKHnANBfu4gD/vD/qUkOfo28A/+R2e8pA/8g/8SH6NvA//gf3TGS/rAP/gv8TH6NvAP/kdnvKQP/IP/Eh+jb5ud/xnsi0k+TPJhkg938k3LwOxJDvpR5I5e6JT0gX/wX+Jj9G3gH/yPznhJH/gH/yU+Rt8G/sH/6IyX9IF/8F/iY/Rt4B/8j854K30//eF8k9C7P/tliPy76yTf57+flveXjjr9sU9H9QpyH/98Wt6RAS6vd384LR//ad8HXfT/87R8/GOs//SH0/LTLPrVpCL1AzNAffBZbWsVnPTv9rB/pFn5ALXl/d9tfaCHfu5/in/k92J/0m+cMMz1/zPx+8T+1B7LOGCu/+LfOdu/++Mc/k/8b/T/wd73qR1W9q+qdf6p6qGLX7SOB670X7iwrAk96e9RE7rR36kmdKNf1X1RfdS4JvSiP9Kc1AQta0Iv+nvVhC70d6wJXejvWBO61m9QE1ror87rg9Z/1foHrf9q9dfux7niiKUb/geu/261a1QLDVD/1eiPNA9W/9XoZ1/ejIs0HhO08H/Wdm0pDHSaC7rWvnQ7JvnUSWvaOUummJlpko/hIAdLXx9L/dZgWw8nL+m3HOAnLnvoF3/4e2L/xgldjqs46qFfgnmG/5YDOl70Uzt2+8A4wZnbv+OAjhf7f/5z4vfaD0a3P53IF/QP5/+1tQ5N+GsO1PuWV4o19/9a/bX7qdyV8+db13nRX6qJWtaEj6C/ZU3oRb9wa1wTetG/Ww81vvDLi36y/24fNKwJXOjvWBO60H+lJmo5NvII+lvWhK31V+f1Qeu/av2D1n+1+mv3kzrhoDrYC/8l/Y9c/5V0Zev6weq/Wv27tc+D13+1+oet/26IU8JAw3r35vip/DH1V7Zty/GZm9ub9DfF9y538q2DfHTn1t9PC3dUy0K21FGtk1zu2KRZF67SB6fTYg1MD/10pT7p57vW9KDvDPqZifeXgdz3fDffZJN81rbmftfLHvwvKnHoOEAXP3w2vpu1i/4kEZE9JMEb+0AP/ez3xH8uBqbFhOb16Pc99VPOZ/2SAwezf22tk9MvPnE6La2YaG3/Wv21+z0a/7W6etWEXuzfqyb0op+55txgVRN60c+xzrom9KK/V03oRn+nmtCLfvZ765rQm37rmrC1/tq8Pmr9V6u/tk7iPHnU0pP99ViA8NB4TNCL/lHrv1r+mWfOA6PUf7X6R63/avWPWv8x1zVLZqDXXFC2jWqsNh2D4Rhtfc6SbWemfqb9KL53meTTjeSO6mXY1klOa917vxY4lwkfa2A86KfJDb6LYRb9YnMa6OY7W4wHuDkI7HHZaj0Hc2tb5/T04H92/Rs7KP/XJzqb/XYS2Vv262F/KeT1o2kLxcRb9F37rrl+ZevoCk2lP1rfwOa6Tyz179Y6qk8i/vfWH9gnLvQnenb7KdlP2/He9x71kxapCR58kEfb5Sa7KvZb1gme7C82N6wJvejvVRNBv93j8e/1/ygnHpwDvNi/V03oQr+K9VHtZ1ATWurfzetKf8T63voDfcCF/kTPTXEi+a6uN2ree9S/y8kbteb6w6t+qzFBT/pHr/9KXM9Q/0F/udZkBopzQZk7vtO/NOH8QbXET3wDDZ1Hq4vKORbq7RQL5PVHdeOBXq/+ToiPQ+en0vad4/DxrJernk+fPi3WB9bH444qGrZBcuM2WAd5Pq5eakCiIq+hbj6+N/1RkT+qflW809UBktwnm+STgEpBNLm7lflsvezBP5/QU9KJ/pOvw/9y9tCf2lTHv/RqmXTfoz/30K/1UoGyPod9los89gZuVEy0zAGW9t+tdfb65P+dFo4VreoCF/qTPL/bT8l+R8QCj/pJVxQj9MUAB/fBI+hvGQ/c6Ffxz7Im9KJf805tWl8GNaEX/RznrWtCL/rTWK55aFkTetGv9VrWhC7079U/Kia2ygGW+nfz+p7+weq/Xf1JTTNq/Ver/5b9aN+3vFzwn9Gg42Er36d+c6NfxbpR678S19reZJP1NVj9V9I/Q/13LU4JA3uP61R5UhjJjJtJ/mCO9FL99rX9pD36+5lJvrQt62d1nGu6W25f24JJvrclySMMxA5OEx38+LIjfrfmNwiCmv2O3kc0swPR41uNH1VImnro5+DCA7eY5Lsk9cZ3LeQY7mH/DfvsA5dly0GNtA966I/aoIrblndsRMdUJxW99OcKCI4He21tsd5c/469JQaqIqqF3vQ3LfVz3N9c0KSK19T3OVa08g0X+pU/kn12+ynZL7XlPZ896icdbPfWNaEn/aKZ86FBTehFPzPPOUDiYeNzAi/6c/mQ2kavVrGP/MyL/g377AONa0Iv+qPYvVMjRPsclAs86c/5AMeDFtrd8L9jb4mBDWtCS/tTf4uf67g+Sf23qz/xZc6Fmzo52e8In3Bh/4yuLCeZ/d7aB570i2bOfYPVfyX+mXmO9xL7dJwY2P653Eds0muU+q9k/w377AMD1X/XYpUwsDNBJj7y5zBnoS+Q57ET3o/Yob+Eo+PKb7M/qZrj42XeQXxOH7+Qm6uO08Bnr/Wj3r76ECb5AjC6c6zeR6BMMslFfZsNagZJPbUrOUG6ruVnCSQcbCa8ky/tXx2oWw9qpse2tn/0GAp1+zj1wRqQG//RcHf9SdKT5Nvwf8dSzfqzuf0v+vceE2B9oUMP/TrnMfN6adkHlvpFty4iiQfl+1yoMqOcJ1ud6LjQn8SE3X5K9uM+esvStf6Gg5vcZ570M+vUJnk1rgk96O9ZE3rQzyzqpVVN6EK/GnDQjxSyqAld6E/iumVN6El/j5rQi37J+Tr2q/etasIu+tO8Plv9l+pP/F9YSOvkZD+dL+5978L+iS7Rf6Wf7tWsv+dJ/zT1X2LX6eq/RL/mkd8PXf+l+iep/9i2e0up+3JxX/URxazci2sEjp/RmEmaY9XvvXWSr3icJLbvaW+1fu0nTPLZTvJoYwrUxgP7ug2WSV4fV7+PArrxYL+1fm3zXKCidXw1j+6jVu+t9e/p0P2SDnTvfeeI9T30czGb2pnXR0mjcZLooV/sphKtxVWbclzVpz30s51J83rnNj07/A+hcOFiJdfeo9f10E8a0gEt+qNx/l/WUf1fbJwWsaoATW3PrKSx4igOLO2/q1/548oG+0LaT8l+R/SBN/06D7ayue43b/q5bVY1oQf92ubUntyrFQse9LPN06Xul1Y5wYv+vTjP61vVhF70i+2Na0Iv+tnO1jWhF/1k/x41oZV+Hcs2sXyC+q+oP6nrautEiRnJ929Z78L+qv239NMtOvf29aaf2zla/Veyq95G9si9NjFDMcN9ds/Sq/1Ji+6XR6//tJacLTn/p9t4/Qj13zU+pY9y5/26LtzxER474fwR9ZnKscwS75f6W2SDzPdYB3//2nF4/x7LVRsm+fpM8gnQxpM6KWhWQT49bvpZ9wc7a7pPi8/W+rXONLjw5yjIHJTM9/rOWv9eO3S/cBDe2/fI9T307yVuXj+L/eUKtvTKpsbMa37M7V8oGmazv7aD3M2m7nCOtjdiwtL+XBRuJrRVARv5vlrfKie60J/Ydrefkv2O4MOTfp0DIw4a6Oa+86Sf28RL3R8j8691kj1yr1Y8PIr9W9WEXvRz7o8GDNQTT2axv3VN6ML+HWtCF/r38hv3S8Oa0EK/ju9ZP1Z1XrRdrX/k/HdVf2L/0eq/Wv21+3F9dMTSBf+J/VmX7o+R+dc6yR65VxQXdvqL++2W5aPY/5HrP23fPTvOUP9d41L66cok37VYwPkjqqW5llA3EUmfK5/b2CfzPdZRexzev8dyjSWY5LOf5BOYO0/wEXQWQT6CmwpXegTT5Vm567Z/xo/vbBXQo3ZcEqW5/kyClhPbhiczOe20zlz/xf58izS1IbpqKxfgM322p+fW9eb60yuU0udBG0949dDPNuIku5n0aGhvPjYvzfWrokEXFBIDjHOCuf6Lv39Wj6bW/h8VZgYcWOrnojDHu/iCygFyZbtax9wetfSiX+sp9ZPe74j3XvT3qgld6O9YE7rQn4lzkg8a+j75jwv9HWtCF/o71oRe9HMslzxodB7gQn/HmtCF/o41YWv9tXlduFfxfoT6r1Y/+z8tR6r/avXX7qf76Yj3LvgfuP67166j1H9V+geu/6r0T1L/XYtX0lc7tZ/kSH4C1uW86eOfz3MK61OxVP6IxpJUjbXOL/DnnWNJW3m/zLgs56nicTLndvLbBtsovp+6TPKpjlsboWZS6fPokzwCa6Kb+2Jo/RTQd3ST/shhjJzA0ulyx7JK6LljU5/n1jdbd8X+luyTRnP9xHQh/s3CvzBvPKmVct3D/sX4r07y07a2+NxDPxdHdOzoZazdxP8Lvk7aOd5pf4j6pLF/0LFacCW/Wam/FBN1P8nvHlQbeNFfjAmKkyH1X6kJWuZEL/ZP7SrxoHFMdKH/iv05RqZ9dMRnF/o71oRu9Ov/Jm+c8zQ3XvQX43/DGOBFf6+asLX+ol1VXpd4n9bEjX3Bi/5R679a+9fup2PXEe9d2P9K/n/k+u9eu0o8aBj7iZ9HsP8j13/V9i+cJz8y/7fEKJnkS3PgxQfEJ9Lt9Fn5CdcSUb+p/mWesrb5w2l5/+d4TCTdj+8krD3OLX1w9L7k35jkaz3IlRmMSqFZDaHAZQiPNnju91oH+dwxF7pzj/9356Kb7u7Td3dlv5fpy7fu10V/okOClwpUb9VV+/0u+nP2T67OqG3/W/frov9y5WrkA5Rc9N2tCSNv1bn3/V76JQZ2YF73RRf99B986j/oqA1UpLzr4AM99K937un434l94qC5flVcrnZWeZ4+61yf65fojvcGMcGN/hv6SfvvW9970S/xMOGDmdGcvFWz/r4X/b1qQjf6E9+2qgnd6O9UE7rR36km9KRfYqBhTehGf6ea0Iv+XO1jcT7UWr8wXZHXc33w6PVftf5B679a/bX76drtiPdu+M/lf4MxQTf6B63/qrnO2d9gPMST/Sn+W48JttZ/S4y6NslHv7XJkXRjUMJJ1eTblQsLdO2xHlPlb56nqDpO4te39McR+5J9+0zydRauO88T5LpdVu+hP561t+p3L8eB/WF/Lyz2aAf4B/89uPNyTPAP/r2w2KMd4B/89+DOyzHBP/j3wmKPdoB/8N+DOy/HBP/g3wuLPdoB/ufknycUaYJQuFMTzdFdgI7mq6StlW0ivjHJ1+FOvlsN1XJ/BDnl5JWO09Ie1r8N+8P+1sx5Oh74B/+eeLRuC/gH/9bMeToe+Af/nni0bgv4B//WzHk6HvgH/554tG4L+Af/1sx5Oh74n5N/nuQj++de/EhOT6ze05ZVW5f/5HM0mQInn9PJ2WFgf9ifWZhxCf7B/4zcs2bwD/6ZhRmX4B/8z8g9awb/4J9ZmHEJ/sH/jNyzZvAP/pmFGZfgH/zPyD1ppom+d8kkH93Zx4/jHKFfyL9xJx/u5Au3qzqafLVyMCQ5JDkr1jweB/yDf49cWrUJ/IN/K9Y8Hgf8g3+PXFq1CfyDfyvWPB4H/IN/j1xatQn8g38r1jweB/yDf49cok3HcEn+jUk+TPJhkm/CyU0OokjyxwRT7s9HW8L+sP+jMXtke8E/+D+Sp0f7LfAP/h+N2SPbC/7B/5E8PdpvgX/w/2jMHtle8A/+j+Tp0X4L/IP/R2MW7a1nlvx7neRb3yS3LWJd/lmt6Bf0CxgAA2AADIABMAAGwAAYAANgAAyAATAABsAAGAADYAAMgAEwAAbAQHcG6D/5vnz5Mu2LDAD9sP+sDIB/+P+s7JNu8A/+wT/y/6wMIP4h/s3KPvI/6h/EP8Q/xD/Uf7MygPiH+Dcr+6j/UP+Nzj7F9/VOvtGFlvQhySHJlfgYfRv4B/+jM17SB/7Bf4mP0beBf/A/OuMlfeAf/Jf4GH0b+Af/ozNe0gf+wX+Jj9G3gX/wPzrjJX3gf27+S2yMsI34xiQf7uTDnYy4k3VaBpDk507ysD/sP0Ixd68G8A/+72VnhO+Bf/A/Asf3agD/4P9edkb4HvgH/yNwfK8G8A/+72VnhO+B/7n5H4HhkgbiG5N8mOSbdoKHnANBfu4gD/vD/qUkOfo28A/+R2e8pA/8g/8SH6NvA//gf3TGS/rAP/gv8TH6NvAP/kdnvKQP/IP/Eh+jb5ud/xnsi0k+TPJhkg938k3LwOxJDvpR5I5e6JT0gX/wX+Jj9G3gH/yPznhJH/gH/yU+Rt8G/sH/6IyX9IF/8F/iY/Rt4B/8j874zPrIvzHJh0m+aSd4yPmR5JDkZk8C0I8/np+VAcR/xP9Z2Sfd4B/8g3/k/1kZQPxD/JuVfeR/1D+If4h/iH+o/2ZmYGTtFN8xyYdJPkzy4U6+aRlAkYsid+Qkf00b+Af/1xgZeTv4B/8j831NG/gH/9cYGXk7+Af/I/N9TRv4B//XGBl5O/gH/yPzfU3bo/H/+uFpvTD19PRheZ143P6aXXk72bffJN/rh+X56XQ2GDXk9LQ8f3g1n2zoCfnri+qD5xdz7QRCH/2vy8uH5+VptfuZgaen5+Xl1f6Kii76X1+Xl+enSP/p6Xn5MIt+FZypH9ZARCx0CNw97P/yrONe/P75xdYHeujnBPT68rw8dc4B5vpfP8R+r2Lg2Q+eTOOAuf6L7+ds//T8Yl64udH/9LQ8v4xb/1TVOh1qQiv7V+n/8mWp3Y9j6FuXfvT3qQnd6O9UE7rR36km9KK/V03oRT/HsVxd0HJcwIX+jjWhC/0da0LX+g1qwvb6b8jrQ9Z/N+gfsv6r1V+737HjI274H7b+u92ulmOCXuw/av0nug6a38Ak323xj/juM8lHg7ubwc3LZI/xRF97J88Y5fUlmeA8LaeDnIBPlmqX9vpflw/RwL6e5HheXtTJfq2Gt+znS7/tAD/1m71+5Q8vz2GCD5N8a1/MMsknyT/NA8Zx0Jz/jgM6uThprp9OZPlqrNT29Hl0+1/RP5z/19Y6nWrC5vzX6q/d7+D6yIf+fjWhf/1ta0If+vvVhF7079ZDp9PSMid40U+1yW4fNKwJXOjvWBO60H+lJmpZEz6C/sf1/xvy+pD13w36h6z/avXX7qfqhIPq4Lb+X6urtN8j138lXTtjvcZjgj7sX6h9Hrz+k5ruoBpOxo463BCSGz/zvo747jDJpxxfDEV3NvFkz47zHxTUU6O0dfJ8UlpBpTu3Xl7ChNdBTpDqu/bZXj/ZX9+1oHg4nZan4Sd5aYL3rJ9vN5bANYV+9omX5Xkd5H9anvluPokHvE/7pT3/IaFbs56LBT30f5FCTseBL8uX19fl1fhu1i76M7lM8p+xD9jrZ7+nWB/u3AsxcPT8H/TT4NU5B6gcOJj962qdnH6bmrA1/3X6LxPfHWpCH/r71YQ+9PerCX3o5zqPY6NdTehFP+d/65rQi/5eNaEb/Z1qQh/62e/ta0Jv+q1rwrb6a/P6qPVfrf5R679a/bX7cZ1w3NIH/6PWf7falfPAKPVfvf5R6z/WddSFOjJOZDxOIsftNE+TG7utWUfxzX6ST121Fl2htLc+U/zWiKvdp22Qv5aMKAhcJjc7wdNX/7l/xIGmmuRSbCj2RzvJ3/NDsTkNdPOdPcaBm9rWg39OfNa2ztkC+h08k175f5QTG+e+PvxzIZ/coSATv4NP8omtkys0RX+yvjEDdv5fqHWkTxIm9tYf2Ccu9Ed6Cv0U7afqhzes96fftib0qv+LYr9lneBJv9SBhjWhF/29akLot6r/bozryv9b1oQ+7N+vJnShX2yd1H4GNaGd/kJeF/0j138F/VH9dmOciL57e03owv4ZDVILNB4T9Kp/vPrvOv9i8yHrv7L+Ues/1hUm+Ti+Ua57XT7wDR7k58/p/+yd/9aKfJRetP1lb6z4yqOe6THw59/ROVbXHeW/StFshnFU1rJ9ApXsr8e0r7Qx/O7tcXzvu6vmT58+2f4XXLazSZTu8ONE7onn9dQJ/N5+uQ+JVVv66j/bWQJB41uTc33aX7++Y0EHIBsf6KJfivrzgH42IGYKv5z93rquh37NOx1/fUV3t9rYnvrOXn+I80/PyX/ydfhfTnv9W9sGHmwnuPrYP9zJev4f3pf1f8j48d0tB7RzscLc/nv1j8RE2xxgp79Q6+z1iUFN6EJ/lOsK/RTtt40jOb6vrfOn/6wrxMRk4O/gPvCp364mdKNf4p9tTehFv+ad2rS+DGpCH/r71YQ+9G9jeeChbU3oRX/Q+7Q80xMeXsJ/V7esCV3o36t/JCa2qwnt9Bfy+p7+oeq/gv6ophm1/qvVf9t+1+rba9td8B/Zn/SPWP9dsavEulHrv7L+kP8utR/VgAPUf6JLbmJS8Y3rXL2U/fQ4keoT3ldPnkn+2O4Xagd13Msxbhl3ln1V+yi2yPqTrtPCseT4VW08M3ItZt2yneKb/Z18IlZ3ColThb7hIxutg3xsoABDmOk+3tDxMePf76s/tvtJO+4m8cXtLmm6ZVsf/YH11QnJEelRXcaPKqR+stcfmOcrVCVQTmJ/SXycsNRSksKw/GfYV/pPUbJs4/M6Ptjzn2iS4tb+UcV9/J/0x1docQx8filfTaXtdtR7c/vv2Pv1Q+5Ks4SVBjHBTn+I+5tap2NN6EJ/ZNdCP0X7HcOGP/2kS+WIxjWBH/1KM+dDg5rQh/7AvHVN6EN/eUCjZU3oQ3+GffaBdZmOFRwT+2zrn8D4Jv+lcX2nRjiq5tG/48P+ZM8+NaEL/Tv2tqgJ7fQX8voU9V9Bf+T/N8SJ6Hv3xUQX9t/oUPlgmPrvmv2VZs59Q9V/Jf2B+XHrv5L+ces/GeuUybFga7rI+8M65qMmtcXflT/w35qoPBnmCsLvPat5I7pz73zhuKodJc/QccNFRMycrovS9zJGLTou8Va1SX5H1vHFOTe0cRMLL8e5cz3Fd0zy4U4+H3cyksNPMcmVBHtO6LQ0SOpp8LIt8tSVDxLM8+vSdrb6bK0/p0NftRqS19uCe+44uXXm+iUB0u33/J9kX5ZwO33bOzfSPjDXnyRrKYKMJze5H/rojx/TQG04v+xzgL3+UPAF3ayflrZ9YKdf6U4LZSm+VUG++kko9FsNdLvQH8WEQj9F+x2TH1zrN/AFP/oD69QmeTWuCT3olxPoDjWhB/2ci/XSqiZ0ob9jTehCfxLXLWtCP/r71IQ+9Kucr2O/vG9XE3bRn+b12eq/VH/k/4qFtE6O9nvg+q9Wf3G/0fRPVP8ldp2u/kv067qP349S/0ktI7EsxLfonD7NAfI5zn0bVlTtSLls+9LfD8eW/aRdaTzJ7Lv5fRqvUPtdfuttbUzb8bbPq048rhOP6+TAYrtUs/cdHtPJWskJ+H2vZRTQjQf7rfVL0N8EzBCg5YqIBkVtamNr/enx+XPol3Sg+21Bnn9/b2mvPxSzsZ3D+ij5N2bAXr+ypy5QdosNtX+DvrDXH+xMV7S/kqbXl/DftBUF8B7L96y310/2TAe06I/GM1eeNbB32kd2+rfFsLRlp6DXd3TFseI4n3ChP7JzoZ+i/Y7pA1/67WtCX/qDTa1qQg/6Q+0TakBql37N4/+BgdAv7WpCD/bfj/OhVmhVE/rQH2yu/4vp6h1/B+QDH/qDna1rQh/6yf59akIb/Vfy+vD13xX9kR+PWP/V6q/dT8XLqO9uX++C/4yGseq/sl1DnRPXfGQbfj12/VfWL+fBCQehXx63/hMNMr4V4ltU00kOuGhNP1/65s0TaPK7Z7b2uQrtZAa3y3NbpU2XsXvWLPr0OJ9iOvyenoi8PYbt8UPr12OYT/IpwVEHy/p2gnOdQZ2QW2+zToEkTnCska/p6KWfHYGOH3GQBLpr7X/r9l7603aH/hib/6AzJHCygX5Z8uDP/u0SesocfbbXH07oJQmuPh/Wz2L/UBzY+rzmwNz+UmSlnM9nf22HL9wv6m6WaHujvGhn/0KtI7VfUgvI+nb+4UJ/ZNtCP0X7HVMnetKvawOrHOBJf+rvoT/G5j/ojOtAsg2/WvHwGPZPc+Uxvk+8+dAfcr91TehDf7CndU3oQj/XPpsLXAMXM/q/RU1oYX8d37N2lDpvzPrvqv6orhuv/qvVX7tfWie95bML/iP7h1wQ+uOx67+gI/Hvi269neyRe2Xjxk6/3cLDY9j/ces/sa3Mb4T4FtV6aQ0gn2P2pT7icRLJHfF+eQbCsYUx/p0rLMlxRUfw03BhFj0GlGsW1Z6b2qh+90qb8hrj7686zSf5sv+3QVcxXZy7stNrBNbsY+Hk++1Q0L+BwCUAACAASURBVOXgOcDI+8c+w9BDvzh+5wk+6htz/eTw9Agm/f9Trx+WZ0lu7QJ6jgVz/RmmJYAa+35P+7+8hv8fi67aMo4DPewf/P95ebk8olcYmOJOLoq9XAycFosrtnO+34V/Kd6o4Fc+IP9Jlz8R2Gv/W9f34P/15WV5VY+m1v4fFb6ZWPlWven37fSXah3lC5IDbGpCH/p1YV7qJ73fMe+96A85YVT/L9i1Y03oxf5pXJJ6QOLBMbynx3Gh/2L/HjWhC/1f9H/S2NaEXvSfuVR50Og8wIX+jjWhC/1f6O8K+tSErfXX5XXFvcT7Meq/Ov06txXqhAbnAz7sr+P/WPVflf0Hrv+q9Ge4HqX+q9I/cP0n+qWeCfEtGuuQGuAy/k19chkTp7/1WesjtS78rZHKHfxkqJWn1+Xlw/PyJPkk+VsoOd5pidqRYZGOLTxyW6L9lKanp/MktTpuOta3Pr1qp43p+clbP1N8t/9PPt1hMrERZu9bzdjvdVbrJJc9rgJsNULUD6NP8iinjHQzA4Pr14Eqo78m4GSZioKOLhrL77vwn7RVAmgUGMvtPqoPzPUX7W/LPvWhuX6yfSH+zcK/MN/5Qgd7+1+J/8YxwF5/KAjp2NHLWLuJ/xd8/aSu3Nf+EPVJY/9obv9K/aWYqPvpqLzHv+ND/5WYoDjhdh+1dKG/WBPUnYTe2x8u9Cf1IGmReNA4JrrQX7R/25rQhf6ONaEb/Zr5xjlPxwof+q/E/4YxwIf+fjVhW/1X7KryusT7tCZu7Ate9I9Z/9Xav3a/48eEXNi/mP8fuf67364SDxrGfsqD/u3/2PXf3ZN80YVfyTgJ5QjFhbCSyR1hv8AizzFJ21Qe0rWRfi/HyE7yqfOVSxvScUz5frGNbeJbl0k+6rzXF5plVcZL727KnPjpTj/qfVsn3zFa7cCPQR/Y6w/ORsfevtoGtZQbe/3n/6B65hl/DgpPdAVruLMlbWerz130J1xLAFSBu5Xe9He76H99WWL7Py10tUq4wmMnbiT9lmq553MX/Wv8/7A8R/H/Kbqz6x4t93ynj34VAzswr/upi376D77nJ7lSi9pweurjAz30b2ufPuwTB83131DrbPslueP9EeNfrf7a/Q7uAx/2V/HQuCb0ob9fTehGf8K1VU3oRn+nmtCN/k41oR/9KgYa1oRu9HeqCb3o39Y+NjVhW/2K6Yq8vu2DR6//btA/ZP1Xq792v+PHRdzwv8n/p/WJX63HBN3oH7L+u4Hrjf1txkPa2l/doSuTY+GClmgiTOKfHv+P/6f26fnD8soT4kmNtMkdp7j/8ucTwT5RWxIWaZxEvi86kljE7VrznHpUp/qta23U43JHvSf7dpvkO0rEW3+nNeRvbV/r70N/z/9kTAKFCgit7c6/D/vD/szCjEvwD/5n5J41g3/wzyzMuAT/4H9G7lkz+Af/zMKMS/AP/mfknjWDf/DPLMy4BP9z8z8688Q3JvlOc0OOIAf7jx7oSvrAP/gv8TH6NvAP/kdnvKQP/IP/Eh+jbwP/4H90xkv6wD/4L/Ex+jbwD/5HZ7ykD/yD/xIfo2+bnf8Z7ItJPkzynf/UssNdZB4cbPYgB/0ocjz4Ya82gH/w34s9D8cF/+DfA4e92gD+wX8v9jwcF/yDfw8c9moD+Af/vdjzcFzwD/49cNirDeB/bv57cWd1XOIbk3yY5MMk36QTnBRokOTmTnKwP+xvVXB4PA74B/8eubRqE/gH/1aseTwO+Af/Hrm0ahP4B/9WrHk8DvgH/x65tGoT+Af/VqzhOPZ/z0X+jUk+TPJhkg+TfNMygCIHRc7MxQf4B//g37749tLn8H/4vxcWe7QD/IP/Htx5OSb4B/9eWOzRDvAP/ntw5+WY4B/8e2ER7Th+HIL8e53kW9/QB7zQB2AADIABMAAGwAAYAANgAAyAATAABsAAGAADYAAMgAEwAAbAABgAA2DAPwOfPn1a/vd//532RROb0A/7z8oA+If/z8o+6Qb/4B/8I//PygDiH+LfrOwj/6P+QfxD/EP8Q/03KwOIf4h/s7KP+g/13+jsU3xf7+QbXWhJH5IcklyJj9G3gX/wPzrjJX3gH/yX+Bh9G/gH/6MzXtIH/sF/iY/Rt4F/8D864yV94B/8l/gYfRv4B/+jM17SB/7n5r/ExgjbiG9M8uFOPtzJiDtZp2UASX7uJA/7w/4jFHP3agD/4P9edkb4HvgH/yNwfK8G8A/+72VnhO+Bf/A/Asf3agD/4P9edkb4Hvifm/8RGC5pIL4xyYdJvmkneMg5EOTnDvKwP+xfSpKjbwP/4H90xkv6wD/4L/Ex+jbwD/5HZ7ykD/yD/xIfo28D/+B/dMZL+sA/+C/xMfq22fmfwb6Y5MMkHyb5cCfftAzMnuSgH0Xu6IVOSR/4B/8lPkbfBv7B/+iMl/SBf/Bf4mP0beAf/I/OeEkf+Af/JT5G3wb+wf/ojM+sj/wbk3yY5Jt2goecH0kOSW72JAD9+OP5WRlA/Ef8n5V90g3+wT/4R/6flQHEP8S/WdlH/kf9g/iH+If4h/pvZgZG1k7xHZN8mOTDJB/u5JuWARS5KHJHTvLXtIF/8H+NkZG3g3/wPzLf17SBf/B/jZGRt4N/8D8y39e0gX/wf42RkbeDf/A/Mt/XtM3O/7X+efTtZN9Ok3z/Xn758fvlG2rA5fXNt98vv/zHfkZ9dsh76v/lTxf7/+kfy2+dJtp66vcQQHrqh/3t413KXE/7p23p8Rn6UeRbcicxT9U+xODp2++Xv/3r3+YXW4B/8G/Jv7djgX/w34vJX378+nz+++1fcf6D8z/z3E/c94t//17+9q0a//nRvvbpq/+/i9SCGP/own5v+/fKO/q4/fy//9gH7N8z/sP+2g97vffr/+3miDzkXSt7k327TPJJJ6cDXX/6h3my9wu5TRDsp//fKHI7ndjqAAP7Y5BL8zDb+37828T3a/aEflv/3619LrXQD/+y5QL2t7X/NX+03g77w/7WzHk6Xk/+Mclnm+ty3PW0f6491uu66f/PX6OLvE+dJrq76f8/jH9Ys547Xj/794991B/Qj/ov5xezrAP/PvnfHSfRc0T/+v5yk9j3yy/VY+k+8q6VfxHf9pN8qrj7Rq7euszaagNWG+1tyRJO7tPJLZ3A6lgejwP+wb9HLq3aBP7BvxVrdBwpXvWg1n/+sfzAFzzp9QY1EPgH/5b8ezsW+Af/3pi0bA/4B/+WvPGxuA765kee7Pt6+Rue5ISL3A1qXmaQloh/iH+ah9neg3/w74752jmiuyb53jZf5K6vruRL8u+uk3zWV63nDNQryHGR+8O/wmMrwqSnHYi99JMtuA9OHSZ3mQV7/WxvOqn59/K3P10e2XM6Ld/8yf6xPfb6A9vz2Z9tf1pS5n/r9OimHvb/7V9/XX74NnBPbejBPsWAHvrX2EMTO7oP6HGNkwxyzGx/iXnJZN7ees5TrZY9+J/P/hz3Kef/I8n59PQKusjta7mzwTIWwv7WJ/mahRnrv3BBgz7/m6n+4VjeSzMfn5bwf/i/5sHmPceAyznw5bGdGP8I58Y2drD2//guCq2xVyxE/EP80xzavI/rPmJQXsZjoeDfmv9zjOfz/ZnH/3d9TU3y6XMEvT/3n/jN6kPhQiHenutf3hbGYG85J/Pju7o/9t6v/fPp0yfjq4e4wKPA9vXyw4/9/o+NOqZHkKPjCmgdA3xP/VEfGCc2Oja/7O3PAUUl9o4M2OsPfS8+MJH95WTmpG8xD0xYn+ja21/H/8QHOnBgr5/43+mDZOKHY1TLpb3+He0UAyewv8Q8bWt9J59xH8D+Fid5Ib5Tf1e9jDiA/S3sH2oemtDV/0W1YcHI7pxTetpfn8BLXaTjoqrTub1HL+31BxZ6adZ9aK9/7vwP///v8j++Av/i6z39wJ7/4P9SCxrH/J7+L7bG+e+2DuzAgT3/s9c/s+ufPf+f47/Efn0+OIX/h/yn81D8XjOSnyPK9t9pO8lH8U1el/6V70p/1/pk7X41Gm32WbXbT/L9d/mNizxlgG86/fmwfZLbOjnNNseQ2wBAx+yln469dTY73dzf9vp1oPh6+dtqe3WF20SDHFPaP3eViqwLSYr5bL3swf8vP/51+eU/Ieb99uM9z9Y+JlbY6//v8j+xd5jopbubvjH2fWLLXj/dtTSv/SXmqdqHbLC+YP8bnq3/SP6f5Pz1jl297rSca0D7OgD+33OSb8b6L5zAY5Lv8jSDDnGf60r4P/yfWbBacg0kFzRKPTzD+U+oW7gfelzcxra29/9M/J/K/nOf/8QXOUxY/wjr3y+/XJ7cIxPfMukQYgT7aaulvf/Pzv/ZthL7T3zuZ2dzzZK9/et0Vs0RyTxSGEdjbaX+lW3ib/pcvBCTnPkuay0tyb72j+vkqzOTxxatjelwstML8i1odfCXDHrPtl76qa0e+sBefwgocpJDPlEIWPfYtfY79voD57Pbn0/upMibJf5dYv83PLkhy22yruX43v268C/Fwmk5fZu/UulePbd+r4/+8yMLZ7S/xDxhPkzw1f95dIiht9o73R/2txjkzed8YUFONuzrANjfwv7aX/MszFP/ZQZ5/++/S68aqAv/l3PgXpp1Duiif+r6D/5//v9hPaG30yc8VtRw2YX/i55s/m+oVfs9v++hP9XdMw720P8/xL/1osYpx7/k3H/WST66yHne83+Ou2kM5PXWyy7xrzbHXTihNspLj5EWxsxL/bvdtlN/pL/vzHdrWFn7rcedfFHj1v8lC0bUV3dG+9WCceN+vSDfgqYHAuze99JPtvXQB/b6KwPKjRzf6yv2+gPbc9pfDWhdHlnC/RAVvcPaPwzyEXvxa5JJPrLtv76X/+DiPoD9x7c/+/qJi1UpHOd4XOnuo2rXWDCq/fM5X1iYapJv9vifZwGTfH3uautZ//Yc3ObzBXv98H9+XG9U76UDSqPW/6Izrf0vn7kuGlW/0pXN/2o7+2jLpb3/6wuZaKJ3Jx8a9YO9fsS/qeNf4XHt1mPfFFfAv/VFfufxTw+xv4/9w/hvdV7bmyOSWmI7blDq3+22nRy0+f2wH/mNfvXw3Zr+W9vYfZJvTeYh8UWFr0Gitw9ycHKGc+tsdwSANzJib/8QKCLWNwHFpi/s9Qddc9pfP66Rbg3n2KevbA19xL7Samluf+Fc6ZV122TdSjf/rrn+JF79Fl2tpPok2Y/be/TSXL/YWmmVdePbX2KeGsySwV71TPmj7bz3e7C/xUlePucLCzNN8omvz+n/+nFVc9Z/XO/QY4pCnSMxUMXFvZh15Hrz+Kfyei/Nuv/M9cP/5T85Z/R/yXnJIBlxyC8dFzSrLd6b86/8X/pC53+1vYXe9Df76A854Jsf/7ps7+wMeSFt79GfzfUj/k0d/8JFjl+ri3y/vjyu34579iPwb3H+t7Wrh9hPDJjb/+78pnPG5a9+JJZux41K/bvdlj8/3154yW3w4bvsw6Ul2df+cZ10B8O34VZlaqB+/qplgdcT8i1o20BQMt5R23o6uYc+sNdfG1BseLDXH3TNaX/Srxj4ts8V7Bw/zO2vE/Plv6mEg+jP2AMn3NYWS3P9VOSsOZD+l441cvEQD3y20Jv+prn+ye0vrEeD2cH+/Ajf1E6tPsP+Fid5Kt7/GP6LVFjQg3zaP+4+IeK4cn0J+1vYX9shz8L2hFJ/p917c/ur2odi3W/EuL6bOYqL7XRzPLXXHzTNPcnHYwDqf0inqP9m9v9Q52zHecI2yxqop/9n879BzufYR8te+iX28eSucdznPjDXr+u7Kc9/Z45/6i5WXfMb+zyz38X/p+f/XP95iP1d7F/Deu0ckbCkLhi9/H6pf7fbKmMSH8+J72o/3ntP+c18km+T3DnJ07JD55kn+QoI9wzWYn0v/aRl62zhBLiF1txv2uuvDCg1wfCAfez1BxvPaf+z/jQORlf1HmDXHOu5deb21wN6Ovav77dX5OTafOQ6c/1kWy4WZtQ/uf0l5iWDGrLe+G4+c/6ntH8+54vNdd0rscEmFsL+mOQ7Mp/W/FZa+xCD8kriYs3vvWUfc/5VbSf9YKxZ95e5/injfzjniS7wUxd8hJrQJu4zA5b2F953JnMlH+5s5zYfubTUn7Zb9Or8r+JDun+Lz930J3EA57+UA219n3iyt3++Fp4h/p39V13MENU9Xy8/6HxgFAfM7Z/4PR0/vGbg/1wLeIj9ffxf10L596FO0Gxc3ke5MvWlMNlX6t/tttqYlB7v0qZv+/huTT2w+pb94zr/vfzyI93Npwy4dtLlqk6j4MYdZB7kLvq2oOWB53a2WvbST3o89IG9/tqAYsODvf6ga077X/RHxU5ITq38fO93u9g/+j86elQFP7JlliLvkgNVgZve3b5nr6PXw/62g/wS89KBXRUPLAc8YH8L++dzvrCgT1xGn+Sj+nfq+J9nYZ5BLqp/6O6tyxMMTqflmz/9dfmN418aFxufD3aJfxdNMphhrFnXEF30w//Xgc0ozxvHfWbA0v7ZfKf9W/rA7okWlvq5z3l5tT903zR6309/yIMn4wvbuP9p2UU/4t+U8W/ljuscde5PDPJre4dzGC/T3B71HvxbnP9tbegh9neLf1dzWf0cET0F8hvxH346RHluYdv3IRcVazJnvlsTA9a4Yj/JtwW+prGt9ukS5K5CbtdH0N8nyLfi+dbfhf1h/1uZGWl/8A/+R+L5Vi3gH/zfysxI+4N/8N+L5+1gg915H2sG/+CfWZhxCf778S/xb7aLHDD+t3iJNdb+z8x/oy/s+88/lh8uN71EkwwGnFjr92J3bgf094v/bINHWXrz3Zp+I77NH9dZ0zDLfeDkczs57A/7W8Ybb8cC/+DfG5OW7QH/4N+SN2/HAv/g3xuTlu3pwn9yRbD1wJ7u3y76DQYvtcbSe+hH/CvxMfq2bvyrGIj4Z39xB3Pdzf5OcoC1fp4ooONuX/ZPdLLWz9x5WUL/3Pn/Fg69+W5N29cYgzv55oYcQQ72rwkWo+4D/sH/qGzX6AL/4L+Gk1H3Af/gf1S2a3SB/w786wFuelRpxwFP2L+D/TvaO40JsD/snzJh8VkeVdzhf+i0PvAP/jUP7d+fH1UeHjFIk31fr48s/+U/9pO94B/8t2fenus2mnz5bo1G8m/cyXeCk9fAMuo+SHLgf1S2a3SBf/Bfw8mo+4B/8D8q2zW6wD/4r+Fk1H3AP/gfle0aXeAf/NdwMuo+4B/8j8p2jS7wD/5rOME+jzlRSf6NST5M8rl5PnaPQIIkhyTXgzsvxwT/4N8Liz3aAf7Bfw/uvBwT/IN/Lyz2aAf4B/89uPNyTPAP/r2w2KMd4B/89+DOyzHBP/j3wiLacfxEIvn3Osm3vsk+Izj33GCsQ3+BATAABsAAGAADYAAMgAEwAAbAABgAA2AADIABMAAGwAAYAANgAAyAga4M0H/yLV9+n/ZFnQ/9sP+sDIB/+P+s7JNu8A/+wT/y/6wMIP4h/s3KPvI/6h/EP8Q/xD/Uf7MygPiH+Dcr+6j/UP+Nzj7F9/VOvtGFlvQhySHJlfgYfRv4B/+jM17SB/7Bf4mP0beBf/A/OuMlfeAf/Jf4GH0b+Af/ozNe0gf+wX+Jj9G3gX/wPzrjJX3gf27+S2yMsI34xiQf7uTDnYy4k3VaBpDk507ysD/sP0Ixd68G8A/+72VnhO+Bf/A/Asf3agD/4P9edkb4HvgH/yNwfK8G8A/+72VnhO+B/7n5H4HhkgbiG5N8mOSbdoKHnANBfu4gD/vD/qUkOfo28A/+R2e8pA/8g/8SH6NvA//gf3TGS/rAP/gv8TH6NvAP/kdnvKQP/IP/Eh+jb5ud/xnsi0k+TPJhkg938k3LwOxJDvpR5I5e6JT0gX/wX+Jj9G3gH/yPznhJH/gH/yU+Rt8G/sH/6IyX9IF/8F/iY/Rt4B/8j874zPrIvzHJh0m+aSd4yPmR5JDkZk8C0I8/np+VAcR/xP9Z2Sfd4B/8g3/k/1kZQPxD/JuVfeR/1D+If4h/iH+o/2ZmYGTtFN8xyYdJPkzy4U6+aRlAkYsid+Qkf00b+Af/1xgZeTv4B/8j831NG/gH/9cYGXk7+Af/I/N9TRv4B//XGBl5O/gH/yPzfU3bI/L/+cNX68Wpp6e/LJ8nHru/ZlvaTvY1nuT7dfn44bvlHR348nr39N3y8TU/k/755bvl3VPY93T6ann/4ddDJyRsIa/T//FZa47fv3/J91WNwXP7eNSv2/nx+eLQxEsDp3ap//XXhXRrPzk9fbf8tOMnur9ufe9S/5c6P7lVa25/n/rPPv755S/Le45/zz8fGve4L9zqf1Xa11xxfOynPrDVX2/XTe57+mp5/3Js7nso/aevlnfPPx9e1Lmz/+tf4rivaiVqK9VAR+YBd/pV0b7xgYev/+r8f9z6r04/5yZajlX/Veoftv6r1D9s/Ver/7b9tL/c+t5t/B+4/ktttMlzjWq99Lj0uYf903Zs9Deq9dLjdtdvXOu5029c63nUb1nredSv29S61tPH4vfd459hrcea9bK7fsNaT+vm9/3129V6rFkvLfRLjDtoDBOTfGdmtB333pN9DSf5fl1+4gHrzcDVd8tHlfCpwQJGuu9BoHCnWEB+Pla9/l3tp9PyuJN89frZNsvLdzIZvML60JN8tfpL+x07wEv97I//kv5tnBBWkvhRu96f/t+X5fXnMLnH8e/guMf941I/XdzBupPlu0e+yKPSrlLEJNrJVo8b/+u5Luk/HewHdvxX6jce+HGn/xLHd2ug0e1fqn0n8X/OTWPVf5X+/6VU/zxy/XeE/keu/2r137DfnTWv+Jdp/X+DrlHrv4y9SrXO0bWetju/N83/N+o/utZjzXrZVb9xrad18/uu+o1rPdasl73179a5DWo9rZvf99bP7bCo9eRYKg711W9b6z2W/uNrPX/6b6iJFLM5Hfeus+BfYtxB5+5SMzWYD7i3H71+j+xrPMmn70aIA1w0eCuTO3p/cohfl88H381kAfkZANKr9ezrZ6eI+uSBnfxW/ef9f17er4PcXy3v+W6+Bk7tz/40wXPmhG9FlqB2Oi1HM+FPf72fHBFY/en/fVntTXduvvwcLow4KEGmfeZPv4qL4u90Zyvf0Xxs8Wenv9auHPdOCw1ynGNArk/qr+ZJba4/e9b/7gPrv/Tdmg9Gt3/ersK/+ER+P23bmvf+7P/7Ek74db306PVfrf+HC9yOzvU5Hlzaf611OQ6OUv/V2n/U+q9W/6j1X63++v1y/nzrOn/+n6t1xqj/trbhGGdT622Pb3mRZ65eCfotaj1/+nN9EvJ/iycXpX1g6f/psdfPhmN9ueP31s91vUWt51H/uU0cB9rWev7029Z6/vTb1nr+9NvWer30c4w76qIdGQ8/eCwk1z+Pvo7ym+Ek37agEWMlkxcMhUXi65nkoT88ijO1tfQNDXQ3fAavR/tvAou64i/tp82+N04GP4J+sX8SJ96qnb7vW78a8Hj4Sb7K+K9Yj65k3lt/I+8pM33sX7Cr6Ezu2lAnw4/+uMZF362y4ZpP+JK7FkX/407yBfYK9s/xLEwkfZLb98Z17vhXd7IdnetC/4dYBP09/pPjOv+S84es/67rj1hV/n+0T3jkP9L+5TIQsl7g8cgXuYWYU85/9+ynv3Pbe3f2V6yPW/9dbCRabWq91K/ocx/7M6O2tZ4//dwPailMHF/redRvOdYH/Yqzy3lCX/8/t8eq1vNo/02blP8fXettjtU9/m95FBYajPX51n/jOcGN5/k57bTOwv85xodJPtZKdc+vy098Ew/Z/Dn9n73zX1dRO+lF2z/uzQdcecQ7PRb8/Du63tI1SO3f4XD7zxdn6b4VfvUE5JV26e8f/X7V++nTpyb/9VTTWDF+dGt66PR3z8l/8hX+v6/meLl9qBNy6y3W5fWrK7kuYK+Giu4C3AbHe9vrUf8iie48oJt1nAcKcnu22bN/vL++ilUHp2MYcGn/xLZ1/XRff/jWv59MYkbu006/4U5/NhGTvpAXosGfhJVb+6WP/oJd9/RLTDw2BrjTryZ5zv/B+/NC/03Jj289+sTHo/6U4RD/jp3g7Of/Bf6Vn49b/5X0z1D/lfWPX/9d0R/ltBHrv1v0x/5wZO73Gf90LXdbP6V5o+azu/y3V/+ovHAkA330X2y8p7VRrZfjoat+41rPo/60TS1rvfRY9Lmv/cM5nUWt509/nNvIFuur0VifR/2WtZ5L/Ya1nn/9sT8cmedz2mld3/hnW+vl+sBCv+Q0uaBb1bUc8/RS9ot5kPjI++qJNKml+IlfYRnGjNRxL8e4d25BvnfSYzLh9+WYVe3SHBz7fu2zfpN8IcHHjyVQ69mY0VJ36ts7xALynHPpQetYfxlsgSdKDvf3gz/9wVE4yItDaaceVj/ZMuMD9PjGgx9V2zfJKY1Fu9bud58P+ONf6wi+EK6C0dvf/t6dfkmKaZwPHBwZA/voL9hVBnjiuxY+f8hdhfSo9i/oX+N6fPUW2Yhe719qr7Sq7xd39k/z2g4P+ZqiXjd/35/+4Ods93iZxoXbNbP2fvmvzL+cFEV179kHjox9PvWHvhm3/gsa83k94wND1X/X9GufVn1RrBP1d+rf+4t/uu239JP+Xv17d/qnqP8u9tnJ7a1qPZ33+H0f+2s+7Wo91qyX/fWrvtjhQbf36Pd99avYnql1TtEAquqntEZ+w+e++m3H+nLs9NUf8ptFredPPzGd8YFGtZ5P/dqvVV80qPV86w++kD8n0P103HsL/5fzWZm8U1pPXy0/reM66mJGsb3igf+6RuXIMG8Sfu/9hzBGRHfunS8OV2MGUl/SccPF4xx/coxk16l2yHdlHV+If0O73pDDsu27/B7Z9/jHdUonhplU6QQREsTT1frR5IV0FN2aqf6TR/3u9vfuh/5wCm233gAACnBJREFUyFU71w6O7lLkdhb0Sx/xvr9HdzIEsMP2kpGvbfOmPzehl1t3TVftdm/6z+1WwU0Xvw2Sv0/9zPZtflJrc73fw+iXBMl9c8zSnX6JnyoxrzEx+MSRA93d9W/sqpkPOZTaeX4l+TKTLzTf1977009cx49waKWd+san/uDbUiA3GvBwp3+2+m/j/8H27Lv6Ttbh6r9Ef67Wy63jvnnr0h3/Sa4Lse+0nEas/xL7x/bUufDYvMfH8Wl/jgFKf7GfeP/bl+70P3r9l6vHRBPXcPwoRmVfqe/CPpuxkdxvv3Hd4fbPtWdXP/FqV+uxz+tlf/3BZ1vXelo3v++q37jWY8162VV/xlda1npaN7/vqT9X1+XWcVtbLHvqP+sJ4xrUFnk1qPVy/ddfP8c/nQvb1HoPo79RrddLv+Q10RVsHY3lSZ1wGfuTzzEPmxih8oj4j/alaI4pHFv2lXYxi2opbQi+eZ5/Ur9z+f7b2qWOmckLOdvVrFs1Hn4n326nsAg1Y5udAAtBL57MC+sjMN7YIYcHuTfr536Kl+IoBw/2edMfdAanEme8OG7MRdxPNeDrfbzp123j91HhN7j9WTOd/GkWjrR5OEaPQf5bdG0TiW77Ee/d8S/xM07s+oq3I1mw10/x6ppd04EP+kPyzFVJb8x9xI8//SHP0xVtn0nj68/LT0+cD1IuHi3+19j/okkXr6VC9A0ceLZ/7OeBi8eu/26wv7JryIXpxQ9j8R90sr9vlzEXY+nP5fSx6r9a/m+pk+5nwF/801qu1Ql63/veu9P/6PWfitniy6IpxLIQw+xqPWmPauPh9le/Lcfb1R9yukWtJ+1RbeyrX/msQa3nT3+wf/AH6pOw/shaz59+ZX/FZKiBjq31vOkPOkNcJH/Ur5iLfH/ldNWuc+P/F/u3rPVyfeJDv02t51c/cd2+1uulX/xcxjCC1ii+S52QTvLFcfDNk2lynHOsKcaYZF/yF95f2nEZk2edoknn9CSunWPcsWNZe/Y9/k4+laxyB+WO0J0V77eX4MN67uT4e/clAJMgp/rkuv68jvC9GPi39oE3/UFnnOzPTlHhlKqva/rGm/69Nod+OTYweNUf9Iagutc3b1nvVf9ZU0iGrW7hd6dfJcYozsv6x+b/brtysSGPMsjniVt9wdr+V/Wzzs3FDGPk/6v6Vf4KReSxzGtG3Nl/d4BnPvtrO4V8+Nj13zX+g84x679r+rXN9fvQL8fGAn/+f85rQe9Y9d9t9h+v/ruqX+q8xO6yfgT+r9RuXAMdXOvpeMLv+/j/RT/rNKr1WLNedtVvXOtp3fy+r/5Q08nA6NonYX10Dqj6i9v/1mVf/fk4EHLfsbVerq966g86bWo9b/pz7aF1oV+OzXW54/W0P7cn6E1yfgN/52Py0oP+c1va13qsWS8t9It9757ki/1AxkW4PrqpNlT9zBNv/Du38qaP+8I5S7VVb2/wV1vajnvvyb6mk3xibDUbmmtc2O+75eOlc8Sw0a2X+SSZ+829dRaQ87GDrkIwIzCeSLd+tmx4duzRg/3u9GccTWx/rzNmfpNt4k7/xf7n5xRf+H79y/KeA9LmhOhtPuBOf1TkFPykYFO2bc3So/7QbpWQJEG+zd7ht8+/408/J0t6PNlfzndyrY/0uZwIyLpj+sFSf+j7sl0/v/y8fFZFgb66Lz4ZfnsfuNMvAz/k+yoHyn8SHhsT3OmXuKb8oJHvE48e9Yc6aaz6r8r/B67/qvQL/yG2jVL/VekfuP6r0j9w/Ver//b9gq+E79at8xf/Vd6TWo/udhup/gu2saz1cmz0sf9Fv3Gt506/5DrFfMNaz6N+y1rPnX7jWs+dfuFfxcMPX53v5JPYH7bl2v/WdV3jn3Gtl+urrvqNaz2P+kObymNCYb9j/cHC/hLjJbcFrdF4ltQDl4sbyD8u4970121rH6h1YXwwzp/r05/W2PLr8vHDd8s7FUuic0k53mmJ2pGJS/n+VzqecnGrvl3533+7rcm+hpN8SrBMWOgrONRVK6rz10aq/e8zxn5nWUB+NmClfg2x0n3uB9VH1SDua6d2udOf0RU5Zmb7WxzEnf6i/e8NRvsMuNOv7uQ4M69jBL0/1gf86f99WQrxbwb94u+b+HfsBI9t/Ku1aygcNvyrYuUtMU9/147/Wv1X8uTBfeBP/zlWax9oeTWzS/2F+Pe49V8l/8X8f2zu8xn/trWK+MLBvu9Sf9H+j1z/VfI/bP1Xq/+G/Q44F/IY/8XfR6v/NvayrfV03cfvTe2/0W9b67Fmveyr37bW07r5fXf9hrUea9bLrvqLuf74Wk/r5vdd9W/iwe+LxP4GtR5r1suu+ov2P77W07r5fVf9xrUea9bLvvptaz2tm99b6L97ki+ZBKa2Ri8VIyRupPvQZ9kv1Bs8piJtu3NcOT1uOj6Rbt9rP9vj6OV6vMP/ky8TuM8NDx0cCRWjxEmN7l54L//DQ4b6Krqy/6jOoLYc9Vvl37lB/+vPy3ueGV7756uFZrLDDPV2IKR87P39XepPGBJHEWfd13NrP7jUv7H/aXN356069/b3p/8GP0k42dNYWu9Pv23id6n/y+/L5xe6AkcldfojanVnV8mmt2yz019v1632NrmP+smj/vU/+J6/kqu4qI2U/1vkQJf69clPg5yn/cOnfvL/0eq/ev8n/ser/27Qn+T1Meq/G/Rv7D9C/Verf9T6r1b/DfslfqLjeu17v/F/wPovYy/LWi/HhKn9M/otaz2X+g1rPZ/67Wo9l/o3ub7NeU5OO63r7v9JTGhZ6+X6oLv+jf3b1Xr+9NvWev7029Z6vfTLRBrfjaf+fzCaFJMLPvRcUPyfxe+e/7J85snxZGxkU0ud4liajy2BwagtSVzK9d26jttymaf5ST2Bi79zrV28X4slxTfDO/mOm5g5sjO6B/lamBrtB/1Wk7zg/0i/Peq3wD/4P4qlR/wd8A/+H5Hbo9oM/sH/USw94u+Af/D/iNwe1WbwD/6PYukRfwf8g/9H5PaoNoN/8H8US4/4O7Pz/4g2u6XNZF9M8pndyYdJnlvgtNp39iAH/ShyrHzN43HAP/j3yKVVm8A/+LdizeNxwD/498ilVZvAP/i3Ys3jccA/+PfIpVWbwD/4t2LN43HA/9z8e2TyyDYR35jkwySf0eNKMcl5pPMe9VtIcnMnOdgf9j8qljzi74B/8P+I3B7VZvAP/o9i6RF/B/yD/0fk9qg2g3/wfxRLj/g74B/8PyK3R7UZ/IP/o1jC7/ib4yD/xiQfJvkwydfoUaiPEPSQ5JHkH4HTVm0E/+C/FVuP8LvgH/w/Aqet2gj+wX8rth7hd8E/+H8ETlu1EfyD/1ZsPcLvgn/w/wictmoj+J+b/1Zcefld4huTfJjkwyQfJvmmZQBJfu4kD/vD/l4Ksh7tAP/gvwd3Xo4J/sG/FxZ7tAP8g/8e3Hk5JvgH/15Y7NEO8A/+e3Dn5Zjgf27+vXDYqh3E9zrJt76hD3ihD8AAGAADYAAMgAEwAAbAABgAA2AADIABMAAGwAAYAANgAAyAATAABsCAewb+P/hmxm9IuejMAAAAAElFTkSuQmCC)"
      ],
      "metadata": {
        "id": "ittCH3FEH_4E"
      }
    },
    {
      "cell_type": "code",
      "source": [
        "str1 = 'SrinivasaRamanujanAiyangar'"
      ],
      "metadata": {
        "id": "Jjjet6ftH7Zw"
      },
      "execution_count": null,
      "outputs": []
    },
    {
      "cell_type": "code",
      "source": [
        "str1[::]"
      ],
      "metadata": {
        "id": "neKesgaYINGL"
      },
      "execution_count": null,
      "outputs": []
    },
    {
      "cell_type": "code",
      "source": [
        "str1[0::]"
      ],
      "metadata": {
        "id": "L5smR5uhIVrS"
      },
      "execution_count": null,
      "outputs": []
    },
    {
      "cell_type": "code",
      "source": [
        "str1[:len(str1):]"
      ],
      "metadata": {
        "id": "YcNELDqrIZV_"
      },
      "execution_count": null,
      "outputs": []
    },
    {
      "cell_type": "code",
      "source": [
        "str1[::1]"
      ],
      "metadata": {
        "id": "ts7ZddEIIeVu"
      },
      "execution_count": null,
      "outputs": []
    },
    {
      "cell_type": "code",
      "source": [
        "str1[:9:]"
      ],
      "metadata": {
        "id": "PNon6EbeIpMa"
      },
      "execution_count": null,
      "outputs": []
    },
    {
      "cell_type": "code",
      "source": [
        "str1[9:18:]"
      ],
      "metadata": {
        "id": "W-b9Y-iJItha"
      },
      "execution_count": null,
      "outputs": []
    },
    {
      "cell_type": "code",
      "source": [
        "str1[18::]"
      ],
      "metadata": {
        "id": "NS0v_9A0I6Gu"
      },
      "execution_count": null,
      "outputs": []
    },
    {
      "cell_type": "markdown",
      "source": [
        "#**Thursday August 10, 2023**"
      ],
      "metadata": {
        "id": "eYv8Gn6J5cmk"
      }
    },
    {
      "cell_type": "code",
      "source": [
        "str1 = 'Peppa prefer Python Programming'"
      ],
      "metadata": {
        "id": "-2kOnRfK5cUr"
      },
      "execution_count": null,
      "outputs": []
    },
    {
      "cell_type": "markdown",
      "source": [
        "![image.png](data:image/png;base64,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)"
      ],
      "metadata": {
        "id": "BN3kewFL8Zwp"
      }
    },
    {
      "cell_type": "code",
      "source": [
        "str1 = 'SrinivasaRamanujanAiyangar'\n",
        "str1[::1]\n",
        "str1[::-1]"
      ],
      "metadata": {
        "colab": {
          "base_uri": "https://localhost:8080/",
          "height": 36
        },
        "id": "_uMafZ6H8Zjr",
        "outputId": "d478b92b-4356-4492-ac64-9a23da356da2"
      },
      "execution_count": null,
      "outputs": [
        {
          "output_type": "execute_result",
          "data": {
            "text/plain": [
              "'ragnayiAnajunamaRasavinirS'"
            ],
            "application/vnd.google.colaboratory.intrinsic+json": {
              "type": "string"
            }
          },
          "metadata": {},
          "execution_count": 6
        }
      ]
    },
    {
      "cell_type": "code",
      "source": [
        "str1[-1:-9:-1], str1[-9:-18:-1], str1[-18::-1]"
      ],
      "metadata": {
        "colab": {
          "base_uri": "https://localhost:8080/"
        },
        "id": "M9rbFDWg-G5M",
        "outputId": "be2e45a1-d23f-4d4b-d1af-df3429b1c6d5"
      },
      "execution_count": null,
      "outputs": [
        {
          "output_type": "execute_result",
          "data": {
            "text/plain": [
              "('ragnayiA', 'najunamaR', 'asavinirS')"
            ]
          },
          "metadata": {},
          "execution_count": 9
        }
      ]
    },
    {
      "cell_type": "code",
      "source": [
        "str1 = 'Peppa prefer Python Programming'"
      ],
      "metadata": {
        "id": "68E4SAaP-7F7"
      },
      "execution_count": null,
      "outputs": []
    },
    {
      "cell_type": "markdown",
      "source": [
        "![image.png](data:image/png;base64,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)"
      ],
      "metadata": {
        "id": "5s4TfXR-A-JJ"
      }
    },
    {
      "cell_type": "code",
      "source": [
        "str1 = 'VenkataNarasimhaRajuvaripeta'\n",
        "print(str1)\n",
        "print(type(str1))\n",
        "print(len(str1))"
      ],
      "metadata": {
        "colab": {
          "base_uri": "https://localhost:8080/"
        },
        "id": "Uu3_JdgSA4Zf",
        "outputId": "d298b402-0cd0-4732-a2c6-1d40685e0693"
      },
      "execution_count": null,
      "outputs": [
        {
          "output_type": "stream",
          "name": "stdout",
          "text": [
            "VenkataNarasimhaRajuvaripeta\n",
            "<class 'str'>\n",
            "28\n"
          ]
        }
      ]
    },
    {
      "cell_type": "code",
      "source": [
        "str1[-22::-1], str1[-13:-22:-1]"
      ],
      "metadata": {
        "colab": {
          "base_uri": "https://localhost:8080/",
          "height": 36
        },
        "id": "3hHhW2W-DL4U",
        "outputId": "4573f2f1-d1ed-4e59-9f90-d0d8550f1146"
      },
      "execution_count": null,
      "outputs": [
        {
          "output_type": "execute_result",
          "data": {
            "text/plain": [
              "'atakneV'"
            ],
            "application/vnd.google.colaboratory.intrinsic+json": {
              "type": "string"
            }
          },
          "metadata": {},
          "execution_count": 13
        }
      ]
    },
    {
      "cell_type": "markdown",
      "source": [
        "![image.png](data:image/png;base64,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)"
      ],
      "metadata": {
        "id": "J6x93I6ZD8KK"
      }
    },
    {
      "cell_type": "code",
      "source": [
        "str1 = 'VenkataNarasimhaRajuvaripeta'\n",
        "\n",
        "str1[6::-1], str1[15:6:-1], str1[27:15:-1]"
      ],
      "metadata": {
        "colab": {
          "base_uri": "https://localhost:8080/"
        },
        "id": "cWvjehukD2oE",
        "outputId": "bfde4e9c-e71e-4a1d-af06-f3ac5c7987e4"
      },
      "execution_count": null,
      "outputs": [
        {
          "output_type": "execute_result",
          "data": {
            "text/plain": [
              "('atakneV', 'ahmisaraN', 'atepiravujaR')"
            ]
          },
          "metadata": {},
          "execution_count": 18
        }
      ]
    },
    {
      "cell_type": "code",
      "source": [
        "str1 = 'Peppa prefer Python Programming'"
      ],
      "metadata": {
        "id": "sSSToiYYFlP-"
      },
      "execution_count": null,
      "outputs": []
    },
    {
      "cell_type": "markdown",
      "source": [
        "![image.png](data:image/png;base64,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)"
      ],
      "metadata": {
        "id": "MW1P36RBJZ0u"
      }
    },
    {
      "cell_type": "code",
      "source": [
        "str1 = 'SrinivasaRamanujanAiyangar'\n",
        "str1[-26:-17:1], str1[-17:-9:1], str1[-8::1]"
      ],
      "metadata": {
        "colab": {
          "base_uri": "https://localhost:8080/"
        },
        "id": "7IJTYuxnJZQF",
        "outputId": "9e58f5be-de6e-4ce6-cecb-5c169ebed548"
      },
      "execution_count": null,
      "outputs": [
        {
          "output_type": "execute_result",
          "data": {
            "text/plain": [
              "('Srinivasa', 'Ramanuja', 'Aiyangar')"
            ]
          },
          "metadata": {},
          "execution_count": 25
        }
      ]
    },
    {
      "cell_type": "code",
      "source": [
        "lst1 = ['apple', 'banana', 'cherries', 'dates', 'eggfruit', 'fig', 'grapes', 'honeyfruit','icefruit']\n",
        "print(lst1)\n",
        "print(type(lst1))"
      ],
      "metadata": {
        "colab": {
          "base_uri": "https://localhost:8080/"
        },
        "id": "OeFDQ9jOKad1",
        "outputId": "25e73905-df47-4169-ad4d-68cf29ea87d7"
      },
      "execution_count": null,
      "outputs": [
        {
          "output_type": "stream",
          "name": "stdout",
          "text": [
            "['apple', 'banana', 'cherries', 'dates', 'eggfruit', 'fig', 'grapes', 'honeyfruit', 'icefruit']\n",
            "<class 'list'>\n"
          ]
        }
      ]
    },
    {
      "cell_type": "code",
      "source": [
        "lst1[0], lst1[1], lst1[2], lst1[3], lst1[4], lst1[5], lst1[6], lst1[7]"
      ],
      "metadata": {
        "id": "l0x3kKZ_N0Fw"
      },
      "execution_count": null,
      "outputs": []
    },
    {
      "cell_type": "code",
      "source": [
        "print(lst1[::])\n",
        "print(lst1[0::])\n",
        "print(lst1[:len(lst1):])\n",
        "print(lst1[::1])\n",
        "\n",
        "print(lst1[0: len(lst1): 1])\n",
        "print(lst1[::-1])\n",
        "\n",
        "\n",
        "print(lst1[-1::-1])\n",
        "\n",
        "\n",
        "print(lst1[9::-1])\n",
        "\n",
        "print(lst1[-9::1])"
      ],
      "metadata": {
        "colab": {
          "base_uri": "https://localhost:8080/"
        },
        "id": "nT138sVtOHCo",
        "outputId": "f5c0b521-deb4-4d7e-d731-a39191f0f305"
      },
      "execution_count": null,
      "outputs": [
        {
          "output_type": "stream",
          "name": "stdout",
          "text": [
            "['apple', 'banana', 'cherries', 'dates', 'eggfruit', 'fig', 'grapes', 'honeyfruit', 'icefruit']\n",
            "['apple', 'banana', 'cherries', 'dates', 'eggfruit', 'fig', 'grapes', 'honeyfruit', 'icefruit']\n",
            "['apple', 'banana', 'cherries', 'dates', 'eggfruit', 'fig', 'grapes', 'honeyfruit', 'icefruit']\n",
            "['apple', 'banana', 'cherries', 'dates', 'eggfruit', 'fig', 'grapes', 'honeyfruit', 'icefruit']\n",
            "['apple', 'banana', 'cherries', 'dates', 'eggfruit', 'fig', 'grapes', 'honeyfruit', 'icefruit']\n",
            "['icefruit', 'honeyfruit', 'grapes', 'fig', 'eggfruit', 'dates', 'cherries', 'banana', 'apple']\n",
            "['icefruit', 'honeyfruit', 'grapes', 'fig', 'eggfruit', 'dates', 'cherries', 'banana', 'apple']\n",
            "['icefruit', 'honeyfruit', 'grapes', 'fig', 'eggfruit', 'dates', 'cherries', 'banana', 'apple']\n",
            "['apple', 'banana', 'cherries', 'dates', 'eggfruit', 'fig', 'grapes', 'honeyfruit', 'icefruit']\n"
          ]
        }
      ]
    },
    {
      "cell_type": "markdown",
      "source": [
        "#**Friday August 11, 2023**"
      ],
      "metadata": {
        "id": "cR-ThuAQEeSF"
      }
    },
    {
      "cell_type": "code",
      "source": [
        "# Basic Python Operators"
      ],
      "metadata": {
        "id": "oAk8xUheEkMe"
      },
      "execution_count": null,
      "outputs": []
    },
    {
      "cell_type": "code",
      "source": [
        "# arithmetic operators\n",
        "\n",
        "a = 100\n",
        "b = 20\n",
        "\n",
        "print(a + b)\n",
        "print(a - b)\n",
        "print(a * b)\n",
        "print(a / b)\n",
        "print(a % b) # remainder\n",
        "print(a // b) # quotient\n",
        "print(a**b) # exponential"
      ],
      "metadata": {
        "colab": {
          "base_uri": "https://localhost:8080/"
        },
        "id": "TyoxREIyEoYU",
        "outputId": "dac57c4f-4114-4d6f-cebd-697d590baf56"
      },
      "execution_count": null,
      "outputs": [
        {
          "output_type": "stream",
          "name": "stdout",
          "text": [
            "120\n",
            "80\n",
            "2000\n",
            "5.0\n",
            "0\n",
            "5\n",
            "10000000000000000000000000000000000000000\n"
          ]
        },
        {
          "output_type": "execute_result",
          "data": {
            "text/plain": [
              "10000000000000000000000000000000000000000"
            ]
          },
          "metadata": {},
          "execution_count": 8
        }
      ]
    },
    {
      "cell_type": "code",
      "source": [
        "# comparision operators\n",
        "\n",
        "a = 100\n",
        "b = 20\n",
        "\n",
        "print(a == b)\n",
        "print(a != b)\n",
        "print(a > b)\n",
        "print(a < b)\n",
        "print(a >= b)\n",
        "print(a <= b)"
      ],
      "metadata": {
        "colab": {
          "base_uri": "https://localhost:8080/"
        },
        "id": "ZizujAFsF1fR",
        "outputId": "342b422b-5ad6-4976-b54e-a6ff5d6f5697"
      },
      "execution_count": null,
      "outputs": [
        {
          "output_type": "stream",
          "name": "stdout",
          "text": [
            "False\n",
            "True\n",
            "True\n",
            "False\n",
            "True\n",
            "False\n"
          ]
        }
      ]
    },
    {
      "cell_type": "code",
      "source": [
        "# Assignment Operators\n",
        "\n",
        "# a = a + b => a += b\n",
        "\n",
        "a = 100\n",
        "b = 20\n",
        "\n",
        "a += b\n",
        "print(a, b)\n",
        "\n",
        "\n",
        "\n",
        "a = 100\n",
        "b = 20\n",
        "\n",
        "a -= b\n",
        "print(a, b)\n",
        "\n",
        "\n",
        "\n",
        "a = 100\n",
        "b = 20\n",
        "\n",
        "a *= b\n",
        "print(a, b)\n",
        "\n",
        "\n",
        "a = 100\n",
        "b = 20\n",
        "\n",
        "a /= b\n",
        "print(a, b)\n",
        "\n",
        "\n",
        "a = 100\n",
        "b = 20\n",
        "\n",
        "a %= b\n",
        "print(a, b)\n",
        "\n",
        "\n",
        "a = 100\n",
        "b = 20\n",
        "\n",
        "a //= b\n",
        "print(a, b)\n",
        "\n",
        "\n",
        "a = 100\n",
        "b = 2\n",
        "\n",
        "a **= b\n",
        "print(a, b)"
      ],
      "metadata": {
        "colab": {
          "base_uri": "https://localhost:8080/"
        },
        "id": "TlbssXjjG8UT",
        "outputId": "b0ba43a4-68e0-428d-ca6f-2ec79958aae7"
      },
      "execution_count": null,
      "outputs": [
        {
          "output_type": "stream",
          "name": "stdout",
          "text": [
            "120 20\n",
            "80 20\n",
            "2000 20\n",
            "5.0 20\n",
            "0 20\n",
            "5 20\n",
            "10000 2\n"
          ]
        }
      ]
    },
    {
      "cell_type": "code",
      "source": [
        "# Python Logical Operators\n",
        "\n",
        "\n",
        "a = 100\n",
        "b = 20\n",
        "\n",
        "\n",
        "print(a > 80 and b < 80)\n",
        "print(a == 80 and b < 80)\n",
        "print(a < 80 and b < 80)\n",
        "print(a > 80 and b > 80)\n",
        "\n",
        "\n",
        "print(a > 80 or b < 80)\n",
        "print(a == 80 or b < 80)\n",
        "print(a < 80 or b < 80)\n",
        "print(a < 80 or b > 80)"
      ],
      "metadata": {
        "colab": {
          "base_uri": "https://localhost:8080/"
        },
        "id": "6Cqt8dcFLAVx",
        "outputId": "b12a90ad-ca56-43e8-f424-543b16ed633b"
      },
      "execution_count": null,
      "outputs": [
        {
          "output_type": "stream",
          "name": "stdout",
          "text": [
            "True\n",
            "False\n",
            "False\n",
            "False\n",
            "True\n",
            "True\n",
            "True\n",
            "False\n"
          ]
        }
      ]
    },
    {
      "cell_type": "code",
      "source": [
        "# Python Membership Operators\n",
        "\n",
        "a = 100\n",
        "b = [100,200,300,400,500]\n",
        "\n",
        "a in b\n",
        "\n",
        "# Python Membership Operators\n",
        "\n",
        "a = 600\n",
        "b = [100,200,300,400,500]\n",
        "\n",
        "a in b\n",
        "\n",
        "# Python Membership Operators\n",
        "\n",
        "a = 100\n",
        "b = [100,200,300,400,500]\n",
        "\n",
        "a not in b\n",
        "\n",
        "# Python Membership Operators\n",
        "\n",
        "a = 600\n",
        "b = [100,200,300,400,500]\n",
        "\n",
        "a not in b\n"
      ],
      "metadata": {
        "colab": {
          "base_uri": "https://localhost:8080/"
        },
        "id": "XguaSZj4MkfU",
        "outputId": "e0a5ba14-486b-4b68-f356-bf2068520568"
      },
      "execution_count": null,
      "outputs": [
        {
          "output_type": "execute_result",
          "data": {
            "text/plain": [
              "True"
            ]
          },
          "metadata": {},
          "execution_count": 35
        }
      ]
    },
    {
      "cell_type": "code",
      "source": [
        "# Python Identity Operators\n",
        "\n",
        "\n",
        "a = 100\n",
        "b = 20\n",
        "\n",
        "a is b\n",
        "a is not b\n",
        "\n",
        "a = 100\n",
        "b = 100\n",
        "\n",
        "a is b\n",
        "a is not b"
      ],
      "metadata": {
        "colab": {
          "base_uri": "https://localhost:8080/"
        },
        "id": "V1SnanMGNewS",
        "outputId": "d2450362-b176-447d-be7d-1c9a8e6f8f7e"
      },
      "execution_count": null,
      "outputs": [
        {
          "output_type": "execute_result",
          "data": {
            "text/plain": [
              "False"
            ]
          },
          "metadata": {},
          "execution_count": 38
        }
      ]
    },
    {
      "cell_type": "code",
      "source": [
        "a = 100\n",
        "b = 20\n",
        "\n",
        "if a > b: # True\n",
        "  print('a is greater than b')"
      ],
      "metadata": {
        "colab": {
          "base_uri": "https://localhost:8080/"
        },
        "id": "-V1fC8i4Z6K3",
        "outputId": "e06d43b1-c65d-4109-95e8-cf1fdc4495fe"
      },
      "execution_count": null,
      "outputs": [
        {
          "output_type": "stream",
          "name": "stdout",
          "text": [
            "a is greater than b\n"
          ]
        }
      ]
    },
    {
      "cell_type": "code",
      "source": [
        "a = 100\n",
        "b = 20\n",
        "\n",
        "if a < b: # False\n",
        "  print('a is less than b')"
      ],
      "metadata": {
        "id": "LGSnkymzaL_R"
      },
      "execution_count": null,
      "outputs": []
    },
    {
      "cell_type": "code",
      "source": [
        "a = 100\n",
        "b = 20\n",
        "\n",
        "if (a > b) and (a != b): # True\n",
        "  print('a is greater than b')"
      ],
      "metadata": {
        "colab": {
          "base_uri": "https://localhost:8080/"
        },
        "id": "bGxF5igBacXX",
        "outputId": "76e5de21-22c0-420f-b199-de22d28bd66a"
      },
      "execution_count": null,
      "outputs": [
        {
          "output_type": "stream",
          "name": "stdout",
          "text": [
            "a is greater than b\n"
          ]
        }
      ]
    },
    {
      "cell_type": "code",
      "source": [
        "a = 100\n",
        "b = 20\n",
        "\n",
        "if (a > b) and (a == b): # False\n",
        "  print('a is greater than b')"
      ],
      "metadata": {
        "id": "qUqJKoAhan_l"
      },
      "execution_count": null,
      "outputs": []
    },
    {
      "cell_type": "code",
      "source": [
        "a = 100\n",
        "b = 20\n",
        "\n",
        "if (a < b) and (a == b): # False\n",
        "  print('a is greater than b')"
      ],
      "metadata": {
        "id": "gE9Gk_bGayQz"
      },
      "execution_count": null,
      "outputs": []
    },
    {
      "cell_type": "code",
      "source": [
        "a = 100\n",
        "b = 20\n",
        "\n",
        "if (a > b) or (a != b): # True\n",
        "  print('a is greater than b')"
      ],
      "metadata": {
        "colab": {
          "base_uri": "https://localhost:8080/"
        },
        "id": "lYJgH1q6bAuk",
        "outputId": "9e273caa-f876-49f9-eef9-f0919c841454"
      },
      "execution_count": null,
      "outputs": [
        {
          "output_type": "stream",
          "name": "stdout",
          "text": [
            "a is greater than b\n"
          ]
        }
      ]
    },
    {
      "cell_type": "code",
      "source": [
        "a = 100\n",
        "b = 20\n",
        "\n",
        "if (a > b) or (a == b): # True\n",
        "  print('a is greater than b')"
      ],
      "metadata": {
        "colab": {
          "base_uri": "https://localhost:8080/"
        },
        "id": "ErT0ch7XbKf0",
        "outputId": "7fcf67d5-7010-46a1-9e50-c2a80d26f4bc"
      },
      "execution_count": null,
      "outputs": [
        {
          "output_type": "stream",
          "name": "stdout",
          "text": [
            "a is greater than b\n"
          ]
        }
      ]
    },
    {
      "cell_type": "code",
      "source": [
        "a = 100\n",
        "b = 20\n",
        "\n",
        "if (a < b) or (a == b): # False\n",
        "  print('a is greater than b')"
      ],
      "metadata": {
        "id": "_YqO5ikhbSl9"
      },
      "execution_count": null,
      "outputs": []
    },
    {
      "cell_type": "code",
      "source": [
        "a = 100\n",
        "b = 20\n",
        "\n",
        "if (a < b) or (a == b): # False\n",
        "  print('a is greater than b')\n",
        "else:\n",
        "  print('we are in else section')"
      ],
      "metadata": {
        "colab": {
          "base_uri": "https://localhost:8080/"
        },
        "id": "6_OryGoUbd1o",
        "outputId": "9c8b4740-6ca1-406a-ffe2-6f273db12bd1"
      },
      "execution_count": null,
      "outputs": [
        {
          "output_type": "stream",
          "name": "stdout",
          "text": [
            "we are in else section\n"
          ]
        }
      ]
    },
    {
      "cell_type": "code",
      "source": [
        "a = 100\n",
        "b = 20\n",
        "\n",
        "if (a < b): # False\n",
        "  print('a is greater than b')\n",
        "else:\n",
        "  print('we are in else section')"
      ],
      "metadata": {
        "colab": {
          "base_uri": "https://localhost:8080/"
        },
        "id": "dQprzR7Hb5Gl",
        "outputId": "cbdccdf9-d275-4461-ab2a-1736c29d4cd1"
      },
      "execution_count": null,
      "outputs": [
        {
          "output_type": "stream",
          "name": "stdout",
          "text": [
            "we are in else section\n"
          ]
        }
      ]
    },
    {
      "cell_type": "code",
      "source": [
        "percentage = 34.99\n",
        "\n",
        "if percentage >=75:\n",
        "  print('First class with distinction')\n",
        "elif percentage >=60:\n",
        "  print('First class')\n",
        "elif percentage >= 40:\n",
        "  print('second class')\n",
        "elif percentage >= 35:\n",
        "  print('third class')\n",
        "else:\n",
        "  print('better luck next time')"
      ],
      "metadata": {
        "colab": {
          "base_uri": "https://localhost:8080/"
        },
        "id": "iG9vLXTtcAwu",
        "outputId": "065f6b61-e768-4d47-f553-f1862dec3cd0"
      },
      "execution_count": null,
      "outputs": [
        {
          "output_type": "stream",
          "name": "stdout",
          "text": [
            "better luck next time\n"
          ]
        }
      ]
    },
    {
      "cell_type": "code",
      "source": [
        "a = 100\n",
        "\n",
        "if a > 25:\n",
        "  print('a > 25')\n",
        "  if a > 50:\n",
        "    print('a > 50')\n",
        "    if a > 75:\n",
        "      print('a > 75')\n",
        "      if a > 100:\n",
        "        print('a > 100')\n",
        "        if a > 125:\n",
        "          print('a > 125')"
      ],
      "metadata": {
        "colab": {
          "base_uri": "https://localhost:8080/"
        },
        "id": "cIu0YyZgdLT5",
        "outputId": "07d87138-dfa9-4608-e54a-116e1a353c6e"
      },
      "execution_count": null,
      "outputs": [
        {
          "output_type": "stream",
          "name": "stdout",
          "text": [
            "a > 25\n",
            "a > 50\n",
            "a > 75\n"
          ]
        }
      ]
    },
    {
      "cell_type": "markdown",
      "source": [
        "#**Monday August 14, 2023**"
      ],
      "metadata": {
        "id": "3tTtrAXBep8C"
      }
    },
    {
      "cell_type": "code",
      "source": [
        "# Nested If\n",
        "\n",
        "a = 125\n",
        "\n",
        "if (a < 200):\n",
        "  print('if (a < 200):')\n",
        "  if (a < 175):\n",
        "    print('if (a < 175):')\n",
        "    if (a < 150):\n",
        "      print('if (a < 150):')\n",
        "      if (a < 125):\n",
        "        print('if (a < 125):')\n",
        "        if (a < 100):\n",
        "          print('if (a < 100):')\n",
        "          if (a < 75):\n",
        "            print('if (a < 75):')\n",
        "          else:\n",
        "            print('else if (a < 75):')\n",
        "        else:\n",
        "          print('else if (a < 100):')\n",
        "      else:\n",
        "        print('else if (a < 125):')\n",
        "    else:\n",
        "      print('else if (a < 150):')\n",
        "  else:\n",
        "    print('else if (a < 175):')\n",
        "else:\n",
        "  print('else if (a < 200):')"
      ],
      "metadata": {
        "colab": {
          "base_uri": "https://localhost:8080/"
        },
        "id": "yLGlwjgaepfC",
        "outputId": "c96a7d13-70d2-4340-d301-d73e30956807"
      },
      "execution_count": null,
      "outputs": [
        {
          "output_type": "stream",
          "name": "stdout",
          "text": [
            "if (a < 200):\n",
            "if (a < 175):\n",
            "if (a < 150):\n",
            "else if (a < 125):\n"
          ]
        }
      ]
    },
    {
      "cell_type": "code",
      "source": [
        "# while loop\n",
        "\n",
        "a = 100\n",
        "\n",
        "while a > 10: # True/False\n",
        "  print(a, 'is greater 10')\n",
        "  a -= 1 # 99, 98, 97..... 15,14,13,12,11"
      ],
      "metadata": {
        "id": "etf0Ji1-jUrt"
      },
      "execution_count": null,
      "outputs": []
    },
    {
      "cell_type": "code",
      "source": [
        "a = 10\n",
        "\n",
        "while a < 100: # True/False\n",
        "  print(a, 'is less than 100')\n",
        "  a += 10"
      ],
      "metadata": {
        "id": "6HLZXDHwknmR"
      },
      "execution_count": null,
      "outputs": []
    },
    {
      "cell_type": "markdown",
      "source": [
        "i < 200\n",
        "10\n",
        "\n",
        "i > 200\n",
        "-20"
      ],
      "metadata": {
        "id": "VY2hPUXIlMgY"
      }
    },
    {
      "cell_type": "code",
      "source": [
        "# Break Continue Pass"
      ],
      "metadata": {
        "id": "bRkEaHdIosvO"
      },
      "execution_count": null,
      "outputs": []
    },
    {
      "cell_type": "code",
      "source": [
        "a = 10\n",
        "\n",
        "while a < 100: # True/False\n",
        "  if a == 50:\n",
        "    break\n",
        "  print(a, 'is less than 100')\n",
        "  a += 10"
      ],
      "metadata": {
        "colab": {
          "base_uri": "https://localhost:8080/"
        },
        "id": "0rP96PXaovpZ",
        "outputId": "3056fb44-49a4-4b48-acde-61bb20cbe748"
      },
      "execution_count": null,
      "outputs": [
        {
          "output_type": "stream",
          "name": "stdout",
          "text": [
            "10 is less than 100\n",
            "20 is less than 100\n",
            "30 is less than 100\n",
            "40 is less than 100\n"
          ]
        }
      ]
    },
    {
      "cell_type": "code",
      "source": [
        "a = 10\n",
        "\n",
        "while a < 100: # True/False\n",
        "\n",
        "  a += 10\n",
        "\n",
        "  if a == 50:\n",
        "    continue\n",
        "  print(a, 'is less than 100')"
      ],
      "metadata": {
        "colab": {
          "base_uri": "https://localhost:8080/"
        },
        "id": "EAw11D19pAQm",
        "outputId": "f7c0618a-9fda-4cdf-f31a-5f2ae7365274"
      },
      "execution_count": null,
      "outputs": [
        {
          "output_type": "stream",
          "name": "stdout",
          "text": [
            "20 is less than 100\n",
            "30 is less than 100\n",
            "40 is less than 100\n",
            "60 is less than 100\n",
            "70 is less than 100\n",
            "80 is less than 100\n",
            "90 is less than 100\n",
            "100 is less than 100\n"
          ]
        }
      ]
    },
    {
      "cell_type": "code",
      "source": [
        "a = 200\n",
        "\n",
        "while (a < 500):\n",
        "  pass"
      ],
      "metadata": {
        "id": "xuARix7SrZ1q"
      },
      "execution_count": null,
      "outputs": []
    },
    {
      "cell_type": "code",
      "source": [
        "# Write a program 0 to 100 and find odd and even numbers; use while loop"
      ],
      "metadata": {
        "id": "bUzdrtrSsDvJ"
      },
      "execution_count": null,
      "outputs": []
    },
    {
      "cell_type": "code",
      "source": [
        "a = 100\n",
        "\n",
        "while a >= 0:\n",
        "  if a%2==0:\n",
        "    print(a, 'is even number')\n",
        "  else:\n",
        "    print(a, 'is odd number')\n",
        "  a -= 1"
      ],
      "metadata": {
        "id": "LfBoBkLGsjkw"
      },
      "execution_count": null,
      "outputs": []
    },
    {
      "cell_type": "code",
      "source": [
        "total = 0\n",
        "num = int(input('enter a number '))\n",
        "\n",
        "while num != 0:\n",
        "  total += num\n",
        "  num = int(input('enter a number '))\n",
        "print(total)"
      ],
      "metadata": {
        "id": "QgYVNhaDwoAn"
      },
      "execution_count": null,
      "outputs": []
    },
    {
      "cell_type": "code",
      "source": [
        "# voting eligibility\n",
        "\n",
        "total = 0\n",
        "num = int(input('enter a voting age '))\n",
        "\n",
        "while num >= 18:\n",
        "  total += 1\n",
        "  num = int(input('enter a voting age '))\n",
        "print(total)"
      ],
      "metadata": {
        "id": "gXytxqCwywK8"
      },
      "execution_count": null,
      "outputs": []
    },
    {
      "cell_type": "code",
      "source": [
        "lst1 = [1,2,3,4,5,6,7,8,9,10,11,22,33,44,55,66,77,88,99,110,12,23,34,45,56,67,78,89,90]\n",
        "\n",
        "# lst1.pop()\n",
        "\n",
        "while lst1:\n",
        "  print(lst1.pop())"
      ],
      "metadata": {
        "id": "sSRqBx8N1vQE"
      },
      "execution_count": null,
      "outputs": []
    },
    {
      "cell_type": "code",
      "source": [
        "# write a program where number is divisible by 5 and 7\n",
        "\n",
        "num1 = int(input('Enter a number '))\n",
        "\n",
        "while (num1%5==0) and (num1%7==0):\n",
        "  print(num1, 'is divisible by 5 and 7')\n",
        "  break\n",
        "else:\n",
        "  print(num1, 'is not divisible by 5 and 7')"
      ],
      "metadata": {
        "colab": {
          "base_uri": "https://localhost:8080/"
        },
        "id": "u461QytX5ojl",
        "outputId": "365f5017-34dd-47b8-c9b9-96b1e9b57cd1"
      },
      "execution_count": null,
      "outputs": [
        {
          "output_type": "stream",
          "name": "stdout",
          "text": [
            "Enter a number98\n",
            "98 is not divisible by 5 and 7\n"
          ]
        }
      ]
    },
    {
      "cell_type": "markdown",
      "source": [
        "#**Tuesday August 15, 2023**"
      ],
      "metadata": {
        "id": "4MUHInQapWwp"
      }
    },
    {
      "cell_type": "code",
      "source": [
        "lst1 = [12,23,34,45,56,67,78,89,90,21,32,43,54,65,76,87,98,9]\n",
        "\n",
        "for i in lst1:\n",
        "  print('value of i ', i)"
      ],
      "metadata": {
        "id": "uPIGWPebpcdr"
      },
      "execution_count": null,
      "outputs": []
    },
    {
      "cell_type": "code",
      "source": [
        "tup1 = ('apple','banana','cherries','dates','eggfruit','fig','grapes','honeyfruit')\n",
        "\n",
        "for i in tup1:\n",
        "  print('value of i ', i)"
      ],
      "metadata": {
        "id": "T9U9NUD_qGuy"
      },
      "execution_count": null,
      "outputs": []
    },
    {
      "cell_type": "code",
      "source": [
        "set1 = {'apple','banana','cherries','dates','eggfruit','fig','grapes','honeyfruit',12,23,34,45,56,67,78,89,90,21,32,43,54,65,76,87,98,9}\n",
        "\n",
        "for i in set1:\n",
        "  print('value of i ', i)"
      ],
      "metadata": {
        "id": "KSbDEhB9qdR-"
      },
      "execution_count": null,
      "outputs": []
    },
    {
      "cell_type": "code",
      "source": [
        "str1 = 'Peppa prefer Python Programming'\n",
        "print(len(str1))\n",
        "for i in str1:\n",
        "  print('value of i ', i)"
      ],
      "metadata": {
        "id": "Fe0MCG8Lq4E3"
      },
      "execution_count": null,
      "outputs": []
    },
    {
      "cell_type": "code",
      "source": [
        "dict1 = {'a':'apple', 'b':'ball', 'c': 'cat', 'd': 'doll'}\n",
        "\n",
        "for i in dict1:\n",
        "  print('value of i ', i)"
      ],
      "metadata": {
        "colab": {
          "base_uri": "https://localhost:8080/"
        },
        "id": "oY0JdSiArUdo",
        "outputId": "07bc2311-8065-42b3-d944-801142167532"
      },
      "execution_count": null,
      "outputs": [
        {
          "output_type": "stream",
          "name": "stdout",
          "text": [
            "value of i  a\n",
            "value of i  b\n",
            "value of i  c\n",
            "value of i  d\n"
          ]
        }
      ]
    },
    {
      "cell_type": "code",
      "source": [
        "for i in range(10): # 0,1,2,3,4,5,6,7,8,9\n",
        "  print('value of i ', i)"
      ],
      "metadata": {
        "id": "6AnydkS9rqQb"
      },
      "execution_count": null,
      "outputs": []
    },
    {
      "cell_type": "code",
      "source": [
        "for i in range(0,10): # 0,1,2,3,4,5,6,7,8,9\n",
        "  print('value of i ', i)"
      ],
      "metadata": {
        "id": "tk_9yPHDr6fQ"
      },
      "execution_count": null,
      "outputs": []
    },
    {
      "cell_type": "code",
      "source": [
        "for i in range(0,10,1): # 0,1,2,3,4,5,6,7,8,9\n",
        "  print('value of i ', i)"
      ],
      "metadata": {
        "id": "iIwpbqrIsBIC"
      },
      "execution_count": null,
      "outputs": []
    },
    {
      "cell_type": "code",
      "source": [
        "for i in range(10): # 0,1,2,3,4,5,6,7,8,9\n",
        "  for j in range(10): # 0,1,2,3,4,5,6,7,8,9\n",
        "    print('*', end=' ')\n",
        "  print('\\r')"
      ],
      "metadata": {
        "colab": {
          "base_uri": "https://localhost:8080/"
        },
        "id": "7jzy2dbovO6Z",
        "outputId": "ffac83bc-074a-41a4-ba36-13c732e6f6ef"
      },
      "execution_count": null,
      "outputs": [
        {
          "output_type": "stream",
          "name": "stdout",
          "text": [
            "* * * * * * * * * * \r\n",
            "* * * * * * * * * * \r\n",
            "* * * * * * * * * * \r\n",
            "* * * * * * * * * * \r\n",
            "* * * * * * * * * * \r\n",
            "* * * * * * * * * * \r\n",
            "* * * * * * * * * * \r\n",
            "* * * * * * * * * * \r\n",
            "* * * * * * * * * * \r\n",
            "* * * * * * * * * * \r\n"
          ]
        }
      ]
    },
    {
      "cell_type": "code",
      "source": [
        "k=0\n",
        "for i in range(10): # 0,1,2,3,4,5,6,7,8,9\n",
        "  for j in range(10): # 0,1,2,3,4,5,6,7,8,9\n",
        "    k +=1\n",
        "    print(k, end=' ')\n",
        "\n",
        "  print('\\r')"
      ],
      "metadata": {
        "colab": {
          "base_uri": "https://localhost:8080/"
        },
        "id": "5_Vo6THHweFD",
        "outputId": "2fa08a1f-31e7-482a-933a-9947e1196ed1"
      },
      "execution_count": null,
      "outputs": [
        {
          "output_type": "stream",
          "name": "stdout",
          "text": [
            "1 2 3 4 5 6 7 8 9 10 \r\n",
            "11 12 13 14 15 16 17 18 19 20 \r\n",
            "21 22 23 24 25 26 27 28 29 30 \r\n",
            "31 32 33 34 35 36 37 38 39 40 \r\n",
            "41 42 43 44 45 46 47 48 49 50 \r\n",
            "51 52 53 54 55 56 57 58 59 60 \r\n",
            "61 62 63 64 65 66 67 68 69 70 \r\n",
            "71 72 73 74 75 76 77 78 79 80 \r\n",
            "81 82 83 84 85 86 87 88 89 90 \r\n",
            "91 92 93 94 95 96 97 98 99 100 \r\n"
          ]
        }
      ]
    },
    {
      "cell_type": "markdown",
      "source": [
        "![image.png](data:image/png;base64,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)"
      ],
      "metadata": {
        "id": "tQixTSOe44g-"
      }
    },
    {
      "cell_type": "code",
      "source": [
        "for i in range(10):\n",
        "  for j in range(0,10-i):\n",
        "    print('-', end='')\n",
        "  for k in range(0,i+1):\n",
        "    print('*', end =' ')\n",
        "  print('\\r')"
      ],
      "metadata": {
        "colab": {
          "base_uri": "https://localhost:8080/"
        },
        "id": "WjUksJ0YzZbp",
        "outputId": "08c5a26c-3812-4f7b-8559-d8ba185faeb0"
      },
      "execution_count": null,
      "outputs": [
        {
          "output_type": "stream",
          "name": "stdout",
          "text": [
            "----------* \r\n",
            "---------* * \r\n",
            "--------* * * \r\n",
            "-------* * * * \r\n",
            "------* * * * * \r\n",
            "-----* * * * * * \r\n",
            "----* * * * * * * \r\n",
            "---* * * * * * * * \r\n",
            "--* * * * * * * * * \r\n",
            "-* * * * * * * * * * \r\n"
          ]
        }
      ]
    },
    {
      "cell_type": "markdown",
      "source": [
        "![image.png](data:image/png;base64,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)"
      ],
      "metadata": {
        "id": "ywzlwTLE0lXp"
      }
    },
    {
      "cell_type": "markdown",
      "source": [
        "![image.png](data:image/png;base64,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)"
      ],
      "metadata": {
        "id": "EiZ2RtN07cEV"
      }
    },
    {
      "cell_type": "code",
      "source": [
        "for i in range(10):\n",
        "  for j in range(0,i):\n",
        "    print('-', end= '')\n",
        "  for k in range(10, i, -1):\n",
        "    print('*', end=' ')\n",
        "  print('\\r')"
      ],
      "metadata": {
        "colab": {
          "base_uri": "https://localhost:8080/"
        },
        "id": "Nb7etJWK0mAD",
        "outputId": "a2fb3e31-ec58-4da0-86e8-69af5dc72672"
      },
      "execution_count": null,
      "outputs": [
        {
          "output_type": "stream",
          "name": "stdout",
          "text": [
            "* * * * * * * * * * \r\n",
            "-* * * * * * * * * \r\n",
            "--* * * * * * * * \r\n",
            "---* * * * * * * \r\n",
            "----* * * * * * \r\n",
            "-----* * * * * \r\n",
            "------* * * * \r\n",
            "-------* * * \r\n",
            "--------* * \r\n",
            "---------* \r\n"
          ]
        }
      ]
    },
    {
      "cell_type": "markdown",
      "source": [
        "![image.png](data:image/png;base64,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)"
      ],
      "metadata": {
        "id": "GlBYXwOc2j3S"
      }
    },
    {
      "cell_type": "markdown",
      "source": [
        "#**Wednesday August 16, 2023**"
      ],
      "metadata": {
        "id": "N_hi5Boay3Oi"
      }
    },
    {
      "cell_type": "code",
      "source": [
        "# fibonacci series\n",
        "\n",
        "0, 1, 1, 2, 3, 5, 8, 13, 21, 34....\n",
        "\n",
        "a = 0\n",
        "b = 1\n",
        "\n",
        "c = a + b\n",
        "print(c)"
      ],
      "metadata": {
        "id": "pYC8_lrt2kqP"
      },
      "execution_count": null,
      "outputs": []
    },
    {
      "cell_type": "code",
      "source": [
        "a = 0\n",
        "b = 1\n",
        "print(a, b, end=' ')\n",
        "for i in range(30):\n",
        "  c = a + b\n",
        "  print(c, end=' ')\n",
        "  a = b\n",
        "  b = c\n"
      ],
      "metadata": {
        "colab": {
          "base_uri": "https://localhost:8080/"
        },
        "id": "ae2tTmbi6F0H",
        "outputId": "7c7cb3e3-c11b-448c-a61e-4fc152a0031d"
      },
      "execution_count": null,
      "outputs": [
        {
          "output_type": "stream",
          "name": "stdout",
          "text": [
            "0 1 1 2 3 5 8 13 21 34 55 89 144 233 377 610 987 1597 2584 4181 6765 10946 17711 28657 46368 75025 121393 196418 317811 514229 832040 1346269 "
          ]
        }
      ]
    },
    {
      "cell_type": "code",
      "source": [
        "stu_record = {'Ajita':98,'Anushka':87,'Arika':76,'Ashley':65,'Bashant':54,'Bishwa':43,'Bruce':32,'Dinesh':89,'Ganesh':78,'Ganga':67,'Govinda':56,'Kingdom':45,'Manisha':35,'Michael':36,'Nahian':25}\n",
        "\n",
        "for keys, values in stu_record.items():\n",
        "  if values >= 75:\n",
        "    print('Student:', keys, values, 'Passed with Distinction')\n",
        "  elif values >= 60:\n",
        "    print('Student:', keys, values, 'Passed with First Class')\n",
        "  elif values >= 40:\n",
        "    print('Student:', keys, values, 'Passed with Second Class')\n",
        "  elif values >= 35:\n",
        "    print('Student:', keys, values, 'Passed with Third Class')\n",
        "  else:\n",
        "    print('Student:', keys, values, 'Better Luck Next Time')"
      ],
      "metadata": {
        "colab": {
          "base_uri": "https://localhost:8080/"
        },
        "id": "pgvRDnV_BSoF",
        "outputId": "92809771-2f4a-4a33-ffe7-cf95cb2637cc"
      },
      "execution_count": null,
      "outputs": [
        {
          "output_type": "stream",
          "name": "stdout",
          "text": [
            "Student: Ajita 98 Passed with Distinction\n",
            "Student: Anushka 87 Passed with Distinction\n",
            "Student: Arika 76 Passed with Distinction\n",
            "Student: Ashley 65 Passed with First Class\n",
            "Student: Bashant 54 Passed with Second Class\n",
            "Student: Bishwa 43 Passed with Second Class\n",
            "Student: Bruce 32 Better Luck Next Time\n",
            "Student: Dinesh 89 Passed with Distinction\n",
            "Student: Ganesh 78 Passed with Distinction\n",
            "Student: Ganga 67 Passed with First Class\n",
            "Student: Govinda 56 Passed with Second Class\n",
            "Student: Kingdom 45 Passed with Second Class\n",
            "Student: Manisha 35 Passed with Third Class\n",
            "Student: Michael 36 Passed with Third Class\n",
            "Student: Nahian 25 Better Luck Next Time\n"
          ]
        }
      ]
    },
    {
      "cell_type": "markdown",
      "source": [
        "#**Functions in Python**\n",
        "\n",
        "    1. Built-in Functions (https://docs.python.org/3/library/functions.html)\n",
        "    2. User Define Functions\n"
      ],
      "metadata": {
        "id": "WdEO5ja5GtuA"
      }
    },
    {
      "cell_type": "markdown",
      "source": [
        "![image.png](data:image/png;base64,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)"
      ],
      "metadata": {
        "id": "omAZWIOQKCs5"
      }
    },
    {
      "cell_type": "code",
      "source": [
        "# Type Casting Functions\n",
        "\n",
        "int(), float(), complex(), bool(), str()\n",
        "list(), tuple(), set(), dict()"
      ],
      "metadata": {
        "id": "8Vekn-ELHCnk"
      },
      "execution_count": null,
      "outputs": []
    },
    {
      "cell_type": "code",
      "source": [
        "int1 = 1947\n",
        "\n",
        "print(float(int1))\n",
        "print(complex(int1))\n",
        "print(bool(int1))\n",
        "print(str(int1))\n",
        "# print(list(int1)) # TypeError: 'int' object is not iterable\n",
        "# print(tuple(int1)) # TypeError: 'int' object is not iterable\n",
        "# print(set(int1)) # TypeError: 'int' object is not iterable\n",
        "# print(dict(int1)) # TypeError: 'int' object is not iterable"
      ],
      "metadata": {
        "id": "qU9DcchpHg36"
      },
      "execution_count": null,
      "outputs": []
    },
    {
      "cell_type": "code",
      "source": [
        "# decimal => bin(), oct(), hex()\n",
        "\n",
        "for i in range(0, 100):\n",
        "  print('Decimal: ', i)\n",
        "  print('Binary: ', bin(i))\n",
        "  print('Octa Decimal: ', oct(i))\n",
        "  print('Hexa Decimal: ', hex(i))"
      ],
      "metadata": {
        "id": "78NDTZAoIaEp"
      },
      "execution_count": null,
      "outputs": []
    },
    {
      "cell_type": "code",
      "source": [
        "help(print)"
      ],
      "metadata": {
        "colab": {
          "base_uri": "https://localhost:8080/"
        },
        "id": "lvTOhH4ZLVjO",
        "outputId": "4b3ca332-d841-4a8a-d7f4-33fee301018b"
      },
      "execution_count": null,
      "outputs": [
        {
          "output_type": "stream",
          "name": "stdout",
          "text": [
            "Help on built-in function print in module builtins:\n",
            "\n",
            "print(...)\n",
            "    print(value, ..., sep=' ', end='\\n', file=sys.stdout, flush=False)\n",
            "    \n",
            "    Prints the values to a stream, or to sys.stdout by default.\n",
            "    Optional keyword arguments:\n",
            "    file:  a file-like object (stream); defaults to the current sys.stdout.\n",
            "    sep:   string inserted between values, default a space.\n",
            "    end:   string appended after the last value, default a newline.\n",
            "    flush: whether to forcibly flush the stream.\n",
            "\n"
          ]
        }
      ]
    },
    {
      "cell_type": "code",
      "source": [
        "help(type)"
      ],
      "metadata": {
        "id": "xjsj9nxCLieQ"
      },
      "execution_count": null,
      "outputs": []
    },
    {
      "cell_type": "code",
      "source": [
        "help(iter)"
      ],
      "metadata": {
        "id": "JAZpSG12LnOA"
      },
      "execution_count": null,
      "outputs": []
    },
    {
      "cell_type": "code",
      "source": [
        "help(input)"
      ],
      "metadata": {
        "colab": {
          "base_uri": "https://localhost:8080/"
        },
        "id": "Sb6bjgn3LukL",
        "outputId": "d18e4019-972f-46fb-d3f7-6b8b289f3427"
      },
      "execution_count": null,
      "outputs": [
        {
          "output_type": "stream",
          "name": "stdout",
          "text": [
            "Help on method raw_input in module ipykernel.kernelbase:\n",
            "\n",
            "raw_input(prompt='') method of google.colab._kernel.Kernel instance\n",
            "    Forward raw_input to frontends\n",
            "    \n",
            "    Raises\n",
            "    ------\n",
            "    StdinNotImplementedError if active frontend doesn't support stdin.\n",
            "\n"
          ]
        }
      ]
    },
    {
      "cell_type": "code",
      "source": [
        "# User Define Functions\n",
        "\n",
        "def sum_of_two(a, b):\n",
        "  return (a+b)"
      ],
      "metadata": {
        "id": "7tMIvXnUMb_z"
      },
      "execution_count": null,
      "outputs": []
    },
    {
      "cell_type": "code",
      "source": [
        "sum_of_two(1947, -1947)"
      ],
      "metadata": {
        "colab": {
          "base_uri": "https://localhost:8080/"
        },
        "id": "-d1Ovx5eMuve",
        "outputId": "dd911d70-103b-4200-d404-71f7d2dba9a2"
      },
      "execution_count": null,
      "outputs": [
        {
          "output_type": "execute_result",
          "data": {
            "text/plain": [
              "0"
            ]
          },
          "metadata": {},
          "execution_count": 41
        }
      ]
    },
    {
      "cell_type": "code",
      "source": [
        "sum_of_two(3.14, -3.14)"
      ],
      "metadata": {
        "colab": {
          "base_uri": "https://localhost:8080/"
        },
        "id": "OHHIRUK8M1oN",
        "outputId": "8cbbb9de-e8ab-409c-f668-bd4d6968deb0"
      },
      "execution_count": null,
      "outputs": [
        {
          "output_type": "execute_result",
          "data": {
            "text/plain": [
              "0.0"
            ]
          },
          "metadata": {},
          "execution_count": 42
        }
      ]
    },
    {
      "cell_type": "code",
      "source": [
        "sum_of_two(12+13j, -12-13j)"
      ],
      "metadata": {
        "colab": {
          "base_uri": "https://localhost:8080/"
        },
        "id": "4J6R9Ac4M4um",
        "outputId": "2388dd94-e193-496f-a6b6-21e7fd61b123"
      },
      "execution_count": null,
      "outputs": [
        {
          "output_type": "execute_result",
          "data": {
            "text/plain": [
              "0j"
            ]
          },
          "metadata": {},
          "execution_count": 43
        }
      ]
    },
    {
      "cell_type": "code",
      "source": [
        "sum_of_two(True, False)"
      ],
      "metadata": {
        "colab": {
          "base_uri": "https://localhost:8080/"
        },
        "id": "sxa_kb4XM9ml",
        "outputId": "1e6da45e-cea5-4aac-f159-2729af37580c"
      },
      "execution_count": null,
      "outputs": [
        {
          "output_type": "execute_result",
          "data": {
            "text/plain": [
              "1"
            ]
          },
          "metadata": {},
          "execution_count": 44
        }
      ]
    },
    {
      "cell_type": "code",
      "source": [
        "sum_of_two('Python','Programming')"
      ],
      "metadata": {
        "colab": {
          "base_uri": "https://localhost:8080/",
          "height": 35
        },
        "id": "PuLVXioeNBcJ",
        "outputId": "fc696359-172d-4b0a-b17a-398d22a7a745"
      },
      "execution_count": null,
      "outputs": [
        {
          "output_type": "execute_result",
          "data": {
            "text/plain": [
              "'PythonProgramming'"
            ],
            "application/vnd.google.colaboratory.intrinsic+json": {
              "type": "string"
            }
          },
          "metadata": {},
          "execution_count": 45
        }
      ]
    },
    {
      "cell_type": "code",
      "source": [
        "sum_of_two([1,2,3,4,5],[6,7,8,9,0])"
      ],
      "metadata": {
        "colab": {
          "base_uri": "https://localhost:8080/"
        },
        "id": "EekysfPJNIXH",
        "outputId": "33833035-2add-4e4f-f2c7-c17b4f85c941"
      },
      "execution_count": null,
      "outputs": [
        {
          "output_type": "execute_result",
          "data": {
            "text/plain": [
              "[1, 2, 3, 4, 5, 6, 7, 8, 9, 0]"
            ]
          },
          "metadata": {},
          "execution_count": 46
        }
      ]
    },
    {
      "cell_type": "code",
      "source": [
        "sum_of_two((12,23,34,45,56),(67,78,89,90))"
      ],
      "metadata": {
        "colab": {
          "base_uri": "https://localhost:8080/"
        },
        "id": "msCjlfoeNMz_",
        "outputId": "16eda0de-42c1-4041-8b5c-f770f49602f1"
      },
      "execution_count": null,
      "outputs": [
        {
          "output_type": "execute_result",
          "data": {
            "text/plain": [
              "(12, 23, 34, 45, 56, 67, 78, 89, 90)"
            ]
          },
          "metadata": {},
          "execution_count": 47
        }
      ]
    },
    {
      "cell_type": "code",
      "source": [
        "sum_of_two({1,2,3,4,5,6,7},{'End','Of','Game',True,False})\n",
        "# TypeError: unsupported operand type(s) for +: 'set' and 'set'"
      ],
      "metadata": {
        "colab": {
          "base_uri": "https://localhost:8080/",
          "height": 263
        },
        "id": "NA4cyHowNTMX",
        "outputId": "14a70d23-62a4-43e0-8d8d-0e085b49d827"
      },
      "execution_count": null,
      "outputs": [
        {
          "output_type": "error",
          "ename": "TypeError",
          "evalue": "ignored",
          "traceback": [
            "\u001b[0;31m---------------------------------------------------------------------------\u001b[0m",
            "\u001b[0;31mTypeError\u001b[0m                                 Traceback (most recent call last)",
            "\u001b[0;32m<ipython-input-48-8f04563c87c8>\u001b[0m in \u001b[0;36m<cell line: 1>\u001b[0;34m()\u001b[0m\n\u001b[0;32m----> 1\u001b[0;31m \u001b[0msum_of_two\u001b[0m\u001b[0;34m(\u001b[0m\u001b[0;34m{\u001b[0m\u001b[0;36m1\u001b[0m\u001b[0;34m,\u001b[0m\u001b[0;36m2\u001b[0m\u001b[0;34m,\u001b[0m\u001b[0;36m3\u001b[0m\u001b[0;34m,\u001b[0m\u001b[0;36m4\u001b[0m\u001b[0;34m,\u001b[0m\u001b[0;36m5\u001b[0m\u001b[0;34m,\u001b[0m\u001b[0;36m6\u001b[0m\u001b[0;34m,\u001b[0m\u001b[0;36m7\u001b[0m\u001b[0;34m}\u001b[0m\u001b[0;34m,\u001b[0m\u001b[0;34m{\u001b[0m\u001b[0;34m'End'\u001b[0m\u001b[0;34m,\u001b[0m\u001b[0;34m'Of'\u001b[0m\u001b[0;34m,\u001b[0m\u001b[0;34m'Game'\u001b[0m\u001b[0;34m,\u001b[0m\u001b[0;32mTrue\u001b[0m\u001b[0;34m,\u001b[0m\u001b[0;32mFalse\u001b[0m\u001b[0;34m}\u001b[0m\u001b[0;34m)\u001b[0m\u001b[0;34m\u001b[0m\u001b[0;34m\u001b[0m\u001b[0m\n\u001b[0m",
            "\u001b[0;32m<ipython-input-40-49104410b0c5>\u001b[0m in \u001b[0;36msum_of_two\u001b[0;34m(a, b)\u001b[0m\n\u001b[1;32m      2\u001b[0m \u001b[0;34m\u001b[0m\u001b[0m\n\u001b[1;32m      3\u001b[0m \u001b[0;32mdef\u001b[0m \u001b[0msum_of_two\u001b[0m\u001b[0;34m(\u001b[0m\u001b[0ma\u001b[0m\u001b[0;34m,\u001b[0m \u001b[0mb\u001b[0m\u001b[0;34m)\u001b[0m\u001b[0;34m:\u001b[0m\u001b[0;34m\u001b[0m\u001b[0;34m\u001b[0m\u001b[0m\n\u001b[0;32m----> 4\u001b[0;31m   \u001b[0;32mreturn\u001b[0m \u001b[0;34m(\u001b[0m\u001b[0ma\u001b[0m\u001b[0;34m+\u001b[0m\u001b[0mb\u001b[0m\u001b[0;34m)\u001b[0m\u001b[0;34m\u001b[0m\u001b[0;34m\u001b[0m\u001b[0m\n\u001b[0m",
            "\u001b[0;31mTypeError\u001b[0m: unsupported operand type(s) for +: 'set' and 'set'"
          ]
        }
      ]
    },
    {
      "cell_type": "code",
      "source": [
        "sum_of_two({'a':'apple', 'b':'banana'}, {'c':'cherry','d':'dates'})\n",
        "# TypeError: unsupported operand type(s) for +: 'dict' and 'dict'"
      ],
      "metadata": {
        "colab": {
          "base_uri": "https://localhost:8080/",
          "height": 263
        },
        "id": "TRvRPUk2NkEd",
        "outputId": "4a3f51e8-1f2a-49eb-c87f-aabea01dee8d"
      },
      "execution_count": null,
      "outputs": [
        {
          "output_type": "error",
          "ename": "TypeError",
          "evalue": "ignored",
          "traceback": [
            "\u001b[0;31m---------------------------------------------------------------------------\u001b[0m",
            "\u001b[0;31mTypeError\u001b[0m                                 Traceback (most recent call last)",
            "\u001b[0;32m<ipython-input-49-438ffbc06095>\u001b[0m in \u001b[0;36m<cell line: 1>\u001b[0;34m()\u001b[0m\n\u001b[0;32m----> 1\u001b[0;31m \u001b[0msum_of_two\u001b[0m\u001b[0;34m(\u001b[0m\u001b[0;34m{\u001b[0m\u001b[0;34m'a'\u001b[0m\u001b[0;34m:\u001b[0m\u001b[0;34m'apple'\u001b[0m\u001b[0;34m,\u001b[0m \u001b[0;34m'b'\u001b[0m\u001b[0;34m:\u001b[0m\u001b[0;34m'banana'\u001b[0m\u001b[0;34m}\u001b[0m\u001b[0;34m,\u001b[0m \u001b[0;34m{\u001b[0m\u001b[0;34m'c'\u001b[0m\u001b[0;34m:\u001b[0m\u001b[0;34m'cherry'\u001b[0m\u001b[0;34m,\u001b[0m\u001b[0;34m'd'\u001b[0m\u001b[0;34m:\u001b[0m\u001b[0;34m'dates'\u001b[0m\u001b[0;34m}\u001b[0m\u001b[0;34m)\u001b[0m\u001b[0;34m\u001b[0m\u001b[0;34m\u001b[0m\u001b[0m\n\u001b[0m",
            "\u001b[0;32m<ipython-input-40-49104410b0c5>\u001b[0m in \u001b[0;36msum_of_two\u001b[0;34m(a, b)\u001b[0m\n\u001b[1;32m      2\u001b[0m \u001b[0;34m\u001b[0m\u001b[0m\n\u001b[1;32m      3\u001b[0m \u001b[0;32mdef\u001b[0m \u001b[0msum_of_two\u001b[0m\u001b[0;34m(\u001b[0m\u001b[0ma\u001b[0m\u001b[0;34m,\u001b[0m \u001b[0mb\u001b[0m\u001b[0;34m)\u001b[0m\u001b[0;34m:\u001b[0m\u001b[0;34m\u001b[0m\u001b[0;34m\u001b[0m\u001b[0m\n\u001b[0;32m----> 4\u001b[0;31m   \u001b[0;32mreturn\u001b[0m \u001b[0;34m(\u001b[0m\u001b[0ma\u001b[0m\u001b[0;34m+\u001b[0m\u001b[0mb\u001b[0m\u001b[0;34m)\u001b[0m\u001b[0;34m\u001b[0m\u001b[0;34m\u001b[0m\u001b[0m\n\u001b[0m",
            "\u001b[0;31mTypeError\u001b[0m: unsupported operand type(s) for +: 'dict' and 'dict'"
          ]
        }
      ]
    },
    {
      "cell_type": "markdown",
      "source": [
        "#**Thursday August 18, 2023**"
      ],
      "metadata": {
        "id": "YBRW0fmHETMc"
      }
    },
    {
      "cell_type": "markdown",
      "source": [
        "![image.png](data:image/png;base64,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)"
      ],
      "metadata": {
        "id": "0rottj6uEfAL"
      }
    },
    {
      "cell_type": "markdown",
      "source": [
        "![image.png](data:image/png;base64,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)"
      ],
      "metadata": {
        "id": "a4TYbGibH1Fm"
      }
    },
    {
      "cell_type": "code",
      "source": [
        "for rows in range(0,10,1): # 10 Rows\n",
        "      for space in range(0,rows): # 0,1,2,3,4,5,6,7,8,9\n",
        "            print(' ', end='')\n",
        "      for astri in range(10,rows,-1): #10,9,8,7,6,5,4,3,2,1\n",
        "            print('*', end=' ')\n",
        "      print('\\r')"
      ],
      "metadata": {
        "colab": {
          "base_uri": "https://localhost:8080/"
        },
        "id": "QV5SIVRJESr0",
        "outputId": "10adab2c-1fb2-4c2e-e5d6-0af4fe4a6244"
      },
      "execution_count": null,
      "outputs": [
        {
          "output_type": "stream",
          "name": "stdout",
          "text": [
            "* * * * * * * * * * \r\n",
            " * * * * * * * * * \r\n",
            "  * * * * * * * * \r\n",
            "   * * * * * * * \r\n",
            "    * * * * * * \r\n",
            "     * * * * * \r\n",
            "      * * * * \r\n",
            "       * * * \r\n",
            "        * * \r\n",
            "         * \r\n"
          ]
        }
      ]
    },
    {
      "cell_type": "code",
      "source": [
        "for rows in range(0,10,1): # 10 Rows\n",
        "\n",
        "      for astri in range(10,rows,-1): #10,9,8,7,6,5,4,3,2,1\n",
        "            print('*', end=' ')\n",
        "      for space in range(0,rows): # 0,1,2,3,4,5,6,7,8,9\n",
        "            print(' ', end='')\n",
        "      print('\\r')"
      ],
      "metadata": {
        "colab": {
          "base_uri": "https://localhost:8080/"
        },
        "id": "Mxtm01jGHETF",
        "outputId": "526963b1-7448-4861-c9fc-4e2831a0b3c1"
      },
      "execution_count": null,
      "outputs": [
        {
          "output_type": "stream",
          "name": "stdout",
          "text": [
            "* * * * * * * * * * \n",
            "* * * * * * * * *  \n",
            "* * * * * * * *   \n",
            "* * * * * * *    \n",
            "* * * * * *     \n",
            "* * * * *      \n",
            "* * * *       \n",
            "* * *        \n",
            "* *         \n",
            "*          \n"
          ]
        }
      ]
    },
    {
      "cell_type": "code",
      "source": [
        "# Generating Hollow Pyramid Pattern Using Stars\n",
        "\n",
        "row = int(input('Enter number of rows required: '))\n",
        "\n",
        "for i in range(row):\n",
        "    for j in range(row-i):\n",
        "        print(' ', end='') # printing space required and staying in same line\n",
        "\n",
        "    for j in range(2*i+1):\n",
        "        if j==0 or j==2*i or i==row-1:\n",
        "            print('*',end='')\n",
        "        else:\n",
        "            print(' ', end='')\n",
        "    print() # printing new line"
      ],
      "metadata": {
        "colab": {
          "base_uri": "https://localhost:8080/"
        },
        "id": "b1XvfMehInJS",
        "outputId": "a4ca7059-bc29-47db-fedd-4cdfddb70fc7"
      },
      "execution_count": null,
      "outputs": [
        {
          "output_type": "stream",
          "name": "stdout",
          "text": [
            "Enter number of rows required: 10\n",
            "          *\n",
            "         * *\n",
            "        *   *\n",
            "       *     *\n",
            "      *       *\n",
            "     *         *\n",
            "    *           *\n",
            "   *             *\n",
            "  *               *\n",
            " *******************\n"
          ]
        }
      ]
    },
    {
      "cell_type": "code",
      "source": [
        "# Generating Hollow Pyramid Pattern Using Stars\n",
        "\n",
        "row = int(input('Enter number of rows required: '))\n",
        "\n",
        "for i in range(row):\n",
        "    for j in range(row-i):\n",
        "        print(' ', end='') # printing space required and staying in same line\n",
        "\n",
        "    for j in range(2*i+1):\n",
        "        if j==0 or j==2*i or i==row-1:\n",
        "            print(j,end='')\n",
        "        else:\n",
        "            print('*', end='')\n",
        "    print() # printing new line"
      ],
      "metadata": {
        "colab": {
          "base_uri": "https://localhost:8080/"
        },
        "id": "URQ3Ayw6KAQL",
        "outputId": "46bd4699-0c42-4efd-c5cf-e3498cc86868"
      },
      "execution_count": null,
      "outputs": [
        {
          "output_type": "stream",
          "name": "stdout",
          "text": [
            "Enter number of rows required: 10\n",
            "          0\n",
            "         0*2\n",
            "        0***4\n",
            "       0*****6\n",
            "      0*******8\n",
            "     0*********10\n",
            "    0***********12\n",
            "   0*************14\n",
            "  0***************16\n",
            " 0123456789101112131415161718\n"
          ]
        }
      ]
    },
    {
      "cell_type": "code",
      "source": [
        "# 0, 1, 1, 2, 3, 5, 8, 13, 21, 34....\n",
        "\n",
        "a = 0\n",
        "b = 1\n",
        "\n",
        "print(a, b, end=\" \")\n",
        "\n",
        "for i in range(10-2):\n",
        "  c = a+b\n",
        "  print(c, end=\" \")\n",
        "  a = b\n",
        "  b = c"
      ],
      "metadata": {
        "colab": {
          "base_uri": "https://localhost:8080/"
        },
        "id": "gorpEIxCLgj3",
        "outputId": "38d78f18-f36a-4b8a-b6ad-f0d5c77fec61"
      },
      "execution_count": null,
      "outputs": [
        {
          "output_type": "stream",
          "name": "stdout",
          "text": [
            "0 1 1 2 3 5 8 13 21 34 "
          ]
        }
      ]
    },
    {
      "cell_type": "code",
      "source": [
        "str1 = \"Python Programming\"\n",
        "\n",
        "str1[0], str1[1], str1[2], str1[3], str1[4], str1[5], str1[6], str1[7], str1[8], str1[9]"
      ],
      "metadata": {
        "colab": {
          "base_uri": "https://localhost:8080/"
        },
        "id": "Poj_fkBCP3Zd",
        "outputId": "c5d3bb9b-3a64-42a5-cc2f-1ab70411b0b4"
      },
      "execution_count": null,
      "outputs": [
        {
          "output_type": "execute_result",
          "data": {
            "text/plain": [
              "('P', 'y', 't', 'h', 'o', 'n', ' ', 'P', 'r', 'o')"
            ]
          },
          "metadata": {},
          "execution_count": 16
        }
      ]
    },
    {
      "cell_type": "code",
      "source": [
        "str1[0:len(str1):1]"
      ],
      "metadata": {
        "colab": {
          "base_uri": "https://localhost:8080/",
          "height": 35
        },
        "id": "9T3zFGJTQQFg",
        "outputId": "2de82fe2-d902-46f9-965b-5549358e22b3"
      },
      "execution_count": null,
      "outputs": [
        {
          "output_type": "execute_result",
          "data": {
            "text/plain": [
              "'Python Programming'"
            ],
            "application/vnd.google.colaboratory.intrinsic+json": {
              "type": "string"
            }
          },
          "metadata": {},
          "execution_count": 17
        }
      ]
    },
    {
      "cell_type": "code",
      "source": [
        "str1[::-1]"
      ],
      "metadata": {
        "colab": {
          "base_uri": "https://localhost:8080/",
          "height": 35
        },
        "id": "WYWJu5QaQXlm",
        "outputId": "698997a6-9fa2-4dbd-bbd3-1bf981319b3b"
      },
      "execution_count": null,
      "outputs": [
        {
          "output_type": "execute_result",
          "data": {
            "text/plain": [
              "'gnimmargorP nohtyP'"
            ],
            "application/vnd.google.colaboratory.intrinsic+json": {
              "type": "string"
            }
          },
          "metadata": {},
          "execution_count": 18
        }
      ]
    },
    {
      "cell_type": "code",
      "source": [
        "str1[-1], str1[-2], str1[-3], str1[-4], str1[-5], str1[-6], str1[-7], str1[-8], str1[-9], str1[-10], str1[-11]"
      ],
      "metadata": {
        "colab": {
          "base_uri": "https://localhost:8080/"
        },
        "id": "dlvyyEi5QgGm",
        "outputId": "2d6ce6b8-6d12-4b8f-b185-4e2eb8df7c4e"
      },
      "execution_count": null,
      "outputs": [
        {
          "output_type": "execute_result",
          "data": {
            "text/plain": [
              "('g', 'n', 'i', 'm', 'm', 'a', 'r', 'g', 'o', 'r', 'P')"
            ]
          },
          "metadata": {},
          "execution_count": 20
        }
      ]
    },
    {
      "cell_type": "code",
      "source": [
        "str1[-5:-9:-1], str1[-1:-5:-1]"
      ],
      "metadata": {
        "colab": {
          "base_uri": "https://localhost:8080/"
        },
        "id": "74Savrd2Q8xM",
        "outputId": "8287dfe7-1e27-4f4c-ca87-2e6b53333a2c"
      },
      "execution_count": null,
      "outputs": [
        {
          "output_type": "execute_result",
          "data": {
            "text/plain": [
              "('marg', 'gnim')"
            ]
          },
          "metadata": {},
          "execution_count": 23
        }
      ]
    },
    {
      "cell_type": "code",
      "source": [
        "str1 = 'malayalam'\n",
        "\n"
      ],
      "metadata": {
        "id": "SVMDPrA7UKoW"
      },
      "execution_count": null,
      "outputs": []
    },
    {
      "cell_type": "markdown",
      "source": [
        "#**Friday August 18, 2023**"
      ],
      "metadata": {
        "id": "e1bCXH9jGHtM"
      }
    },
    {
      "cell_type": "code",
      "source": [
        "f = open('my_file_operation.txt', 'x') # create file"
      ],
      "metadata": {
        "id": "ilLXaPo-GHYa"
      },
      "execution_count": null,
      "outputs": []
    },
    {
      "cell_type": "code",
      "source": [
        "f = open('my_file_operation.txt', 'x')"
      ],
      "metadata": {
        "colab": {
          "base_uri": "https://localhost:8080/",
          "height": 176
        },
        "id": "nndy5eAFIgwM",
        "outputId": "6bcd8743-e5ac-4ebb-9e35-32b2916314aa"
      },
      "execution_count": null,
      "outputs": [
        {
          "output_type": "error",
          "ename": "FileExistsError",
          "evalue": "ignored",
          "traceback": [
            "\u001b[0;31m---------------------------------------------------------------------------\u001b[0m",
            "\u001b[0;31mFileExistsError\u001b[0m                           Traceback (most recent call last)",
            "\u001b[0;32m<ipython-input-11-db62a7471981>\u001b[0m in \u001b[0;36m<cell line: 1>\u001b[0;34m()\u001b[0m\n\u001b[0;32m----> 1\u001b[0;31m \u001b[0mf\u001b[0m \u001b[0;34m=\u001b[0m \u001b[0mopen\u001b[0m\u001b[0;34m(\u001b[0m\u001b[0;34m'my_file_operation.txt'\u001b[0m\u001b[0;34m,\u001b[0m \u001b[0;34m'x'\u001b[0m\u001b[0;34m)\u001b[0m\u001b[0;34m\u001b[0m\u001b[0;34m\u001b[0m\u001b[0m\n\u001b[0m",
            "\u001b[0;31mFileExistsError\u001b[0m: [Errno 17] File exists: 'my_file_operation.txt'"
          ]
        }
      ]
    },
    {
      "cell_type": "code",
      "source": [
        "f = open('my_file_operation.txt', 'w')"
      ],
      "metadata": {
        "id": "U-Cy0l-kHHpL"
      },
      "execution_count": null,
      "outputs": []
    },
    {
      "cell_type": "code",
      "source": [
        "f.write('This is my first file operation program.')"
      ],
      "metadata": {
        "colab": {
          "base_uri": "https://localhost:8080/"
        },
        "id": "2HoWG8IjHPjB",
        "outputId": "7be9a604-ef20-4f55-cbaf-c988ef95683e"
      },
      "execution_count": null,
      "outputs": [
        {
          "output_type": "execute_result",
          "data": {
            "text/plain": [
              "40"
            ]
          },
          "metadata": {},
          "execution_count": 3
        }
      ]
    },
    {
      "cell_type": "code",
      "source": [
        "f = open('my_file_operation.txt', 'r')"
      ],
      "metadata": {
        "id": "n53wr-KgHe5j"
      },
      "execution_count": null,
      "outputs": []
    },
    {
      "cell_type": "code",
      "source": [
        "f = open('my_file_operation1.txt', 'r')"
      ],
      "metadata": {
        "colab": {
          "base_uri": "https://localhost:8080/",
          "height": 176
        },
        "id": "MhyrkrjuIVvi",
        "outputId": "15a37b31-f317-4c17-db46-7f067feb088c"
      },
      "execution_count": null,
      "outputs": [
        {
          "output_type": "error",
          "ename": "FileNotFoundError",
          "evalue": "ignored",
          "traceback": [
            "\u001b[0;31m---------------------------------------------------------------------------\u001b[0m",
            "\u001b[0;31mFileNotFoundError\u001b[0m                         Traceback (most recent call last)",
            "\u001b[0;32m<ipython-input-10-542e89b4a58f>\u001b[0m in \u001b[0;36m<cell line: 1>\u001b[0;34m()\u001b[0m\n\u001b[0;32m----> 1\u001b[0;31m \u001b[0mf\u001b[0m \u001b[0;34m=\u001b[0m \u001b[0mopen\u001b[0m\u001b[0;34m(\u001b[0m\u001b[0;34m'my_file_operation1.txt'\u001b[0m\u001b[0;34m,\u001b[0m \u001b[0;34m'r'\u001b[0m\u001b[0;34m)\u001b[0m\u001b[0;34m\u001b[0m\u001b[0;34m\u001b[0m\u001b[0m\n\u001b[0m",
            "\u001b[0;31mFileNotFoundError\u001b[0m: [Errno 2] No such file or directory: 'my_file_operation1.txt'"
          ]
        }
      ]
    },
    {
      "cell_type": "code",
      "source": [
        "f.read()"
      ],
      "metadata": {
        "colab": {
          "base_uri": "https://localhost:8080/",
          "height": 35
        },
        "id": "sRQLC47HHltA",
        "outputId": "c1e17869-b668-4176-c0a5-8c784b991317"
      },
      "execution_count": null,
      "outputs": [
        {
          "output_type": "execute_result",
          "data": {
            "text/plain": [
              "'This is my first file operation program.'"
            ],
            "application/vnd.google.colaboratory.intrinsic+json": {
              "type": "string"
            }
          },
          "metadata": {},
          "execution_count": 5
        }
      ]
    },
    {
      "cell_type": "code",
      "source": [
        "f = open('my_file_operation.txt', 'a')"
      ],
      "metadata": {
        "id": "YjijIlHNHtSa"
      },
      "execution_count": null,
      "outputs": []
    },
    {
      "cell_type": "code",
      "source": [
        "f.write('This is set of new text for my file my_file_operation.txt')"
      ],
      "metadata": {
        "colab": {
          "base_uri": "https://localhost:8080/"
        },
        "id": "yoSGjpNIH1x4",
        "outputId": "fb70dd46-dde0-460f-a056-0a7bad410134"
      },
      "execution_count": null,
      "outputs": [
        {
          "output_type": "execute_result",
          "data": {
            "text/plain": [
              "57"
            ]
          },
          "metadata": {},
          "execution_count": 7
        }
      ]
    },
    {
      "cell_type": "code",
      "source": [
        "f = open('my_file_operation.txt', 'r')"
      ],
      "metadata": {
        "id": "tF2rHyQyIEnj"
      },
      "execution_count": null,
      "outputs": []
    },
    {
      "cell_type": "code",
      "source": [
        "f.read()"
      ],
      "metadata": {
        "colab": {
          "base_uri": "https://localhost:8080/",
          "height": 35
        },
        "id": "N83UPLPoILJ7",
        "outputId": "90b22d78-9c43-4449-e5f7-c7fab32c5c08"
      },
      "execution_count": null,
      "outputs": [
        {
          "output_type": "execute_result",
          "data": {
            "text/plain": [
              "'This is my first file operation program.This is set of new text for my file my_file_operation.txt'"
            ],
            "application/vnd.google.colaboratory.intrinsic+json": {
              "type": "string"
            }
          },
          "metadata": {},
          "execution_count": 9
        }
      ]
    },
    {
      "cell_type": "markdown",
      "source": [
        "#**Exception Handling**\n",
        "\n",
        "\n",
        "      1. syntax error\n",
        "      2. logical error\n",
        "      3. run time error"
      ],
      "metadata": {
        "id": "kq-2l3oaO8s7"
      }
    },
    {
      "cell_type": "code",
      "source": [
        "print('my name is Anuurag\")"
      ],
      "metadata": {
        "id": "5XmLDvsRKipA"
      },
      "execution_count": null,
      "outputs": []
    },
    {
      "cell_type": "code",
      "source": [
        "for i in range(10)\n",
        "  print(i)"
      ],
      "metadata": {
        "id": "E_78Qxf1PzcH"
      },
      "execution_count": null,
      "outputs": []
    },
    {
      "cell_type": "code",
      "source": [
        "for i in range(10):\n",
        "print(i)"
      ],
      "metadata": {
        "id": "Bid_fJNqP5Oh"
      },
      "execution_count": null,
      "outputs": []
    },
    {
      "cell_type": "code",
      "source": [
        "2+2"
      ],
      "metadata": {
        "colab": {
          "base_uri": "https://localhost:8080/"
        },
        "id": "ZpYpvdoJQMC7",
        "outputId": "b01d53c2-fb63-4337-db28-c076ffa131ee"
      },
      "execution_count": null,
      "outputs": [
        {
          "output_type": "execute_result",
          "data": {
            "text/plain": [
              "4"
            ]
          },
          "metadata": {},
          "execution_count": 15
        }
      ]
    },
    {
      "cell_type": "code",
      "source": [
        "f = open('my_file_operation_EH.txt', 'x')"
      ],
      "metadata": {
        "id": "Duyf77JnQzY_"
      },
      "execution_count": null,
      "outputs": []
    },
    {
      "cell_type": "code",
      "source": [
        "f = open('my_file_operation_EH.txt', 'x')"
      ],
      "metadata": {
        "colab": {
          "base_uri": "https://localhost:8080/",
          "height": 176
        },
        "id": "llqx9JY3REnJ",
        "outputId": "7f261d09-07b8-4336-b6b1-ac574840d74b"
      },
      "execution_count": null,
      "outputs": [
        {
          "output_type": "error",
          "ename": "FileExistsError",
          "evalue": "ignored",
          "traceback": [
            "\u001b[0;31m---------------------------------------------------------------------------\u001b[0m",
            "\u001b[0;31mFileExistsError\u001b[0m                           Traceback (most recent call last)",
            "\u001b[0;32m<ipython-input-17-0ebadc50435f>\u001b[0m in \u001b[0;36m<cell line: 1>\u001b[0;34m()\u001b[0m\n\u001b[0;32m----> 1\u001b[0;31m \u001b[0mf\u001b[0m \u001b[0;34m=\u001b[0m \u001b[0mopen\u001b[0m\u001b[0;34m(\u001b[0m\u001b[0;34m'my_file_operation_EH.txt'\u001b[0m\u001b[0;34m,\u001b[0m \u001b[0;34m'x'\u001b[0m\u001b[0;34m)\u001b[0m\u001b[0;34m\u001b[0m\u001b[0;34m\u001b[0m\u001b[0m\n\u001b[0m",
            "\u001b[0;31mFileExistsError\u001b[0m: [Errno 17] File exists: 'my_file_operation_EH.txt'"
          ]
        }
      ]
    },
    {
      "cell_type": "code",
      "source": [
        "try:\n",
        "  f = open('my_file_operation_EH.txt', 'x')\n",
        "except FileExistsError as fee:\n",
        "  print('FileExistsError Exception ', fee)"
      ],
      "metadata": {
        "colab": {
          "base_uri": "https://localhost:8080/"
        },
        "id": "MKO7xpUSRPmd",
        "outputId": "580c2e12-79c2-4441-c2b6-0051d24eeacc"
      },
      "execution_count": null,
      "outputs": [
        {
          "output_type": "stream",
          "name": "stdout",
          "text": [
            "FileExistsError Exception  [Errno 17] File exists: 'my_file_operation_EH.txt'\n"
          ]
        }
      ]
    },
    {
      "cell_type": "code",
      "source": [
        "f = open('my_file_operation_EH.txt', 'r')"
      ],
      "metadata": {
        "id": "SQoe7g2oRvYy"
      },
      "execution_count": null,
      "outputs": []
    },
    {
      "cell_type": "code",
      "source": [
        "f = open('my_file_operation_EH1.txt', 'r')"
      ],
      "metadata": {
        "colab": {
          "base_uri": "https://localhost:8080/",
          "height": 176
        },
        "id": "Ajs_LeZqR2Gy",
        "outputId": "1faf9722-6999-481f-ec5a-8494e9677058"
      },
      "execution_count": null,
      "outputs": [
        {
          "output_type": "error",
          "ename": "FileNotFoundError",
          "evalue": "ignored",
          "traceback": [
            "\u001b[0;31m---------------------------------------------------------------------------\u001b[0m",
            "\u001b[0;31mFileNotFoundError\u001b[0m                         Traceback (most recent call last)",
            "\u001b[0;32m<ipython-input-20-5dcce9e63142>\u001b[0m in \u001b[0;36m<cell line: 1>\u001b[0;34m()\u001b[0m\n\u001b[0;32m----> 1\u001b[0;31m \u001b[0mf\u001b[0m \u001b[0;34m=\u001b[0m \u001b[0mopen\u001b[0m\u001b[0;34m(\u001b[0m\u001b[0;34m'my_file_operation_EH1.txt'\u001b[0m\u001b[0;34m,\u001b[0m \u001b[0;34m'r'\u001b[0m\u001b[0;34m)\u001b[0m\u001b[0;34m\u001b[0m\u001b[0;34m\u001b[0m\u001b[0m\n\u001b[0m",
            "\u001b[0;31mFileNotFoundError\u001b[0m: [Errno 2] No such file or directory: 'my_file_operation_EH1.txt'"
          ]
        }
      ]
    },
    {
      "cell_type": "code",
      "source": [
        "try:\n",
        "  f = open('my_file_operation_EH1.txt', 'r')\n",
        "except FileNotFoundError as fnfe:\n",
        "  print('FileNotFoundError Exception ', fnfe)"
      ],
      "metadata": {
        "colab": {
          "base_uri": "https://localhost:8080/"
        },
        "id": "gDyXx_s3R6yc",
        "outputId": "77eb51ef-6d96-4af4-9289-3245c3c4c714"
      },
      "execution_count": null,
      "outputs": [
        {
          "output_type": "stream",
          "name": "stdout",
          "text": [
            "FileNotFoundError Exception  [Errno 2] No such file or directory: 'my_file_operation_EH1.txt'\n"
          ]
        }
      ]
    },
    {
      "cell_type": "code",
      "source": [
        "lst1 = [12,23,34,45,56,67,78,89,90,10,20,30,40,50,60,70,80,90,100]\n",
        "v_len = len(lst1)\n",
        "print(v_len, v_len+3)\n",
        "for i in range(v_len+3):\n",
        "  print('value inside my list ', lst1[i])"
      ],
      "metadata": {
        "colab": {
          "base_uri": "https://localhost:8080/",
          "height": 558
        },
        "id": "7HgdJ7PTyPM4",
        "outputId": "c6ecc83b-de24-401b-c4d6-b936e8f8b4b1"
      },
      "execution_count": null,
      "outputs": [
        {
          "output_type": "stream",
          "name": "stdout",
          "text": [
            "19 22\n",
            "value inside my list  12\n",
            "value inside my list  23\n",
            "value inside my list  34\n",
            "value inside my list  45\n",
            "value inside my list  56\n",
            "value inside my list  67\n",
            "value inside my list  78\n",
            "value inside my list  89\n",
            "value inside my list  90\n",
            "value inside my list  10\n",
            "value inside my list  20\n",
            "value inside my list  30\n",
            "value inside my list  40\n",
            "value inside my list  50\n",
            "value inside my list  60\n",
            "value inside my list  70\n",
            "value inside my list  80\n",
            "value inside my list  90\n",
            "value inside my list  100\n"
          ]
        },
        {
          "output_type": "error",
          "ename": "IndexError",
          "evalue": "ignored",
          "traceback": [
            "\u001b[0;31m---------------------------------------------------------------------------\u001b[0m",
            "\u001b[0;31mIndexError\u001b[0m                                Traceback (most recent call last)",
            "\u001b[0;32m<ipython-input-25-57b904da34d5>\u001b[0m in \u001b[0;36m<cell line: 4>\u001b[0;34m()\u001b[0m\n\u001b[1;32m      3\u001b[0m \u001b[0mprint\u001b[0m\u001b[0;34m(\u001b[0m\u001b[0mv_len\u001b[0m\u001b[0;34m,\u001b[0m \u001b[0mv_len\u001b[0m\u001b[0;34m+\u001b[0m\u001b[0;36m3\u001b[0m\u001b[0;34m)\u001b[0m\u001b[0;34m\u001b[0m\u001b[0;34m\u001b[0m\u001b[0m\n\u001b[1;32m      4\u001b[0m \u001b[0;32mfor\u001b[0m \u001b[0mi\u001b[0m \u001b[0;32min\u001b[0m \u001b[0mrange\u001b[0m\u001b[0;34m(\u001b[0m\u001b[0mv_len\u001b[0m\u001b[0;34m+\u001b[0m\u001b[0;36m3\u001b[0m\u001b[0;34m)\u001b[0m\u001b[0;34m:\u001b[0m\u001b[0;34m\u001b[0m\u001b[0;34m\u001b[0m\u001b[0m\n\u001b[0;32m----> 5\u001b[0;31m   \u001b[0mprint\u001b[0m\u001b[0;34m(\u001b[0m\u001b[0;34m'value inside my list '\u001b[0m\u001b[0;34m,\u001b[0m \u001b[0mlst1\u001b[0m\u001b[0;34m[\u001b[0m\u001b[0mi\u001b[0m\u001b[0;34m]\u001b[0m\u001b[0;34m)\u001b[0m\u001b[0;34m\u001b[0m\u001b[0;34m\u001b[0m\u001b[0m\n\u001b[0m",
            "\u001b[0;31mIndexError\u001b[0m: list index out of range"
          ]
        }
      ]
    },
    {
      "cell_type": "code",
      "source": [
        "lst1 = [12,23,34,45,56,67,78,89,90,10,20,30,40,50,60,70,80,90,100]\n",
        "v_len = len(lst1)\n",
        "print(v_len, v_len+3)\n",
        "for i in range(v_len+3):\n",
        "  try:\n",
        "    print('value inside my list ', lst1[i])\n",
        "  except IndexError as ie:\n",
        "    print('IndexError Exception my list is of length ', v_len, 'and trying to fetch index ', v_len+3, ie)"
      ],
      "metadata": {
        "colab": {
          "base_uri": "https://localhost:8080/"
        },
        "id": "BvNAL-SPzOjp",
        "outputId": "02772497-5f7d-4114-b416-4ad136b49802"
      },
      "execution_count": null,
      "outputs": [
        {
          "output_type": "stream",
          "name": "stdout",
          "text": [
            "19 22\n",
            "value inside my list  12\n",
            "value inside my list  23\n",
            "value inside my list  34\n",
            "value inside my list  45\n",
            "value inside my list  56\n",
            "value inside my list  67\n",
            "value inside my list  78\n",
            "value inside my list  89\n",
            "value inside my list  90\n",
            "value inside my list  10\n",
            "value inside my list  20\n",
            "value inside my list  30\n",
            "value inside my list  40\n",
            "value inside my list  50\n",
            "value inside my list  60\n",
            "value inside my list  70\n",
            "value inside my list  80\n",
            "value inside my list  90\n",
            "value inside my list  100\n",
            "IndexError Exception my list is of length  19 and trying to fetch index  22 list index out of range\n",
            "IndexError Exception my list is of length  19 and trying to fetch index  22 list index out of range\n",
            "IndexError Exception my list is of length  19 and trying to fetch index  22 list index out of range\n"
          ]
        }
      ]
    },
    {
      "cell_type": "code",
      "source": [
        "tup1 = (1,2,3,4,5,6,7,8,9,10)\n",
        "\n",
        "tup1.append(11)"
      ],
      "metadata": {
        "colab": {
          "base_uri": "https://localhost:8080/",
          "height": 211
        },
        "id": "3Z2vNkus0Heo",
        "outputId": "eee41c62-3772-4730-c3de-b8a69de64586"
      },
      "execution_count": null,
      "outputs": [
        {
          "output_type": "error",
          "ename": "AttributeError",
          "evalue": "ignored",
          "traceback": [
            "\u001b[0;31m---------------------------------------------------------------------------\u001b[0m",
            "\u001b[0;31mAttributeError\u001b[0m                            Traceback (most recent call last)",
            "\u001b[0;32m<ipython-input-29-1ae5af60fa56>\u001b[0m in \u001b[0;36m<cell line: 3>\u001b[0;34m()\u001b[0m\n\u001b[1;32m      1\u001b[0m \u001b[0mtup1\u001b[0m \u001b[0;34m=\u001b[0m \u001b[0;34m(\u001b[0m\u001b[0;36m1\u001b[0m\u001b[0;34m,\u001b[0m\u001b[0;36m2\u001b[0m\u001b[0;34m,\u001b[0m\u001b[0;36m3\u001b[0m\u001b[0;34m,\u001b[0m\u001b[0;36m4\u001b[0m\u001b[0;34m,\u001b[0m\u001b[0;36m5\u001b[0m\u001b[0;34m,\u001b[0m\u001b[0;36m6\u001b[0m\u001b[0;34m,\u001b[0m\u001b[0;36m7\u001b[0m\u001b[0;34m,\u001b[0m\u001b[0;36m8\u001b[0m\u001b[0;34m,\u001b[0m\u001b[0;36m9\u001b[0m\u001b[0;34m,\u001b[0m\u001b[0;36m10\u001b[0m\u001b[0;34m)\u001b[0m\u001b[0;34m\u001b[0m\u001b[0;34m\u001b[0m\u001b[0m\n\u001b[1;32m      2\u001b[0m \u001b[0;34m\u001b[0m\u001b[0m\n\u001b[0;32m----> 3\u001b[0;31m \u001b[0mtup1\u001b[0m\u001b[0;34m.\u001b[0m\u001b[0mappend\u001b[0m\u001b[0;34m(\u001b[0m\u001b[0;36m11\u001b[0m\u001b[0;34m)\u001b[0m\u001b[0;34m\u001b[0m\u001b[0;34m\u001b[0m\u001b[0m\n\u001b[0m",
            "\u001b[0;31mAttributeError\u001b[0m: 'tuple' object has no attribute 'append'"
          ]
        }
      ]
    },
    {
      "cell_type": "code",
      "source": [
        "tup1 = (1,2,3,4,5,6,7,8,9,10)\n",
        "try:\n",
        "  tup1.append(11)\n",
        "except AttributeError as ae:\n",
        "  print('AttributeError Exception ', ae)"
      ],
      "metadata": {
        "colab": {
          "base_uri": "https://localhost:8080/"
        },
        "id": "7KVuAJIN0oxu",
        "outputId": "0c438c0c-8a10-436b-a56b-de2257d6a961"
      },
      "execution_count": null,
      "outputs": [
        {
          "output_type": "stream",
          "name": "stdout",
          "text": [
            "AttributeError Exception  'tuple' object has no attribute 'append'\n"
          ]
        }
      ]
    },
    {
      "cell_type": "code",
      "source": [
        "a = 'Python'\n",
        "b = 10\n",
        "c = 'Programming'\n",
        "\n",
        "print(a+b+c)"
      ],
      "metadata": {
        "colab": {
          "base_uri": "https://localhost:8080/",
          "height": 211
        },
        "id": "Gq-B2cUn06ny",
        "outputId": "3171db42-3418-4b4e-c3ed-e23c69a33f63"
      },
      "execution_count": null,
      "outputs": [
        {
          "output_type": "error",
          "ename": "TypeError",
          "evalue": "ignored",
          "traceback": [
            "\u001b[0;31m---------------------------------------------------------------------------\u001b[0m",
            "\u001b[0;31mTypeError\u001b[0m                                 Traceback (most recent call last)",
            "\u001b[0;32m<ipython-input-33-99ab24745270>\u001b[0m in \u001b[0;36m<cell line: 5>\u001b[0;34m()\u001b[0m\n\u001b[1;32m      3\u001b[0m \u001b[0mc\u001b[0m \u001b[0;34m=\u001b[0m \u001b[0;34m'Programming'\u001b[0m\u001b[0;34m\u001b[0m\u001b[0;34m\u001b[0m\u001b[0m\n\u001b[1;32m      4\u001b[0m \u001b[0;34m\u001b[0m\u001b[0m\n\u001b[0;32m----> 5\u001b[0;31m \u001b[0mprint\u001b[0m\u001b[0;34m(\u001b[0m\u001b[0ma\u001b[0m\u001b[0;34m+\u001b[0m\u001b[0mb\u001b[0m\u001b[0;34m+\u001b[0m\u001b[0mc\u001b[0m\u001b[0;34m)\u001b[0m\u001b[0;34m\u001b[0m\u001b[0;34m\u001b[0m\u001b[0m\n\u001b[0m",
            "\u001b[0;31mTypeError\u001b[0m: can only concatenate str (not \"int\") to str"
          ]
        }
      ]
    },
    {
      "cell_type": "code",
      "source": [
        "a = 'Python'\n",
        "b = 10\n",
        "c = 'Programming'\n",
        "\n",
        "try:\n",
        "  print(a+c)\n",
        "  print(a+b+c)\n",
        "  print(a+b)\n",
        "  print(b+c)\n",
        "except TypeError as te:\n",
        "  print('TypeError Exception ', te)"
      ],
      "metadata": {
        "colab": {
          "base_uri": "https://localhost:8080/"
        },
        "id": "S8TgbeNP1Voy",
        "outputId": "071eb338-f67e-421f-98b8-d54010a4d452"
      },
      "execution_count": null,
      "outputs": [
        {
          "output_type": "stream",
          "name": "stdout",
          "text": [
            "PythonProgramming\n",
            "TypeError Exception  can only concatenate str (not \"int\") to str\n"
          ]
        }
      ]
    },
    {
      "cell_type": "code",
      "source": [
        "for i in range(10):\n",
        "print(i)"
      ],
      "metadata": {
        "colab": {
          "base_uri": "https://localhost:8080/",
          "height": 141
        },
        "id": "DW_iY8OK2Zg9",
        "outputId": "efbfab25-0e93-469c-e1e2-25c28eae6af7"
      },
      "execution_count": null,
      "outputs": [
        {
          "output_type": "error",
          "ename": "IndentationError",
          "evalue": "ignored",
          "traceback": [
            "\u001b[0;36m  File \u001b[0;32m\"<ipython-input-38-60db711a03d9>\"\u001b[0;36m, line \u001b[0;32m2\u001b[0m\n\u001b[0;31m    print(i)\u001b[0m\n\u001b[0m    ^\u001b[0m\n\u001b[0;31mIndentationError\u001b[0m\u001b[0;31m:\u001b[0m expected an indented block after 'for' statement on line 1\n"
          ]
        }
      ]
    },
    {
      "cell_type": "code",
      "source": [
        "try:\n",
        "  for i in range(10):\n",
        "  print(i)\n",
        "except IndentationError as ie:\n",
        "   print('IndentationError', ie)\n",
        "\n"
      ],
      "metadata": {
        "colab": {
          "base_uri": "https://localhost:8080/",
          "height": 141
        },
        "id": "7HoPkuGm2h62",
        "outputId": "2a3cee74-4d8e-4efb-9909-9e6fdab80f05"
      },
      "execution_count": null,
      "outputs": [
        {
          "output_type": "error",
          "ename": "IndentationError",
          "evalue": "ignored",
          "traceback": [
            "\u001b[0;36m  File \u001b[0;32m\"<ipython-input-40-3bbe3812a5b0>\"\u001b[0;36m, line \u001b[0;32m3\u001b[0m\n\u001b[0;31m    print(i)\u001b[0m\n\u001b[0m    ^\u001b[0m\n\u001b[0;31mIndentationError\u001b[0m\u001b[0;31m:\u001b[0m expected an indented block after 'for' statement on line 2\n"
          ]
        }
      ]
    }
  ]
}