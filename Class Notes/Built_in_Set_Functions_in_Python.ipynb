{
  "nbformat": 4,
  "nbformat_minor": 0,
  "metadata": {
    "colab": {
      "provenance": [],
      "authorship_tag": "ABX9TyOnkxj6EHsIenNDggkF91ZT",
      "include_colab_link": true
    },
    "kernelspec": {
      "name": "python3",
      "display_name": "Python 3"
    },
    "language_info": {
      "name": "python"
    }
  },
  "cells": [
    {
      "cell_type": "markdown",
      "metadata": {
        "id": "view-in-github",
        "colab_type": "text"
      },
      "source": [
        "<a href=\"https://colab.research.google.com/github/bashant21/DataScienceBootcamp/blob/main/Class%20Notes/Built_in_Set_Functions_in_Python.ipynb\" target=\"_parent\"><img src=\"https://colab.research.google.com/assets/colab-badge.svg\" alt=\"Open In Colab\"/></a>"
      ]
    },
    {
      "cell_type": "code",
      "execution_count": null,
      "metadata": {
        "colab": {
          "base_uri": "https://localhost:8080/"
        },
        "id": "-D1Ceqycj-ji",
        "outputId": "22d87377-7b59-48bc-cc11-89075dfdf56b"
      },
      "outputs": [
        {
          "output_type": "execute_result",
          "data": {
            "text/plain": [
              "['__and__',\n",
              " '__class__',\n",
              " '__class_getitem__',\n",
              " '__contains__',\n",
              " '__delattr__',\n",
              " '__dir__',\n",
              " '__doc__',\n",
              " '__eq__',\n",
              " '__format__',\n",
              " '__ge__',\n",
              " '__getattribute__',\n",
              " '__gt__',\n",
              " '__hash__',\n",
              " '__iand__',\n",
              " '__init__',\n",
              " '__init_subclass__',\n",
              " '__ior__',\n",
              " '__isub__',\n",
              " '__iter__',\n",
              " '__ixor__',\n",
              " '__le__',\n",
              " '__len__',\n",
              " '__lt__',\n",
              " '__ne__',\n",
              " '__new__',\n",
              " '__or__',\n",
              " '__rand__',\n",
              " '__reduce__',\n",
              " '__reduce_ex__',\n",
              " '__repr__',\n",
              " '__ror__',\n",
              " '__rsub__',\n",
              " '__rxor__',\n",
              " '__setattr__',\n",
              " '__sizeof__',\n",
              " '__str__',\n",
              " '__sub__',\n",
              " '__subclasshook__',\n",
              " '__xor__',\n",
              " 'add',\n",
              " 'clear',\n",
              " 'copy',\n",
              " 'difference',\n",
              " 'difference_update',\n",
              " 'discard',\n",
              " 'intersection',\n",
              " 'intersection_update',\n",
              " 'isdisjoint',\n",
              " 'issubset',\n",
              " 'issuperset',\n",
              " 'pop',\n",
              " 'remove',\n",
              " 'symmetric_difference',\n",
              " 'symmetric_difference_update',\n",
              " 'union',\n",
              " 'update']"
            ]
          },
          "metadata": {},
          "execution_count": 1
        }
      ],
      "source": [
        "dir(set)"
      ]
    },
    {
      "cell_type": "code",
      "source": [
        "# set() constructor: Creates a new set.\n",
        "x = set([1, 2, 3])\n",
        "print('x is :',x)\n",
        "y = set((4, 5, 6, 7))\n",
        "print('y is :',y)"
      ],
      "metadata": {
        "colab": {
          "base_uri": "https://localhost:8080/"
        },
        "id": "VfSjnIBbkfKp",
        "outputId": "2190ac53-916b-4a69-ec80-6309097cf991"
      },
      "execution_count": null,
      "outputs": [
        {
          "output_type": "stream",
          "name": "stdout",
          "text": [
            "x is : {1, 2, 3}\n",
            "y is : {4, 5, 6, 7}\n"
          ]
        }
      ]
    },
    {
      "cell_type": "code",
      "source": [
        "# add(element) method: Adds an element to the set.\n",
        "# If an element is already exist in the set, then it does not add that element.\n",
        "\n",
        "a = {1, 2, 3, 4, 5}\n",
        "a.add(77)\n",
        "print('After adding 77 :', a)\n",
        "a.add(5)\n",
        "print('After adding 5 :', a)  #NO change. Set do not allow duplicate"
      ],
      "metadata": {
        "colab": {
          "base_uri": "https://localhost:8080/"
        },
        "id": "B5KPjvFHlPjp",
        "outputId": "1fcb3866-3064-4f01-9abd-199305e5e644"
      },
      "execution_count": null,
      "outputs": [
        {
          "output_type": "stream",
          "name": "stdout",
          "text": [
            "After adding 77 : {1, 2, 3, 4, 5, 77}\n",
            "After adding 5 : {1, 2, 3, 4, 5, 77}\n"
          ]
        }
      ]
    },
    {
      "cell_type": "code",
      "source": [
        "# clear() method: Removes all elements from the set, leaving an empty set.\n",
        "a = {1, 2, 3, 4, 5}\n",
        "a.clear()\n",
        "print(a)\n"
      ],
      "metadata": {
        "colab": {
          "base_uri": "https://localhost:8080/"
        },
        "id": "USvxi4qnw-cj",
        "outputId": "890443fe-7591-47c6-ee98-c38234c39e2f"
      },
      "execution_count": null,
      "outputs": [
        {
          "output_type": "stream",
          "name": "stdout",
          "text": [
            "set()\n"
          ]
        }
      ]
    },
    {
      "cell_type": "code",
      "source": [
        "# copy() method: Creates a shallow copy of the set.\n",
        "\n",
        "a = {1, 2, 3, 4, 5}\n",
        "b = a.copy()\n",
        "print(b)\n"
      ],
      "metadata": {
        "colab": {
          "base_uri": "https://localhost:8080/"
        },
        "id": "sXTMVfVyx-Qe",
        "outputId": "aed16048-41ed-4b7b-f91f-102994cbfd1e"
      },
      "execution_count": null,
      "outputs": [
        {
          "output_type": "stream",
          "name": "stdout",
          "text": [
            "{1, 2, 3, 4, 5}\n"
          ]
        }
      ]
    },
    {
      "cell_type": "code",
      "source": [
        "# difference(other_set) method or - operator: Returns a new set containing elements that are in the first set but not in the second set.\n",
        "\n",
        "set1 = {1, 2, 3, 4, 5, 'apple', 'banana', 'orange'}\n",
        "set2 = {4, 5, 6, 'banana', 'orange'}\n",
        "print('Unique value of set1', set1.difference(set2))\n",
        "print('Unique value of set2', set2.difference(set1))\n",
        "print('\\n')\n",
        "set3 = set1.difference(set2)\n",
        "set4 = set2.difference(set1)\n",
        "print('Difference(set2) :', set3)\n",
        "print('Difference(set1) :', set4)"
      ],
      "metadata": {
        "colab": {
          "base_uri": "https://localhost:8080/"
        },
        "id": "jkKBWc6P2JiJ",
        "outputId": "226e4422-c38e-4ae2-fba4-15081ab5c6df"
      },
      "execution_count": null,
      "outputs": [
        {
          "output_type": "stream",
          "name": "stdout",
          "text": [
            "Unique value of set1 {'apple', 1, 2, 3}\n",
            "Unique value of set2 {6}\n",
            "\n",
            "\n",
            "Difference(set2) : {'apple', 1, 2, 3}\n",
            "Difference(set1) : {6}\n"
          ]
        }
      ]
    },
    {
      "cell_type": "code",
      "source": [
        "# Updates the set on which the method is called with the elements that are common in another set passed as an argument.\n",
        "\n",
        "set1 = {1, 2, 3, 4, 5, 'apple', 'banana', 'orange'}\n",
        "set2 = {4, 5, 6, 'banana', 'orange'}\n",
        "\n",
        "set2.difference_update(set1)\n",
        "\n",
        "print('Set2 is :', set2)\n"
      ],
      "metadata": {
        "colab": {
          "base_uri": "https://localhost:8080/"
        },
        "id": "WRtXEEax669E",
        "outputId": "5118be79-119b-4fe9-c58e-d9d4080a8e3d"
      },
      "execution_count": null,
      "outputs": [
        {
          "output_type": "stream",
          "name": "stdout",
          "text": [
            "Set2 is : {6}\n"
          ]
        }
      ]
    },
    {
      "cell_type": "code",
      "source": [
        "set1 = {1, 2, 3, 4, 5, 'apple', 'banana', 'orange'}\n",
        "set2 = {4, 5, 6, 'banana', 'orange'}\n",
        "\n",
        "set1.difference_update(set2)\n",
        "print(set1)"
      ],
      "metadata": {
        "colab": {
          "base_uri": "https://localhost:8080/"
        },
        "id": "AfBkTTFV8T1I",
        "outputId": "f617911a-1d52-4981-c052-f4d3f2bdcfbe"
      },
      "execution_count": null,
      "outputs": [
        {
          "output_type": "stream",
          "name": "stdout",
          "text": [
            "{1, 2, 3, 'apple'}\n"
          ]
        }
      ]
    },
    {
      "cell_type": "code",
      "source": [
        "# discard(element) method: Removes an element from the set if it is present, but does nothing if the element is not found.\n",
        "\n",
        "set1 = {1, 2, 3, 4, 5, 'apple', 'banana', 'orange'}\n",
        "\n",
        "set1.remove(5)\n",
        "print(set1)"
      ],
      "metadata": {
        "colab": {
          "base_uri": "https://localhost:8080/"
        },
        "id": "tYXdhAjN8tUo",
        "outputId": "ead1a68d-fa4a-41eb-bec5-5ab109b3fda2"
      },
      "execution_count": null,
      "outputs": [
        {
          "output_type": "stream",
          "name": "stdout",
          "text": [
            "{1, 2, 3, 4, 'orange', 'apple', 'banana'}\n"
          ]
        }
      ]
    },
    {
      "cell_type": "code",
      "source": [
        "# intersection(other_set): Returns a new set containing elements that are common to both sets.\n",
        "\n",
        "set1 = {1, 2, 3, 4, 5, 'apple', 'banana', 'orange'}\n",
        "set2 = {4, 5, 6, 'banana', 'orange'}\n",
        "\n",
        "print('The interaction of set1 and set2', set1.intersection(set2))\n",
        "print('The interaction of set2 and set1', set2.intersection(set1))\n",
        "\n"
      ],
      "metadata": {
        "colab": {
          "base_uri": "https://localhost:8080/"
        },
        "id": "tgRoK3Vt9NJ-",
        "outputId": "ab5f2611-38a2-4d3f-e0a2-f9353e1f2339"
      },
      "execution_count": null,
      "outputs": [
        {
          "output_type": "stream",
          "name": "stdout",
          "text": [
            "The interaction of set1 and set2 {'banana', 'orange', 4, 5}\n",
            "The interaction of set2 and set1 {'banana', 'orange', 4, 5}\n"
          ]
        }
      ]
    },
    {
      "cell_type": "code",
      "source": [
        "# isdisjoint() : Returns true if the given sets have no common elements. Sets are disjoint if and only if their intersection is the empty set.\n",
        "\n",
        "set1 = {1, 2, 3, 4, 5, 'apple', 'banana', 'orange'}\n",
        "set2 = {4, 5, 6, 'banana', 'orange'}\n",
        "\n",
        "print('Disjoint of set1 and set2 : ', set1.isdisjoint(set2))\n",
        "print('Disjoint of set1 and set2 : ', set2.isdisjoint(set1))"
      ],
      "metadata": {
        "colab": {
          "base_uri": "https://localhost:8080/"
        },
        "id": "TBnz9NdY9r_5",
        "outputId": "8e9d0000-646d-40e7-b310-3b08b94da11d"
      },
      "execution_count": null,
      "outputs": [
        {
          "output_type": "stream",
          "name": "stdout",
          "text": [
            "Disjoint of set1 and set2 :  False\n",
            "Disjoint of set1 and set2 :  False\n"
          ]
        }
      ]
    },
    {
      "cell_type": "code",
      "source": [
        "set1 = {1, 2, 3, 4, 5}\n",
        "set2 = {6, 7, 8, 9, 10}\n",
        "\n",
        "print('Disjoint of set1 and set2 : ', set1.isdisjoint(set2))"
      ],
      "metadata": {
        "colab": {
          "base_uri": "https://localhost:8080/"
        },
        "id": "xAFHVas2-gIQ",
        "outputId": "a3b29e6d-4ad9-4269-a316-dff9f28bc2b7"
      },
      "execution_count": null,
      "outputs": [
        {
          "output_type": "stream",
          "name": "stdout",
          "text": [
            "Disjoint of set1 and set2 :  True\n"
          ]
        }
      ]
    },
    {
      "cell_type": "code",
      "source": [
        "# issubset(other_set) method: Returns True if the set is a subset of the other set, otherwise False.\n",
        "\n",
        "set1 = {1, 2, 3, 4, 5}\n",
        "set2 = {6, 7, 8, 9, 10}\n",
        "\n",
        "print('Is subset :', set1.issubset(set2))"
      ],
      "metadata": {
        "colab": {
          "base_uri": "https://localhost:8080/"
        },
        "id": "UDWoqx1n-oQF",
        "outputId": "f2b2f1ec-ad79-4118-8185-0382f0e0d495"
      },
      "execution_count": null,
      "outputs": [
        {
          "output_type": "stream",
          "name": "stdout",
          "text": [
            "Is subset : False\n"
          ]
        }
      ]
    },
    {
      "cell_type": "code",
      "source": [
        "set1 = {7, 8, 9}\n",
        "set2 = {6, 7, 8, 9, 10}\n",
        "print('Set2 is subset of set1  :', set2.issubset(set1))\n",
        "print('Set1 is subset of set2  :', set1.issubset(set2))"
      ],
      "metadata": {
        "colab": {
          "base_uri": "https://localhost:8080/"
        },
        "id": "nF7923wd_TJY",
        "outputId": "6307ac6f-dcee-42c9-dde3-055716e499f0"
      },
      "execution_count": null,
      "outputs": [
        {
          "output_type": "stream",
          "name": "stdout",
          "text": [
            "Set2 is subset of set1  : False\n",
            "Set1 is subset of set2  : True\n"
          ]
        }
      ]
    },
    {
      "cell_type": "code",
      "source": [
        "# pop() method: Removes and returns a random element from the set.  Raises a KeyError if the set is empty.\n",
        "\n",
        "set1 = {1, 2, 4, 5, 7, 8, 9}\n",
        "set1.pop()\n",
        "\n",
        "print('Removes random number from set', set1)"
      ],
      "metadata": {
        "colab": {
          "base_uri": "https://localhost:8080/"
        },
        "id": "i1IAmKLp_QAL",
        "outputId": "af6ca06b-24aa-4219-a73d-83e34660d152"
      },
      "execution_count": null,
      "outputs": [
        {
          "output_type": "stream",
          "name": "stdout",
          "text": [
            "Removes random number from set {2, 4, 5, 7, 8, 9}\n"
          ]
        }
      ]
    },
    {
      "cell_type": "code",
      "source": [
        "# remove(element): \tRemoves the specified element from the set. If the specified element not found, raise an error.\n",
        "\n",
        "set1 = {1, 2, 4, 5, 7, 8, 9}\n",
        "set1.remove(5)\n",
        "\n",
        "print('After removing 5 :', set1)\n"
      ],
      "metadata": {
        "colab": {
          "base_uri": "https://localhost:8080/"
        },
        "id": "Clbznfx9AX_z",
        "outputId": "a511acd6-30e5-4dce-b6d5-147bef091908"
      },
      "execution_count": null,
      "outputs": [
        {
          "output_type": "stream",
          "name": "stdout",
          "text": [
            "After removing 5 : {1, 2, 4, 7, 8, 9}\n"
          ]
        }
      ]
    },
    {
      "cell_type": "code",
      "source": [
        "# symmetric_difference(other_set): Returns a new set containing elements that are in either of the sets, but not in both.\n",
        "# Returns a new set with the distinct elements found in both the sets.\n",
        "\n",
        "set1 = {1, 2, 3, 4, 5, 'apple', 'banana', 'orange'}\n",
        "set2 = {4, 5, 6, 'banana', 'orange'}\n",
        "\n",
        "set1.symmetric_difference(set2)\n",
        "\n",
        "\n"
      ],
      "metadata": {
        "colab": {
          "base_uri": "https://localhost:8080/"
        },
        "id": "6ueNTcydA1Vj",
        "outputId": "fc30cf56-a12a-4d51-d4d3-877f94163ed9"
      },
      "execution_count": null,
      "outputs": [
        {
          "output_type": "execute_result",
          "data": {
            "text/plain": [
              "{1, 2, 3, 6, 'apple'}"
            ]
          },
          "metadata": {},
          "execution_count": 73
        }
      ]
    },
    {
      "cell_type": "code",
      "source": [
        "# symmetric_difference_update() :  method modifies the set in place and does not return a new set.\n",
        "# Updates the set on which the instersection_update() method called, with the elements that are common among the specified sets.\n",
        "\n",
        "set1 = {1, 2, 3, 4}\n",
        "set2 = {3, 4, 5, 6}\n",
        "\n",
        "set1.symmetric_difference_update(set2)\n",
        "\n",
        "print(set1)"
      ],
      "metadata": {
        "colab": {
          "base_uri": "https://localhost:8080/"
        },
        "id": "wH9me5WUBgeI",
        "outputId": "3f20f0cd-2ba1-40ff-f7c5-4a39f98e93b4"
      },
      "execution_count": null,
      "outputs": [
        {
          "output_type": "stream",
          "name": "stdout",
          "text": [
            "{1, 2, 5, 6}\n"
          ]
        }
      ]
    },
    {
      "cell_type": "code",
      "source": [
        "# union(other_set) : Returns a new set containing all elements from both sets (removing duplicates).\n",
        "\n",
        "set1 = {1, 2, 3, 4}\n",
        "set2 = {3, 4, 5, 6}\n",
        "\n",
        "print('Union', set1.union(set2))\n",
        "\n"
      ],
      "metadata": {
        "colab": {
          "base_uri": "https://localhost:8080/"
        },
        "id": "l9qFlpceCa-l",
        "outputId": "82a2c214-7e92-44a6-d151-049792f15053"
      },
      "execution_count": null,
      "outputs": [
        {
          "output_type": "stream",
          "name": "stdout",
          "text": [
            "Union {1, 2, 3, 4, 5, 6}\n"
          ]
        }
      ]
    },
    {
      "cell_type": "code",
      "source": [
        "# len(set) : Returns the number of elements in the set.\n",
        "\n",
        "set1 = {1, 2, 3, 4}\n",
        "print(len(set1))"
      ],
      "metadata": {
        "colab": {
          "base_uri": "https://localhost:8080/"
        },
        "id": "OxsC1VOPDe6H",
        "outputId": "197023e6-1c84-4d95-a5e0-6c56ff43d538"
      },
      "execution_count": null,
      "outputs": [
        {
          "output_type": "stream",
          "name": "stdout",
          "text": [
            "4\n"
          ]
        }
      ]
    },
    {
      "cell_type": "code",
      "source": [
        "# issuperset(other_set) : Returns True if the set is a superset of the other set, otherwise False.\n",
        "\n",
        "set1 = {1, 2, 3, 4}\n",
        "set2 = {1, 2, 3, 4, 5, 6}\n",
        "\n",
        "print(set1.issuperset(set2))\n",
        "print(set2.issuperset(set1))\n"
      ],
      "metadata": {
        "colab": {
          "base_uri": "https://localhost:8080/"
        },
        "id": "UqH1OWMRDtV_",
        "outputId": "3745db6a-09b1-4299-a291-11ed00320177"
      },
      "execution_count": null,
      "outputs": [
        {
          "output_type": "stream",
          "name": "stdout",
          "text": [
            "False\n",
            "True\n"
          ]
        }
      ]
    }
  ]
}