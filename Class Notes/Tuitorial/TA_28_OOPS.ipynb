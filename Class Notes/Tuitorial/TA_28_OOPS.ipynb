{
  "nbformat": 4,
  "nbformat_minor": 0,
  "metadata": {
    "colab": {
      "provenance": [],
      "authorship_tag": "ABX9TyNNlPYRj79nt0tUDuqMazv+",
      "include_colab_link": true
    },
    "kernelspec": {
      "name": "python3",
      "display_name": "Python 3"
    },
    "language_info": {
      "name": "python"
    }
  },
  "cells": [
    {
      "cell_type": "markdown",
      "metadata": {
        "id": "view-in-github",
        "colab_type": "text"
      },
      "source": [
        "<a href=\"https://colab.research.google.com/github/bashant21/DataScienceBootcamp/blob/main/Class%20Notes/Tuitorial/TA_28_OOPS.ipynb\" target=\"_parent\"><img src=\"https://colab.research.google.com/assets/colab-badge.svg\" alt=\"Open In Colab\"/></a>"
      ]
    },
    {
      "cell_type": "code",
      "execution_count": null,
      "metadata": {
        "colab": {
          "base_uri": "https://localhost:8080/"
        },
        "id": "_X44K-3LIlUI",
        "outputId": "c34f37cb-7cda-4dbb-a7b8-93fe0e2746e1"
      },
      "outputs": [
        {
          "output_type": "stream",
          "name": "stdout",
          "text": [
            "Enter Deposit = D or Withdraw = W : W\n",
            "Enter amount : 800\n",
            "Withdrew 800. New balance: 200\n",
            "Your current balance is : 200\n"
          ]
        }
      ],
      "source": [
        "#Self Done\n",
        "#Create a BankAccount class with methods to deposit, withdraw, and get the current balance. Ensure that the balance can't go negative.\n",
        "class BankAccount:\n",
        "\n",
        "    def __init__(self, balance):\n",
        "        self.balance = balance\n",
        "\n",
        "    def deposit(self, dep_amount):\n",
        "        if dep_amount > 0:\n",
        "            self.balance += dep_amount\n",
        "            print(f\"Deposited {dep_amount}. New balance: {self.balance}\")\n",
        "        else:\n",
        "            print(\"Deposit amount must be positive.\")\n",
        "\n",
        "    def withdraw(self, with_amount):\n",
        "        if with_amount <= self.balance:\n",
        "            if self.balance >= with_amount:\n",
        "                self.balance -= with_amount\n",
        "                print(f\"Withdrew {with_amount}. New balance: {self.balance}\")\n",
        "            else:\n",
        "                print(\"Insufficient balance.\")\n",
        "        else:\n",
        "            print(\"Withdraw amount must be positive.\")\n",
        "\n",
        "    def get_balance(self):\n",
        "      print('Your current balance is :', self.balance)\n",
        "\n",
        "\n",
        "initial_balance = 1000\n",
        "account = BankAccount(initial_balance)\n",
        "x = input('Enter Deposit = D or Withdraw = W : ').upper()\n",
        "if x == 'D':\n",
        "  amt = int(input('Enter amount : '))\n",
        "  account.deposit(amt)\n",
        "elif x == 'W':\n",
        "  amt1 = int(input('Enter amount : '))\n",
        "  account.withdraw(amt1)\n",
        "else:\n",
        "  print('Invalid Input')\n",
        "\n",
        "account.get_balance()\n",
        "\n",
        "\n",
        "\n",
        "\n",
        "\n",
        "\n",
        "\n"
      ]
    },
    {
      "cell_type": "code",
      "source": [
        "#Teacher done\n",
        "#Bank Account: Create a BankAccount class with methods to deposit, withdraw, and get the current balance.\n",
        "#Ensure that the balance can't go negative.\n",
        "class BankAccount:\n",
        "  def __init__(self,balance=0):\n",
        "    if balance>0:\n",
        "      self.balance=balance\n",
        "    else:\n",
        "      print(\"Invalid Balance entered Initializing balance with zero\")\n",
        "      self.balance=0\n",
        "\n",
        "  def deposit(self,amount):\n",
        "    if amount>0:\n",
        "      print(\"Deposit Successful\")\n",
        "      self.balance=self.balance+amount\n",
        "      print(\"Your Current Balance is \",self.balance)\n",
        "    else:\n",
        "      print(\"Invalid Amount please enter value greater than 0\")\n",
        "      print(\"Your Current Balance is \",self.balance)\n",
        "\n",
        "  def withdraw(self,amount):\n",
        "    if self.balance>=amount:\n",
        "      self.balance=self.balance-amount\n",
        "      print(\"Withdraw Successful\")\n",
        "      print(\"Your Current Balance is \",self.balance)\n",
        "    else:\n",
        "      print(\"Can not withdraw more than current balance\")\n",
        "      print(\"Your Current Balance is \",self.balance)\n",
        "\n",
        "  def get_current_balance(self):\n",
        "    print(\"Your Current Balance is \",self.balance)\n"
      ],
      "metadata": {
        "id": "H4mf0-SEoQkM"
      },
      "execution_count": 2,
      "outputs": []
    },
    {
      "cell_type": "code",
      "source": [
        "newacc = BankAccount(-100)\n",
        "\n",
        "print(newacc.get_current_balance())\n",
        "\n",
        "\n",
        "\n",
        "newacc.deposit(20)\n",
        "\n",
        "print(newacc.get_current_balance())\n",
        "\n",
        "\n",
        "\n",
        "newacc.withdraw(20)\n",
        "\n",
        "print(newacc.get_current_balance())\n",
        "\n",
        "\n",
        "\n",
        "newacc.withdraw(100)\n",
        "\n",
        "print(newacc.get_current_balance())"
      ],
      "metadata": {
        "colab": {
          "base_uri": "https://localhost:8080/"
        },
        "id": "Ezs25A7eobiW",
        "outputId": "5dc63f8d-eb46-4514-acff-fc9d20a38928"
      },
      "execution_count": 3,
      "outputs": [
        {
          "output_type": "stream",
          "name": "stdout",
          "text": [
            "Invalid Balance entered Initializing balance with zero\n",
            "Your Current Balance is  0\n",
            "None\n",
            "Deposit Successful\n",
            "Your Current Balance is  20\n",
            "Your Current Balance is  20\n",
            "None\n",
            "Withdraw Successful\n",
            "Your Current Balance is  0\n",
            "Your Current Balance is  0\n",
            "None\n",
            "Can not withdraw more than current balance\n",
            "Your Current Balance is  0\n",
            "Your Current Balance is  0\n",
            "None\n"
          ]
        }
      ]
    },
    {
      "cell_type": "code",
      "source": [
        "#Self DOne\n",
        "#Library Catalog: Implement a Library class with methods to add books, lend books, and return books. Keep track of available and borrowed books.\n",
        "\n",
        "class Library:\n",
        "\n",
        "  def __init__(self, books):\n",
        "    self.books = books\n",
        "\n",
        "  def add_books(self, a_book):\n",
        "    self.a_book = a_book\n",
        "    self.books.append(a_book)\n",
        "    print(f'New book {a_book} is added. New list of book is :', self.books)\n",
        "\n",
        "  def lend_books(self, len_books):\n",
        "    self.len_books = len_books\n",
        "    if len_books in self.books:\n",
        "      self.books.remove(self.len_books)\n",
        "      print(f'Withdraw of {len_books} is sucessful. New available list of book is : ', self.books )\n",
        "\n",
        "  def return_books(self, rt_books):\n",
        "    self.rt_books = rt_books\n",
        "    self.books.append(rt_books)\n",
        "    print(f'Withdraw of {rt_books} is sucessful. New available list of book is : ', self.books )\n",
        "\n",
        "book =[ \"Great\",\"Kill\", \"Pride\", \"Harry\" ]\n",
        "a = Library(book)\n",
        "x = input('Enter Add Book = A or Return Book = R or Lend Book = L : ').upper()\n",
        "if x == 'A':\n",
        "  amt = input('Enter name of Book : ').title()\n",
        "  a.add_books(amt)\n",
        "elif x == 'R':\n",
        "  amt = input('Enter name of Book : ').title()\n",
        "  a.return_books(amt)\n",
        "\n",
        "elif x == 'L':\n",
        "  amt = input('Enter name of Book : ').title()\n",
        "  a.lend_books(amt)\n",
        "else:\n",
        "  print('Invalid Input')\n",
        "\n",
        "\n"
      ],
      "metadata": {
        "colab": {
          "base_uri": "https://localhost:8080/"
        },
        "id": "85AmOfq5RXHP",
        "outputId": "0376baa2-12dd-423a-f521-9ebb01c75fe3"
      },
      "execution_count": null,
      "outputs": [
        {
          "output_type": "stream",
          "name": "stdout",
          "text": [
            "Enter Add Book = A or Return Book = R or Lend Book = L : L\n",
            "Enter name of Book : Kill\n",
            "Withdraw of Kill is sucessful. New available list of book is :  ['Great', 'Pride', 'Harry']\n"
          ]
        }
      ]
    },
    {
      "cell_type": "code",
      "source": [
        "#Teacher Done\n",
        "#Library Catalog: Implement a Library class with methods to add books, lend books, and return books.\n",
        "#Keep track of available and borrowed books.\n",
        "\n",
        "class Library:\n",
        "  def __init__(self,books=[]):\n",
        "    if type(books) ==list:\n",
        "      if len(books)>0:\n",
        "        self.books=[]+list(books)\n",
        "      else:\n",
        "        self.books=[]\n",
        "    else:\n",
        "      self.books=[]\n",
        "\n",
        "  def add_books(self,bookname):\n",
        "    self.books.append(str(bookname))\n",
        "\n",
        "  def lend_books(self,bookname):\n",
        "    try:\n",
        "      index=self.books.index(bookname)\n",
        "      self.books.pop(index)\n",
        "      print(\"Here we Found your book\")\n",
        "    except:\n",
        "      print(\"No Such Book in library catalog Please check available books\")\n",
        "\n",
        "  def return_book(self,bookname):\n",
        "    self.add_books(bookname)\n",
        "\n",
        "  def available_books(self):\n",
        "    print(\"Available books are\")\n",
        "    for k in  self.books:\n",
        "      print(k)\n"
      ],
      "metadata": {
        "id": "SJ488x9coksk"
      },
      "execution_count": 4,
      "outputs": []
    },
    {
      "cell_type": "code",
      "source": [
        "library=Library(['harry potter','Lord of rings'])\n",
        "library.available_books()\n",
        "library.add_books('harry potter 2')\n",
        "library.add_books('harry potter 3')\n",
        "library.add_books('harry potter 4')\n",
        "library.available_books()\n",
        "library.lend_books(\"harry potter\")\n",
        "library.available_books()\n",
        "library.return_book(\"harry potter\")\n",
        "library.available_books()"
      ],
      "metadata": {
        "colab": {
          "base_uri": "https://localhost:8080/"
        },
        "id": "vmdktH5moqs6",
        "outputId": "aac44716-3cc8-4886-cad7-224d6bc78dbd"
      },
      "execution_count": 5,
      "outputs": [
        {
          "output_type": "stream",
          "name": "stdout",
          "text": [
            "Available books are\n",
            "harry potter\n",
            "Lord of rings\n",
            "Available books are\n",
            "harry potter\n",
            "Lord of rings\n",
            "harry potter 2\n",
            "harry potter 3\n",
            "harry potter 4\n",
            "Here we Found your book\n",
            "Available books are\n",
            "Lord of rings\n",
            "harry potter 2\n",
            "harry potter 3\n",
            "harry potter 4\n",
            "Available books are\n",
            "Lord of rings\n",
            "harry potter 2\n",
            "harry potter 3\n",
            "harry potter 4\n",
            "harry potter\n"
          ]
        }
      ]
    }
  ]
}