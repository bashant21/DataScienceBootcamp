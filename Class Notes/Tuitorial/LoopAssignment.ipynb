{
  "nbformat": 4,
  "nbformat_minor": 0,
  "metadata": {
    "colab": {
      "provenance": [],
      "include_colab_link": true
    },
    "kernelspec": {
      "name": "python3",
      "display_name": "Python 3"
    },
    "language_info": {
      "name": "python"
    }
  },
  "cells": [
    {
      "cell_type": "markdown",
      "metadata": {
        "id": "view-in-github",
        "colab_type": "text"
      },
      "source": [
        "<a href=\"https://colab.research.google.com/github/bashant21/DataScienceBootcamp/blob/main/Class%20Notes/Tuitorial/LoopAssignment.ipynb\" target=\"_parent\"><img src=\"https://colab.research.google.com/assets/colab-badge.svg\" alt=\"Open In Colab\"/></a>"
      ]
    },
    {
      "cell_type": "code",
      "source": [
        "#1) Swap two numbers using 3rd variable\n",
        "a=input(\"plese enter the number \")\n",
        "b=input(\"plese enter the number \")\n",
        "x=a\n",
        "a=b\n",
        "b=x\n",
        "print(\"The swaped value of a is \",a)\n",
        "print(\"The swaped value of b is \",b)"
      ],
      "metadata": {
        "colab": {
          "base_uri": "https://localhost:8080/"
        },
        "id": "QXOX6TA2a4LY",
        "outputId": "1d9f578b-0782-4576-c5c5-76ac6f0a0a9d"
      },
      "execution_count": null,
      "outputs": [
        {
          "output_type": "stream",
          "name": "stdout",
          "text": [
            "plese enter the number 1234\n",
            "plese enter the number 678\n",
            "The swaped value of a is  678\n",
            "The swaped value of b is  1234\n"
          ]
        }
      ]
    },
    {
      "cell_type": "code",
      "source": [],
      "metadata": {
        "id": "vy9l5AA307sW"
      },
      "execution_count": null,
      "outputs": []
    },
    {
      "cell_type": "code",
      "source": [
        "#2) Swap two numbers without using 3rd variable\n",
        "a=input(\"plese enter the number \")\n",
        "b=input(\"plese enter the number \")\n",
        "a,b=b,a\n",
        "print(\"The swaped value of a is \",a)\n",
        "print(\"The swaped value of b is \",b)"
      ],
      "metadata": {
        "colab": {
          "base_uri": "https://localhost:8080/"
        },
        "id": "ponic-zSO8qz",
        "outputId": "9c5d11a3-0899-4064-ac4f-42dde3138057"
      },
      "execution_count": null,
      "outputs": [
        {
          "output_type": "stream",
          "name": "stdout",
          "text": [
            "plese enter the number 4768\n",
            "plese enter the number 76554\n",
            "The swaped value of a is  76554\n",
            "The swaped value of b is  4768\n"
          ]
        }
      ]
    },
    {
      "cell_type": "code",
      "source": [
        "#3)Remove duplicate elements from a list without converting to tuple\n",
        "lst1=[1,3,1,'a','c','b','a','b',3,1,'c',4,5,6,'g']\n",
        "print(set(lst1))\n"
      ],
      "metadata": {
        "colab": {
          "base_uri": "https://localhost:8080/"
        },
        "id": "cKbxgEtTP-eH",
        "outputId": "0001a6b1-7506-4507-fd8d-e1e22494d093"
      },
      "execution_count": null,
      "outputs": [
        {
          "output_type": "stream",
          "name": "stdout",
          "text": [
            "{1, 'g', 3, 4, 'c', 5, 6, 'a', 'b'}\n"
          ]
        }
      ]
    },
    {
      "cell_type": "code",
      "source": [
        "#3)Write a program to find greatest common divisor (GCD) or highest common factor (HCF) of given two numbers\n",
        "\n",
        "def HCF(a,b):\n",
        "  if a>b:\n",
        "    smaller=b\n",
        "  else:\n",
        "    smaller=a\n",
        "  for i in range(1,smaller+1):\n",
        "    if (a%i==0) and (b%i==0):\n",
        "      hcf=i\n",
        "  return hcf\n",
        "print('The HCF is',HCF(100,80))"
      ],
      "metadata": {
        "id": "u6f4ehclWc6p",
        "colab": {
          "base_uri": "https://localhost:8080/"
        },
        "outputId": "c490687a-d78d-4e35-fbf2-bfd0a54fd028"
      },
      "execution_count": null,
      "outputs": [
        {
          "output_type": "stream",
          "name": "stdout",
          "text": [
            "The HCF is 20\n"
          ]
        }
      ]
    },
    {
      "cell_type": "code",
      "source": [
        "#4)Write a loop to print following series 10, 20, 30,  …………………, 300\n",
        "\n",
        "a=10\n",
        "print(a)\n",
        "while a<-0:\n",
        "  a +=10\n",
        "  if a>300:\n",
        "    break\n",
        "  print(a)\n"
      ],
      "metadata": {
        "colab": {
          "base_uri": "https://localhost:8080/"
        },
        "id": "E1Ix3gBWXM4o",
        "outputId": "e029576f-c8c8-40c3-afe8-15b2e8525e8b"
      },
      "execution_count": null,
      "outputs": [
        {
          "output_type": "stream",
          "name": "stdout",
          "text": [
            "10\n",
            "20\n",
            "30\n",
            "40\n",
            "50\n",
            "60\n",
            "70\n",
            "80\n",
            "90\n",
            "100\n",
            "110\n",
            "120\n",
            "130\n",
            "140\n",
            "150\n",
            "160\n",
            "170\n",
            "180\n",
            "190\n",
            "200\n",
            "210\n",
            "220\n",
            "230\n",
            "240\n",
            "250\n",
            "260\n",
            "270\n",
            "280\n",
            "290\n",
            "300\n",
            "310\n"
          ]
        }
      ]
    },
    {
      "cell_type": "code",
      "source": [
        "#5)Write a loop to print following series 105,98,91,………………………,7\n",
        "\n",
        "a=105\n",
        "print(a)\n",
        "while a>0:\n",
        "  a=a-7\n",
        "  if a<7:\n",
        "    break\n",
        "  print(a)\n"
      ],
      "metadata": {
        "colab": {
          "base_uri": "https://localhost:8080/"
        },
        "id": "OGnmyQsgKvmA",
        "outputId": "dab93a1c-998c-4b96-ece9-c2a870dab586"
      },
      "execution_count": null,
      "outputs": [
        {
          "output_type": "stream",
          "name": "stdout",
          "text": [
            "105\n",
            "98\n",
            "91\n",
            "84\n",
            "77\n",
            "70\n",
            "63\n",
            "56\n",
            "49\n",
            "42\n",
            "35\n",
            "28\n",
            "21\n",
            "14\n",
            "7\n"
          ]
        }
      ]
    },
    {
      "cell_type": "code",
      "source": [
        "'''6)Write a program to print number names of digits in a number like\n",
        "SAMPLE INPUT 231 \t\tSAMPLE OUTPUT TWO THREE ONE'''\n",
        "\n",
        "a=int(input('Enter the number '))\n",
        "lst1 = [int(x) for x in str(a)]\n",
        "for i in lst1:\n",
        "  if i==1:\n",
        "    print('One',end=\" \")\n",
        "  elif i==2:\n",
        "    print('Two',end=\" \")\n",
        "  elif i==3:\n",
        "    print('Three',end=\" \")\n",
        "  elif i==4:\n",
        "    print('Four',end=\" \")\n",
        "  elif i==5:\n",
        "    print('Five',end=\" \")\n",
        "  elif i==6:\n",
        "    print('Six',end=\" \")\n",
        "  elif i==7:\n",
        "    print('Seven',end=\" \")\n",
        "  elif i==8:\n",
        "    print('Eight',end=\" \")\n",
        "  elif i==9:\n",
        "    print('Nine',end=\" \")\n",
        "  else:\n",
        "    print(lst1)\n"
      ],
      "metadata": {
        "id": "zu_E35VxZaPA",
        "colab": {
          "base_uri": "https://localhost:8080/"
        },
        "outputId": "85528ea8-116a-4b44-91d1-0917188ad498"
      },
      "execution_count": null,
      "outputs": [
        {
          "output_type": "stream",
          "name": "stdout",
          "text": [
            "Enter the number 672\n",
            "six Seven Two "
          ]
        }
      ]
    },
    {
      "cell_type": "code",
      "source": [
        "#7) Write a program to print Fibonacci series till n terms take n =50\n",
        "\n",
        "a, b = 0, 1\n",
        "print(a, b, end = \" \")\n",
        "n = 50\n",
        "\n",
        "for i in range(n - 2):\n",
        "  c = a + b\n",
        "  print(c, end= ' ')\n",
        "  a = b\n",
        "  b = c"
      ],
      "metadata": {
        "colab": {
          "base_uri": "https://localhost:8080/"
        },
        "id": "nQNn7bioaTze",
        "outputId": "9db8c8b9-15ca-4432-d1e8-90bc63009906"
      },
      "execution_count": null,
      "outputs": [
        {
          "output_type": "stream",
          "name": "stdout",
          "text": [
            "0 1 1 2 3 5 8 13 21 34 55 89 144 233 377 610 987 1597 2584 4181 6765 10946 17711 28657 46368 75025 121393 196418 317811 514229 832040 1346269 2178309 3524578 5702887 9227465 14930352 24157817 39088169 63245986 102334155 165580141 267914296 433494437 701408733 1134903170 1836311903 2971215073 4807526976 7778742049 "
          ]
        }
      ]
    },
    {
      "cell_type": "code",
      "source": [
        "#8) Write a program to print factorial of a number\n",
        "\n",
        "num=5\n",
        "\n",
        "def find_factorial(n):\n",
        "  if n < 0:\n",
        "    return 0 # or # undefined\n",
        "  elif n==0 or n==1:\n",
        "    return 1\n",
        "  else:\n",
        "    factorial = 1\n",
        "    for k in range(1,n+1):\n",
        "      factorial =factorial*k\n",
        "    return factorial\n",
        "\n",
        "print(\"The factorial of\", num, 'is',find_factorial(num))"
      ],
      "metadata": {
        "colab": {
          "base_uri": "https://localhost:8080/"
        },
        "id": "BSUKcmXgK1qo",
        "outputId": "d146e36e-8b2d-454a-d6d1-4b6d9d746cb1"
      },
      "execution_count": null,
      "outputs": [
        {
          "output_type": "stream",
          "name": "stdout",
          "text": [
            "The factorial of 5 is 120\n"
          ]
        }
      ]
    },
    {
      "cell_type": "code",
      "source": [
        "\n",
        "# #9) Write a program to check if a number is Armstrong or not\n",
        "num=int(input('enter the num '))\n",
        "sum=0\n",
        "a=num\n",
        "power=len(str(num))\n",
        "while a > 0:\n",
        "   num1 = a % 10\n",
        "   sum += num1 ** power\n",
        "   a = a//10\n",
        "if num == sum:\n",
        "   print(num,\"is an Armstrong number\")\n",
        "else:\n",
        "   print(num,\"is not an Armstrong number\")"
      ],
      "metadata": {
        "colab": {
          "base_uri": "https://localhost:8080/"
        },
        "id": "tK3fLfOWQDJN",
        "outputId": "f36edb6e-c7bc-4dc8-ad5c-a34b43c31715"
      },
      "execution_count": null,
      "outputs": [
        {
          "output_type": "stream",
          "name": "stdout",
          "text": [
            "enter the num 153\n",
            "153 is an Armstrong number\n"
          ]
        }
      ]
    },
    {
      "cell_type": "code",
      "source": [
        "#10) Write a program to convert binary to decimal\n",
        "\n",
        "# binary = input('enter a number: ')\n",
        "# decimal = 0\n",
        "# for digit in binary:\n",
        "#     decimal = decimal*2 + int(digit)\n",
        "# print(decimal)\n",
        "\n",
        "binary = input('enter a number: ')\n",
        "decimal = 0\n",
        "binary=binary[::-1]\n",
        "for index in range(len(binary)):\n",
        "  temp_power_part=2**index\n",
        "  decimal=int(binary[index])*temp_power_part+decimal\n",
        "\n",
        "print(decimal)"
      ],
      "metadata": {
        "colab": {
          "base_uri": "https://localhost:8080/"
        },
        "id": "FEHjAi4uintU",
        "outputId": "db458d17-a6d8-4fe2-ad4e-aca456de70a4"
      },
      "execution_count": null,
      "outputs": [
        {
          "output_type": "stream",
          "name": "stdout",
          "text": [
            "enter a number: 111100\n",
            "001111\n"
          ]
        }
      ]
    },
    {
      "cell_type": "code",
      "source": [
        "#11) Write a program to convert decimal to binary\n",
        "a=int(input(\"plese enter the decimal number \"))\n",
        "print('binary', bin(a))q"
      ],
      "metadata": {
        "colab": {
          "base_uri": "https://localhost:8080/"
        },
        "id": "0aQV9KXYiqUb",
        "outputId": "e5d8f23e-dd8d-4c64-8490-1991b3add9af"
      },
      "execution_count": null,
      "outputs": [
        {
          "output_type": "stream",
          "name": "stdout",
          "text": [
            "plese enter the decimal number 255\n",
            "binary 0b11111111\n"
          ]
        }
      ]
    },
    {
      "cell_type": "code",
      "source": [
        "#12) Write a program to check if number is palindrome on not (Without converting to string)\n",
        "\n",
        "num =int(input(\"Enter the number:\"))\n",
        "x=num\n",
        "rev=0\n",
        "while(num>0):\n",
        "    dig=num %10\n",
        "    rev=rev*10+dig\n",
        "    num=num//10\n",
        "if(x==rev):\n",
        "    print(\"The number is a palindrome!\")\n",
        "else:\n",
        "    print(\"The number isn't a palindrome!\")"
      ],
      "metadata": {
        "colab": {
          "base_uri": "https://localhost:8080/"
        },
        "id": "uMq1DxyeRNIP",
        "outputId": "ca8aacea-994d-4709-e66b-0b1e51a429e3"
      },
      "execution_count": null,
      "outputs": [
        {
          "output_type": "stream",
          "name": "stdout",
          "text": [
            "Enter the number:12345\n",
            "The number isn't a palindrome!\n"
          ]
        }
      ]
    },
    {
      "cell_type": "code",
      "source": [
        "#13) Write a program to print all numbers which are divisible by 13 but not by 3 between 100 and 500\n",
        "\n",
        "for num in range(100,500):\n",
        "  if num%13==0 and num%3!=0:\n",
        "    print(num)\n"
      ],
      "metadata": {
        "colab": {
          "base_uri": "https://localhost:8080/"
        },
        "id": "YDTO21Lix7jE",
        "outputId": "f9da6bd9-7c73-4896-f73c-018310f836c3"
      },
      "execution_count": null,
      "outputs": [
        {
          "output_type": "stream",
          "name": "stdout",
          "text": [
            "104\n",
            "130\n",
            "143\n",
            "169\n",
            "182\n",
            "208\n",
            "221\n",
            "247\n",
            "260\n",
            "286\n",
            "299\n",
            "325\n",
            "338\n",
            "364\n",
            "377\n",
            "403\n",
            "416\n",
            "442\n",
            "455\n",
            "481\n",
            "494\n"
          ]
        }
      ]
    },
    {
      "cell_type": "code",
      "source": [
        "#14) Write a Python program to convert temperatures to and from Celsius and Fahrenheit.\n",
        "\n",
        "celsius = float(input(\"Enter temperature in celsius: \"))\n",
        "fahrenheit = (celsius * 1.8) + 32\n",
        "print(\"The change temperature in Fahrenheit is: \",fahrenheit)\n",
        "\n",
        "fahrenheit = float(input(\"Enter temperature in fahrenheit: \"))\n",
        "celsius = (5 * (fahrenheit-32))/9\n",
        "print(\"The change temperature in celsius is: \",celsius)"
      ],
      "metadata": {
        "id": "9lNkbeq_0Mjp",
        "colab": {
          "base_uri": "https://localhost:8080/"
        },
        "outputId": "f6cab497-6f44-427d-871c-2f858342793f"
      },
      "execution_count": null,
      "outputs": [
        {
          "output_type": "stream",
          "name": "stdout",
          "text": [
            "Enter temperature in celsius: 38\n",
            "The change temperature in Fahrenheit is:  100.4\n",
            "Enter temperature in fahrenheit: 100.4\n",
            "The change temperature in celsius is:  38.0\n"
          ]
        }
      ]
    },
    {
      "cell_type": "code",
      "source": [
        "#15) Write a Python program that takes two digits m (row) and n (column) as input and generates a two-dimensional array. The element value in the i-th row and j-th column of the array should be i*j. else it will be 0\n",
        "\n",
        "m_row = int(input('Enter the number of row '))\n",
        "n_column = int(input('Enter the number of column'))\n",
        "all_data=[]\n",
        "for k in range(m_row):\n",
        "  temp_list=[]\n",
        "  for s in range(n_column):\n",
        "    temp_list.append(k*s)\n",
        "  all_data.append(temp_list)\n",
        "print(all_data)\n"
      ],
      "metadata": {
        "id": "mfx6Rj9JRReG",
        "colab": {
          "base_uri": "https://localhost:8080/"
        },
        "outputId": "c578d708-59da-4999-e42a-bcb4ab3f0dfb"
      },
      "execution_count": null,
      "outputs": [
        {
          "output_type": "stream",
          "name": "stdout",
          "text": [
            "Enter the number of row 3\n",
            "Enter the number of column3\n",
            "[[0, 0, 0], [0, 1, 2], [0, 2, 4]]\n"
          ]
        }
      ]
    },
    {
      "cell_type": "code",
      "source": [
        "#16)Write a Python program that accepts a string and calculates the number of digits and letters.\n",
        "\n",
        "str1=input('Enter the string ')\n",
        "counter1=0\n",
        "counter2=0\n",
        "for i in str1:\n",
        "  if (i.isdigit()):\n",
        "    counter1 +=1\n",
        "  elif (i.isalpha()):\n",
        "    counter2 +=1\n",
        "print('The number of digits is ',counter1)\n",
        "print('The number of string is ',counter2)\n"
      ],
      "metadata": {
        "colab": {
          "base_uri": "https://localhost:8080/"
        },
        "id": "_tXYmiiNghLz",
        "outputId": "dfc2c616-5af0-4cda-e434-78a931c65b24"
      },
      "execution_count": null,
      "outputs": [
        {
          "output_type": "stream",
          "name": "stdout",
          "text": [
            "Enter the string python 3.2\n",
            "The number of digits is  2\n",
            "The number of string is  6\n"
          ]
        }
      ]
    },
    {
      "cell_type": "code",
      "source": [
        "\"\"\"\n",
        "Print all possible combination for a string or a word\n",
        "Sample input “ABC”\n",
        "Sample output\n",
        "BAC\n",
        "CAB\n",
        "CBA\n",
        "ACB\n",
        "BCA\n",
        "\n",
        "simple permutation logic\n",
        "\"\"\"\n",
        "\n",
        "def get_permutation(sample,i=0):\n",
        "  if i==len(sample):\n",
        "    print(''.join(sample))\n",
        "\n",
        "  for j in range(i,len(sample)):\n",
        "    print(i)\n",
        "    fin_str=[a for a in sample]\n",
        "    fin_str[i],fin_str[j]=fin_str[j],fin_str[i]\n",
        "    print(\"The fin \",fin_str)\n",
        "    get_permutation(fin_str,i+1)\n",
        "\n",
        "get_permutation('abc')"
      ],
      "metadata": {
        "colab": {
          "base_uri": "https://localhost:8080/"
        },
        "id": "eBJllbrKjKnw",
        "outputId": "5ddef071-c716-4bf1-a381-dae22ebf3041"
      },
      "execution_count": null,
      "outputs": [
        {
          "output_type": "stream",
          "name": "stdout",
          "text": [
            "0\n",
            "The fin  ['a', 'b', 'c']\n",
            "1\n",
            "The fin  ['a', 'b', 'c']\n",
            "2\n",
            "The fin  ['a', 'b', 'c']\n",
            "abc\n",
            "1\n",
            "The fin  ['a', 'c', 'b']\n",
            "2\n",
            "The fin  ['a', 'c', 'b']\n",
            "acb\n",
            "0\n",
            "The fin  ['b', 'a', 'c']\n",
            "1\n",
            "The fin  ['b', 'a', 'c']\n",
            "2\n",
            "The fin  ['b', 'a', 'c']\n",
            "bac\n",
            "1\n",
            "The fin  ['b', 'c', 'a']\n",
            "2\n",
            "The fin  ['b', 'c', 'a']\n",
            "bca\n",
            "0\n",
            "The fin  ['c', 'b', 'a']\n",
            "1\n",
            "The fin  ['c', 'b', 'a']\n",
            "2\n",
            "The fin  ['c', 'b', 'a']\n",
            "cba\n",
            "1\n",
            "The fin  ['c', 'a', 'b']\n",
            "2\n",
            "The fin  ['c', 'a', 'b']\n",
            "cab\n"
          ]
        }
      ]
    },
    {
      "cell_type": "code",
      "source": [
        "\"\"\"18) Write a Python program to check if a triangle is equilateral, isosceles or scalene. Take 3 inputs for each side\n",
        "\n",
        "Note :\n",
        "An equilateral triangle is a triangle in which all three sides are equal.\n",
        "A scalene triangle is a triangle that has three unequal sides.\n",
        "An isosceles triangle is a triangle with (at least) two equal sides.\"\"\"\n",
        "\n",
        "def check_triangle(l1,l2,l3):\n",
        "  if l1==l2==l3:\n",
        "    print('The triangle is equilateral.')\n",
        "  elif l1==l2 or l2==l3 or l3==l1:\n",
        "    print('The triangle is isosceles.')\n",
        "  else:\n",
        "    print('The triangle is scalene.')\n",
        "check_triangle(1,3,8)"
      ],
      "metadata": {
        "colab": {
          "base_uri": "https://localhost:8080/"
        },
        "id": "-eBwOPV0ufQA",
        "outputId": "febbeb5a-32f7-4f90-82c0-9702b245aaa5"
      },
      "execution_count": null,
      "outputs": [
        {
          "output_type": "stream",
          "name": "stdout",
          "text": [
            "The triangle is scalene.\n"
          ]
        }
      ]
    },
    {
      "cell_type": "code",
      "source": [
        "\"\"\"19) Write a Python program to get the next day of a given date.Expected Output:\n",
        "Input a year: 2016\n",
        "Input a month [1-12]: 08\n",
        "Input a day [1-31]: 23\n",
        "The next date is [yyyy-mm-dd] 2016-8-24 \"\"\"\n",
        "days_in_month={1:31,2:28,3:31,4:30,5:31,6:30,7:31,8:31,9:30,10:31,11:30,12:31}\n",
        "\n",
        "year=int(input('Enter the year '))\n",
        "month=int(input('Enter the month [1-12]'))\n",
        "day=int(input('Enter the day [1-30] '))\n",
        "#31st december 2013\n",
        "if day+1>days_in_month[month]:\n",
        "  day=1\n",
        "  if month+1>12:\n",
        "    year=year+1\n",
        "    month=1\n",
        "  else:\n",
        "    month=month+1\n",
        "  print(day,\"-\",month,\"-\",year)\n",
        "else:\n",
        "  day=day+1\n",
        "  print(day,\"-\",month,\"-\",year)"
      ],
      "metadata": {
        "id": "A_cDX8PKroRO",
        "colab": {
          "base_uri": "https://localhost:8080/"
        },
        "outputId": "7266d8d2-25c1-43be-8a75-16a08acea183"
      },
      "execution_count": null,
      "outputs": [
        {
          "output_type": "stream",
          "name": "stdout",
          "text": [
            "Enter the year 2013\n",
            "Enter the month [1-12]2\n",
            "Enter the day [1-30] 28\n",
            "1 - 3 - 2013\n"
          ]
        }
      ]
    },
    {
      "cell_type": "code",
      "source": [
        "# multi array example\n",
        "a=[[1,0,0],\n",
        " [0, 2 ,0],\n",
        " [0, 0,[1,2,3,[4]]]]\n",
        "\n",
        "print(a[2][2][3][0])"
      ],
      "metadata": {
        "id": "t_phmk27pFVS",
        "colab": {
          "base_uri": "https://localhost:8080/"
        },
        "outputId": "87b279b4-4575-4fda-d60a-c9a11b5b7816"
      },
      "execution_count": null,
      "outputs": [
        {
          "output_type": "stream",
          "name": "stdout",
          "text": [
            "4\n"
          ]
        }
      ]
    }
  ]
}