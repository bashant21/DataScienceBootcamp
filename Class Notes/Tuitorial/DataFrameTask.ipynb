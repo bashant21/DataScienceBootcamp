{
  "nbformat": 4,
  "nbformat_minor": 0,
  "metadata": {
    "colab": {
      "provenance": [],
      "authorship_tag": "ABX9TyMX8ZYDobNc/Riwq7YlI+1c",
      "include_colab_link": true
    },
    "kernelspec": {
      "name": "python3",
      "display_name": "Python 3"
    },
    "language_info": {
      "name": "python"
    }
  },
  "cells": [
    {
      "cell_type": "markdown",
      "metadata": {
        "id": "view-in-github",
        "colab_type": "text"
      },
      "source": [
        "<a href=\"https://colab.research.google.com/github/bashant21/DataScienceBootcamp/blob/main/Class%20Notes/Tuitorial/DataFrameTask.ipynb\" target=\"_parent\"><img src=\"https://colab.research.google.com/assets/colab-badge.svg\" alt=\"Open In Colab\"/></a>"
      ]
    },
    {
      "cell_type": "markdown",
      "source": [
        "# need to ask user for a number\n",
        "\n",
        "# ask user for how many rows needed\n",
        "\n",
        "\n",
        "\n",
        "\n",
        "\n",
        "# number of rows is basically where iteration stops\n",
        "\n",
        "# csv should be 3 columns\n",
        "\n",
        "# 1st column is like 5,5,10,15,25,40,....................\n",
        "\n",
        "# 2nd column is like 5,25,625,.................. square\n",
        "\n",
        "# 3rd 5,125,................. cube"
      ],
      "metadata": {
        "id": "dFplwtFn8geJ"
      }
    },
    {
      "cell_type": "code",
      "source": [
        "import pandas as pd\n",
        "\n",
        "num = int(input('Enter a number: '))\n",
        "row = int(input('Enter number of rows you want: '))\n",
        "data = []\n",
        "for i in range(row):\n",
        "    if i <= 1:\n",
        "        square = num ** 2\n",
        "        cube = num ** 3\n",
        "        data.append([num, square, cube])\n",
        "    else:\n",
        "        square = num ** 2\n",
        "        cube = num ** 3\n",
        "        num = data[i-2][0] + data[i - 1][0]\n",
        "        data.append([num, square, cube])\n",
        "\n",
        "df = pd.DataFrame(data, columns=['Sum', 'Square', 'Cube'])\n",
        "df.to_csv(\"data.csv\")\n",
        "\n",
        "print(\"Data has been written to data.csv Sucessfully !!\")\n"
      ],
      "metadata": {
        "colab": {
          "base_uri": "https://localhost:8080/"
        },
        "id": "l7NeeeSL4qFX",
        "outputId": "f18c46a6-d305-42e1-a1c4-b407fc69a06d"
      },
      "execution_count": null,
      "outputs": [
        {
          "output_type": "stream",
          "name": "stdout",
          "text": [
            "Enter a number: 6\n",
            "Enter number of rows you want: 4\n",
            "Data has been written to data.csv Sucessfully !!\n"
          ]
        }
      ]
    },
    {
      "cell_type": "code",
      "source": [
        "import pandas as pd\n",
        "\n",
        "num_of_rows = int(input((\"Enter the number of rows you want: \")))\n",
        "\n",
        "num_of_columns = 3\n",
        "\n",
        "\n",
        "# Create an empty DataFrame with column names\n",
        "\n",
        "df = pd.DataFrame(columns=['Sum', 'Square', 'Cube'])\n",
        "\n",
        "\n",
        "\n",
        "# Initialize the first row with the starting values\n",
        "\n",
        "df.loc[0] = [num_of_rows, num_of_rows, num_of_rows]\n",
        "\n",
        "\n",
        "\n",
        "# Populate the DataFrame based on the specified patterns\n",
        "\n",
        "for i in range(1, num_of_rows):\n",
        "    if i <= 1:\n",
        "        df.loc[i, 'Sum'] = num\n",
        "        df.loc[i, 'Square'] = (df.loc[i - 1, 'Square']) ** 2\n",
        "        df.loc[i, 'Cube'] = (df.loc[i - 1, 'Cube']) ** 3\n",
        "    else:\n",
        "        df.loc[i, 'Sum'] = df.loc[i - 1, 'Sum'] + df.loc[i - 2, 'Sum']\n",
        "        df.loc[i, 'Square'] = (df.loc[i - 1, 'Square']) ** 2\n",
        "        df.loc[i, 'Cube'] = (df.loc[i - 1, 'Cube']) ** 3\n",
        "\n",
        "\n",
        "\n",
        "# Save the DataFrame to a CSV file\n",
        "\n",
        "df.to_csv('exp_output.csv', index=False)\n",
        "\n",
        "\n",
        "\n",
        "print(\"Done\")"
      ],
      "metadata": {
        "colab": {
          "base_uri": "https://localhost:8080/"
        },
        "id": "q9_GEhkI-hc_",
        "outputId": "35cf4690-f19e-4cf8-8a06-e3f14c600bce"
      },
      "execution_count": 17,
      "outputs": [
        {
          "output_type": "stream",
          "name": "stdout",
          "text": [
            "Enter the number of rows you want: 5\n",
            "Done\n"
          ]
        }
      ]
    }
  ]
}