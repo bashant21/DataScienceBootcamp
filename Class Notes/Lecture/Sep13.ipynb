{
  "nbformat": 4,
  "nbformat_minor": 0,
  "metadata": {
    "colab": {
      "provenance": [],
      "authorship_tag": "ABX9TyO1Zyuk4oSnHBnv6uv6BRP6",
      "include_colab_link": true
    },
    "kernelspec": {
      "name": "python3",
      "display_name": "Python 3"
    },
    "language_info": {
      "name": "python"
    }
  },
  "cells": [
    {
      "cell_type": "markdown",
      "metadata": {
        "id": "view-in-github",
        "colab_type": "text"
      },
      "source": [
        "<a href=\"https://colab.research.google.com/github/bashant21/DataScienceBootcamp/blob/main/Class%20Notes/Lecture/Sep13.ipynb\" target=\"_parent\"><img src=\"https://colab.research.google.com/assets/colab-badge.svg\" alt=\"Open In Colab\"/></a>"
      ]
    },
    {
      "cell_type": "code",
      "execution_count": 3,
      "metadata": {
        "id": "e9j6azdBA7uv"
      },
      "outputs": [],
      "source": [
        "lst = ['apple', 'banana', 'orange', 'graps', 'mango']\n"
      ]
    },
    {
      "cell_type": "code",
      "source": [
        "lst = ['apple', 'banana', 'orange', 'graps', 'mango']\n",
        "lst1= ['Present' for i in lst if 'apple' in i ]\n",
        "print(lst1)"
      ],
      "metadata": {
        "colab": {
          "base_uri": "https://localhost:8080/"
        },
        "id": "FixDPTRHDUAK",
        "outputId": "06cb7f84-976d-42ff-b56c-6174f5967ed2"
      },
      "execution_count": 18,
      "outputs": [
        {
          "output_type": "stream",
          "name": "stdout",
          "text": [
            "['Present']\n"
          ]
        }
      ]
    },
    {
      "cell_type": "code",
      "source": [
        "lst = ['apple', 'greenapple', 'blueapple' 'banana', 'orange', 'graps', 'mango']\n",
        "lst1= [i for i in lst if 'apple' in i ]\n",
        "print(lst1)"
      ],
      "metadata": {
        "colab": {
          "base_uri": "https://localhost:8080/"
        },
        "id": "_psohJKzFeKn",
        "outputId": "cb137bbe-bdc6-4b22-f6f7-06484d74dde4"
      },
      "execution_count": 15,
      "outputs": [
        {
          "output_type": "stream",
          "name": "stdout",
          "text": [
            "['apple', 'greenapple', 'blueapplebanana']\n"
          ]
        }
      ]
    },
    {
      "cell_type": "code",
      "source": [
        "lst = ['apple', 'banana', 'orange', 'grapes', 'mango']\n",
        "for i in lst:\n",
        "  if 'apple' in i:\n",
        "    print('Present')\n",
        "    break\n",
        "\n",
        "else:\n",
        "    print('Not present')\n"
      ],
      "metadata": {
        "colab": {
          "base_uri": "https://localhost:8080/"
        },
        "id": "16FcXaYUEBA8",
        "outputId": "cf1c66a6-ef95-42ab-f9fa-80a95bf63a9f"
      },
      "execution_count": 34,
      "outputs": [
        {
          "output_type": "stream",
          "name": "stdout",
          "text": [
            "Present\n"
          ]
        }
      ]
    },
    {
      "cell_type": "code",
      "source": [
        "lst = ['apple', 'banana', 'orange', 'grapes', 'mango']\n",
        "lst1 = ['Present' if 'apple' in i else 'Not Present' for i in lst]\n",
        "print(lst1)\n"
      ],
      "metadata": {
        "colab": {
          "base_uri": "https://localhost:8080/"
        },
        "id": "ISis6yBwIU0r",
        "outputId": "1d07543b-c12f-45f7-8cc3-226b0ad908c2"
      },
      "execution_count": 38,
      "outputs": [
        {
          "output_type": "stream",
          "name": "stdout",
          "text": [
            "['Present', 'Not Present', 'Not Present', 'Not Present', 'Not Present']\n"
          ]
        }
      ]
    },
    {
      "cell_type": "code",
      "source": [
        "lst = ['banana', 'orange', 'grapes', 'mango']\n",
        "lst1 = ['Present' if 'apple' in i else 'Not Present' for i in lst]\n",
        "print(lst1)\n"
      ],
      "metadata": {
        "colab": {
          "base_uri": "https://localhost:8080/"
        },
        "id": "2-xsqJCtJM14",
        "outputId": "fa74fe6c-4016-4052-9e68-2a0729c6ad69"
      },
      "execution_count": 50,
      "outputs": [
        {
          "output_type": "stream",
          "name": "stdout",
          "text": [
            "['Not Present', 'Not Present', 'Not Present', 'Not Present']\n"
          ]
        }
      ]
    },
    {
      "cell_type": "code",
      "source": [
        "lst2 = ['ch', 'Dh', 'nh', 'Nc', 'DcD']\n",
        "lsc = [i for i in lst2 if 'c' in i.lower()]\n",
        "print(lsc)\n"
      ],
      "metadata": {
        "colab": {
          "base_uri": "https://localhost:8080/"
        },
        "id": "LIfAso3mJj9Y",
        "outputId": "82614de9-b783-4934-bc47-4e39948dd565"
      },
      "execution_count": 52,
      "outputs": [
        {
          "output_type": "stream",
          "name": "stdout",
          "text": [
            "['ch', 'Nc', 'DcD']\n"
          ]
        }
      ]
    },
    {
      "cell_type": "code",
      "source": [
        "lst2 = ['ch', 'Dh', 'nh', 'Nc', 'DcD']\n",
        "lsc = [i for i in lst2 if 'c' in i[0].lower()]\n",
        "print(lsc)"
      ],
      "metadata": {
        "colab": {
          "base_uri": "https://localhost:8080/"
        },
        "id": "BopHhSVeLLhu",
        "outputId": "f111e9e6-1d53-4fa9-a992-19ff9758588f"
      },
      "execution_count": 53,
      "outputs": [
        {
          "output_type": "stream",
          "name": "stdout",
          "text": [
            "['ch']\n"
          ]
        }
      ]
    },
    {
      "cell_type": "code",
      "source": [
        "lst = [[i for i in range(3)]for j in range(3)]\n",
        "print(lst)"
      ],
      "metadata": {
        "colab": {
          "base_uri": "https://localhost:8080/"
        },
        "id": "QEA4TjngM35o",
        "outputId": "5cf5334d-583c-4151-f92d-0e845bf1cd24"
      },
      "execution_count": 56,
      "outputs": [
        {
          "output_type": "stream",
          "name": "stdout",
          "text": [
            "[[0, 1, 2], [0, 1, 2], [0, 1, 2]]\n"
          ]
        }
      ]
    },
    {
      "cell_type": "code",
      "source": [
        "lst1 =[i for i in 'Python Programming']\n",
        "lst1"
      ],
      "metadata": {
        "colab": {
          "base_uri": "https://localhost:8080/"
        },
        "id": "vl49-03aNOAL",
        "outputId": "a0c724b2-e726-49b0-83bb-928f97b8220e"
      },
      "execution_count": 58,
      "outputs": [
        {
          "output_type": "execute_result",
          "data": {
            "text/plain": [
              "['P',\n",
              " 'y',\n",
              " 't',\n",
              " 'h',\n",
              " 'o',\n",
              " 'n',\n",
              " ' ',\n",
              " 'P',\n",
              " 'r',\n",
              " 'o',\n",
              " 'g',\n",
              " 'r',\n",
              " 'a',\n",
              " 'm',\n",
              " 'm',\n",
              " 'i',\n",
              " 'n',\n",
              " 'g']"
            ]
          },
          "metadata": {},
          "execution_count": 58
        }
      ]
    },
    {
      "cell_type": "code",
      "source": [
        "x = [i for i in range(100) if i%5==0 if i%10==0]  #Nested if\n",
        "print(x)"
      ],
      "metadata": {
        "colab": {
          "base_uri": "https://localhost:8080/"
        },
        "id": "vPxBlPUEOKgT",
        "outputId": "1db4135c-86ad-4cb8-eb23-9c6fd014c591"
      },
      "execution_count": 59,
      "outputs": [
        {
          "output_type": "stream",
          "name": "stdout",
          "text": [
            "[0, 10, 20, 30, 40, 50, 60, 70, 80, 90]\n"
          ]
        }
      ]
    },
    {
      "cell_type": "code",
      "source": [
        "x = [i for i in range(100) if i%5==0 if i%10==0 if i%12==0]    #Nested if\n",
        "print(x)"
      ],
      "metadata": {
        "colab": {
          "base_uri": "https://localhost:8080/"
        },
        "id": "r6bXHMAgOd_g",
        "outputId": "16951915-9a04-4f44-a347-bd4e8bcadeda"
      },
      "execution_count": 61,
      "outputs": [
        {
          "output_type": "stream",
          "name": "stdout",
          "text": [
            "[0, 60]\n"
          ]
        }
      ]
    },
    {
      "cell_type": "code",
      "source": [
        "matrix = [\n",
        "    [1, 2, 3],\n",
        "    [4, 5, 6],\n",
        "    [7, 8, 9]\n",
        "]\n",
        "lst4 =[[i*i for i in j] for j in matrix]\n",
        "print(lst4)"
      ],
      "metadata": {
        "colab": {
          "base_uri": "https://localhost:8080/"
        },
        "id": "75e6G4SOQPPf",
        "outputId": "d3bc45f8-2d36-4aa2-f771-9e2d71c486d8"
      },
      "execution_count": 68,
      "outputs": [
        {
          "output_type": "stream",
          "name": "stdout",
          "text": [
            "[[1, 4, 9], [16, 25, 36], [49, 64, 81]]\n"
          ]
        }
      ]
    },
    {
      "cell_type": "code",
      "source": [
        "ndim2array = [[10,20,30],\n",
        "              [40,50,60],\n",
        "              [70,80,90]]\n",
        "\n",
        "lst1 = [[i[j] for i in ndim2array] for j in range(len(ndim2array[0]))]\n",
        "lst1"
      ],
      "metadata": {
        "colab": {
          "base_uri": "https://localhost:8080/"
        },
        "id": "dUbIH1ifUHNV",
        "outputId": "cb8bff6a-64e5-41a8-cd90-0fa937ffafa5"
      },
      "execution_count": 79,
      "outputs": [
        {
          "output_type": "execute_result",
          "data": {
            "text/plain": [
              "[[10, 40, 70], [20, 50, 80], [30, 60, 90]]"
            ]
          },
          "metadata": {},
          "execution_count": 79
        }
      ]
    },
    {
      "cell_type": "code",
      "source": [
        "fruits_apple = ['apple','banana','custurd apple','cherries','pineapple','dates','green apple','eggfruit','red apple','fig','graphs']\n",
        "lst_cmp4 = [i for i in fruits_apple if 'apple' not in i]\n",
        "print(lst_cmp4)"
      ],
      "metadata": {
        "colab": {
          "base_uri": "https://localhost:8080/"
        },
        "id": "UBTYp8m3YiBg",
        "outputId": "8fc46bcd-7280-4f50-8876-823d00a848d8"
      },
      "execution_count": 80,
      "outputs": [
        {
          "output_type": "stream",
          "name": "stdout",
          "text": [
            "['banana', 'cherries', 'dates', 'eggfruit', 'fig', 'graphs']\n"
          ]
        }
      ]
    },
    {
      "cell_type": "code",
      "source": [
        "dict = {i : f'Item{i}' for i in range(10)}\n",
        "dict"
      ],
      "metadata": {
        "colab": {
          "base_uri": "https://localhost:8080/"
        },
        "id": "U8Ci5J0QUWmB",
        "outputId": "68af193e-6ec6-4ac2-dbea-9e3817fb151a"
      },
      "execution_count": 72,
      "outputs": [
        {
          "output_type": "execute_result",
          "data": {
            "text/plain": [
              "{0: 'Item0',\n",
              " 1: 'Item1',\n",
              " 2: 'Item2',\n",
              " 3: 'Item3',\n",
              " 4: 'Item4',\n",
              " 5: 'Item5',\n",
              " 6: 'Item6',\n",
              " 7: 'Item7',\n",
              " 8: 'Item8',\n",
              " 9: 'Item9'}"
            ]
          },
          "metadata": {},
          "execution_count": 72
        }
      ]
    },
    {
      "cell_type": "code",
      "source": [
        "set1 ={1,2 ,3 , 4, 5, 6, 7, 5, 78, 7, 8, 8, 1,9}\n",
        "set2 = {i for i in set1 if i%2==0}\n",
        "set2"
      ],
      "metadata": {
        "colab": {
          "base_uri": "https://localhost:8080/"
        },
        "id": "DDgXwuFWU9XQ",
        "outputId": "cc7095a4-e4d9-41ba-df31-bf2b584aef67"
      },
      "execution_count": 78,
      "outputs": [
        {
          "output_type": "execute_result",
          "data": {
            "text/plain": [
              "{2, 4, 6, 8, 78}"
            ]
          },
          "metadata": {},
          "execution_count": 78
        }
      ]
    }
  ]
}