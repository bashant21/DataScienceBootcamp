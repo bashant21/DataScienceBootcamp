{
  "nbformat": 4,
  "nbformat_minor": 0,
  "metadata": {
    "colab": {
      "provenance": [],
      "authorship_tag": "ABX9TyNErLpdTNFmMRb0ichUUv3E",
      "include_colab_link": true
    },
    "kernelspec": {
      "name": "python3",
      "display_name": "Python 3"
    },
    "language_info": {
      "name": "python"
    }
  },
  "cells": [
    {
      "cell_type": "markdown",
      "metadata": {
        "id": "view-in-github",
        "colab_type": "text"
      },
      "source": [
        "<a href=\"https://colab.research.google.com/github/bashant21/DataScienceBootcamp/blob/main/Class%20Notes/Lecture/Sep12.ipynb\" target=\"_parent\"><img src=\"https://colab.research.google.com/assets/colab-badge.svg\" alt=\"Open In Colab\"/></a>"
      ]
    },
    {
      "cell_type": "code",
      "execution_count": 3,
      "metadata": {
        "id": "xCOrcixLuHj-",
        "colab": {
          "base_uri": "https://localhost:8080/"
        },
        "outputId": "12bcb61b-d194-421f-eed9-5f60fabfc5f8"
      },
      "outputs": [
        {
          "output_type": "stream",
          "name": "stdout",
          "text": [
            "4 is smaller than 5\n"
          ]
        }
      ],
      "source": [
        "x=4\n",
        "y=5\n",
        "if x < y:\n",
        "  print(x, 'is smaller than', y)\n",
        "elif x > y:\n",
        "  print(x, 'is greater than', y)\n",
        "else:\n",
        "  print(x, 'is equal to', y)\n",
        "\n",
        "\n"
      ]
    },
    {
      "cell_type": "code",
      "source": [
        "# Lambda Equivalent\n",
        "result = lambda x,y : f\"{x} is smaller than {y}\" \\\n",
        "if x < y else (f\"{x} is greater than {y}\" if x > y \\\n",
        "               else f\"{x} is equal to {y}\")\n",
        "\n",
        "result(6, 5)"
      ],
      "metadata": {
        "colab": {
          "base_uri": "https://localhost:8080/",
          "height": 36
        },
        "id": "vA0GrSEv5BOv",
        "outputId": "64bd6e48-63cd-4f8a-c3e2-d3b5fbd8b5e3"
      },
      "execution_count": 22,
      "outputs": [
        {
          "output_type": "execute_result",
          "data": {
            "text/plain": [
              "'6 is greater than 5'"
            ],
            "application/vnd.google.colaboratory.intrinsic+json": {
              "type": "string"
            }
          },
          "metadata": {},
          "execution_count": 22
        }
      ]
    },
    {
      "cell_type": "code",
      "source": [
        "percentage=98\n",
        "if (percentage >= 78):\n",
        "  print('pass with first class distinction')\n",
        "elif (percentage >= 60):\n",
        "  print('pass with first class')\n",
        "elif (percentage >= 40):\n",
        "  print('pass with second class')\n",
        "elif (percentage >= 33):\n",
        "  print('pass with third class')\n",
        "else:\n",
        "  print('better luck next time')"
      ],
      "metadata": {
        "colab": {
          "base_uri": "https://localhost:8080/"
        },
        "id": "PmY0hl7a5IZr",
        "outputId": "9d53c868-18fe-4e7f-8e09-3fa5372b3412"
      },
      "execution_count": 7,
      "outputs": [
        {
          "output_type": "stream",
          "name": "stdout",
          "text": [
            "pass with first class distinction\n"
          ]
        }
      ]
    },
    {
      "cell_type": "code",
      "source": [
        "result = lambda x: f\"Marks : {x}. Pass with first class distinction\" if x >= 78 else \\\n",
        "                  (f\"Marks : {x}. Pass with first class\" if x >= 60 else \\\n",
        "                  (f\"Marks : {x}. pass with second class\" if x >= 40 else \\\n",
        "                  (f\"Marks : {x}. pass with third class\" if x >= 33 else \\\n",
        "                  (f\"Marks : {x}. better luck next time\"))))\n",
        "\n",
        "\n",
        "marks = int(input(\"Enter marks you obtained : \"))\n",
        "\n",
        "result(marks)\n",
        "\n"
      ],
      "metadata": {
        "colab": {
          "base_uri": "https://localhost:8080/",
          "height": 53
        },
        "id": "IRYVH4Vh7E79",
        "outputId": "739ef283-59b6-47f0-9915-b5237d0c45e9"
      },
      "execution_count": 20,
      "outputs": [
        {
          "name": "stdout",
          "output_type": "stream",
          "text": [
            "Enter marks you obtained : 44\n"
          ]
        },
        {
          "output_type": "execute_result",
          "data": {
            "text/plain": [
              "'Marks : 44. pass with second class'"
            ],
            "application/vnd.google.colaboratory.intrinsic+json": {
              "type": "string"
            }
          },
          "metadata": {},
          "execution_count": 20
        }
      ]
    },
    {
      "cell_type": "code",
      "source": [
        "a=[]\n",
        "def sum_num(*args):\n",
        "  sum=0\n",
        "  for x in a:\n",
        "    sum=sum+x\n",
        "\n",
        "  print('The sum is :', sum)\n",
        "\n",
        "rng =int(input('Enter number for sum :'))\n",
        "for i in range(1,rng):\n",
        "  a.append(i)\n",
        "sum_num(a)"
      ],
      "metadata": {
        "colab": {
          "base_uri": "https://localhost:8080/"
        },
        "id": "GVBUaAVl_VhO",
        "outputId": "f80cc627-8b5c-4411-c59a-1aebed4e99be"
      },
      "execution_count": 41,
      "outputs": [
        {
          "output_type": "stream",
          "name": "stdout",
          "text": [
            "Enter number for sum :1000\n",
            "The sum is : 499500\n"
          ]
        }
      ]
    },
    {
      "cell_type": "code",
      "source": [
        "result = lambda percentage: f\"{percentage} pass with first class distinction\" if percentage >= 78 else (\\\n",
        "                            f\"{percentage} pass with first class\" if percentage >= 60  else (\\\n",
        "                            f\"{percentage} pass with second class\" if percentage >= 40  else (\\\n",
        "                            f\"{percentage} pass with third class\" if percentage >= 33  else (\\\n",
        "                            f\"{percentage} better luck next time\"))))"
      ],
      "metadata": {
        "id": "6n1AmHtUHSSp"
      },
      "execution_count": 43,
      "outputs": []
    },
    {
      "cell_type": "code",
      "source": [
        "result(79), result(69), result(59), result(49), result(39), result(29), result(19), result(9), result(89), result(99)"
      ],
      "metadata": {
        "colab": {
          "base_uri": "https://localhost:8080/"
        },
        "id": "ptf-HRtzHVbK",
        "outputId": "862b55f8-ced6-4961-892a-2f52709a5e23"
      },
      "execution_count": 44,
      "outputs": [
        {
          "output_type": "execute_result",
          "data": {
            "text/plain": [
              "('79 pass with first class distinction',\n",
              " '69 pass with first class',\n",
              " '59 pass with second class',\n",
              " '49 pass with second class',\n",
              " '39 pass with third class',\n",
              " '29 better luck next time',\n",
              " '19 better luck next time',\n",
              " '9 better luck next time',\n",
              " '89 pass with first class distinction',\n",
              " '99 pass with first class distinction')"
            ]
          },
          "metadata": {},
          "execution_count": 44
        }
      ]
    },
    {
      "cell_type": "code",
      "source": [
        "def fin(*args, a, b, c, d, e):\n",
        "  return a+b+c+(sum(args))\n",
        "fin(12,23,34,45,56,67,78,89,90)\n"
      ],
      "metadata": {
        "colab": {
          "base_uri": "https://localhost:8080/",
          "height": 210
        },
        "id": "jTLBvlLWIHxx",
        "outputId": "3f4d4626-c6df-48bf-8850-566571d6570e"
      },
      "execution_count": 46,
      "outputs": [
        {
          "output_type": "error",
          "ename": "TypeError",
          "evalue": "ignored",
          "traceback": [
            "\u001b[0;31m---------------------------------------------------------------------------\u001b[0m",
            "\u001b[0;31mTypeError\u001b[0m                                 Traceback (most recent call last)",
            "\u001b[0;32m<ipython-input-46-384fafda0739>\u001b[0m in \u001b[0;36m<cell line: 3>\u001b[0;34m()\u001b[0m\n\u001b[1;32m      1\u001b[0m \u001b[0;32mdef\u001b[0m \u001b[0mfin\u001b[0m\u001b[0;34m(\u001b[0m\u001b[0;34m*\u001b[0m\u001b[0margs\u001b[0m\u001b[0;34m,\u001b[0m \u001b[0ma\u001b[0m\u001b[0;34m,\u001b[0m \u001b[0mb\u001b[0m\u001b[0;34m,\u001b[0m \u001b[0mc\u001b[0m\u001b[0;34m,\u001b[0m \u001b[0md\u001b[0m\u001b[0;34m,\u001b[0m \u001b[0me\u001b[0m\u001b[0;34m)\u001b[0m\u001b[0;34m:\u001b[0m\u001b[0;34m\u001b[0m\u001b[0;34m\u001b[0m\u001b[0m\n\u001b[1;32m      2\u001b[0m   \u001b[0;32mreturn\u001b[0m \u001b[0ma\u001b[0m\u001b[0;34m+\u001b[0m\u001b[0mb\u001b[0m\u001b[0;34m+\u001b[0m\u001b[0mc\u001b[0m\u001b[0;34m+\u001b[0m\u001b[0;34m(\u001b[0m\u001b[0msum\u001b[0m\u001b[0;34m(\u001b[0m\u001b[0margs\u001b[0m\u001b[0;34m)\u001b[0m\u001b[0;34m)\u001b[0m\u001b[0;34m\u001b[0m\u001b[0;34m\u001b[0m\u001b[0m\n\u001b[0;32m----> 3\u001b[0;31m \u001b[0mfin\u001b[0m\u001b[0;34m(\u001b[0m\u001b[0;36m12\u001b[0m\u001b[0;34m,\u001b[0m\u001b[0;36m23\u001b[0m\u001b[0;34m,\u001b[0m\u001b[0;36m34\u001b[0m\u001b[0;34m,\u001b[0m\u001b[0;36m45\u001b[0m\u001b[0;34m,\u001b[0m\u001b[0;36m56\u001b[0m\u001b[0;34m,\u001b[0m\u001b[0;36m67\u001b[0m\u001b[0;34m,\u001b[0m\u001b[0;36m78\u001b[0m\u001b[0;34m,\u001b[0m\u001b[0;36m89\u001b[0m\u001b[0;34m,\u001b[0m\u001b[0;36m90\u001b[0m\u001b[0;34m)\u001b[0m\u001b[0;34m\u001b[0m\u001b[0;34m\u001b[0m\u001b[0m\n\u001b[0m",
            "\u001b[0;31mTypeError\u001b[0m: fin() missing 5 required keyword-only arguments: 'a', 'b', 'c', 'd', and 'e'"
          ]
        }
      ]
    },
    {
      "cell_type": "code",
      "source": [
        "def func_sum(*args): # *args (Non-Keyword Arguments)\n",
        "  return args\n",
        "\n",
        "func_sum(12,23,34,45,56,67,78,89,90,101)"
      ],
      "metadata": {
        "colab": {
          "base_uri": "https://localhost:8080/"
        },
        "id": "fHGXb42ZI3Hq",
        "outputId": "440613a8-838b-475a-a45c-241056bf7494"
      },
      "execution_count": 47,
      "outputs": [
        {
          "output_type": "execute_result",
          "data": {
            "text/plain": [
              "(12, 23, 34, 45, 56, 67, 78, 89, 90, 101)"
            ]
          },
          "metadata": {},
          "execution_count": 47
        }
      ]
    },
    {
      "cell_type": "code",
      "source": [
        "func_sum([12,23,34],(45,56,67),78,89,90,101)"
      ],
      "metadata": {
        "colab": {
          "base_uri": "https://localhost:8080/"
        },
        "id": "x37_Ys8ZJMWO",
        "outputId": "24629bf8-e2c4-43fc-ef1f-b46dcdd32967"
      },
      "execution_count": 48,
      "outputs": [
        {
          "output_type": "execute_result",
          "data": {
            "text/plain": [
              "([12, 23, 34], (45, 56, 67), 78, 89, 90, 101)"
            ]
          },
          "metadata": {},
          "execution_count": 48
        }
      ]
    },
    {
      "cell_type": "code",
      "source": [
        "func_sum({'a':12,'b':23,'c':34,'d':45,'e':56},67,78,89,90,101)"
      ],
      "metadata": {
        "colab": {
          "base_uri": "https://localhost:8080/"
        },
        "id": "rHPPxMyNJPv2",
        "outputId": "84a72211-b42a-4f04-f0f9-c1fa9e1d2cbe"
      },
      "execution_count": 49,
      "outputs": [
        {
          "output_type": "execute_result",
          "data": {
            "text/plain": [
              "({'a': 12, 'b': 23, 'c': 34, 'd': 45, 'e': 56}, 67, 78, 89, 90, 101)"
            ]
          },
          "metadata": {},
          "execution_count": 49
        }
      ]
    },
    {
      "cell_type": "code",
      "source": [
        "def func_sum(**kwargs):\n",
        "  return kwargs\n",
        "func_sum(fname='Anurag', mname='Arun', lname = 'Edlabadkar')"
      ],
      "metadata": {
        "colab": {
          "base_uri": "https://localhost:8080/"
        },
        "id": "GihgIt4DLY6x",
        "outputId": "e358497f-c07b-42aa-b7ff-86bc4749a887"
      },
      "execution_count": 50,
      "outputs": [
        {
          "output_type": "execute_result",
          "data": {
            "text/plain": [
              "{'fname': 'Anurag', 'mname': 'Arun', 'lname': 'Edlabadkar'}"
            ]
          },
          "metadata": {},
          "execution_count": 50
        }
      ]
    },
    {
      "cell_type": "code",
      "source": [
        "def res(**kwargs):\n",
        "  for key, value in kwargs.items():\n",
        "    print('{} is {}'.format(key, value))\n",
        "res(FirstName='Bashant', LastName='Jung')"
      ],
      "metadata": {
        "colab": {
          "base_uri": "https://localhost:8080/"
        },
        "id": "9SyIrDmdLegf",
        "outputId": "38b2fbf0-fd57-49b0-d137-6e89188584d1"
      },
      "execution_count": 55,
      "outputs": [
        {
          "output_type": "stream",
          "name": "stdout",
          "text": [
            "FirstName is Bashant\n",
            "LastName is Jung\n"
          ]
        }
      ]
    },
    {
      "cell_type": "code",
      "source": [
        "\n",
        "def res(*args, **kwargs):\n",
        "    for key, value in kwargs.items():\n",
        "      print('{} is {}'.format(key, value))\n",
        "    sum=0\n",
        "    for s in args:\n",
        "      sum=sum+s\n",
        "    print(sum)\n",
        "\n",
        "res(1,2 , 3, 4, 4, FirstName='Bashant', LastName='Jung')"
      ],
      "metadata": {
        "colab": {
          "base_uri": "https://localhost:8080/"
        },
        "id": "YP92t3dENCmG",
        "outputId": "65c5e832-7818-45fa-f03f-7595c9e579e0"
      },
      "execution_count": 58,
      "outputs": [
        {
          "output_type": "stream",
          "name": "stdout",
          "text": [
            "FirstName is Bashant\n",
            "LastName is Jung\n",
            "14\n"
          ]
        }
      ]
    }
  ]
}