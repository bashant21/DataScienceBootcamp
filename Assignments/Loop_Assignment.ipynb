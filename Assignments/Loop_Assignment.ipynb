{
  "nbformat": 4,
  "nbformat_minor": 0,
  "metadata": {
    "colab": {
      "provenance": [],
      "include_colab_link": true
    },
    "kernelspec": {
      "name": "python3",
      "display_name": "Python 3"
    },
    "language_info": {
      "name": "python"
    }
  },
  "cells": [
    {
      "cell_type": "markdown",
      "metadata": {
        "id": "view-in-github",
        "colab_type": "text"
      },
      "source": [
        "<a href=\"https://colab.research.google.com/github/bashant21/DataScienceBootcamp/blob/main/Assignments/Loop_Assignment.ipynb\" target=\"_parent\"><img src=\"https://colab.research.google.com/assets/colab-badge.svg\" alt=\"Open In Colab\"/></a>"
      ]
    },
    {
      "cell_type": "code",
      "execution_count": null,
      "metadata": {
        "colab": {
          "base_uri": "https://localhost:8080/"
        },
        "id": "wTfFiW7YyLLH",
        "outputId": "4c65abbb-a4b9-4fef-d8b6-c9058592e063"
      },
      "outputs": [
        {
          "output_type": "stream",
          "name": "stdout",
          "text": [
            "Enter first number :22\n",
            "Enter second number :33\n",
            "\n",
            "\n",
            "Before Swap \n",
            "\n",
            "num1 is : 22\n",
            "num2 is : 33\n",
            "\n",
            "\n",
            "After Swap \n",
            "\n",
            "num1 is : 33\n",
            "num2 is : 22\n"
          ]
        }
      ],
      "source": [
        "# 1) Swap two numbers using 3rd variable\n",
        "num1 = int(input('Enter first number :'))\n",
        "num2 = int(input('Enter second number :'))\n",
        "print('\\n')\n",
        "print('Before Swap \\n')\n",
        "print('num1 is :', num1)\n",
        "print('num2 is :', num2)\n",
        "print('\\n')\n",
        "temp = num1\n",
        "num1 = num2\n",
        "num2 = temp\n",
        "print('After Swap \\n')\n",
        "print('num1 is :', num1)\n",
        "print('num2 is :', num2)"
      ]
    },
    {
      "cell_type": "code",
      "source": [
        "# 2) Swap two numbers without using 3rd variable\n",
        "\n",
        "num1 = int(input('Enter first number :'))\n",
        "num2 = int(input('Enter second number :'))\n",
        "print('\\n')\n",
        "print('Before Swap \\n')\n",
        "print('num1 is :', num1)\n",
        "print('num2 is :', num2)\n",
        "print('\\n')\n",
        "\n",
        "num1 = num1 + num2\n",
        "num2 = num1 - num2\n",
        "num1 = num1 - num2\n",
        "\n",
        "print('After Swap \\n')\n",
        "print('num1 is :', num1)\n",
        "print('num2 is :', num2)"
      ],
      "metadata": {
        "colab": {
          "base_uri": "https://localhost:8080/"
        },
        "id": "ya8Fy48Ryv2k",
        "outputId": "321e100e-8b0f-4c8c-db8c-7804b4ab8c8c"
      },
      "execution_count": null,
      "outputs": [
        {
          "output_type": "stream",
          "name": "stdout",
          "text": [
            "Enter first number :22\n",
            "Enter second number :33\n",
            "\n",
            "\n",
            "Before Swap \n",
            "\n",
            "num1 is : 22\n",
            "num2 is : 33\n",
            "\n",
            "\n",
            "After Swap \n",
            "\n",
            "num1 is : 33\n",
            "num2 is : 22\n"
          ]
        }
      ]
    },
    {
      "cell_type": "code",
      "source": [
        "# 3) Remove duplicate elements from a list without converting to tuple\n",
        "lst1 = [1, 2, 3, 4, 5,  1, 2, 3, 4, 5, 6, 7, 8]\n",
        "print('Original elements :', lst1)\n",
        "lst2 =[]\n",
        "for i in lst1:\n",
        "  if i not in lst2:\n",
        "    lst2.append(i)\n",
        "\n",
        "print('After removing duplicate elements in the list :', lst2)\n"
      ],
      "metadata": {
        "colab": {
          "base_uri": "https://localhost:8080/"
        },
        "id": "VYs-RdcHzxIk",
        "outputId": "6a7d76c8-daff-42bc-aa17-73986dbe4f58"
      },
      "execution_count": null,
      "outputs": [
        {
          "output_type": "stream",
          "name": "stdout",
          "text": [
            "Original elements : [1, 2, 3, 4, 5, 1, 2, 3, 4, 5, 6, 7, 8]\n",
            "After removing duplicate elements in the list : [1, 2, 3, 4, 5, 6, 7, 8]\n"
          ]
        }
      ]
    },
    {
      "cell_type": "code",
      "source": [
        "# 3) Write a program to find greatest common divisor (GCD) or highest common factor (HCF) of given two numbers\n",
        "x = int(input('Enter second number :'))\n",
        "y = int(input('Enter second number :'))\n",
        "\n",
        "small = min(x, y)\n",
        "\n",
        "for i in range (1, small+1):\n",
        "  if (x % i==0) and (y % i ==0):\n",
        "    hcf = i\n",
        "print('The highest common factor is ', hcf)\n",
        "\n"
      ],
      "metadata": {
        "colab": {
          "base_uri": "https://localhost:8080/"
        },
        "id": "mOKX8y0s014Z",
        "outputId": "f9236298-0341-4ead-c992-bc79865719a9"
      },
      "execution_count": null,
      "outputs": [
        {
          "output_type": "stream",
          "name": "stdout",
          "text": [
            "Enter second number :54\n",
            "Enter second number :44\n",
            "The highest common factor is  2\n"
          ]
        }
      ]
    },
    {
      "cell_type": "code",
      "source": [
        "# 4) Write a loop to print following series\n",
        "# 10, 20, 30,  …………………, 300\n",
        "\n",
        "for i in range(0, 301, 10):\n",
        "  print(i, end =', ')"
      ],
      "metadata": {
        "colab": {
          "base_uri": "https://localhost:8080/"
        },
        "id": "z7QRfGDa2L9Q",
        "outputId": "7930529b-890a-4d03-8dc5-307665f30d76"
      },
      "execution_count": null,
      "outputs": [
        {
          "output_type": "stream",
          "name": "stdout",
          "text": [
            "0, 10, 20, 30, 40, 50, 60, 70, 80, 90, 100, 110, 120, 130, 140, 150, 160, 170, 180, 190, 200, 210, 220, 230, 240, 250, 260, 270, 280, 290, 300, "
          ]
        }
      ]
    },
    {
      "cell_type": "code",
      "source": [
        "# 5) Write a loop to print following series\n",
        "# 105,98,91,………………………,7\n",
        "for i in range(105, 6, -7):\n",
        "  print(i, end=', ')"
      ],
      "metadata": {
        "colab": {
          "base_uri": "https://localhost:8080/"
        },
        "id": "HJJhFiML2ozL",
        "outputId": "fd9c4e8a-0f36-4a27-8040-38318f2755d7"
      },
      "execution_count": null,
      "outputs": [
        {
          "output_type": "stream",
          "name": "stdout",
          "text": [
            "105, 98, 91, 84, 77, 70, 63, 56, 49, 42, 35, 28, 21, 14, 7, "
          ]
        }
      ]
    },
    {
      "cell_type": "code",
      "source": [
        "# 6) Write a program to print number names of digits in a number like\n",
        "# SAMPLE INPUT 231 \t\tSAMPLE OUTPUT TWO THREE ONE\n",
        "\n",
        "x = input('Enter a number : ')\n",
        "digit_names = {\n",
        "    '0': 'ZERO',\n",
        "    '1': 'ONE',\n",
        "    '2': 'TWO',\n",
        "    '3': 'THREE',\n",
        "    '4': 'FOUR',\n",
        "    '5': 'FIVE',\n",
        "    '6': 'SIX',\n",
        "    '7': 'SEVEN',\n",
        "    '8': 'EIGHT',\n",
        "    '9': 'NINE'\n",
        "}\n",
        "\n",
        "for i in x:\n",
        "   name = digit_names.get(i, '')\n",
        "   print(name, end=' ')\n"
      ],
      "metadata": {
        "colab": {
          "base_uri": "https://localhost:8080/"
        },
        "id": "TL6vdC4s3AfF",
        "outputId": "d33cd16e-884b-4c90-9e47-56d3656dec4a"
      },
      "execution_count": null,
      "outputs": [
        {
          "output_type": "stream",
          "name": "stdout",
          "text": [
            "Enter a number : 333\n",
            "THREE THREE THREE "
          ]
        }
      ]
    },
    {
      "cell_type": "code",
      "source": [
        "# 7) Write a program to print Fibonacci series till n terms take n =50\n",
        "\n",
        "def fibonaci(num):\n",
        "  a=0\n",
        "  b=1\n",
        "  if num <=0:\n",
        "    print('Invalid Input !! Try with positive number !!')\n",
        "\n",
        "  elif num == 1:\n",
        "    print(\"Fibonacci Series up to 1 term:\", num)\n",
        "\n",
        "  else:\n",
        "     print(f\"Fibonacci Series up to {num} term:\")\n",
        "     print(a, end =' ')\n",
        "     print(b, end =' ')\n",
        "     for i in range (2,num):\n",
        "      c= a + b\n",
        "      print(c, end=' ')\n",
        "      a=b\n",
        "      b=c\n",
        "\n",
        "fibonaci(50)\n"
      ],
      "metadata": {
        "colab": {
          "base_uri": "https://localhost:8080/"
        },
        "id": "mRwr16VS6dUu",
        "outputId": "d5540f56-1c8b-4513-c25f-2900389eb586"
      },
      "execution_count": null,
      "outputs": [
        {
          "output_type": "stream",
          "name": "stdout",
          "text": [
            "Fibonacci Series up to 50 term:\n",
            "0 1 1 2 3 5 8 13 21 34 55 89 144 233 377 610 987 1597 2584 4181 6765 10946 17711 28657 46368 75025 121393 196418 317811 514229 832040 1346269 2178309 3524578 5702887 9227465 14930352 24157817 39088169 63245986 102334155 165580141 267914296 433494437 701408733 1134903170 1836311903 2971215073 4807526976 7778742049 "
          ]
        }
      ]
    },
    {
      "cell_type": "code",
      "source": [
        "# 8) Write a program to print factorial of a number\n",
        "x = int(input('Enter a number :'))\n",
        "print(f'The factorial of number {x} is :\\n')\n",
        "if x < 0:\n",
        "  print(\"Factorial is not defined for negative numbers.\")\n",
        "elif x == 0:\n",
        "      print(f'The factorial of {x} is, ', x)\n",
        "else:\n",
        "  for i in range(1,x+1):\n",
        "    if x % i ==0 and i <x:\n",
        "      print(i, end= ' X ')\n",
        "    elif x % i ==0 and i ==x:\n",
        "      print(i)\n",
        "\n",
        "\n"
      ],
      "metadata": {
        "colab": {
          "base_uri": "https://localhost:8080/"
        },
        "id": "17yQtkNICQaB",
        "outputId": "39edf653-03b9-4581-9179-5156b51485c6"
      },
      "execution_count": null,
      "outputs": [
        {
          "output_type": "stream",
          "name": "stdout",
          "text": [
            "Enter a number :22\n",
            "The factorial of number 22 is :\n",
            "\n",
            "1 X 2 X 11 X 22\n"
          ]
        }
      ]
    },
    {
      "cell_type": "code",
      "source": [
        "# 9) Write a program to check if a number is Armstrong or not\n",
        "x =371\n",
        "y=str(x)\n",
        "sum=0\n",
        "for i in y:\n",
        "  c = int(i)\n",
        "  sum += c*c*c\n",
        "if sum ==x:\n",
        "  print('Armstrong number')\n",
        "else:\n",
        "  print('Not a Armstrong number')\n",
        "\n"
      ],
      "metadata": {
        "colab": {
          "base_uri": "https://localhost:8080/"
        },
        "id": "1TR1G2B-D6Hg",
        "outputId": "c67482ed-c027-4f9f-d538-79605657178a"
      },
      "execution_count": null,
      "outputs": [
        {
          "output_type": "stream",
          "name": "stdout",
          "text": [
            "Armstrong number\n"
          ]
        }
      ]
    },
    {
      "cell_type": "code",
      "source": [
        "# 10) Write a program to convert binary to decimal\n",
        "x=input('Binary number : ')\n",
        "dec = x[::-1]\n",
        "sum=0\n",
        "for i in range(len(x)):\n",
        "  if dec[i] == '1':\n",
        "        sum += 2**i\n",
        "print(f'The binary value of {x} is : ', sum)"
      ],
      "metadata": {
        "colab": {
          "base_uri": "https://localhost:8080/"
        },
        "id": "Ksct_ygBL9y-",
        "outputId": "b6ceb871-7ae5-4338-b5b4-9939427c3349"
      },
      "execution_count": null,
      "outputs": [
        {
          "output_type": "stream",
          "name": "stdout",
          "text": [
            "Binary number : 1000\n",
            "The binary value of 1000 is :  8\n"
          ]
        }
      ]
    },
    {
      "cell_type": "code",
      "source": [
        "# Write a program to convert decimal to binary\n",
        "\n",
        "num = int(input(\"Enter a decimal number: \"))\n",
        "binry = \"\"\n",
        "if num == 0:\n",
        "    binry = \"0\"\n",
        "else:\n",
        "    while num > 0:\n",
        "        binry = str(num % 2) + binry\n",
        "        num //= 2\n",
        "\n",
        "print(\"Binary representation:\", binry)\n"
      ],
      "metadata": {
        "colab": {
          "base_uri": "https://localhost:8080/"
        },
        "id": "a2SqFb4pp0OB",
        "outputId": "00fda012-82a9-41c2-d6e5-c98da231e1db"
      },
      "execution_count": null,
      "outputs": [
        {
          "output_type": "stream",
          "name": "stdout",
          "text": [
            "Enter a decimal number: 8\n",
            "Binary representation: 1000\n"
          ]
        }
      ]
    },
    {
      "cell_type": "code",
      "source": [
        "# 12) Write a program to check if number is palindrome on not (Without converting to string)\n",
        "num = int(input(\"Enter a decimal number: \"))\n",
        "rev =0\n",
        "while num > 0:\n",
        "  digit=num % 10\n",
        "  rev=rev * 10+digit\n",
        "  num=num//10\n",
        "\n",
        "if num == rev:\n",
        "  print('Palindrime')\n",
        "else:\n",
        "   print('NOt Palindrime')"
      ],
      "metadata": {
        "colab": {
          "base_uri": "https://localhost:8080/"
        },
        "id": "BsNHTkamrGBB",
        "outputId": "5b1e0b12-db78-4681-b267-edb4e117c3dc"
      },
      "execution_count": null,
      "outputs": [
        {
          "output_type": "stream",
          "name": "stdout",
          "text": [
            "Enter a decimal number: 1232\n",
            "NOt Palindrime\n"
          ]
        }
      ]
    },
    {
      "cell_type": "code",
      "source": [
        "# 13) Write a program to print all numbers which are divisible by 13 but not by 3 between 100 and 500\n",
        "\n",
        "for i in range(100, 501):\n",
        "  if i % 13 == 0 and i %3 !=0:\n",
        "    print(i, end=', ')"
      ],
      "metadata": {
        "colab": {
          "base_uri": "https://localhost:8080/"
        },
        "id": "CM9bF_BUtI_Q",
        "outputId": "6bdc0811-39f9-49a5-866d-7b88b4ec6f77"
      },
      "execution_count": null,
      "outputs": [
        {
          "output_type": "stream",
          "name": "stdout",
          "text": [
            "104, 130, 143, 169, 182, 208, 221, 247, 260, 286, 299, 325, 338, 364, 377, 403, 416, 442, 455, 481, 494, "
          ]
        }
      ]
    },
    {
      "cell_type": "code",
      "source": [
        "#14) Write a Python program to convert temperatures to and from Celsius and Fahrenheit.\n",
        "print(\"Temperature Converter\")\n",
        "print(\"Celsius to Fahrenheit. Enter 1 : \")\n",
        "print(\"Fahrenheit to Celsius. Enter 2 : \")\n",
        "\n",
        "choice = int(input(\"Enter your choice (1 or 2): \"))\n",
        "\n",
        "if choice == 1:\n",
        "    celsius = float(input(\"Enter temperature in Celsius: \"))\n",
        "    fahr = (celsius * 9/5) + 32\n",
        "    print(f\"{celsius} C is equal to {fahr} F\")\n",
        "elif choice == 2:\n",
        "    fahr = float(input(\"Enter temperature in Fahrenheit: \"))\n",
        "    celsius = (fahr - 32) * 5/9\n",
        "    print(f\"{fahr} F is equal to {celsius} C\")\n",
        "else:\n",
        "    print(\"Invalid choice. Please choose 1 or 2.\")\n"
      ],
      "metadata": {
        "colab": {
          "base_uri": "https://localhost:8080/"
        },
        "id": "RaV84vmHtgBR",
        "outputId": "2a22a7d3-13e8-4dbc-dd65-5d6a503b7ad7"
      },
      "execution_count": null,
      "outputs": [
        {
          "output_type": "stream",
          "name": "stdout",
          "text": [
            "Temperature Converter\n",
            "Celsius to Fahrenheit. Enter 1 : \n",
            "Fahrenheit to Celsius. Enter 2 : \n",
            "Enter your choice (1 or 2): 1\n",
            "Enter temperature in Celsius: 32\n",
            "32.0 C is equal to 89.6 F\n"
          ]
        }
      ]
    },
    {
      "cell_type": "code",
      "source": [
        "# 15) Write a Python program that takes two digits m (row) and n (column) as input and generates a two-dimensional array.\n",
        "# The element value in the i-th row and j-th column of the array should be i*j. else it will be 0\n",
        "\n",
        "m = int(input(\"Enter the number of rows (m): \"))\n",
        "n = int(input(\"Enter the number of columns (n): \"))\n",
        "array = []\n",
        "\n",
        "for i in range(m):\n",
        "  row = []\n",
        "  for j in range(n):\n",
        "    if i * j == 0:\n",
        "      row.append(0)\n",
        "    else:\n",
        "     row.append(i * j)\n",
        "  array.append(row)\n",
        "\n",
        "\n",
        "for row in array:\n",
        "    print(row)\n"
      ],
      "metadata": {
        "id": "cH1P71MZuYNb",
        "colab": {
          "base_uri": "https://localhost:8080/"
        },
        "outputId": "f04fa56d-fc01-4a3b-b49f-ff194c840388"
      },
      "execution_count": null,
      "outputs": [
        {
          "output_type": "stream",
          "name": "stdout",
          "text": [
            "Enter the number of rows (m): 3\n",
            "Enter the number of columns (n): 2\n",
            "[0, 0]\n",
            "[0, 1]\n",
            "[0, 2]\n"
          ]
        }
      ]
    },
    {
      "cell_type": "code",
      "source": [
        "#16. Write a Python program that accepts a string and calculates the number of digits and letters.\n",
        "#Sample Data: Python 3.2\n",
        "# Expected Output:\n",
        "# Letters 6\n",
        "# Digits 2\n",
        "\n",
        "char = input('Enter a string : ')\n",
        "letter =0\n",
        "digit =0\n",
        "for i in char:\n",
        "  if i.isalpha():\n",
        "    letter +=1\n",
        "  elif i.isnumeric():\n",
        "    digit+=1\n",
        "print('Letter : ', letter)\n",
        "print('Digit : ', digit)\n"
      ],
      "metadata": {
        "colab": {
          "base_uri": "https://localhost:8080/"
        },
        "id": "l_ZxtYY_uwPP",
        "outputId": "35611b3d-b51a-4ff0-fd7e-b3d19d19e628"
      },
      "execution_count": null,
      "outputs": [
        {
          "output_type": "stream",
          "name": "stdout",
          "text": [
            "Enter a string : Python 3.2\n",
            "Letter :  6\n",
            "Digit :  2\n"
          ]
        }
      ]
    },
    {
      "cell_type": "code",
      "source": [
        "# 17) Print all possible combination for a string or a word\n",
        "# Sample input “ABC”\n",
        "# Sample output\n",
        "# BAC\n",
        "# CAB\n",
        "# CBA\n",
        "# ACB\n",
        "# BCA\n",
        "import itertools\n",
        "\n",
        "input_string = input(\"Enter a string: \")\n",
        "\n",
        "permutations = itertools.permutations(input_string)\n",
        "for perm in permutations:\n",
        "  print(''.join(perm))\n"
      ],
      "metadata": {
        "id": "eYvqDQmzwsHi",
        "colab": {
          "base_uri": "https://localhost:8080/"
        },
        "outputId": "98a6c959-c08c-41d6-c264-cd8ca07d7555"
      },
      "execution_count": null,
      "outputs": [
        {
          "output_type": "stream",
          "name": "stdout",
          "text": [
            "Enter a string: ABC\n",
            "ABC\n",
            "ACB\n",
            "BAC\n",
            "BCA\n",
            "CAB\n",
            "CBA\n"
          ]
        }
      ]
    },
    {
      "cell_type": "code",
      "source": [
        "# 18) Write a Python program to check if a triangle is equilateral, isosceles or scalene. Take 3 inputs for each side\n",
        "\n",
        "# Note :\n",
        "# An equilateral triangle is a triangle in which all three sides are equal.\n",
        "# A scalene triangle is a triangle that has three unequal sides.\n",
        "# An isosceles triangle is a triangle with (at least) two equal sides.\n",
        "\n",
        "\n",
        "side1 = float(input(\"Enter the length of side 1: \"))\n",
        "side2 = float(input(\"Enter the length of side 2: \"))\n",
        "side3 = float(input(\"Enter the length of side 3: \"))\n",
        "\n",
        "\n",
        "if (side1 == side2 == side3):\n",
        "  print(\"This is an equilateral triangle.\")\n",
        "elif (side1 == side2) or (side1 == side3) or (side2 == side3):\n",
        "  print(\"This is an isosceles triangle.\")\n",
        "else:\n",
        "  print(\"This is a scalene triangle.\")\n"
      ],
      "metadata": {
        "id": "jHTMUOyVwyLn",
        "colab": {
          "base_uri": "https://localhost:8080/"
        },
        "outputId": "b61a5a65-6a88-4a67-8eab-b1e068f514d0"
      },
      "execution_count": null,
      "outputs": [
        {
          "output_type": "stream",
          "name": "stdout",
          "text": [
            "Enter the length of side 1: 3\n",
            "Enter the length of side 2: 4\n",
            "Enter the length of side 3: 3\n",
            "This is an isosceles triangle.\n"
          ]
        }
      ]
    },
    {
      "cell_type": "code",
      "source": [
        "# 19) Write a Python program to get the next day of a given date.\n",
        "# Expected Output:\n",
        "# Input a year: 2016\n",
        "# Input a month [1-12]: 08\n",
        "# Input a day [1-31]: 23\n",
        "# The next date is [yyyy-mm-dd] 2016-8-24\n",
        "\n",
        "yr = int(input('Enter year : '))\n",
        "mth = int(input('Input a month [1-12] : '))\n",
        "day = int(input('Input a day [1-31] : '))\n",
        "\n",
        "if day ==31:\n",
        "  print(f'The next date is [yyyy-mm-dd] : {yr}-{mth+1}-01'  )\n",
        "else:\n",
        "  print(f'The next date is [yyyy-mm-dd] : {yr}-{mth}-{day+1}')"
      ],
      "metadata": {
        "colab": {
          "base_uri": "https://localhost:8080/"
        },
        "id": "cSvA6gy6w734",
        "outputId": "42d65f18-d573-441c-a3dd-cb49e107880d"
      },
      "execution_count": null,
      "outputs": [
        {
          "output_type": "stream",
          "name": "stdout",
          "text": [
            "Enter year : 2016\n",
            "Input a month [1-12] : 8\n",
            "Input a day [1-31] : 31\n",
            "The next date is [yyyy-mm-dd] : 2016-9-01\n"
          ]
        }
      ]
    }
  ]
}