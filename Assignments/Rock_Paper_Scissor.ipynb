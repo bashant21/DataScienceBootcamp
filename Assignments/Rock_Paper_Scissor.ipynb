{
  "nbformat": 4,
  "nbformat_minor": 0,
  "metadata": {
    "colab": {
      "provenance": [],
      "authorship_tag": "ABX9TyOnsVP8r7XnCbN07B3UOrbK",
      "include_colab_link": true
    },
    "kernelspec": {
      "name": "python3",
      "display_name": "Python 3"
    },
    "language_info": {
      "name": "python"
    }
  },
  "cells": [
    {
      "cell_type": "markdown",
      "metadata": {
        "id": "view-in-github",
        "colab_type": "text"
      },
      "source": [
        "<a href=\"https://colab.research.google.com/github/bashant21/DataScienceBootcamp/blob/main/Assignments/Rock_Paper_Scissor.ipynb\" target=\"_parent\"><img src=\"https://colab.research.google.com/assets/colab-badge.svg\" alt=\"Open In Colab\"/></a>"
      ]
    },
    {
      "cell_type": "code",
      "execution_count": 7,
      "metadata": {
        "colab": {
          "base_uri": "https://localhost:8080/"
        },
        "id": "pLynEpunkF-x",
        "outputId": "ca675f3c-0456-4ea7-a1dd-2869d8093f23"
      },
      "outputs": [
        {
          "output_type": "stream",
          "name": "stdout",
          "text": [
            "Enter rock, paper, or scissor: paper\n",
            "Computer input is: PAPER\n",
            "User input is: PAPER\n",
            "Same input. It's a tie!\n",
            "\n",
            "\n",
            "---------------------------------------------\n",
            "Enter rock, paper, or scissor: Rockl\n",
            "Computer input is: SCISSOR\n",
            "User input is: ROCKL\n",
            "Invalid Input !!\n",
            "\n",
            "\n",
            "---------------------------------------------\n",
            "Enter rock, paper, or scissor: Rock\n",
            "Computer input is: ROCK\n",
            "User input is: ROCK\n",
            "Same input. It's a tie!\n",
            "\n",
            "\n",
            "---------------------------------------------\n",
            "Enter rock, paper, or scissor: rock\n",
            "Computer input is: ROCK\n",
            "User input is: ROCK\n",
            "Same input. It's a tie!\n",
            "\n",
            "\n",
            "---------------------------------------------\n",
            "Enter rock, paper, or scissor: rock\n",
            "Computer input is: ROCK\n",
            "User input is: ROCK\n",
            "Same input. It's a tie!\n",
            "\n",
            "\n",
            "---------------------------------------------\n",
            "Enter rock, paper, or scissor: rock\n",
            "Computer input is: SCISSOR\n",
            "User input is: ROCK\n",
            "You win! Rock smashes scissors.\n"
          ]
        }
      ],
      "source": [
        "# Rules\n",
        "#The game should only stop when the user wins! If its a tie or user loses game should continue\n",
        "#Rock smashes scissors.\n",
        "#Paper covers rock.\n",
        "#Scissors cut paper.\n",
        "import random\n",
        "\n",
        "possible_actions = ['rock', 'paper', 'scissor']\n",
        "\n",
        "while True:\n",
        "    computer_action = random.choice(possible_actions).lower()\n",
        "    user = input('Enter rock, paper, or scissor: ').lower()\n",
        "\n",
        "    print('Computer input is:', computer_action.upper())\n",
        "    print('User input is:', user.upper())\n",
        "\n",
        "    if user == computer_action:\n",
        "        print(\"Same input. It's a tie!\")\n",
        "\n",
        "    elif user == 'rock':\n",
        "        if computer_action == 'scissor':\n",
        "            print('You win! Rock smashes scissors.')\n",
        "            break\n",
        "        else:\n",
        "            print(\"You lose!\")\n",
        "\n",
        "    elif user == 'scissor':\n",
        "        if computer_action == 'paper':\n",
        "            print('You win! Scissors cut paper.')\n",
        "            break\n",
        "        else:\n",
        "            print(\"You lose!\")\n",
        "\n",
        "    elif user == 'paper':\n",
        "        if computer_action == 'rock':\n",
        "            print('You win! Paper covers rock.')\n",
        "            break\n",
        "        else:\n",
        "            print(\"You lose!\")\n",
        "\n",
        "    else:\n",
        "        print('Invalid Input !!')\n",
        "\n",
        "    print('\\n')\n",
        "    print('---------------------------------------------')\n"
      ]
    }
  ]
}