{
  "nbformat": 4,
  "nbformat_minor": 0,
  "metadata": {
    "colab": {
      "provenance": [],
      "authorship_tag": "ABX9TyO24yPp67YAx8KHc36LGqcn",
      "include_colab_link": true
    },
    "kernelspec": {
      "name": "python3",
      "display_name": "Python 3"
    },
    "language_info": {
      "name": "python"
    }
  },
  "cells": [
    {
      "cell_type": "markdown",
      "metadata": {
        "id": "view-in-github",
        "colab_type": "text"
      },
      "source": [
        "<a href=\"https://colab.research.google.com/github/bashant21/DataScienceBootcamp/blob/main/Assignments/Assignment%201.ipynb\" target=\"_parent\"><img src=\"https://colab.research.google.com/assets/colab-badge.svg\" alt=\"Open In Colab\"/></a>"
      ]
    },
    {
      "cell_type": "code",
      "execution_count": 4,
      "metadata": {
        "colab": {
          "base_uri": "https://localhost:8080/"
        },
        "id": "3AOTqCsdzQ_8",
        "outputId": "a606310f-bf6d-4f23-dcf3-b618d2fd7baa"
      },
      "outputs": [
        {
          "output_type": "stream",
          "name": "stdout",
          "text": [
            "Enter your salary : 2000\n",
            "Enter your years of service : 6\n",
            "Congratulations !! You bonous amount is 100.0\n"
          ]
        }
      ],
      "source": [
        "#1.A company decided to give bonus of 5% to employee if his/her year of service is more than 5 years.\n",
        "#Ask user for their salary and year of service and print the net bonus amount.\n",
        "\n",
        "salary = int(input('Enter your salary : '))\n",
        "\n",
        "year = int(input('Enter your years of service : '))\n",
        "\n",
        "if year > 5:\n",
        "  bonus = ((5/100) * salary)\n",
        "  print('Congratulations !! You bonous amount is', bonus)\n",
        "\n",
        "else:\n",
        "  print('You are not eligible for bonous !!')\n",
        "\n",
        "\n",
        "\n",
        "\n"
      ]
    },
    {
      "cell_type": "code",
      "source": [
        "#2.Take values of length and breadth of a rectangle from user and check if it is square or not.\n",
        "\n",
        "l = int(input('Enter the length of rectange : '))\n",
        "b = int(input('Enter the breadth of rectangle : '))\n",
        "\n",
        "if 1 == b:\n",
        "    print('It is a square .. !!')\n",
        "\n",
        "else:\n",
        "    print('It is not a square .. !!')"
      ],
      "metadata": {
        "colab": {
          "base_uri": "https://localhost:8080/"
        },
        "id": "FPtsIkcSML17",
        "outputId": "10777e46-ddf9-472c-c7e8-7c042b5a04d8"
      },
      "execution_count": 10,
      "outputs": [
        {
          "output_type": "stream",
          "name": "stdout",
          "text": [
            "Enter the length of rectange : 1\n",
            "Enter the breadth of rectangle : 1\n",
            "It is a square .. !!\n"
          ]
        }
      ]
    },
    {
      "cell_type": "code",
      "source": [
        "# 3. Take two int values from user and print greatest among them.\n",
        "\n",
        "x = int(input(\"Enter your first number : \"))\n",
        "y = int(input('Enter your second number : '))\n",
        "\n",
        "if x > y:\n",
        "  print(f'{x} is the greatest value ..!!')\n",
        "\n",
        "else:\n",
        "  print(f'{y} is the greatest value ..!! ')"
      ],
      "metadata": {
        "colab": {
          "base_uri": "https://localhost:8080/"
        },
        "id": "DjcMJussNAQ5",
        "outputId": "445870b4-6fa8-46eb-e59b-211b32626914"
      },
      "execution_count": 12,
      "outputs": [
        {
          "output_type": "stream",
          "name": "stdout",
          "text": [
            "Enter your first number : 3\n",
            "Enter your second number : 4\n",
            "4 is the greatest value ..!! \n"
          ]
        }
      ]
    },
    {
      "cell_type": "code",
      "source": [
        "# 4.A shop will give discount of 10% if the cost of purchased quantity is more than 1000.\n",
        "# Ask user for quantity\n",
        "# Suppose, one unit will cost 100.\n",
        "# Judge and print total cost for user.\n",
        "\n",
        "unit_cost = 100\n",
        "quantity = int(input('Enter the purchase quantity : ') )\n",
        "purchase_quantity = unit_cost * quantity\n",
        "\n",
        "if purchase_quantity > 1000:\n",
        "  dis = (10/100) * purchase_quantity\n",
        "  total_cost = purchase_quantity - dis\n",
        "  print('Congratulations !! You got 10 % discount. \\n Total payable amount is :', total_cost)\n",
        "\n",
        "else:\n",
        "  print('Total payable amount is :', purchase_quantity)"
      ],
      "metadata": {
        "colab": {
          "base_uri": "https://localhost:8080/"
        },
        "id": "eexDnauuN3vl",
        "outputId": "a5ef1bd3-c9ec-4852-de11-fdee72d94dd4"
      },
      "execution_count": 20,
      "outputs": [
        {
          "output_type": "stream",
          "name": "stdout",
          "text": [
            "Enter the purchase quantity : 10\n",
            "Total payable amount is : 1000\n"
          ]
        }
      ]
    },
    {
      "cell_type": "code",
      "source": [
        "# 5.A school has following rules for grading system:\n",
        "# a. Below 25 - F\n",
        "# b. 25 to 45 - E\n",
        "# c. 45 to 50 - D\n",
        "# d. 50 to 60 - C\n",
        "# e. 60 to 80 - B\n",
        "# f. Above 80 - A\n",
        "# Ask user to enter marks and print the corresponding grade.\n",
        "\n",
        "marks = int(input(\"Enter the marks you obtained : \"))\n",
        "\n",
        "if marks < 25:\n",
        "  print(\"You obtained Grade \\'F\\'\")\n",
        "\n",
        "elif marks >= 25 and marks < 45:\n",
        "  print('You abtained grade \\'E\\'')\n",
        "\n",
        "elif marks >= 45 and  marks <50:\n",
        "  print(\"You obtained grade \\'D\\'\")\n",
        "\n",
        "elif marks >=50 and marks < 60:\n",
        "  print(\"You obtained grade \\'C\\'\")\n",
        "\n",
        "elif marks >=60 and marks < 80:\n",
        "  print('You obtained grade \\'B\\'')\n",
        "\n",
        "elif marks >=80 and marks <=100:\n",
        "  print('Congratulations ..!! You obtained grade \\'A\\'')\n",
        "\n",
        "else:\n",
        "  print('Invalid Input ..!!')\n"
      ],
      "metadata": {
        "colab": {
          "base_uri": "https://localhost:8080/"
        },
        "id": "KjvXMMtrQfhB",
        "outputId": "6604e07e-e6b4-47cd-d64e-fac241aeb208"
      },
      "execution_count": 29,
      "outputs": [
        {
          "output_type": "stream",
          "name": "stdout",
          "text": [
            "Enter the marks you obtained : 66\n",
            "You obtained grade 'B'\n"
          ]
        }
      ]
    },
    {
      "cell_type": "code",
      "source": [
        "#6.Take input of age of 3 people by user and determine oldest and youngest among them.\n",
        "\n",
        "usr1 = int(input('usr1: Enter your age : '))\n",
        "usr2 = int(input('usr2: Enter your age : '))\n",
        "usr3 = int(input('usr3: Enter your age : '))\n",
        "\n",
        "if usr1 > usr2 and usr1 > usr3:\n",
        "  print(\"usr1 is the oldest \")\n",
        "\n",
        "  if usr2 < usr3:\n",
        "    print('usr2 is the youngest.')\n",
        "\n",
        "  else:\n",
        "    print('usr3 is the youngest.')\n",
        "\n",
        "elif usr2 > usr1 and usr2> usr3:\n",
        "  print('usr2 is the oldest')\n",
        "\n",
        "  if usr1 < usr3:\n",
        "    print('usr1 is the youngest.')\n",
        "\n",
        "  else:\n",
        "    print('usr3 is the youngest.')\n",
        "\n",
        "else:\n",
        "  print('usr3 is the oldest.')\n",
        "\n",
        "  if usr1 < usr2:\n",
        "    print('usr1 is the youngest.')\n",
        "\n",
        "  else:\n",
        "    print('usr2 is the youngest.')\n",
        "\n",
        "\n"
      ],
      "metadata": {
        "colab": {
          "base_uri": "https://localhost:8080/"
        },
        "id": "pyxKuhZSTIFd",
        "outputId": "3f3b53de-000d-43af-c640-f93ee67d61ec"
      },
      "execution_count": 31,
      "outputs": [
        {
          "output_type": "stream",
          "name": "stdout",
          "text": [
            "usr1: Enter your age : 25\n",
            "usr2: Enter your age : 21\n",
            "usr3: Enter your age : 23\n",
            "usr1 is the oldest \n",
            "usr2 is the youngest.\n"
          ]
        }
      ]
    },
    {
      "cell_type": "code",
      "source": [
        "# 7.Write a program to print absolute vlaue of a number entered by user. E.g.-\n",
        "# INPUT: 1        OUTPUT: 1\n",
        "# INPUT: -1        OUTPUT: 1\n",
        "\n",
        "num = int(input(\"Enter a number : \"))\n",
        "\n",
        "print(f'The absolute value of number ({num}) is : ', abs(num))"
      ],
      "metadata": {
        "colab": {
          "base_uri": "https://localhost:8080/"
        },
        "id": "vul_YSkEW3Nr",
        "outputId": "4338ae5a-5e52-4603-85f8-78cb04e41408"
      },
      "execution_count": 36,
      "outputs": [
        {
          "output_type": "stream",
          "name": "stdout",
          "text": [
            "Enter a number : -5\n",
            "The absolute value of number (-5) is :  5\n"
          ]
        }
      ]
    },
    {
      "cell_type": "code",
      "source": [
        "# 8.A student will not be allowed to sit in exam if his/her attendence is less than 75%.\n",
        "# Take following input from user\n",
        "# Number of classes held\n",
        "# Number of classes attended.\n",
        "# And print\n",
        "# percentage of class attended\n",
        "# Is student is allowed to sit in exam or not.\n",
        "\n",
        "clas_held = int(input(\"Enter total number of class held : \"))\n",
        "clas_attnd = int(input(\"Enter total numbr of class you have attended : \"))\n",
        "\n",
        "attnd_pertg = int((clas_attnd/clas_held) * 100)\n",
        "\n",
        "if attnd_pertg >= 75:\n",
        "  print(\"You are allowed to sit in the exam !!\")\n",
        "else:\n",
        "  print(\"You are not allowed to sit for the exam !! \")"
      ],
      "metadata": {
        "colab": {
          "base_uri": "https://localhost:8080/"
        },
        "id": "ux1IsJJkXjpn",
        "outputId": "eb05eb76-d15b-41be-e23b-4cb89d238c29"
      },
      "execution_count": 42,
      "outputs": [
        {
          "output_type": "stream",
          "name": "stdout",
          "text": [
            "Enter total number of class held : 100\n",
            "Enter total numbr of class you have attended : 23\n",
            "You are not allowed to sit for the exam !! \n"
          ]
        }
      ]
    },
    {
      "cell_type": "code",
      "source": [
        "# 9.Modify the above question to allow student to sit if he/she has medical cause.\n",
        "# Ask user if he/she has medical cause or not ( 'Y' or 'N' ) and print accordingly.\n",
        "\n",
        "clas_held = int(input(\"Enter total number of class held : \"))\n",
        "clas_attnd = int(input(\"Enter total numbr of class you have attended : \"))\n",
        "\n",
        "attnd_pertg = int((clas_attnd/clas_held) * 100)\n",
        "\n",
        "if attnd_pertg >= 75:\n",
        "  print(\"You are allowed to sit in the exam !!\")\n",
        "else:\n",
        "  medical_cause = input(\"Do you have any medical cause for not able to attend the class ? \\n Enter \\'Y\\' for Yes and \\'N\\' for No :\").lower()\n",
        "\n",
        "  if medical_cause == 'y':\n",
        "    print(\"Show your valid proof and be eligible to sit for the exam !! \")\n",
        "\n",
        "  else:\n",
        "    print(\"You are not allowed to sit for the exam !! \")\n"
      ],
      "metadata": {
        "colab": {
          "base_uri": "https://localhost:8080/"
        },
        "id": "Rcb-Fwd3b4C5",
        "outputId": "5277ad17-bbd7-41be-e693-cfa1514616b8"
      },
      "execution_count": 46,
      "outputs": [
        {
          "output_type": "stream",
          "name": "stdout",
          "text": [
            "Enter total number of class held : 100\n",
            "Enter total numbr of class you have attended : 22\n",
            "Do you have any medical cause for not able to attend the class ? \n",
            " Enter 'Y' for Yes and 'N' for No :N\n",
            "You are not allowed to sit for the exam !! \n"
          ]
        }
      ]
    }
  ]
}