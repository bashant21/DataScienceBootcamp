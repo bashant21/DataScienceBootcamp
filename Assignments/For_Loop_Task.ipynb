{
  "nbformat": 4,
  "nbformat_minor": 0,
  "metadata": {
    "colab": {
      "provenance": [],
      "authorship_tag": "ABX9TyMtoWTH0h0TNIMw/imyfrH/",
      "include_colab_link": true
    },
    "kernelspec": {
      "name": "python3",
      "display_name": "Python 3"
    },
    "language_info": {
      "name": "python"
    }
  },
  "cells": [
    {
      "cell_type": "markdown",
      "metadata": {
        "id": "view-in-github",
        "colab_type": "text"
      },
      "source": [
        "<a href=\"https://colab.research.google.com/github/bashant21/DataScienceBootcamp/blob/main/Assignments/For_Loop_Task.ipynb\" target=\"_parent\"><img src=\"https://colab.research.google.com/assets/colab-badge.svg\" alt=\"Open In Colab\"/></a>"
      ]
    },
    {
      "cell_type": "code",
      "execution_count": null,
      "metadata": {
        "colab": {
          "base_uri": "https://localhost:8080/"
        },
        "id": "qnp7neCpN8G3",
        "outputId": "f2be9e88-009a-4d0a-fc84-6aaebd2feccb"
      },
      "outputs": [
        {
          "output_type": "stream",
          "name": "stdout",
          "text": [
            "[3, 4, 5, 11, 6, 8]\n"
          ]
        }
      ],
      "source": [
        "#Question 1) Remove all repeated elements from the list Given below using for loop.\n",
        "\n",
        "a = [1, 2, 3, 4, 5, 11, 1, 2, 6, 1, 8]\n",
        "b= []\n",
        "for i in a:\n",
        "  if a.count(i)==1:\n",
        "    b.append(i)\n",
        "\n",
        "print(b)"
      ]
    },
    {
      "cell_type": "code",
      "source": [
        "#Question 2) Print all prime numbers below 100\n",
        "l1 = []\n",
        "for i in range(2, 101):\n",
        "  for j in range(2, i):\n",
        "    if i%j==0:\n",
        "      break\n",
        "  else:\n",
        "    l1.append(i)\n",
        "\n",
        "print('Prime Numbers below 100 are :' ,l1)\n"
      ],
      "metadata": {
        "colab": {
          "base_uri": "https://localhost:8080/"
        },
        "id": "6Usq4RMCPT7f",
        "outputId": "737ea405-0777-4455-c86c-a8b782b43728"
      },
      "execution_count": null,
      "outputs": [
        {
          "output_type": "stream",
          "name": "stdout",
          "text": [
            "Prime Numbers below 100 are : [2, 3, 5, 7, 11, 13, 17, 19, 23, 29, 31, 37, 41, 43, 47, 53, 59, 61, 67, 71, 73, 79, 83, 89, 97]\n"
          ]
        }
      ]
    },
    {
      "cell_type": "code",
      "source": [
        "#Question 3) print list in reverse order using for loop\n",
        "a = [1, 2, 3, 4, 5, 11, 1, 2, 6, 1, 8]\n",
        "\n",
        "for x in a[::-1]:\n",
        "    print(x)\n",
        "\n",
        "\n",
        "\n"
      ],
      "metadata": {
        "colab": {
          "base_uri": "https://localhost:8080/"
        },
        "id": "ZKX9bJFUhEQz",
        "outputId": "46411700-3ef4-411f-e79d-b4864f60cacc"
      },
      "execution_count": null,
      "outputs": [
        {
          "output_type": "stream",
          "name": "stdout",
          "text": [
            "8\n",
            "1\n",
            "6\n",
            "2\n",
            "1\n",
            "11\n",
            "5\n",
            "4\n",
            "3\n",
            "2\n",
            "1\n"
          ]
        }
      ]
    },
    {
      "cell_type": "code",
      "source": [
        "#Question 4)  print multiplication table of 13 using for loop\n",
        "for i in range(1,11):\n",
        "  print('13', ' ', '* ',  i, ' =  ', 13*i)"
      ],
      "metadata": {
        "colab": {
          "base_uri": "https://localhost:8080/"
        },
        "id": "uXf4CosvhevP",
        "outputId": "4deaf543-5286-4211-94aa-f9493ae3c54e"
      },
      "execution_count": null,
      "outputs": [
        {
          "output_type": "stream",
          "name": "stdout",
          "text": [
            "13   *  1  =   13\n",
            "13   *  2  =   26\n",
            "13   *  3  =   39\n",
            "13   *  4  =   52\n",
            "13   *  5  =   65\n",
            "13   *  6  =   78\n",
            "13   *  7  =   91\n",
            "13   *  8  =   104\n",
            "13   *  9  =   117\n",
            "13   *  10  =   130\n"
          ]
        }
      ]
    },
    {
      "cell_type": "code",
      "source": [
        "#Example 5: Python program to count the total number of digits in a number.\n",
        "\n",
        "x = input('Enter a number :')\n",
        "a=0\n",
        "for i in range(len(x)):\n",
        "    a=a+1\n",
        "print(a)\n",
        "\n"
      ],
      "metadata": {
        "colab": {
          "base_uri": "https://localhost:8080/"
        },
        "id": "a34Mobq6fJZQ",
        "outputId": "315ceb56-a82c-4df8-d7f8-77bf13427292"
      },
      "execution_count": null,
      "outputs": [
        {
          "output_type": "stream",
          "name": "stdout",
          "text": [
            "Enter a number :123\n",
            "3\n"
          ]
        }
      ]
    },
    {
      "cell_type": "code",
      "source": [
        "#Question 6) Write a program to find greatest common divisor (GCD) or highest common factor (HCF) of given two numbers.#int\n",
        "\n",
        "x = int(input('Enter a number : '))\n",
        "y = int(input('Enter a number : '))\n",
        "z = min(x, y)\n",
        "\n",
        "for i in range(2, z+1):\n",
        "  if (x % i == 0) and (y % i == 0):\n",
        "     a =i\n",
        "\n",
        "print(f'The \\'HCF\\' of {x} and {y} is', a)\n"
      ],
      "metadata": {
        "colab": {
          "base_uri": "https://localhost:8080/"
        },
        "id": "wmFxIJTfgsBn",
        "outputId": "c9613469-79ba-46ad-f4bc-be42ac4b9b16"
      },
      "execution_count": null,
      "outputs": [
        {
          "output_type": "stream",
          "name": "stdout",
          "text": [
            "Enter a number : 8\n",
            "Enter a number : 4\n",
            "The 'HCF' of 8 and 4 is 4\n"
          ]
        }
      ]
    },
    {
      "cell_type": "code",
      "source": [
        "# Question 7 ) Write a program in Python to display the Factorial of a number.\n",
        "\n",
        "x = int(input('Enter a number : '))\n",
        "a=1\n",
        "for i in range(1, x+1):\n",
        "  a = i * a\n",
        "print('The factorial of the number is', a)"
      ],
      "metadata": {
        "colab": {
          "base_uri": "https://localhost:8080/"
        },
        "id": "z-kattXwn9Q0",
        "outputId": "cd6ad604-5837-4c46-ccbf-7bfb4e76631a"
      },
      "execution_count": null,
      "outputs": [
        {
          "output_type": "stream",
          "name": "stdout",
          "text": [
            "Enter a number : 0\n",
            "The factorial of the number is 1\n"
          ]
        }
      ]
    },
    {
      "cell_type": "code",
      "source": [
        "# WAP to separate positive and negative number from a list.\n",
        "\n",
        "a = [1, 2, 3, 4, 5, -6, -7, -2,-8, -9 ]\n",
        "positive = []\n",
        "negative = []\n",
        "\n",
        "for i in range(len(a)):\n",
        "  if a[i] >= 1:\n",
        "    positive.append(a[i])\n",
        "\n",
        "  else:\n",
        "    negative.append(a[i])\n",
        "\n",
        "print('The positive numbers in List are : ', positive)\n",
        "print('The negative numbers in List are : ', negative)\n",
        "\n"
      ],
      "metadata": {
        "colab": {
          "base_uri": "https://localhost:8080/"
        },
        "id": "Jxnro12QokBw",
        "outputId": "d090ca54-b253-46b4-9e2e-e739f2f26724"
      },
      "execution_count": null,
      "outputs": [
        {
          "output_type": "stream",
          "name": "stdout",
          "text": [
            "The positive numbers in List are :  [1, 2, 3, 4, 5]\n",
            "The negative numbers in List are :  [-6, -7, -2, -8, -9]\n"
          ]
        }
      ]
    },
    {
      "cell_type": "code",
      "source": [
        "# 3) display fibonnaci series upto 10 terms\n",
        "a=[0, 1]\n",
        "x = int(input('Enter the terms of fibonnaci series :'))\n",
        "\n",
        "for i in range(2,x):\n",
        "  c = a[i-1] + a[i-2]\n",
        "  a.append(c)\n",
        "\n",
        "print(a)\n",
        "\n",
        "\n"
      ],
      "metadata": {
        "colab": {
          "base_uri": "https://localhost:8080/"
        },
        "id": "PP1i0jeptxc7",
        "outputId": "a881ccde-53b9-40ba-dbb5-4ff3e6c7eed9"
      },
      "execution_count": null,
      "outputs": [
        {
          "output_type": "stream",
          "name": "stdout",
          "text": [
            "Enter the terms of fibonnaci series :10\n",
            "[0, 1, 1, 2, 3, 5, 8, 13, 21, 34]\n"
          ]
        }
      ]
    },
    {
      "cell_type": "code",
      "source": [
        "# 1) Write a Python program to find those numbers which are divisible by 7 and multiples of 5, between 1500 and 2700 (both included).\n",
        "\n",
        "a = []\n",
        "\n",
        "for i in range(1500, 2701):\n",
        "  if i % 7 == 0 and i % 5 ==0:\n",
        "    a.append(i)\n",
        "\n",
        "print('Number divisible by 7 and multiple of 5 are :', a)\n",
        "\n"
      ],
      "metadata": {
        "colab": {
          "base_uri": "https://localhost:8080/"
        },
        "id": "r_h7sYec-qu1",
        "outputId": "339b4f3d-5745-43b7-b6ba-48f6b03358d6"
      },
      "execution_count": null,
      "outputs": [
        {
          "output_type": "stream",
          "name": "stdout",
          "text": [
            "Number divisible by 7 and multiple of 5 are : [1505, 1540, 1575, 1610, 1645, 1680, 1715, 1750, 1785, 1820, 1855, 1890, 1925, 1960, 1995, 2030, 2065, 2100, 2135, 2170, 2205, 2240, 2275, 2310, 2345, 2380, 2415, 2450, 2485, 2520, 2555, 2590, 2625, 2660, 2695]\n"
          ]
        }
      ]
    },
    {
      "cell_type": "code",
      "source": [
        "# Write a Python program to count the number of even and odd numbers in a series of numbers\n",
        "# Sample numbers : numbers = (1, 2, 3, 4, 5, 6, 7, 8, 9)\n",
        "\n",
        "x = int(input('Enter the range to find odd and even number :'))\n",
        "a = []\n",
        "even = []\n",
        "odd = []\n",
        "\n",
        "for i in range(1, x+1):\n",
        "  a.append(i)\n",
        "\n",
        "for y in a:\n",
        "  if y % 2 == 0:\n",
        "    even.append(y)\n",
        "\n",
        "  else:\n",
        "    odd.append(y)\n",
        "\n",
        "print('The odd numbers are :', odd)\n",
        "print('The even numbers are', even)\n"
      ],
      "metadata": {
        "colab": {
          "base_uri": "https://localhost:8080/"
        },
        "id": "OvC71o0R_8YX",
        "outputId": "19b0b5f8-70a4-4522-9f49-827351bb1c56"
      },
      "execution_count": null,
      "outputs": [
        {
          "output_type": "stream",
          "name": "stdout",
          "text": [
            "Enter the range to find odd and even number :25\n",
            "The odd numbers are : [1, 3, 5, 7, 9, 11, 13, 15, 17, 19, 21, 23, 25]\n",
            "The even numbers are [2, 4, 6, 8, 10, 12, 14, 16, 18, 20, 22, 24]\n"
          ]
        }
      ]
    },
    {
      "cell_type": "code",
      "source": [
        "# Write a Python program that prints all the numbers from 0 to 6 except 3 and 6.\n",
        "\n",
        "# Expected Output : 0 1 2 4 5\n",
        "\n",
        "a = []\n",
        "i=0\n",
        "while i < 6:\n",
        "\n",
        "  if i ==3 or i==6:\n",
        "    pass\n",
        "\n",
        "  else:\n",
        "    print(i)\n",
        "\n",
        "  i+=1\n",
        "\n",
        "\n",
        "\n"
      ],
      "metadata": {
        "colab": {
          "base_uri": "https://localhost:8080/"
        },
        "id": "7HCRngUcBnkk",
        "outputId": "35211f85-f0b0-4111-f4ec-a61bc20e7a9b"
      },
      "execution_count": null,
      "outputs": [
        {
          "output_type": "stream",
          "name": "stdout",
          "text": [
            "0\n",
            "1\n",
            "2\n",
            "4\n",
            "5\n"
          ]
        }
      ]
    },
    {
      "cell_type": "code",
      "source": [
        "# Count the total number of digits in a number\n",
        "\n",
        "x = int(input('Enter number : '))\n",
        "count = 0\n",
        "while x !=0:\n",
        "  x = x // 10\n",
        "  count+=1\n",
        "\n",
        "print('Total Digits :', count)"
      ],
      "metadata": {
        "colab": {
          "base_uri": "https://localhost:8080/"
        },
        "id": "mxc69EcFiwZb",
        "outputId": "e22449d6-cbde-4523-83a4-872cdb6d29e4"
      },
      "execution_count": 3,
      "outputs": [
        {
          "output_type": "stream",
          "name": "stdout",
          "text": [
            "Enter number : 123\n",
            "Total Digits : 3\n"
          ]
        }
      ]
    }
  ]
}